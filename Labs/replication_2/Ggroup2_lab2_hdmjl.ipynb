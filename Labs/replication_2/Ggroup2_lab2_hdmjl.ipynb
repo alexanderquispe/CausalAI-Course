{
 "cells": [
  {
   "cell_type": "code",
   "execution_count": 2,
   "id": "dd5d660f",
   "metadata": {},
   "outputs": [],
   "source": [
    "using DataFrames\n",
    "using Dates\n",
    "using Plots\n",
    "using Statistics,RData  #upload data of R format \n",
    "using CategoricalArrays # categorical data\n",
    "using DataFrames\n",
    "using CSV\n",
    "using Tables\n",
    "using Lathe\n",
    "using GLM\n",
    "using Lasso\n",
    "using StatsPlots\n",
    "using CovarianceMatrices\n",
    "using MLBase"
   ]
  },
  {
   "cell_type": "code",
   "execution_count": 30,
   "id": "dc04c480",
   "metadata": {},
   "outputs": [
    {
     "name": "stdout",
     "output_type": "stream",
     "text": [
      "Number of Rows : 5150\n",
      "Number of Columns : 20\n"
     ]
    }
   ],
   "source": [
    "rdata_read = load(\"wage2015_subsample_inference.RData\")\n",
    "data = rdata_read[\"data\"]\n",
    "names(data)\n",
    "println(\"Number of Rows : \", size(data)[1],\"\\n\",\"Number of Columns : \", size(data)[2],) #rows and columns"
   ]
  },
  {
   "cell_type": "code",
   "execution_count": 43,
   "id": "3daad8c1",
   "metadata": {},
   "outputs": [
    {
     "data": {
      "text/plain": [
       "1376-element Vector{String}:\n",
       " \"4\"\n",
       " \"14\"\n",
       " \"9\"\n",
       " \"19\"\n",
       " \"18\"\n",
       " \"18\"\n",
       " \"4\"\n",
       " \"4\"\n",
       " \"9\"\n",
       " \"20\"\n",
       " \"14\"\n",
       " \"14\"\n",
       " \"6\"\n",
       " ⋮\n",
       " \"8\"\n",
       " \"8\"\n",
       " \"16\"\n",
       " \"19\"\n",
       " \"20\"\n",
       " \"20\"\n",
       " \"10\"\n",
       " \"22\"\n",
       " \"19\"\n",
       " \"9\"\n",
       " \"21\"\n",
       " \"11\""
      ]
     },
     "execution_count": 43,
     "metadata": {},
     "output_type": "execute_result"
    }
   ],
   "source": [
    "data[!,:occ] = convert.(String,data[!,:occ])\n",
    "data[!,:occ2] = convert.(String,data[!,:occ2])\n",
    "data[!,:ind] = convert.(String,data[!,:ind])\n",
    "data[!,:ind2] = convert.(String,data[!,:ind2])"
   ]
  },
  {
   "cell_type": "code",
   "execution_count": 44,
   "id": "728ed86b",
   "metadata": {},
   "outputs": [
    {
     "data": {
      "text/plain": [
       "20-element Vector{DataType}:\n",
       " Float64\n",
       " Float64\n",
       " Float64\n",
       " Float64\n",
       " Float64\n",
       " Float64\n",
       " Float64\n",
       " Float64\n",
       " Float64\n",
       " Float64\n",
       " Float64\n",
       " Float64\n",
       " Float64\n",
       " Float64\n",
       " Float64\n",
       " Float64\n",
       " String\n",
       " String\n",
       " String\n",
       " String"
      ]
     },
     "execution_count": 44,
     "metadata": {},
     "output_type": "execute_result"
    }
   ],
   "source": [
    "[eltype(col) for col = eachcol(data)]"
   ]
  },
  {
   "cell_type": "code",
   "execution_count": 45,
   "id": "3c89d7ab",
   "metadata": {},
   "outputs": [
    {
     "data": {
      "text/html": [
       "<table class=\"data-frame\"><thead><tr><th></th><th>wage</th><th>lwage</th><th>sex</th><th>shs</th><th>hsg</th><th>scl</th><th>clg</th><th>ad</th><th>mw</th></tr><tr><th></th><th>Float64</th><th>Float64</th><th>Float64</th><th>Float64</th><th>Float64</th><th>Float64</th><th>Float64</th><th>Float64</th><th>Float64</th></tr></thead><tbody><p>1,376 rows × 20 columns (omitted printing of 11 columns)</p><tr><th>1</th><td>11.0577</td><td>2.40313</td><td>0.0</td><td>0.0</td><td>1.0</td><td>0.0</td><td>0.0</td><td>0.0</td><td>0.0</td></tr><tr><th>2</th><td>19.2308</td><td>2.95651</td><td>1.0</td><td>0.0</td><td>1.0</td><td>0.0</td><td>0.0</td><td>0.0</td><td>0.0</td></tr><tr><th>3</th><td>19.2308</td><td>2.95651</td><td>0.0</td><td>0.0</td><td>1.0</td><td>0.0</td><td>0.0</td><td>0.0</td><td>0.0</td></tr><tr><th>4</th><td>12.0</td><td>2.48491</td><td>1.0</td><td>0.0</td><td>1.0</td><td>0.0</td><td>0.0</td><td>0.0</td><td>0.0</td></tr><tr><th>5</th><td>17.3077</td><td>2.85115</td><td>1.0</td><td>0.0</td><td>1.0</td><td>0.0</td><td>0.0</td><td>0.0</td><td>0.0</td></tr><tr><th>6</th><td>12.0192</td><td>2.48651</td><td>0.0</td><td>0.0</td><td>1.0</td><td>0.0</td><td>0.0</td><td>0.0</td><td>0.0</td></tr><tr><th>7</th><td>27.8846</td><td>3.32808</td><td>0.0</td><td>0.0</td><td>1.0</td><td>0.0</td><td>0.0</td><td>0.0</td><td>0.0</td></tr><tr><th>8</th><td>21.6</td><td>3.07269</td><td>0.0</td><td>0.0</td><td>1.0</td><td>0.0</td><td>0.0</td><td>0.0</td><td>0.0</td></tr><tr><th>9</th><td>19.2308</td><td>2.95651</td><td>0.0</td><td>0.0</td><td>1.0</td><td>0.0</td><td>0.0</td><td>0.0</td><td>0.0</td></tr><tr><th>10</th><td>13.1868</td><td>2.57922</td><td>0.0</td><td>0.0</td><td>1.0</td><td>0.0</td><td>0.0</td><td>0.0</td><td>0.0</td></tr><tr><th>11</th><td>19.2308</td><td>2.95651</td><td>0.0</td><td>0.0</td><td>1.0</td><td>0.0</td><td>0.0</td><td>0.0</td><td>0.0</td></tr><tr><th>12</th><td>14.4231</td><td>2.66883</td><td>1.0</td><td>0.0</td><td>1.0</td><td>0.0</td><td>0.0</td><td>0.0</td><td>0.0</td></tr><tr><th>13</th><td>11.9658</td><td>2.48205</td><td>1.0</td><td>0.0</td><td>1.0</td><td>0.0</td><td>0.0</td><td>0.0</td><td>0.0</td></tr><tr><th>14</th><td>11.5385</td><td>2.44569</td><td>0.0</td><td>0.0</td><td>1.0</td><td>0.0</td><td>0.0</td><td>0.0</td><td>0.0</td></tr><tr><th>15</th><td>11.5385</td><td>2.44569</td><td>0.0</td><td>0.0</td><td>1.0</td><td>0.0</td><td>0.0</td><td>0.0</td><td>0.0</td></tr><tr><th>16</th><td>11.2179</td><td>2.41752</td><td>0.0</td><td>0.0</td><td>1.0</td><td>0.0</td><td>0.0</td><td>0.0</td><td>0.0</td></tr><tr><th>17</th><td>6.73077</td><td>1.90669</td><td>1.0</td><td>0.0</td><td>1.0</td><td>0.0</td><td>0.0</td><td>0.0</td><td>0.0</td></tr><tr><th>18</th><td>10.0962</td><td>2.31215</td><td>0.0</td><td>0.0</td><td>1.0</td><td>0.0</td><td>0.0</td><td>0.0</td><td>0.0</td></tr><tr><th>19</th><td>14.0224</td><td>2.64066</td><td>0.0</td><td>0.0</td><td>1.0</td><td>0.0</td><td>0.0</td><td>0.0</td><td>0.0</td></tr><tr><th>20</th><td>28.8462</td><td>3.36198</td><td>0.0</td><td>0.0</td><td>1.0</td><td>0.0</td><td>0.0</td><td>0.0</td><td>0.0</td></tr><tr><th>21</th><td>15.3846</td><td>2.73337</td><td>0.0</td><td>0.0</td><td>1.0</td><td>0.0</td><td>0.0</td><td>0.0</td><td>0.0</td></tr><tr><th>22</th><td>11.5385</td><td>2.44569</td><td>0.0</td><td>0.0</td><td>1.0</td><td>0.0</td><td>0.0</td><td>0.0</td><td>0.0</td></tr><tr><th>23</th><td>11.5385</td><td>2.44569</td><td>0.0</td><td>0.0</td><td>1.0</td><td>0.0</td><td>0.0</td><td>0.0</td><td>0.0</td></tr><tr><th>24</th><td>5.76923</td><td>1.75254</td><td>1.0</td><td>0.0</td><td>1.0</td><td>0.0</td><td>0.0</td><td>0.0</td><td>0.0</td></tr><tr><th>25</th><td>19.2308</td><td>2.95651</td><td>1.0</td><td>0.0</td><td>1.0</td><td>0.0</td><td>0.0</td><td>0.0</td><td>0.0</td></tr><tr><th>26</th><td>9.44056</td><td>2.24502</td><td>0.0</td><td>0.0</td><td>1.0</td><td>0.0</td><td>0.0</td><td>0.0</td><td>0.0</td></tr><tr><th>27</th><td>6.73077</td><td>1.90669</td><td>0.0</td><td>0.0</td><td>1.0</td><td>0.0</td><td>0.0</td><td>0.0</td><td>0.0</td></tr><tr><th>28</th><td>19.2308</td><td>2.95651</td><td>1.0</td><td>0.0</td><td>1.0</td><td>0.0</td><td>0.0</td><td>0.0</td><td>0.0</td></tr><tr><th>29</th><td>10.5769</td><td>2.35867</td><td>1.0</td><td>0.0</td><td>1.0</td><td>0.0</td><td>0.0</td><td>0.0</td><td>0.0</td></tr><tr><th>30</th><td>10.5769</td><td>2.35867</td><td>0.0</td><td>0.0</td><td>1.0</td><td>0.0</td><td>0.0</td><td>0.0</td><td>0.0</td></tr><tr><th>&vellip;</th><td>&vellip;</td><td>&vellip;</td><td>&vellip;</td><td>&vellip;</td><td>&vellip;</td><td>&vellip;</td><td>&vellip;</td><td>&vellip;</td><td>&vellip;</td></tr></tbody></table>"
      ],
      "text/latex": [
       "\\begin{tabular}{r|cccccccccc}\n",
       "\t& wage & lwage & sex & shs & hsg & scl & clg & ad & mw & \\\\\n",
       "\t\\hline\n",
       "\t& Float64 & Float64 & Float64 & Float64 & Float64 & Float64 & Float64 & Float64 & Float64 & \\\\\n",
       "\t\\hline\n",
       "\t1 & 11.0577 & 2.40313 & 0.0 & 0.0 & 1.0 & 0.0 & 0.0 & 0.0 & 0.0 & $\\dots$ \\\\\n",
       "\t2 & 19.2308 & 2.95651 & 1.0 & 0.0 & 1.0 & 0.0 & 0.0 & 0.0 & 0.0 & $\\dots$ \\\\\n",
       "\t3 & 19.2308 & 2.95651 & 0.0 & 0.0 & 1.0 & 0.0 & 0.0 & 0.0 & 0.0 & $\\dots$ \\\\\n",
       "\t4 & 12.0 & 2.48491 & 1.0 & 0.0 & 1.0 & 0.0 & 0.0 & 0.0 & 0.0 & $\\dots$ \\\\\n",
       "\t5 & 17.3077 & 2.85115 & 1.0 & 0.0 & 1.0 & 0.0 & 0.0 & 0.0 & 0.0 & $\\dots$ \\\\\n",
       "\t6 & 12.0192 & 2.48651 & 0.0 & 0.0 & 1.0 & 0.0 & 0.0 & 0.0 & 0.0 & $\\dots$ \\\\\n",
       "\t7 & 27.8846 & 3.32808 & 0.0 & 0.0 & 1.0 & 0.0 & 0.0 & 0.0 & 0.0 & $\\dots$ \\\\\n",
       "\t8 & 21.6 & 3.07269 & 0.0 & 0.0 & 1.0 & 0.0 & 0.0 & 0.0 & 0.0 & $\\dots$ \\\\\n",
       "\t9 & 19.2308 & 2.95651 & 0.0 & 0.0 & 1.0 & 0.0 & 0.0 & 0.0 & 0.0 & $\\dots$ \\\\\n",
       "\t10 & 13.1868 & 2.57922 & 0.0 & 0.0 & 1.0 & 0.0 & 0.0 & 0.0 & 0.0 & $\\dots$ \\\\\n",
       "\t11 & 19.2308 & 2.95651 & 0.0 & 0.0 & 1.0 & 0.0 & 0.0 & 0.0 & 0.0 & $\\dots$ \\\\\n",
       "\t12 & 14.4231 & 2.66883 & 1.0 & 0.0 & 1.0 & 0.0 & 0.0 & 0.0 & 0.0 & $\\dots$ \\\\\n",
       "\t13 & 11.9658 & 2.48205 & 1.0 & 0.0 & 1.0 & 0.0 & 0.0 & 0.0 & 0.0 & $\\dots$ \\\\\n",
       "\t14 & 11.5385 & 2.44569 & 0.0 & 0.0 & 1.0 & 0.0 & 0.0 & 0.0 & 0.0 & $\\dots$ \\\\\n",
       "\t15 & 11.5385 & 2.44569 & 0.0 & 0.0 & 1.0 & 0.0 & 0.0 & 0.0 & 0.0 & $\\dots$ \\\\\n",
       "\t16 & 11.2179 & 2.41752 & 0.0 & 0.0 & 1.0 & 0.0 & 0.0 & 0.0 & 0.0 & $\\dots$ \\\\\n",
       "\t17 & 6.73077 & 1.90669 & 1.0 & 0.0 & 1.0 & 0.0 & 0.0 & 0.0 & 0.0 & $\\dots$ \\\\\n",
       "\t18 & 10.0962 & 2.31215 & 0.0 & 0.0 & 1.0 & 0.0 & 0.0 & 0.0 & 0.0 & $\\dots$ \\\\\n",
       "\t19 & 14.0224 & 2.64066 & 0.0 & 0.0 & 1.0 & 0.0 & 0.0 & 0.0 & 0.0 & $\\dots$ \\\\\n",
       "\t20 & 28.8462 & 3.36198 & 0.0 & 0.0 & 1.0 & 0.0 & 0.0 & 0.0 & 0.0 & $\\dots$ \\\\\n",
       "\t21 & 15.3846 & 2.73337 & 0.0 & 0.0 & 1.0 & 0.0 & 0.0 & 0.0 & 0.0 & $\\dots$ \\\\\n",
       "\t22 & 11.5385 & 2.44569 & 0.0 & 0.0 & 1.0 & 0.0 & 0.0 & 0.0 & 0.0 & $\\dots$ \\\\\n",
       "\t23 & 11.5385 & 2.44569 & 0.0 & 0.0 & 1.0 & 0.0 & 0.0 & 0.0 & 0.0 & $\\dots$ \\\\\n",
       "\t24 & 5.76923 & 1.75254 & 1.0 & 0.0 & 1.0 & 0.0 & 0.0 & 0.0 & 0.0 & $\\dots$ \\\\\n",
       "\t25 & 19.2308 & 2.95651 & 1.0 & 0.0 & 1.0 & 0.0 & 0.0 & 0.0 & 0.0 & $\\dots$ \\\\\n",
       "\t26 & 9.44056 & 2.24502 & 0.0 & 0.0 & 1.0 & 0.0 & 0.0 & 0.0 & 0.0 & $\\dots$ \\\\\n",
       "\t27 & 6.73077 & 1.90669 & 0.0 & 0.0 & 1.0 & 0.0 & 0.0 & 0.0 & 0.0 & $\\dots$ \\\\\n",
       "\t28 & 19.2308 & 2.95651 & 1.0 & 0.0 & 1.0 & 0.0 & 0.0 & 0.0 & 0.0 & $\\dots$ \\\\\n",
       "\t29 & 10.5769 & 2.35867 & 1.0 & 0.0 & 1.0 & 0.0 & 0.0 & 0.0 & 0.0 & $\\dots$ \\\\\n",
       "\t30 & 10.5769 & 2.35867 & 0.0 & 0.0 & 1.0 & 0.0 & 0.0 & 0.0 & 0.0 & $\\dots$ \\\\\n",
       "\t$\\dots$ & $\\dots$ & $\\dots$ & $\\dots$ & $\\dots$ & $\\dots$ & $\\dots$ & $\\dots$ & $\\dots$ & $\\dots$ &  \\\\\n",
       "\\end{tabular}\n"
      ],
      "text/plain": [
       "1376×20 DataFrame. Omitted printing of 13 columns\n",
       "│ Row  │ wage    │ lwage   │ sex     │ shs     │ hsg     │ scl     │ clg     │\n",
       "│      │ \u001b[90mFloat64\u001b[39m │ \u001b[90mFloat64\u001b[39m │ \u001b[90mFloat64\u001b[39m │ \u001b[90mFloat64\u001b[39m │ \u001b[90mFloat64\u001b[39m │ \u001b[90mFloat64\u001b[39m │ \u001b[90mFloat64\u001b[39m │\n",
       "├──────┼─────────┼─────────┼─────────┼─────────┼─────────┼─────────┼─────────┤\n",
       "│ 1    │ 11.0577 │ 2.40313 │ 0.0     │ 0.0     │ 1.0     │ 0.0     │ 0.0     │\n",
       "│ 2    │ 19.2308 │ 2.95651 │ 1.0     │ 0.0     │ 1.0     │ 0.0     │ 0.0     │\n",
       "│ 3    │ 19.2308 │ 2.95651 │ 0.0     │ 0.0     │ 1.0     │ 0.0     │ 0.0     │\n",
       "│ 4    │ 12.0    │ 2.48491 │ 1.0     │ 0.0     │ 1.0     │ 0.0     │ 0.0     │\n",
       "│ 5    │ 17.3077 │ 2.85115 │ 1.0     │ 0.0     │ 1.0     │ 0.0     │ 0.0     │\n",
       "│ 6    │ 12.0192 │ 2.48651 │ 0.0     │ 0.0     │ 1.0     │ 0.0     │ 0.0     │\n",
       "│ 7    │ 27.8846 │ 3.32808 │ 0.0     │ 0.0     │ 1.0     │ 0.0     │ 0.0     │\n",
       "│ 8    │ 21.6    │ 3.07269 │ 0.0     │ 0.0     │ 1.0     │ 0.0     │ 0.0     │\n",
       "│ 9    │ 19.2308 │ 2.95651 │ 0.0     │ 0.0     │ 1.0     │ 0.0     │ 0.0     │\n",
       "│ 10   │ 13.1868 │ 2.57922 │ 0.0     │ 0.0     │ 1.0     │ 0.0     │ 0.0     │\n",
       "⋮\n",
       "│ 1366 │ 15.6979 │ 2.75352 │ 1.0     │ 0.0     │ 1.0     │ 0.0     │ 0.0     │\n",
       "│ 1367 │ 8.65385 │ 2.158   │ 1.0     │ 0.0     │ 1.0     │ 0.0     │ 0.0     │\n",
       "│ 1368 │ 12.0192 │ 2.48651 │ 0.0     │ 0.0     │ 1.0     │ 0.0     │ 0.0     │\n",
       "│ 1369 │ 12.5    │ 2.52573 │ 1.0     │ 0.0     │ 1.0     │ 0.0     │ 0.0     │\n",
       "│ 1370 │ 9.61538 │ 2.26336 │ 0.0     │ 0.0     │ 1.0     │ 0.0     │ 0.0     │\n",
       "│ 1371 │ 12.0192 │ 2.48651 │ 0.0     │ 0.0     │ 1.0     │ 0.0     │ 0.0     │\n",
       "│ 1372 │ 12.9808 │ 2.56347 │ 0.0     │ 0.0     │ 1.0     │ 0.0     │ 0.0     │\n",
       "│ 1373 │ 13.4615 │ 2.59984 │ 1.0     │ 0.0     │ 1.0     │ 0.0     │ 0.0     │\n",
       "│ 1374 │ 22.5962 │ 3.11778 │ 0.0     │ 0.0     │ 1.0     │ 0.0     │ 0.0     │\n",
       "│ 1375 │ 16.8269 │ 2.82298 │ 0.0     │ 0.0     │ 1.0     │ 0.0     │ 0.0     │\n",
       "│ 1376 │ 32.967  │ 3.49551 │ 0.0     │ 0.0     │ 1.0     │ 0.0     │ 0.0     │"
      ]
     },
     "execution_count": 45,
     "metadata": {},
     "output_type": "execute_result"
    }
   ],
   "source": [
    "data = filter(row ->(row.shs == 1 || row.hsg == 1), data)"
   ]
  },
  {
   "cell_type": "code",
   "execution_count": 57,
   "id": "89f16eaa",
   "metadata": {},
   "outputs": [
    {
     "data": {
      "text/html": [
       "<table class=\"data-frame\"><thead><tr><th></th><th>wage</th><th>lwage</th><th>sex</th><th>shs</th><th>hsg</th><th>scl</th><th>clg</th><th>ad</th><th>mw</th></tr><tr><th></th><th>Float64</th><th>Float64</th><th>Float64</th><th>Float64</th><th>Float64</th><th>Float64</th><th>Float64</th><th>Float64</th><th>Float64</th></tr></thead><tbody><p>10 rows × 20 columns (omitted printing of 11 columns)</p><tr><th>1</th><td>11.0577</td><td>2.40313</td><td>0.0</td><td>0.0</td><td>1.0</td><td>0.0</td><td>0.0</td><td>0.0</td><td>0.0</td></tr><tr><th>2</th><td>19.2308</td><td>2.95651</td><td>1.0</td><td>0.0</td><td>1.0</td><td>0.0</td><td>0.0</td><td>0.0</td><td>0.0</td></tr><tr><th>3</th><td>19.2308</td><td>2.95651</td><td>0.0</td><td>0.0</td><td>1.0</td><td>0.0</td><td>0.0</td><td>0.0</td><td>0.0</td></tr><tr><th>4</th><td>12.0</td><td>2.48491</td><td>1.0</td><td>0.0</td><td>1.0</td><td>0.0</td><td>0.0</td><td>0.0</td><td>0.0</td></tr><tr><th>5</th><td>17.3077</td><td>2.85115</td><td>1.0</td><td>0.0</td><td>1.0</td><td>0.0</td><td>0.0</td><td>0.0</td><td>0.0</td></tr><tr><th>6</th><td>12.0192</td><td>2.48651</td><td>0.0</td><td>0.0</td><td>1.0</td><td>0.0</td><td>0.0</td><td>0.0</td><td>0.0</td></tr><tr><th>7</th><td>27.8846</td><td>3.32808</td><td>0.0</td><td>0.0</td><td>1.0</td><td>0.0</td><td>0.0</td><td>0.0</td><td>0.0</td></tr><tr><th>8</th><td>21.6</td><td>3.07269</td><td>0.0</td><td>0.0</td><td>1.0</td><td>0.0</td><td>0.0</td><td>0.0</td><td>0.0</td></tr><tr><th>9</th><td>19.2308</td><td>2.95651</td><td>0.0</td><td>0.0</td><td>1.0</td><td>0.0</td><td>0.0</td><td>0.0</td><td>0.0</td></tr><tr><th>10</th><td>13.1868</td><td>2.57922</td><td>0.0</td><td>0.0</td><td>1.0</td><td>0.0</td><td>0.0</td><td>0.0</td><td>0.0</td></tr></tbody></table>"
      ],
      "text/latex": [
       "\\begin{tabular}{r|cccccccccc}\n",
       "\t& wage & lwage & sex & shs & hsg & scl & clg & ad & mw & \\\\\n",
       "\t\\hline\n",
       "\t& Float64 & Float64 & Float64 & Float64 & Float64 & Float64 & Float64 & Float64 & Float64 & \\\\\n",
       "\t\\hline\n",
       "\t1 & 11.0577 & 2.40313 & 0.0 & 0.0 & 1.0 & 0.0 & 0.0 & 0.0 & 0.0 & $\\dots$ \\\\\n",
       "\t2 & 19.2308 & 2.95651 & 1.0 & 0.0 & 1.0 & 0.0 & 0.0 & 0.0 & 0.0 & $\\dots$ \\\\\n",
       "\t3 & 19.2308 & 2.95651 & 0.0 & 0.0 & 1.0 & 0.0 & 0.0 & 0.0 & 0.0 & $\\dots$ \\\\\n",
       "\t4 & 12.0 & 2.48491 & 1.0 & 0.0 & 1.0 & 0.0 & 0.0 & 0.0 & 0.0 & $\\dots$ \\\\\n",
       "\t5 & 17.3077 & 2.85115 & 1.0 & 0.0 & 1.0 & 0.0 & 0.0 & 0.0 & 0.0 & $\\dots$ \\\\\n",
       "\t6 & 12.0192 & 2.48651 & 0.0 & 0.0 & 1.0 & 0.0 & 0.0 & 0.0 & 0.0 & $\\dots$ \\\\\n",
       "\t7 & 27.8846 & 3.32808 & 0.0 & 0.0 & 1.0 & 0.0 & 0.0 & 0.0 & 0.0 & $\\dots$ \\\\\n",
       "\t8 & 21.6 & 3.07269 & 0.0 & 0.0 & 1.0 & 0.0 & 0.0 & 0.0 & 0.0 & $\\dots$ \\\\\n",
       "\t9 & 19.2308 & 2.95651 & 0.0 & 0.0 & 1.0 & 0.0 & 0.0 & 0.0 & 0.0 & $\\dots$ \\\\\n",
       "\t10 & 13.1868 & 2.57922 & 0.0 & 0.0 & 1.0 & 0.0 & 0.0 & 0.0 & 0.0 & $\\dots$ \\\\\n",
       "\\end{tabular}\n"
      ],
      "text/plain": [
       "10×20 DataFrame. Omitted printing of 13 columns\n",
       "│ Row │ wage    │ lwage   │ sex     │ shs     │ hsg     │ scl     │ clg     │\n",
       "│     │ \u001b[90mFloat64\u001b[39m │ \u001b[90mFloat64\u001b[39m │ \u001b[90mFloat64\u001b[39m │ \u001b[90mFloat64\u001b[39m │ \u001b[90mFloat64\u001b[39m │ \u001b[90mFloat64\u001b[39m │ \u001b[90mFloat64\u001b[39m │\n",
       "├─────┼─────────┼─────────┼─────────┼─────────┼─────────┼─────────┼─────────┤\n",
       "│ 1   │ 11.0577 │ 2.40313 │ 0.0     │ 0.0     │ 1.0     │ 0.0     │ 0.0     │\n",
       "│ 2   │ 19.2308 │ 2.95651 │ 1.0     │ 0.0     │ 1.0     │ 0.0     │ 0.0     │\n",
       "│ 3   │ 19.2308 │ 2.95651 │ 0.0     │ 0.0     │ 1.0     │ 0.0     │ 0.0     │\n",
       "│ 4   │ 12.0    │ 2.48491 │ 1.0     │ 0.0     │ 1.0     │ 0.0     │ 0.0     │\n",
       "│ 5   │ 17.3077 │ 2.85115 │ 1.0     │ 0.0     │ 1.0     │ 0.0     │ 0.0     │\n",
       "│ 6   │ 12.0192 │ 2.48651 │ 0.0     │ 0.0     │ 1.0     │ 0.0     │ 0.0     │\n",
       "│ 7   │ 27.8846 │ 3.32808 │ 0.0     │ 0.0     │ 1.0     │ 0.0     │ 0.0     │\n",
       "│ 8   │ 21.6    │ 3.07269 │ 0.0     │ 0.0     │ 1.0     │ 0.0     │ 0.0     │\n",
       "│ 9   │ 19.2308 │ 2.95651 │ 0.0     │ 0.0     │ 1.0     │ 0.0     │ 0.0     │\n",
       "│ 10  │ 13.1868 │ 2.57922 │ 0.0     │ 0.0     │ 1.0     │ 0.0     │ 0.0     │"
      ]
     },
     "execution_count": 57,
     "metadata": {},
     "output_type": "execute_result"
    }
   ],
   "source": [
    "first(data,10)"
   ]
  },
  {
   "cell_type": "code",
   "execution_count": 59,
   "id": "36bb4d88",
   "metadata": {},
   "outputs": [],
   "source": [
    "#LASSO\n",
    "# using hmd.jl\n",
    "include(\"hdmjl.jl\")"
   ]
  },
  {
   "cell_type": "code",
   "execution_count": 60,
   "id": "f6c34de5",
   "metadata": {},
   "outputs": [
    {
     "data": {
      "text/html": [
       "<table class=\"data-frame\"><thead><tr><th></th><th>shs</th><th>hsg</th><th>mw</th><th>so</th><th>we</th><th>exp1</th><th>occ2</th><th>ind2</th></tr><tr><th></th><th>Float64</th><th>Float64</th><th>Float64</th><th>Float64</th><th>Float64</th><th>Float64</th><th>String</th><th>String</th></tr></thead><tbody><p>1,376 rows × 8 columns</p><tr><th>1</th><td>0.0</td><td>1.0</td><td>0.0</td><td>0.0</td><td>0.0</td><td>18.0</td><td>19</td><td>4</td></tr><tr><th>2</th><td>0.0</td><td>1.0</td><td>0.0</td><td>0.0</td><td>0.0</td><td>42.0</td><td>17</td><td>14</td></tr><tr><th>3</th><td>0.0</td><td>1.0</td><td>0.0</td><td>0.0</td><td>0.0</td><td>37.0</td><td>17</td><td>9</td></tr><tr><th>4</th><td>0.0</td><td>1.0</td><td>0.0</td><td>0.0</td><td>0.0</td><td>31.0</td><td>13</td><td>19</td></tr><tr><th>5</th><td>0.0</td><td>1.0</td><td>0.0</td><td>0.0</td><td>0.0</td><td>7.0</td><td>13</td><td>18</td></tr><tr><th>6</th><td>0.0</td><td>1.0</td><td>0.0</td><td>0.0</td><td>0.0</td><td>30.0</td><td>14</td><td>18</td></tr><tr><th>7</th><td>0.0</td><td>1.0</td><td>0.0</td><td>0.0</td><td>0.0</td><td>16.0</td><td>19</td><td>4</td></tr><tr><th>8</th><td>0.0</td><td>1.0</td><td>0.0</td><td>0.0</td><td>0.0</td><td>27.0</td><td>19</td><td>4</td></tr><tr><th>9</th><td>0.0</td><td>1.0</td><td>0.0</td><td>0.0</td><td>0.0</td><td>6.0</td><td>20</td><td>9</td></tr><tr><th>10</th><td>0.0</td><td>1.0</td><td>0.0</td><td>0.0</td><td>0.0</td><td>8.0</td><td>13</td><td>20</td></tr><tr><th>11</th><td>0.0</td><td>1.0</td><td>0.0</td><td>0.0</td><td>0.0</td><td>8.0</td><td>16</td><td>14</td></tr><tr><th>12</th><td>0.0</td><td>1.0</td><td>0.0</td><td>0.0</td><td>0.0</td><td>5.0</td><td>1</td><td>14</td></tr><tr><th>13</th><td>0.0</td><td>1.0</td><td>0.0</td><td>0.0</td><td>0.0</td><td>14.0</td><td>1</td><td>6</td></tr><tr><th>14</th><td>0.0</td><td>1.0</td><td>0.0</td><td>0.0</td><td>0.0</td><td>5.0</td><td>21</td><td>6</td></tr><tr><th>15</th><td>0.0</td><td>1.0</td><td>0.0</td><td>0.0</td><td>0.0</td><td>11.0</td><td>22</td><td>10</td></tr><tr><th>16</th><td>0.0</td><td>1.0</td><td>0.0</td><td>0.0</td><td>0.0</td><td>12.0</td><td>22</td><td>10</td></tr><tr><th>17</th><td>0.0</td><td>1.0</td><td>0.0</td><td>0.0</td><td>0.0</td><td>15.0</td><td>11</td><td>18</td></tr><tr><th>18</th><td>0.0</td><td>1.0</td><td>0.0</td><td>0.0</td><td>0.0</td><td>27.0</td><td>11</td><td>18</td></tr><tr><th>19</th><td>0.0</td><td>1.0</td><td>0.0</td><td>0.0</td><td>0.0</td><td>12.0</td><td>22</td><td>21</td></tr><tr><th>20</th><td>0.0</td><td>1.0</td><td>0.0</td><td>0.0</td><td>0.0</td><td>41.0</td><td>22</td><td>9</td></tr><tr><th>21</th><td>0.0</td><td>1.0</td><td>0.0</td><td>0.0</td><td>0.0</td><td>36.0</td><td>21</td><td>5</td></tr><tr><th>22</th><td>0.0</td><td>1.0</td><td>0.0</td><td>0.0</td><td>0.0</td><td>41.0</td><td>11</td><td>18</td></tr><tr><th>23</th><td>0.0</td><td>1.0</td><td>0.0</td><td>0.0</td><td>0.0</td><td>15.0</td><td>13</td><td>20</td></tr><tr><th>24</th><td>0.0</td><td>1.0</td><td>0.0</td><td>0.0</td><td>0.0</td><td>26.0</td><td>13</td><td>18</td></tr><tr><th>25</th><td>0.0</td><td>1.0</td><td>0.0</td><td>0.0</td><td>0.0</td><td>29.0</td><td>17</td><td>18</td></tr><tr><th>26</th><td>0.0</td><td>1.0</td><td>0.0</td><td>0.0</td><td>0.0</td><td>25.0</td><td>13</td><td>20</td></tr><tr><th>27</th><td>0.0</td><td>1.0</td><td>0.0</td><td>0.0</td><td>0.0</td><td>7.0</td><td>19</td><td>4</td></tr><tr><th>28</th><td>0.0</td><td>1.0</td><td>0.0</td><td>0.0</td><td>0.0</td><td>36.0</td><td>10</td><td>18</td></tr><tr><th>29</th><td>0.0</td><td>1.0</td><td>0.0</td><td>0.0</td><td>0.0</td><td>19.0</td><td>13</td><td>20</td></tr><tr><th>30</th><td>0.0</td><td>1.0</td><td>0.0</td><td>0.0</td><td>0.0</td><td>28.0</td><td>14</td><td>17</td></tr><tr><th>&vellip;</th><td>&vellip;</td><td>&vellip;</td><td>&vellip;</td><td>&vellip;</td><td>&vellip;</td><td>&vellip;</td><td>&vellip;</td><td>&vellip;</td></tr></tbody></table>"
      ],
      "text/latex": [
       "\\begin{tabular}{r|cccccccc}\n",
       "\t& shs & hsg & mw & so & we & exp1 & occ2 & ind2\\\\\n",
       "\t\\hline\n",
       "\t& Float64 & Float64 & Float64 & Float64 & Float64 & Float64 & String & String\\\\\n",
       "\t\\hline\n",
       "\t1 & 0.0 & 1.0 & 0.0 & 0.0 & 0.0 & 18.0 & 19 & 4 \\\\\n",
       "\t2 & 0.0 & 1.0 & 0.0 & 0.0 & 0.0 & 42.0 & 17 & 14 \\\\\n",
       "\t3 & 0.0 & 1.0 & 0.0 & 0.0 & 0.0 & 37.0 & 17 & 9 \\\\\n",
       "\t4 & 0.0 & 1.0 & 0.0 & 0.0 & 0.0 & 31.0 & 13 & 19 \\\\\n",
       "\t5 & 0.0 & 1.0 & 0.0 & 0.0 & 0.0 & 7.0 & 13 & 18 \\\\\n",
       "\t6 & 0.0 & 1.0 & 0.0 & 0.0 & 0.0 & 30.0 & 14 & 18 \\\\\n",
       "\t7 & 0.0 & 1.0 & 0.0 & 0.0 & 0.0 & 16.0 & 19 & 4 \\\\\n",
       "\t8 & 0.0 & 1.0 & 0.0 & 0.0 & 0.0 & 27.0 & 19 & 4 \\\\\n",
       "\t9 & 0.0 & 1.0 & 0.0 & 0.0 & 0.0 & 6.0 & 20 & 9 \\\\\n",
       "\t10 & 0.0 & 1.0 & 0.0 & 0.0 & 0.0 & 8.0 & 13 & 20 \\\\\n",
       "\t11 & 0.0 & 1.0 & 0.0 & 0.0 & 0.0 & 8.0 & 16 & 14 \\\\\n",
       "\t12 & 0.0 & 1.0 & 0.0 & 0.0 & 0.0 & 5.0 & 1 & 14 \\\\\n",
       "\t13 & 0.0 & 1.0 & 0.0 & 0.0 & 0.0 & 14.0 & 1 & 6 \\\\\n",
       "\t14 & 0.0 & 1.0 & 0.0 & 0.0 & 0.0 & 5.0 & 21 & 6 \\\\\n",
       "\t15 & 0.0 & 1.0 & 0.0 & 0.0 & 0.0 & 11.0 & 22 & 10 \\\\\n",
       "\t16 & 0.0 & 1.0 & 0.0 & 0.0 & 0.0 & 12.0 & 22 & 10 \\\\\n",
       "\t17 & 0.0 & 1.0 & 0.0 & 0.0 & 0.0 & 15.0 & 11 & 18 \\\\\n",
       "\t18 & 0.0 & 1.0 & 0.0 & 0.0 & 0.0 & 27.0 & 11 & 18 \\\\\n",
       "\t19 & 0.0 & 1.0 & 0.0 & 0.0 & 0.0 & 12.0 & 22 & 21 \\\\\n",
       "\t20 & 0.0 & 1.0 & 0.0 & 0.0 & 0.0 & 41.0 & 22 & 9 \\\\\n",
       "\t21 & 0.0 & 1.0 & 0.0 & 0.0 & 0.0 & 36.0 & 21 & 5 \\\\\n",
       "\t22 & 0.0 & 1.0 & 0.0 & 0.0 & 0.0 & 41.0 & 11 & 18 \\\\\n",
       "\t23 & 0.0 & 1.0 & 0.0 & 0.0 & 0.0 & 15.0 & 13 & 20 \\\\\n",
       "\t24 & 0.0 & 1.0 & 0.0 & 0.0 & 0.0 & 26.0 & 13 & 18 \\\\\n",
       "\t25 & 0.0 & 1.0 & 0.0 & 0.0 & 0.0 & 29.0 & 17 & 18 \\\\\n",
       "\t26 & 0.0 & 1.0 & 0.0 & 0.0 & 0.0 & 25.0 & 13 & 20 \\\\\n",
       "\t27 & 0.0 & 1.0 & 0.0 & 0.0 & 0.0 & 7.0 & 19 & 4 \\\\\n",
       "\t28 & 0.0 & 1.0 & 0.0 & 0.0 & 0.0 & 36.0 & 10 & 18 \\\\\n",
       "\t29 & 0.0 & 1.0 & 0.0 & 0.0 & 0.0 & 19.0 & 13 & 20 \\\\\n",
       "\t30 & 0.0 & 1.0 & 0.0 & 0.0 & 0.0 & 28.0 & 14 & 17 \\\\\n",
       "\t$\\dots$ & $\\dots$ & $\\dots$ & $\\dots$ & $\\dots$ & $\\dots$ & $\\dots$ & $\\dots$ & $\\dots$ \\\\\n",
       "\\end{tabular}\n"
      ],
      "text/plain": [
       "1376×8 DataFrame. Omitted printing of 1 columns\n",
       "│ Row  │ shs     │ hsg     │ mw      │ so      │ we      │ exp1    │ occ2   │\n",
       "│      │ \u001b[90mFloat64\u001b[39m │ \u001b[90mFloat64\u001b[39m │ \u001b[90mFloat64\u001b[39m │ \u001b[90mFloat64\u001b[39m │ \u001b[90mFloat64\u001b[39m │ \u001b[90mFloat64\u001b[39m │ \u001b[90mString\u001b[39m │\n",
       "├──────┼─────────┼─────────┼─────────┼─────────┼─────────┼─────────┼────────┤\n",
       "│ 1    │ 0.0     │ 1.0     │ 0.0     │ 0.0     │ 0.0     │ 18.0    │ 19     │\n",
       "│ 2    │ 0.0     │ 1.0     │ 0.0     │ 0.0     │ 0.0     │ 42.0    │ 17     │\n",
       "│ 3    │ 0.0     │ 1.0     │ 0.0     │ 0.0     │ 0.0     │ 37.0    │ 17     │\n",
       "│ 4    │ 0.0     │ 1.0     │ 0.0     │ 0.0     │ 0.0     │ 31.0    │ 13     │\n",
       "│ 5    │ 0.0     │ 1.0     │ 0.0     │ 0.0     │ 0.0     │ 7.0     │ 13     │\n",
       "│ 6    │ 0.0     │ 1.0     │ 0.0     │ 0.0     │ 0.0     │ 30.0    │ 14     │\n",
       "│ 7    │ 0.0     │ 1.0     │ 0.0     │ 0.0     │ 0.0     │ 16.0    │ 19     │\n",
       "│ 8    │ 0.0     │ 1.0     │ 0.0     │ 0.0     │ 0.0     │ 27.0    │ 19     │\n",
       "│ 9    │ 0.0     │ 1.0     │ 0.0     │ 0.0     │ 0.0     │ 6.0     │ 20     │\n",
       "│ 10   │ 0.0     │ 1.0     │ 0.0     │ 0.0     │ 0.0     │ 8.0     │ 13     │\n",
       "⋮\n",
       "│ 1366 │ 0.0     │ 1.0     │ 0.0     │ 0.0     │ 1.0     │ 40.0    │ 16     │\n",
       "│ 1367 │ 0.0     │ 1.0     │ 0.0     │ 0.0     │ 1.0     │ 25.0    │ 12     │\n",
       "│ 1368 │ 0.0     │ 1.0     │ 0.0     │ 0.0     │ 1.0     │ 19.0    │ 9      │\n",
       "│ 1369 │ 0.0     │ 1.0     │ 0.0     │ 0.0     │ 1.0     │ 12.0    │ 13     │\n",
       "│ 1370 │ 0.0     │ 1.0     │ 0.0     │ 0.0     │ 1.0     │ 20.0    │ 13     │\n",
       "│ 1371 │ 0.0     │ 1.0     │ 0.0     │ 0.0     │ 1.0     │ 17.0    │ 22     │\n",
       "│ 1372 │ 0.0     │ 1.0     │ 0.0     │ 0.0     │ 1.0     │ 15.0    │ 6      │\n",
       "│ 1373 │ 0.0     │ 1.0     │ 0.0     │ 0.0     │ 1.0     │ 8.0     │ 16     │\n",
       "│ 1374 │ 0.0     │ 1.0     │ 0.0     │ 0.0     │ 1.0     │ 15.0    │ 22     │\n",
       "│ 1375 │ 0.0     │ 1.0     │ 0.0     │ 0.0     │ 1.0     │ 11.0    │ 20     │\n",
       "│ 1376 │ 0.0     │ 1.0     │ 0.0     │ 0.0     │ 1.0     │ 10.0    │ 9      │"
      ]
     },
     "execution_count": 60,
     "metadata": {},
     "output_type": "execute_result"
    }
   ],
   "source": [
    "#First we test the BASIC MODEL\n",
    "#definig Y D & W\n",
    "Y = data[!,\"lwage\"]\n",
    "Y = DataFrame([Y], [:Y])\n",
    "D = data[!,\"sex\"]\n",
    "D = DataFrame([D],[:D])\n",
    "W = DataFrame(select(data, Not([\"lwage\", \"sex\", \"exp2\",\"exp3\",\"exp4\",\"occ\",\"ind\",\"ad\",\"wage\",\"ne\",\"scl\",\"clg\"])))"
   ]
  },
  {
   "cell_type": "code",
   "execution_count": 61,
   "id": "22262cc5",
   "metadata": {},
   "outputs": [
    {
     "data": {
      "text/plain": [
       "rlasso_arg(1376×8 DataFrame. Omitted printing of 1 columns\n",
       "│ Row  │ shs     │ hsg     │ mw      │ so      │ we      │ exp1    │ occ2   │\n",
       "│      │ \u001b[90mFloat64\u001b[39m │ \u001b[90mFloat64\u001b[39m │ \u001b[90mFloat64\u001b[39m │ \u001b[90mFloat64\u001b[39m │ \u001b[90mFloat64\u001b[39m │ \u001b[90mFloat64\u001b[39m │ \u001b[90mString\u001b[39m │\n",
       "├──────┼─────────┼─────────┼─────────┼─────────┼─────────┼─────────┼────────┤\n",
       "│ 1    │ 0.0     │ 1.0     │ 0.0     │ 0.0     │ 0.0     │ 18.0    │ 19     │\n",
       "│ 2    │ 0.0     │ 1.0     │ 0.0     │ 0.0     │ 0.0     │ 42.0    │ 17     │\n",
       "│ 3    │ 0.0     │ 1.0     │ 0.0     │ 0.0     │ 0.0     │ 37.0    │ 17     │\n",
       "│ 4    │ 0.0     │ 1.0     │ 0.0     │ 0.0     │ 0.0     │ 31.0    │ 13     │\n",
       "│ 5    │ 0.0     │ 1.0     │ 0.0     │ 0.0     │ 0.0     │ 7.0     │ 13     │\n",
       "│ 6    │ 0.0     │ 1.0     │ 0.0     │ 0.0     │ 0.0     │ 30.0    │ 14     │\n",
       "│ 7    │ 0.0     │ 1.0     │ 0.0     │ 0.0     │ 0.0     │ 16.0    │ 19     │\n",
       "│ 8    │ 0.0     │ 1.0     │ 0.0     │ 0.0     │ 0.0     │ 27.0    │ 19     │\n",
       "│ 9    │ 0.0     │ 1.0     │ 0.0     │ 0.0     │ 0.0     │ 6.0     │ 20     │\n",
       "│ 10   │ 0.0     │ 1.0     │ 0.0     │ 0.0     │ 0.0     │ 8.0     │ 13     │\n",
       "⋮\n",
       "│ 1366 │ 0.0     │ 1.0     │ 0.0     │ 0.0     │ 1.0     │ 40.0    │ 16     │\n",
       "│ 1367 │ 0.0     │ 1.0     │ 0.0     │ 0.0     │ 1.0     │ 25.0    │ 12     │\n",
       "│ 1368 │ 0.0     │ 1.0     │ 0.0     │ 0.0     │ 1.0     │ 19.0    │ 9      │\n",
       "│ 1369 │ 0.0     │ 1.0     │ 0.0     │ 0.0     │ 1.0     │ 12.0    │ 13     │\n",
       "│ 1370 │ 0.0     │ 1.0     │ 0.0     │ 0.0     │ 1.0     │ 20.0    │ 13     │\n",
       "│ 1371 │ 0.0     │ 1.0     │ 0.0     │ 0.0     │ 1.0     │ 17.0    │ 22     │\n",
       "│ 1372 │ 0.0     │ 1.0     │ 0.0     │ 0.0     │ 1.0     │ 15.0    │ 6      │\n",
       "│ 1373 │ 0.0     │ 1.0     │ 0.0     │ 0.0     │ 1.0     │ 8.0     │ 16     │\n",
       "│ 1374 │ 0.0     │ 1.0     │ 0.0     │ 0.0     │ 1.0     │ 15.0    │ 22     │\n",
       "│ 1375 │ 0.0     │ 1.0     │ 0.0     │ 0.0     │ 1.0     │ 11.0    │ 20     │\n",
       "│ 1376 │ 0.0     │ 1.0     │ 0.0     │ 0.0     │ 1.0     │ 10.0    │ 9      │, 1376×1 DataFrame\n",
       "│ Row  │ Y       │\n",
       "│      │ \u001b[90mFloat64\u001b[39m │\n",
       "├──────┼─────────┤\n",
       "│ 1    │ 2.40313 │\n",
       "│ 2    │ 2.95651 │\n",
       "│ 3    │ 2.95651 │\n",
       "│ 4    │ 2.48491 │\n",
       "│ 5    │ 2.85115 │\n",
       "│ 6    │ 2.48651 │\n",
       "│ 7    │ 3.32808 │\n",
       "│ 8    │ 3.07269 │\n",
       "│ 9    │ 2.95651 │\n",
       "│ 10   │ 2.57922 │\n",
       "⋮\n",
       "│ 1366 │ 2.75352 │\n",
       "│ 1367 │ 2.158   │\n",
       "│ 1368 │ 2.48651 │\n",
       "│ 1369 │ 2.52573 │\n",
       "│ 1370 │ 2.26336 │\n",
       "│ 1371 │ 2.48651 │\n",
       "│ 1372 │ 2.56347 │\n",
       "│ 1373 │ 2.59984 │\n",
       "│ 1374 │ 3.11778 │\n",
       "│ 1375 │ 2.82298 │\n",
       "│ 1376 │ 3.49551 │, nothing, true, true, true, false, false, nothing, 1.1, nothing, 5000, 15, 1.0000000000000003e-5, -Inf, true, Inf, true)"
      ]
     },
     "execution_count": 61,
     "metadata": {},
     "output_type": "execute_result"
    }
   ],
   "source": [
    "#First equation Y\n",
    "res_Y_0 = rlasso_arg( W, Y, nothing, true, true, true, false, false, \n",
    "                    nothing, 1.1, nothing, 5000, 15, 10^(-5), -Inf, true, Inf, true )"
   ]
  },
  {
   "cell_type": "code",
   "execution_count": 62,
   "id": "8a78b993",
   "metadata": {},
   "outputs": [
    {
     "ename": "LoadError",
     "evalue": "MethodError: no method matching /(::String, ::Int64)\n\u001b[0mClosest candidates are:\n\u001b[0m  /(::Any, \u001b[91m::ChainRulesCore.AbstractThunk\u001b[39m) at C:\\Users\\Alvaro\\.julia\\packages\\ChainRulesCore\\RbX5a\\src\\tangent_types\\thunks.jl:33\n\u001b[0m  /(\u001b[91m::Union{Int128, Int16, Int32, Int64, Int8, UInt128, UInt16, UInt32, UInt64, UInt8}\u001b[39m, ::Union{Int128, Int16, Int32, Int64, Int8, UInt128, UInt16, UInt32, UInt64, UInt8}) at C:\\Users\\Alvaro\\AppData\\Local\\Programs\\Julia-1.7.2\\share\\julia\\base\\int.jl:93\n\u001b[0m  /(\u001b[91m::StridedArray{P}\u001b[39m, ::Real) where P<:Period at C:\\Users\\Alvaro\\AppData\\Local\\Programs\\Julia-1.7.2\\share\\julia\\stdlib\\v1.7\\Dates\\src\\deprecated.jl:44\n\u001b[0m  ...",
     "output_type": "error",
     "traceback": [
      "MethodError: no method matching /(::String, ::Int64)\n\u001b[0mClosest candidates are:\n\u001b[0m  /(::Any, \u001b[91m::ChainRulesCore.AbstractThunk\u001b[39m) at C:\\Users\\Alvaro\\.julia\\packages\\ChainRulesCore\\RbX5a\\src\\tangent_types\\thunks.jl:33\n\u001b[0m  /(\u001b[91m::Union{Int128, Int16, Int32, Int64, Int8, UInt128, UInt16, UInt32, UInt64, UInt8}\u001b[39m, ::Union{Int128, Int16, Int32, Int64, Int8, UInt128, UInt16, UInt32, UInt64, UInt8}) at C:\\Users\\Alvaro\\AppData\\Local\\Programs\\Julia-1.7.2\\share\\julia\\base\\int.jl:93\n\u001b[0m  /(\u001b[91m::StridedArray{P}\u001b[39m, ::Real) where P<:Period at C:\\Users\\Alvaro\\AppData\\Local\\Programs\\Julia-1.7.2\\share\\julia\\stdlib\\v1.7\\Dates\\src\\deprecated.jl:44\n\u001b[0m  ...",
      "",
      "Stacktrace:",
      "  [1] _mean(f::typeof(identity), A::SubArray{Any, 1, Matrix{Any}, Tuple{Base.Slice{Base.OneTo{Int64}}, Int64}, true}, dims::Colon)",
      "    @ Statistics C:\\Users\\Alvaro\\AppData\\Local\\Programs\\Julia-1.7.2\\share\\julia\\stdlib\\v1.7\\Statistics\\src\\Statistics.jl:176",
      "  [2] #mean#2",
      "    @ C:\\Users\\Alvaro\\AppData\\Local\\Programs\\Julia-1.7.2\\share\\julia\\stdlib\\v1.7\\Statistics\\src\\Statistics.jl:164 [inlined]",
      "  [3] mean",
      "    @ C:\\Users\\Alvaro\\AppData\\Local\\Programs\\Julia-1.7.2\\share\\julia\\stdlib\\v1.7\\Statistics\\src\\Statistics.jl:164 [inlined]",
      "  [4] _broadcast_getindex_evalf",
      "    @ .\\broadcast.jl:670 [inlined]",
      "  [5] _broadcast_getindex",
      "    @ .\\broadcast.jl:643 [inlined]",
      "  [6] getindex",
      "    @ .\\broadcast.jl:597 [inlined]",
      "  [7] copyto_nonleaf!(dest::Vector{Float64}, bc::Base.Broadcast.Broadcasted{Base.Broadcast.DefaultArrayStyle{1}, Tuple{Base.OneTo{Int64}}, typeof(mean), Tuple{Base.Broadcast.Extruded{Vector{SubArray{Any, 1, Matrix{Any}, Tuple{Base.Slice{Base.OneTo{Int64}}, Int64}, true}}, Tuple{Bool}, Tuple{Int64}}}}, iter::Base.OneTo{Int64}, state::Int64, count::Int64)",
      "    @ Base.Broadcast .\\broadcast.jl:1055",
      "  [8] copy",
      "    @ .\\broadcast.jl:907 [inlined]",
      "  [9] materialize(bc::Base.Broadcast.Broadcasted{Base.Broadcast.DefaultArrayStyle{1}, Nothing, typeof(mean), Tuple{Vector{SubArray{Any, 1, Matrix{Any}, Tuple{Base.Slice{Base.OneTo{Int64}}, Int64}, true}}}})",
      "    @ Base.Broadcast .\\broadcast.jl:860",
      " [10] rlasso(self::rlasso_arg)",
      "    @ Main C:\\Users\\Alvaro\\Documents\\PUCP\\Ciclo 2022-1\\ML.2022.1\\Groupwork_2\\hdmjl.jl:457",
      " [11] top-level scope",
      "    @ In[62]:2",
      " [12] eval",
      "    @ .\\boot.jl:373 [inlined]",
      " [13] include_string(mapexpr::typeof(REPL.softscope), mod::Module, code::String, filename::String)",
      "    @ Base .\\loading.jl:1196"
     ]
    }
   ],
   "source": [
    "#Put parameters inside lasso reg\n",
    "res_Y = rlasso(res_Y_0)"
   ]
  },
  {
   "cell_type": "code",
   "execution_count": 49,
   "id": "6a13d763",
   "metadata": {},
   "outputs": [
    {
     "ename": "LoadError",
     "evalue": "MethodError: no method matching /(::String, ::Int64)\n\u001b[0mClosest candidates are:\n\u001b[0m  /(::Any, \u001b[91m::ChainRulesCore.AbstractThunk\u001b[39m) at C:\\Users\\Alvaro\\.julia\\packages\\ChainRulesCore\\RbX5a\\src\\tangent_types\\thunks.jl:33\n\u001b[0m  /(\u001b[91m::Union{Int128, Int16, Int32, Int64, Int8, UInt128, UInt16, UInt32, UInt64, UInt8}\u001b[39m, ::Union{Int128, Int16, Int32, Int64, Int8, UInt128, UInt16, UInt32, UInt64, UInt8}) at C:\\Users\\Alvaro\\AppData\\Local\\Programs\\Julia-1.7.2\\share\\julia\\base\\int.jl:93\n\u001b[0m  /(\u001b[91m::StridedArray{P}\u001b[39m, ::Real) where P<:Period at C:\\Users\\Alvaro\\AppData\\Local\\Programs\\Julia-1.7.2\\share\\julia\\stdlib\\v1.7\\Dates\\src\\deprecated.jl:44\n\u001b[0m  ...",
     "output_type": "error",
     "traceback": [
      "MethodError: no method matching /(::String, ::Int64)\n\u001b[0mClosest candidates are:\n\u001b[0m  /(::Any, \u001b[91m::ChainRulesCore.AbstractThunk\u001b[39m) at C:\\Users\\Alvaro\\.julia\\packages\\ChainRulesCore\\RbX5a\\src\\tangent_types\\thunks.jl:33\n\u001b[0m  /(\u001b[91m::Union{Int128, Int16, Int32, Int64, Int8, UInt128, UInt16, UInt32, UInt64, UInt8}\u001b[39m, ::Union{Int128, Int16, Int32, Int64, Int8, UInt128, UInt16, UInt32, UInt64, UInt8}) at C:\\Users\\Alvaro\\AppData\\Local\\Programs\\Julia-1.7.2\\share\\julia\\base\\int.jl:93\n\u001b[0m  /(\u001b[91m::StridedArray{P}\u001b[39m, ::Real) where P<:Period at C:\\Users\\Alvaro\\AppData\\Local\\Programs\\Julia-1.7.2\\share\\julia\\stdlib\\v1.7\\Dates\\src\\deprecated.jl:44\n\u001b[0m  ...",
      "",
      "Stacktrace:",
      "  [1] _mean(f::typeof(identity), A::SubArray{Any, 1, Matrix{Any}, Tuple{Base.Slice{Base.OneTo{Int64}}, Int64}, true}, dims::Colon)",
      "    @ Statistics C:\\Users\\Alvaro\\AppData\\Local\\Programs\\Julia-1.7.2\\share\\julia\\stdlib\\v1.7\\Statistics\\src\\Statistics.jl:176",
      "  [2] #mean#2",
      "    @ C:\\Users\\Alvaro\\AppData\\Local\\Programs\\Julia-1.7.2\\share\\julia\\stdlib\\v1.7\\Statistics\\src\\Statistics.jl:164 [inlined]",
      "  [3] mean",
      "    @ C:\\Users\\Alvaro\\AppData\\Local\\Programs\\Julia-1.7.2\\share\\julia\\stdlib\\v1.7\\Statistics\\src\\Statistics.jl:164 [inlined]",
      "  [4] _broadcast_getindex_evalf",
      "    @ .\\broadcast.jl:670 [inlined]",
      "  [5] _broadcast_getindex",
      "    @ .\\broadcast.jl:643 [inlined]",
      "  [6] getindex",
      "    @ .\\broadcast.jl:597 [inlined]",
      "  [7] copyto_nonleaf!(dest::Vector{Float64}, bc::Base.Broadcast.Broadcasted{Base.Broadcast.DefaultArrayStyle{1}, Tuple{Base.OneTo{Int64}}, typeof(mean), Tuple{Base.Broadcast.Extruded{Vector{SubArray{Any, 1, Matrix{Any}, Tuple{Base.Slice{Base.OneTo{Int64}}, Int64}, true}}, Tuple{Bool}, Tuple{Int64}}}}, iter::Base.OneTo{Int64}, state::Int64, count::Int64)",
      "    @ Base.Broadcast .\\broadcast.jl:1055",
      "  [8] copy",
      "    @ .\\broadcast.jl:907 [inlined]",
      "  [9] materialize(bc::Base.Broadcast.Broadcasted{Base.Broadcast.DefaultArrayStyle{1}, Nothing, typeof(mean), Tuple{Vector{SubArray{Any, 1, Matrix{Any}, Tuple{Base.Slice{Base.OneTo{Int64}}, Int64}, true}}}})",
      "    @ Base.Broadcast .\\broadcast.jl:860",
      " [10] rlasso(self::rlasso_arg)",
      "    @ Main C:\\Users\\Alvaro\\Documents\\PUCP\\Ciclo 2022-1\\ML.2022.1\\Groupwork_2\\hdmjl.jl:457",
      " [11] top-level scope",
      "    @ In[49]:2",
      " [12] eval",
      "    @ .\\boot.jl:373 [inlined]",
      " [13] include_string(mapexpr::typeof(REPL.softscope), mod::Module, code::String, filename::String)",
      "    @ Base .\\loading.jl:1196"
     ]
    }
   ],
   "source": [
    "#calling residuals row\n",
    "res_Y = rlasso(res_Y_0)[\"residuals\"]"
   ]
  },
  {
   "cell_type": "code",
   "execution_count": 54,
   "id": "63488071",
   "metadata": {},
   "outputs": [
    {
     "ename": "LoadError",
     "evalue": "MethodError: no method matching /(::String, ::Int64)\n\u001b[0mClosest candidates are:\n\u001b[0m  /(::Any, \u001b[91m::ChainRulesCore.AbstractThunk\u001b[39m) at C:\\Users\\Alvaro\\.julia\\packages\\ChainRulesCore\\RbX5a\\src\\tangent_types\\thunks.jl:33\n\u001b[0m  /(\u001b[91m::Union{Int128, Int16, Int32, Int64, Int8, UInt128, UInt16, UInt32, UInt64, UInt8}\u001b[39m, ::Union{Int128, Int16, Int32, Int64, Int8, UInt128, UInt16, UInt32, UInt64, UInt8}) at C:\\Users\\Alvaro\\AppData\\Local\\Programs\\Julia-1.7.2\\share\\julia\\base\\int.jl:93\n\u001b[0m  /(\u001b[91m::StridedArray{P}\u001b[39m, ::Real) where P<:Period at C:\\Users\\Alvaro\\AppData\\Local\\Programs\\Julia-1.7.2\\share\\julia\\stdlib\\v1.7\\Dates\\src\\deprecated.jl:44\n\u001b[0m  ...",
     "output_type": "error",
     "traceback": [
      "MethodError: no method matching /(::String, ::Int64)\n\u001b[0mClosest candidates are:\n\u001b[0m  /(::Any, \u001b[91m::ChainRulesCore.AbstractThunk\u001b[39m) at C:\\Users\\Alvaro\\.julia\\packages\\ChainRulesCore\\RbX5a\\src\\tangent_types\\thunks.jl:33\n\u001b[0m  /(\u001b[91m::Union{Int128, Int16, Int32, Int64, Int8, UInt128, UInt16, UInt32, UInt64, UInt8}\u001b[39m, ::Union{Int128, Int16, Int32, Int64, Int8, UInt128, UInt16, UInt32, UInt64, UInt8}) at C:\\Users\\Alvaro\\AppData\\Local\\Programs\\Julia-1.7.2\\share\\julia\\base\\int.jl:93\n\u001b[0m  /(\u001b[91m::StridedArray{P}\u001b[39m, ::Real) where P<:Period at C:\\Users\\Alvaro\\AppData\\Local\\Programs\\Julia-1.7.2\\share\\julia\\stdlib\\v1.7\\Dates\\src\\deprecated.jl:44\n\u001b[0m  ...",
      "",
      "Stacktrace:",
      "  [1] _mean(f::typeof(identity), A::SubArray{Any, 1, Matrix{Any}, Tuple{Base.Slice{Base.OneTo{Int64}}, Int64}, true}, dims::Colon)",
      "    @ Statistics C:\\Users\\Alvaro\\AppData\\Local\\Programs\\Julia-1.7.2\\share\\julia\\stdlib\\v1.7\\Statistics\\src\\Statistics.jl:176",
      "  [2] #mean#2",
      "    @ C:\\Users\\Alvaro\\AppData\\Local\\Programs\\Julia-1.7.2\\share\\julia\\stdlib\\v1.7\\Statistics\\src\\Statistics.jl:164 [inlined]",
      "  [3] mean",
      "    @ C:\\Users\\Alvaro\\AppData\\Local\\Programs\\Julia-1.7.2\\share\\julia\\stdlib\\v1.7\\Statistics\\src\\Statistics.jl:164 [inlined]",
      "  [4] _broadcast_getindex_evalf",
      "    @ .\\broadcast.jl:670 [inlined]",
      "  [5] _broadcast_getindex",
      "    @ .\\broadcast.jl:643 [inlined]",
      "  [6] getindex",
      "    @ .\\broadcast.jl:597 [inlined]",
      "  [7] copyto_nonleaf!(dest::Vector{Float64}, bc::Base.Broadcast.Broadcasted{Base.Broadcast.DefaultArrayStyle{1}, Tuple{Base.OneTo{Int64}}, typeof(mean), Tuple{Base.Broadcast.Extruded{Vector{SubArray{Any, 1, Matrix{Any}, Tuple{Base.Slice{Base.OneTo{Int64}}, Int64}, true}}, Tuple{Bool}, Tuple{Int64}}}}, iter::Base.OneTo{Int64}, state::Int64, count::Int64)",
      "    @ Base.Broadcast .\\broadcast.jl:1055",
      "  [8] copy",
      "    @ .\\broadcast.jl:907 [inlined]",
      "  [9] materialize(bc::Base.Broadcast.Broadcasted{Base.Broadcast.DefaultArrayStyle{1}, Nothing, typeof(mean), Tuple{Vector{SubArray{Any, 1, Matrix{Any}, Tuple{Base.Slice{Base.OneTo{Int64}}, Int64}, true}}}})",
      "    @ Base.Broadcast .\\broadcast.jl:860",
      " [10] rlasso(self::rlasso_arg)",
      "    @ Main C:\\Users\\Alvaro\\Documents\\PUCP\\Ciclo 2022-1\\ML.2022.1\\Groupwork_2\\hdmjl.jl:457",
      " [11] top-level scope",
      "    @ In[54]:3",
      " [12] eval",
      "    @ .\\boot.jl:373 [inlined]",
      " [13] include_string(mapexpr::typeof(REPL.softscope), mod::Module, code::String, filename::String)",
      "    @ Base .\\loading.jl:1196"
     ]
    }
   ],
   "source": [
    "#second equation D (same steps)\n",
    "res_D_0 = rlasso_arg( W, D, nothing, true, true, true, false, false, \n",
    "                    nothing, 1.1, nothing, 5000, 15, 10^(-5), -Inf, true, Inf, true )\n",
    "#calling residuals\n",
    "res_D = rlasso(res_D_0)[\"residuals\"]\n",
    "# convert the vector into matrix \n",
    "res_D = reshape(res_D, length(res_D), 1)"
   ]
  },
  {
   "cell_type": "code",
   "execution_count": 55,
   "id": "56af98b9",
   "metadata": {},
   "outputs": [
    {
     "ename": "LoadError",
     "evalue": "UndefVarError: res_D not defined",
     "output_type": "error",
     "traceback": [
      "UndefVarError: res_D not defined",
      "",
      "Stacktrace:",
      " [1] top-level scope",
      "   @ In[55]:1",
      " [2] eval",
      "   @ .\\boot.jl:373 [inlined]",
      " [3] include_string(mapexpr::typeof(REPL.softscope), mod::Module, code::String, filename::String)",
      "   @ Base .\\loading.jl:1196"
     ]
    }
   ],
   "source": [
    "lm(res_D, res_Y)"
   ]
  },
  {
   "cell_type": "code",
   "execution_count": null,
   "id": "10203a4b",
   "metadata": {},
   "outputs": [],
   "source": [
    "#Now we test de FLEXIBLE MODEL\n",
    "flex_y = @formula(lwage ~ (exp1+exp2+exp3+exp4+shs+hsg+occ2+ind2+mw+so+we)^2)"
   ]
  },
  {
   "cell_type": "code",
   "execution_count": null,
   "id": "e7407b8e",
   "metadata": {},
   "outputs": [],
   "source": [
    "res_f_0 = rlasso_arg( flex_y, nothing, true, true, true, false, false, \n",
    "                    nothing, 1.1, nothing, 5000, 15, 10^(-5), -Inf, true, Inf, true )\n",
    "#calling residuals row\n",
    "res_f = rlasso(res_f_0)[\"residuals\"]\n",
    "# convert the vector into matrix \n",
    "res_f = reshape(res_f, length(res_f), 1)"
   ]
  },
  {
   "cell_type": "code",
   "execution_count": null,
   "id": "24fb1804",
   "metadata": {},
   "outputs": [],
   "source": [
    "#Now we test the regresion D Y\n",
    "flex_d = @formula(sex ~ (exp1+exp2+exp3+exp4+shs+hsg+occ2+ind2+mw+so+we)^2)"
   ]
  },
  {
   "cell_type": "code",
   "execution_count": null,
   "id": "9289ffbb",
   "metadata": {},
   "outputs": [],
   "source": [
    "res_f_D_0 = rlasso_arg(flex_d, nothing, true, true, true, false, false, \n",
    "                    nothing, 1.1, nothing, 5000, 15, 10^(-5), -Inf, true, Inf, true )"
   ]
  },
  {
   "cell_type": "code",
   "execution_count": null,
   "id": "5485840e",
   "metadata": {},
   "outputs": [],
   "source": [
    "#finally the regressor errors\n",
    "lm(res_f_D, res_f)"
   ]
  }
 ],
 "metadata": {
  "kernelspec": {
   "display_name": "Julia 1.7.2",
   "language": "julia",
   "name": "julia-1.7"
  },
  "language_info": {
   "file_extension": ".jl",
   "mimetype": "application/julia",
   "name": "julia",
   "version": "1.7.2"
  }
 },
 "nbformat": 4,
 "nbformat_minor": 5
}
