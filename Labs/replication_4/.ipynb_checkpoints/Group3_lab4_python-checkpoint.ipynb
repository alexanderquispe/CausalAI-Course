{
 "cells": [
  {
   "cell_type": "markdown",
   "id": "534432a4",
   "metadata": {},
   "source": [
    "# Workgroup 4 \n",
    "\n",
    "- Andrea Ulloa\n",
    "- Angela \n",
    "- Ana Paula"
   ]
  },
  {
   "cell_type": "markdown",
   "id": "2150a9f7",
   "metadata": {},
   "source": [
    "## Orthogonal Learning"
   ]
  },
  {
   "cell_type": "markdown",
   "id": "ea6e4341",
   "metadata": {},
   "source": []
  },
  {
   "cell_type": "markdown",
   "id": "c90d9eee",
   "metadata": {},
   "source": []
  },
  {
   "cell_type": "code",
   "execution_count": null,
   "id": "49184257",
   "metadata": {},
   "outputs": [],
   "source": []
  },
  {
   "cell_type": "code",
   "execution_count": null,
   "id": "7ba705ee",
   "metadata": {},
   "outputs": [],
   "source": []
  },
  {
   "cell_type": "markdown",
   "id": "a8b08b64",
   "metadata": {},
   "source": [
    "## Double Lasso - Testing the Convergence Hypothesis"
   ]
  },
  {
   "cell_type": "markdown",
   "id": "9d8e9717",
   "metadata": {},
   "source": [
    "### 1. What is the Double Lasso Approach?\n",
    "\n"
   ]
  },
  {
   "cell_type": "markdown",
   "id": "48ad2107",
   "metadata": {},
   "source": [
    "### 2. Replication "
   ]
  },
  {
   "cell_type": "code",
   "execution_count": 9,
   "id": "c0c6dc51",
   "metadata": {},
   "outputs": [],
   "source": [
    "import hdmpy\n",
    "import pandas as pd\n",
    "import numpy as np\n",
    "import pyreadr\n",
    "import math\n",
    "import matplotlib.pyplot as plt\n",
    "import random\n",
    "import statsmodels.api as sm\n",
    "import statsmodels.formula.api as smf"
   ]
  },
  {
   "cell_type": "code",
   "execution_count": 4,
   "id": "a05e1263",
   "metadata": {},
   "outputs": [],
   "source": [
    "growth_read = pyreadr.read_r(\"../../data/GrowthData.RData\")\n",
    "\n",
    "# Extracting the data frame from rdata_read\n",
    "growth = growth_read[ 'GrowthData' ]\n",
    "growth.shape #90 countries and 63 controls"
   ]
  },
  {
   "cell_type": "markdown",
   "id": "515cacbc",
   "metadata": {},
   "source": [
    "#### OLS"
   ]
  },
  {
   "cell_type": "code",
   "execution_count": 7,
   "id": "be01081f",
   "metadata": {},
   "outputs": [],
   "source": [
    "# We create the main variables\n",
    "y = growth['Outcome']\n",
    "X = growth.drop('Outcome', axis = 1)"
   ]
  },
  {
   "cell_type": "code",
   "execution_count": 12,
   "id": "995debb7",
   "metadata": {},
   "outputs": [
    {
     "name": "stdout",
     "output_type": "stream",
     "text": [
      "                            OLS Regression Results                            \n",
      "==============================================================================\n",
      "Dep. Variable:                Outcome   R-squared:                       0.887\n",
      "Model:                            OLS   Adj. R-squared:                  0.641\n",
      "Method:                 Least Squares   F-statistic:                     3.607\n",
      "Date:                Wed, 04 May 2022   Prob (F-statistic):           0.000200\n",
      "Time:                        22:50:29   Log-Likelihood:                 238.24\n",
      "No. Observations:                  90   AIC:                            -352.5\n",
      "Df Residuals:                      28   BIC:                            -197.5\n",
      "Df Model:                          61                                         \n",
      "Covariance Type:            nonrobust                                         \n",
      "==============================================================================\n",
      "                 coef    std err          t      P>|t|      [0.025      0.975]\n",
      "------------------------------------------------------------------------------\n",
      "intercept      0.2472      0.785      0.315      0.755      -1.360       1.854\n",
      "gdpsh465      -0.0094      0.030     -0.314      0.756      -0.071       0.052\n",
      "bmp1l         -0.0689      0.033     -2.117      0.043      -0.135      -0.002\n",
      "freeop         0.0801      0.208      0.385      0.703      -0.346       0.506\n",
      "freetar       -0.4890      0.418     -1.169      0.252      -1.346       0.368\n",
      "h65           -2.3621      0.857     -2.755      0.010      -4.118      -0.606\n",
      "hm65           0.7071      0.523      1.352      0.187      -0.364       1.779\n",
      "hf65           1.6934      0.503      3.365      0.002       0.663       2.724\n",
      "p65            0.2655      0.164      1.616      0.117      -0.071       0.602\n",
      "pm65           0.1370      0.151      0.906      0.373      -0.173       0.447\n",
      "pf65          -0.3313      0.165     -2.006      0.055      -0.670       0.007\n",
      "s65            0.0391      0.186      0.211      0.835      -0.341       0.419\n",
      "sm65          -0.0307      0.117     -0.263      0.795      -0.270       0.209\n",
      "sf65          -0.1799      0.118     -1.523      0.139      -0.422       0.062\n",
      "fert65         0.0069      0.027      0.254      0.801      -0.049       0.062\n",
      "mort65        -0.2335      0.817     -0.286      0.777      -1.908       1.441\n",
      "lifee065      -0.0149      0.193     -0.077      0.939      -0.411       0.381\n",
      "gpop1          0.9702      1.812      0.535      0.597      -2.742       4.682\n",
      "fert1          0.0088      0.035      0.252      0.803      -0.063       0.081\n",
      "mort1          0.0666      0.685      0.097      0.923      -1.336       1.469\n",
      "invsh41        0.0745      0.108      0.687      0.498      -0.148       0.297\n",
      "geetot1       -0.7151      1.680     -0.426      0.674      -4.157       2.726\n",
      "geerec1        0.6300      2.447      0.257      0.799      -4.383       5.643\n",
      "gde1          -0.4436      1.671     -0.265      0.793      -3.867       2.980\n",
      "govwb1         0.3375      0.438      0.770      0.447      -0.560       1.235\n",
      "govsh41        0.4632      1.925      0.241      0.812      -3.481       4.407\n",
      "gvxdxe41      -0.7934      2.059     -0.385      0.703      -5.012       3.425\n",
      "high65        -0.7525      0.906     -0.831      0.413      -2.608       1.103\n",
      "highm65       -0.3903      0.681     -0.573      0.571      -1.786       1.005\n",
      "highf65       -0.4177      0.561     -0.744      0.463      -1.568       0.732\n",
      "highc65       -2.2158      1.481     -1.496      0.146      -5.249       0.818\n",
      "highcm65       0.2797      0.658      0.425      0.674      -1.069       1.628\n",
      "highcf65       0.3921      0.766      0.512      0.613      -1.177       1.961\n",
      "human65        2.3373      3.307      0.707      0.486      -4.437       9.112\n",
      "humanm65      -1.2092      1.619     -0.747      0.461      -4.525       2.106\n",
      "humanf65      -1.1039      1.685     -0.655      0.518      -4.555       2.347\n",
      "hyr65         54.9139     23.887      2.299      0.029       5.983     103.845\n",
      "hyrm65        12.9350     23.171      0.558      0.581     -34.529      60.400\n",
      "hyrf65         9.0926     17.670      0.515      0.611     -27.102      45.287\n",
      "no65           0.0372      0.132      0.282      0.780      -0.233       0.308\n",
      "nom65         -0.0212      0.065     -0.326      0.747      -0.154       0.112\n",
      "nof65         -0.0169      0.067     -0.252      0.803      -0.154       0.120\n",
      "pinstab1      -0.0500      0.031     -1.616      0.117      -0.113       0.013\n",
      "pop65       1.032e-07   1.32e-07      0.783      0.440   -1.67e-07    3.73e-07\n",
      "worker65       0.0341      0.156      0.218      0.829      -0.286       0.354\n",
      "pop1565       -0.4655      0.471     -0.988      0.332      -1.431       0.500\n",
      "pop6565       -1.3575      0.635     -2.138      0.041      -2.658      -0.057\n",
      "sec65         -0.0109      0.308     -0.035      0.972      -0.641       0.619\n",
      "secm65         0.0033      0.151      0.022      0.983      -0.306       0.313\n",
      "secf65        -0.0023      0.158     -0.015      0.988      -0.326       0.321\n",
      "secc65        -0.4915      0.729     -0.674      0.506      -1.985       1.002\n",
      "seccm65        0.2596      0.356      0.730      0.471      -0.469       0.988\n",
      "seccf65        0.2207      0.373      0.591      0.559      -0.544       0.985\n",
      "syr65         -0.7556      7.977     -0.095      0.925     -17.095      15.584\n",
      "syrm65         0.3109      3.897      0.080      0.937      -7.671       8.293\n",
      "syrf65         0.7593      4.111      0.185      0.855      -7.661       9.180\n",
      "teapri65    3.955e-05      0.001      0.051      0.959      -0.002       0.002\n",
      "teasec65       0.0002      0.001      0.213      0.833      -0.002       0.003\n",
      "ex1           -0.5804      0.242     -2.400      0.023      -1.076      -0.085\n",
      "im1            0.5914      0.250      2.363      0.025       0.079       1.104\n",
      "xr65          -0.0001   5.42e-05     -1.916      0.066      -0.000    7.18e-06\n",
      "tot1          -0.1279      0.113     -1.136      0.266      -0.359       0.103\n",
      "==============================================================================\n",
      "Omnibus:                        0.439   Durbin-Watson:                   1.982\n",
      "Prob(Omnibus):                  0.803   Jarque-Bera (JB):                0.417\n",
      "Skew:                           0.158   Prob(JB):                        0.812\n",
      "Kurtosis:                       2.896   Cond. No.                     7.52e+08\n",
      "==============================================================================\n",
      "\n",
      "Notes:\n",
      "[1] Standard Errors assume that the covariance matrix of the errors is correctly specified.\n",
      "[2] The condition number is large, 7.52e+08. This might indicate that there are\n",
      "strong multicollinearity or other numerical problems.\n"
     ]
    }
   ],
   "source": [
    "reg_ols  = sm.OLS(y, X).fit()\n",
    "print(reg_ols.summary())"
   ]
  },
  {
   "cell_type": "code",
   "execution_count": 16,
   "id": "57441f12",
   "metadata": {},
   "outputs": [],
   "source": [
    "# output: estimated regression coefficient corresponding to the target regressor\n",
    "est_ols = reg_ols.summary2().tables[1]['Coef.']['gdpsh465']\n",
    "\n",
    "# output: std. error\n",
    "std_ols = reg_ols.summary2().tables[1]['Std.Err.']['gdpsh465']\n",
    "\n",
    "# output: 95% confidence interval\n",
    "lower_ci = reg_ols.summary2().tables[1]['[0.025']['gdpsh465']\n",
    "upper_ci = reg_ols.summary2().tables[1]['0.975]']['gdpsh465']"
   ]
  },
  {
   "cell_type": "code",
   "execution_count": 39,
   "id": "4ada9329",
   "metadata": {},
   "outputs": [
    {
     "data": {
      "text/html": [
       "<div>\n",
       "<style scoped>\n",
       "    .dataframe tbody tr th:only-of-type {\n",
       "        vertical-align: middle;\n",
       "    }\n",
       "\n",
       "    .dataframe tbody tr th {\n",
       "        vertical-align: top;\n",
       "    }\n",
       "\n",
       "    .dataframe thead th {\n",
       "        text-align: right;\n",
       "    }\n",
       "</style>\n",
       "<table border=\"1\" class=\"dataframe\">\n",
       "  <thead>\n",
       "    <tr style=\"text-align: right;\">\n",
       "      <th></th>\n",
       "      <th>Estimator</th>\n",
       "      <th>Std. Error</th>\n",
       "      <th>lower bound CI</th>\n",
       "      <th>upper bound CI</th>\n",
       "    </tr>\n",
       "  </thead>\n",
       "  <tbody>\n",
       "    <tr>\n",
       "      <th>OLS</th>\n",
       "      <td>-0.009378</td>\n",
       "      <td>0.029888</td>\n",
       "      <td>-0.0706</td>\n",
       "      <td>0.051844</td>\n",
       "    </tr>\n",
       "  </tbody>\n",
       "</table>\n",
       "</div>"
      ],
      "text/plain": [
       "     Estimator  Std. Error  lower bound CI  upper bound CI\n",
       "OLS  -0.009378    0.029888         -0.0706        0.051844"
      ]
     },
     "execution_count": 39,
     "metadata": {},
     "output_type": "execute_result"
    }
   ],
   "source": [
    "table_1 = np.zeros( (1, 4) )\n",
    "\n",
    "table_1[0,0] = est_ols  \n",
    "table_1[0,1] = std_ols   \n",
    "table_1[0,2] = lower_ci\n",
    "table_1[0,3] = upper_ci  \n",
    "\n",
    "table_1 = pd.DataFrame( table_1, columns = [ \"Estimator\",\"Std. Error\", \"lower bound CI\", \"upper bound CI\"  ])\n",
    "table_1.index = [ \"OLS\" ]\n",
    "table_1"
   ]
  },
  {
   "cell_type": "markdown",
   "id": "14b45d06",
   "metadata": {},
   "source": [
    "Este estimador no es significativo, por tanto el estimador de OLS de la variable de interés no puede explicar a la variable dependiente."
   ]
  },
  {
   "cell_type": "markdown",
   "id": "beb529f8",
   "metadata": {},
   "source": [
    "#### Double LASSO using cross Validation"
   ]
  },
  {
   "cell_type": "code",
   "execution_count": 25,
   "id": "954895ab",
   "metadata": {},
   "outputs": [],
   "source": [
    "# Create main variables\n",
    "Y = growth['Outcome']\n",
    "W = growth.drop(['Outcome','intercept', 'gdpsh465'], axis =  1 )\n",
    "D = growth['gdpsh465']"
   ]
  },
  {
   "cell_type": "code",
   "execution_count": 43,
   "id": "c91a90d8",
   "metadata": {},
   "outputs": [
    {
     "name": "stderr",
     "output_type": "stream",
     "text": [
      "C:\\Users\\Andrea\\anaconda3\\lib\\site-packages\\sklearn\\linear_model\\_coordinate_descent.py:647: ConvergenceWarning: Objective did not converge. You might want to increase the number of iterations, check the scale of the features or consider increasing regularisation. Duality gap: 5.829e-03, tolerance: 2.343e-05\n",
      "  model = cd_fast.enet_coordinate_descent(\n",
      "C:\\Users\\Andrea\\anaconda3\\lib\\site-packages\\sklearn\\linear_model\\_coordinate_descent.py:647: ConvergenceWarning: Objective did not converge. You might want to increase the number of iterations, check the scale of the features or consider increasing regularisation. Duality gap: 2.997e+00, tolerance: 7.148e-03\n",
      "  model = cd_fast.enet_coordinate_descent(\n"
     ]
    }
   ],
   "source": [
    "from sklearn import linear_model\n",
    "\n",
    "# Seat values for Lasso\n",
    "lasso_model = linear_model.Lasso( alpha = 0.00077 )\n",
    "r_Y = Y - lasso_model.fit( W, Y ).predict( W )\n",
    "r_Y = r_Y.rename('r_Y')\n",
    "\n",
    "# Part. out d\n",
    "r_D = D - lasso_model.fit( W, D ).predict( W )\n",
    "r_D = r_D.rename('r_D')\n",
    "\n",
    "# ols \n",
    "partial_lasso_fit = sm.OLS(r_Y, r_D).fit()\n",
    "\n",
    "est_lasso = partial_lasso_fit.summary2().tables[1]['Coef.']['r_D']\n",
    "std_lasso = partial_lasso_fit.summary2().tables[1]['Std.Err.']['r_D']\n",
    "lower_ci_lasso = partial_lasso_fit.summary2().tables[1]['[0.025']['r_D']\n",
    "upper_ci_lasso = partial_lasso_fit.summary2().tables[1]['0.975]']['r_D']\n"
   ]
  },
  {
   "cell_type": "code",
   "execution_count": 40,
   "id": "96bad04b",
   "metadata": {},
   "outputs": [
    {
     "data": {
      "text/html": [
       "<div>\n",
       "<style scoped>\n",
       "    .dataframe tbody tr th:only-of-type {\n",
       "        vertical-align: middle;\n",
       "    }\n",
       "\n",
       "    .dataframe tbody tr th {\n",
       "        vertical-align: top;\n",
       "    }\n",
       "\n",
       "    .dataframe thead th {\n",
       "        text-align: right;\n",
       "    }\n",
       "</style>\n",
       "<table border=\"1\" class=\"dataframe\">\n",
       "  <thead>\n",
       "    <tr style=\"text-align: right;\">\n",
       "      <th></th>\n",
       "      <th>Estimator</th>\n",
       "      <th>Std. Error</th>\n",
       "      <th>lower bound CI</th>\n",
       "      <th>upper bound CI</th>\n",
       "    </tr>\n",
       "  </thead>\n",
       "  <tbody>\n",
       "    <tr>\n",
       "      <th>LASSO</th>\n",
       "      <td>-0.047747</td>\n",
       "      <td>0.017705</td>\n",
       "      <td>-0.082926</td>\n",
       "      <td>-0.012567</td>\n",
       "    </tr>\n",
       "  </tbody>\n",
       "</table>\n",
       "</div>"
      ],
      "text/plain": [
       "       Estimator  Std. Error  lower bound CI  upper bound CI\n",
       "LASSO  -0.047747    0.017705       -0.082926       -0.012567"
      ]
     },
     "execution_count": 40,
     "metadata": {},
     "output_type": "execute_result"
    }
   ],
   "source": [
    "table_2 = np.zeros( (1, 4) )\n",
    "\n",
    "table_2[0,0] = est_lasso  \n",
    "table_2[0,1] = std_lasso   \n",
    "table_2[0,2] = lower_ci_lasso\n",
    "table_2[0,3] = upper_ci_lasso    \n",
    "\n",
    "\n",
    "table_2 = pd.DataFrame( table_2, columns = [ \"Estimator\",\"Std. Error\", \"lower bound CI\", \"upper bound CI\"  ])\n",
    "table_2.index = [ \"LASSO\" ]\n",
    "table_2"
   ]
  },
  {
   "cell_type": "markdown",
   "id": "ae2563bb",
   "metadata": {},
   "source": [
    "#### Double Lasso using theoretical Lambda HDMPY"
   ]
  },
  {
   "cell_type": "code",
   "execution_count": 45,
   "id": "9f6a734c",
   "metadata": {},
   "outputs": [],
   "source": [
    "res_Y = hdmpy.rlasso( W, Y).est['residuals']   # By default Post lasso \n",
    "res_D = hdmpy.rlasso( W, D ).est['residuals'] # By default Post lasso \n",
    "\n",
    "r_Y = pd.DataFrame(res_Y, columns=['r_Y'])\n",
    "r_D = pd.DataFrame(res_D, columns=['r_D'])"
   ]
  },
  {
   "cell_type": "code",
   "execution_count": 46,
   "id": "d24ea39d",
   "metadata": {},
   "outputs": [
    {
     "name": "stdout",
     "output_type": "stream",
     "text": [
      "                                 OLS Regression Results                                \n",
      "=======================================================================================\n",
      "Dep. Variable:                    r_Y   R-squared (uncentered):                   0.127\n",
      "Model:                            OLS   Adj. R-squared (uncentered):              0.117\n",
      "Method:                 Least Squares   F-statistic:                              12.92\n",
      "Date:                Wed, 04 May 2022   Prob (F-statistic):                    0.000533\n",
      "Time:                        23:40:44   Log-Likelihood:                          152.68\n",
      "No. Observations:                  90   AIC:                                     -303.4\n",
      "Df Residuals:                      89   BIC:                                     -300.9\n",
      "Df Model:                           1                                                  \n",
      "Covariance Type:            nonrobust                                                  \n",
      "==============================================================================\n",
      "                 coef    std err          t      P>|t|      [0.025      0.975]\n",
      "------------------------------------------------------------------------------\n",
      "r_D           -0.0498      0.014     -3.594      0.001      -0.077      -0.022\n",
      "==============================================================================\n",
      "Omnibus:                        4.622   Durbin-Watson:                   1.510\n",
      "Prob(Omnibus):                  0.099   Jarque-Bera (JB):                5.807\n",
      "Skew:                           0.120   Prob(JB):                       0.0548\n",
      "Kurtosis:                       4.221   Cond. No.                         1.00\n",
      "==============================================================================\n",
      "\n",
      "Notes:\n",
      "[1] R² is computed without centering (uncentered) since the model does not contain a constant.\n",
      "[2] Standard Errors assume that the covariance matrix of the errors is correctly specified.\n"
     ]
    }
   ],
   "source": [
    "# OLS regression\n",
    "reg_ols  = sm.OLS(r_Y, r_D).fit()\n",
    "print(reg_ols.summary())\n",
    "\n",
    "#.get_robustcov_results(cov_type = \"HC1\")"
   ]
  },
  {
   "cell_type": "code",
   "execution_count": 47,
   "id": "03fe296a",
   "metadata": {},
   "outputs": [],
   "source": [
    "# output: estimated regression coefficient corresponding to the target regressor\n",
    "est_lasso = reg_ols.summary2().tables[1]['Coef.']['r_D']\n",
    "\n",
    "# output: std. error\n",
    "std_lasso = reg_ols.summary2().tables[1]['Std.Err.']['r_D']\n",
    "\n",
    "# output: 95% confidence interval\n",
    "lower_ci_lasso = reg_ols.summary2().tables[1]['[0.025']['r_D']\n",
    "upper_ci_lasso = reg_ols.summary2().tables[1]['0.975]']['r_D']"
   ]
  },
  {
   "cell_type": "code",
   "execution_count": 58,
   "id": "f574998d",
   "metadata": {},
   "outputs": [
    {
     "data": {
      "text/html": [
       "<div>\n",
       "<style scoped>\n",
       "    .dataframe tbody tr th:only-of-type {\n",
       "        vertical-align: middle;\n",
       "    }\n",
       "\n",
       "    .dataframe tbody tr th {\n",
       "        vertical-align: top;\n",
       "    }\n",
       "\n",
       "    .dataframe thead th {\n",
       "        text-align: right;\n",
       "    }\n",
       "</style>\n",
       "<table border=\"1\" class=\"dataframe\">\n",
       "  <thead>\n",
       "    <tr style=\"text-align: right;\">\n",
       "      <th></th>\n",
       "      <th>Estimator</th>\n",
       "      <th>Std. Error</th>\n",
       "      <th>lower bound CI</th>\n",
       "      <th>upper bound CI</th>\n",
       "    </tr>\n",
       "  </thead>\n",
       "  <tbody>\n",
       "    <tr>\n",
       "      <th>LASSO HDM</th>\n",
       "      <td>-0.049811</td>\n",
       "      <td>0.013858</td>\n",
       "      <td>-0.077347</td>\n",
       "      <td>-0.022276</td>\n",
       "    </tr>\n",
       "  </tbody>\n",
       "</table>\n",
       "</div>"
      ],
      "text/plain": [
       "           Estimator  Std. Error  lower bound CI  upper bound CI\n",
       "LASSO HDM  -0.049811    0.013858       -0.077347       -0.022276"
      ]
     },
     "execution_count": 58,
     "metadata": {},
     "output_type": "execute_result"
    }
   ],
   "source": [
    "table_3 = np.zeros( (1, 4) )\n",
    "\n",
    "table_3[0,0] = est_lasso   \n",
    "table_3[0,1] = std_lasso    \n",
    "table_3[0,2] = lower_ci_lasso \n",
    "table_3[0,3] = upper_ci_lasso     \n",
    "\n",
    "\n",
    "table_3 = pd.DataFrame( table_4, columns = [ \"Estimator\",\"Std. Error\", \"lower bound CI\", \"upper bound CI\"  ]) \n",
    "table_3.index = [ \"LASSO HDM\" ]\n",
    "table_3"
   ]
  },
  {
   "cell_type": "markdown",
   "id": "1b9df590",
   "metadata": {},
   "source": [
    "#### Double Lasso using HDMPY DIRECT"
   ]
  },
  {
   "cell_type": "code",
   "execution_count": 50,
   "id": "0c71e645",
   "metadata": {},
   "outputs": [],
   "source": [
    "# Datadframe \n",
    "\n",
    "Y = growth[['Outcome']]\n",
    "D = growth[['gdpsh465']]"
   ]
  },
  {
   "cell_type": "code",
   "execution_count": 51,
   "id": "31bfea21",
   "metadata": {},
   "outputs": [
    {
     "data": {
      "text/plain": [
       "{'alpha': -0.049811444837338376,\n",
       " 'se': array([0.01539133]),\n",
       " 't': array([-3.23633167]),\n",
       " 'pval': array([0.00121077]),\n",
       " 'coefficients': -0.049811444837338376,\n",
       " 'coefficient': -0.049811444837338376,\n",
       " 'coefficients_reg':                     0\n",
       " (Intercept)  0.058101\n",
       " x0          -0.075565\n",
       " x1           0.000000\n",
       " x2           0.000000\n",
       " x3           0.000000\n",
       " ...               ...\n",
       " x55          0.000000\n",
       " x56          0.000000\n",
       " x57          0.000000\n",
       " x58          0.000000\n",
       " x59          0.000000\n",
       " \n",
       " [61 rows x 1 columns],\n",
       " 'selection_index': array([[ True],\n",
       "        [False],\n",
       "        [ True],\n",
       "        [False],\n",
       "        [ True],\n",
       "        [False],\n",
       "        [False],\n",
       "        [False],\n",
       "        [False],\n",
       "        [False],\n",
       "        [False],\n",
       "        [ True],\n",
       "        [False],\n",
       "        [False],\n",
       "        [ True],\n",
       "        [False],\n",
       "        [False],\n",
       "        [False],\n",
       "        [False],\n",
       "        [False],\n",
       "        [False],\n",
       "        [False],\n",
       "        [False],\n",
       "        [False],\n",
       "        [False],\n",
       "        [False],\n",
       "        [False],\n",
       "        [False],\n",
       "        [False],\n",
       "        [False],\n",
       "        [False],\n",
       "        [False],\n",
       "        [False],\n",
       "        [ True],\n",
       "        [False],\n",
       "        [False],\n",
       "        [False],\n",
       "        [False],\n",
       "        [False],\n",
       "        [False],\n",
       "        [False],\n",
       "        [False],\n",
       "        [False],\n",
       "        [False],\n",
       "        [ True],\n",
       "        [False],\n",
       "        [False],\n",
       "        [False],\n",
       "        [False],\n",
       "        [False],\n",
       "        [False],\n",
       "        [False],\n",
       "        [False],\n",
       "        [False],\n",
       "        [False],\n",
       "        [False],\n",
       "        [False],\n",
       "        [False],\n",
       "        [False],\n",
       "        [False]]),\n",
       " 'residuals': {'epsilon': array([[-3.49848290e-02],\n",
       "         [ 9.52657707e-02],\n",
       "         [ 1.25530270e-02],\n",
       "         [ 1.45051157e-02],\n",
       "         [-1.21212956e-02],\n",
       "         [ 6.10442897e-03],\n",
       "         [ 2.38808615e-02],\n",
       "         [ 2.35925129e-02],\n",
       "         [-2.51882039e-02],\n",
       "         [-3.28317379e-03],\n",
       "         [ 3.26116159e-02],\n",
       "         [ 7.84400354e-02],\n",
       "         [-2.39374185e-02],\n",
       "         [ 3.69879313e-02],\n",
       "         [ 6.49582648e-02],\n",
       "         [-1.98036065e-02],\n",
       "         [ 1.49731491e-02],\n",
       "         [-2.35299549e-02],\n",
       "         [-3.60085919e-02],\n",
       "         [ 3.51316929e-03],\n",
       "         [ 1.61620376e-02],\n",
       "         [ 6.07508356e-02],\n",
       "         [ 1.15639372e-01],\n",
       "         [ 4.34356056e-02],\n",
       "         [ 5.66148392e-03],\n",
       "         [ 2.69169427e-05],\n",
       "         [ 7.00477269e-02],\n",
       "         [ 1.76262552e-02],\n",
       "         [ 3.34778871e-02],\n",
       "         [ 2.07315008e-02],\n",
       "         [ 3.30063634e-02],\n",
       "         [ 8.17543261e-03],\n",
       "         [ 2.73186289e-02],\n",
       "         [-1.67216885e-02],\n",
       "         [ 1.06653033e-02],\n",
       "         [ 1.55816825e-02],\n",
       "         [ 1.59537137e-02],\n",
       "         [ 3.11297929e-02],\n",
       "         [ 2.30954424e-03],\n",
       "         [-8.12063106e-03],\n",
       "         [-8.71695816e-03],\n",
       "         [ 5.98383821e-04],\n",
       "         [-7.34579243e-03],\n",
       "         [ 1.82278148e-02],\n",
       "         [-1.16687675e-01],\n",
       "         [-6.37801362e-02],\n",
       "         [-1.12363965e-02],\n",
       "         [-3.06850578e-02],\n",
       "         [-6.03443804e-02],\n",
       "         [-3.47115122e-02],\n",
       "         [ 5.24599190e-02],\n",
       "         [-3.68484872e-02],\n",
       "         [ 1.13668751e-03],\n",
       "         [-4.48824215e-02],\n",
       "         [-6.64123390e-02],\n",
       "         [-6.81015576e-02],\n",
       "         [-7.44072496e-02],\n",
       "         [-2.98153308e-02],\n",
       "         [-8.19576069e-03],\n",
       "         [-3.66941527e-02],\n",
       "         [-6.98023480e-02],\n",
       "         [-5.31157210e-02],\n",
       "         [ 2.87182891e-02],\n",
       "         [-1.93314850e-02],\n",
       "         [ 5.00891034e-03],\n",
       "         [ 4.85815925e-03],\n",
       "         [-1.24003980e-02],\n",
       "         [-1.34087606e-01],\n",
       "         [ 4.70689433e-02],\n",
       "         [ 3.83224267e-02],\n",
       "         [ 6.37296176e-03],\n",
       "         [ 4.03832896e-03],\n",
       "         [-3.39895257e-02],\n",
       "         [ 7.51715850e-02],\n",
       "         [ 3.80763871e-02],\n",
       "         [ 3.14365455e-02],\n",
       "         [-6.36548178e-02],\n",
       "         [ 1.37748516e-01],\n",
       "         [ 6.28427939e-02],\n",
       "         [-3.41575056e-03],\n",
       "         [-3.78134362e-03],\n",
       "         [-1.48340027e-02],\n",
       "         [-2.14625294e-02],\n",
       "         [-3.48767519e-02],\n",
       "         [-3.17420299e-02],\n",
       "         [-2.11805603e-02],\n",
       "         [-2.79231134e-02],\n",
       "         [-1.18551528e-02],\n",
       "         [-1.40056746e-02],\n",
       "         [-1.31492060e-02]]),\n",
       "  'v': array([[ 0.52224775],\n",
       "         [ 0.13027854],\n",
       "         [ 0.07232197],\n",
       "         [-0.13196876],\n",
       "         [ 0.09840476],\n",
       "         [ 0.35730564],\n",
       "         [ 0.29409786],\n",
       "         [ 0.79778407],\n",
       "         [-0.01281871],\n",
       "         [ 0.08948357],\n",
       "         [ 0.24792072],\n",
       "         [-0.15386794],\n",
       "         [ 0.51916609],\n",
       "         [ 0.08095357],\n",
       "         [-0.07419893],\n",
       "         [-0.4272166 ],\n",
       "         [ 0.7020042 ],\n",
       "         [ 0.06546644],\n",
       "         [ 1.1780591 ],\n",
       "         [ 0.2131817 ],\n",
       "         [-0.42767423],\n",
       "         [-0.30375461],\n",
       "         [-0.70061133],\n",
       "         [-0.1908735 ],\n",
       "         [ 0.23665682],\n",
       "         [-0.52678542],\n",
       "         [ 0.21266098],\n",
       "         [-0.36917503],\n",
       "         [ 0.1646763 ],\n",
       "         [ 0.0521761 ],\n",
       "         [ 0.14220512],\n",
       "         [ 0.26772109],\n",
       "         [-0.64441088],\n",
       "         [-0.53145383],\n",
       "         [-0.10316275],\n",
       "         [-0.00779027],\n",
       "         [ 0.16496099],\n",
       "         [-0.11283308],\n",
       "         [ 0.15468537],\n",
       "         [ 0.05620812],\n",
       "         [ 0.20798022],\n",
       "         [ 0.20738542],\n",
       "         [-0.18652253],\n",
       "         [-0.73279207],\n",
       "         [-0.4562576 ],\n",
       "         [-0.5075765 ],\n",
       "         [-0.34768807],\n",
       "         [-0.43713094],\n",
       "         [ 0.11552148],\n",
       "         [-0.93281805],\n",
       "         [ 0.18193425],\n",
       "         [-0.02894488],\n",
       "         [ 0.170249  ],\n",
       "         [-0.18685441],\n",
       "         [-0.09797129],\n",
       "         [ 0.16775064],\n",
       "         [-0.15108181],\n",
       "         [ 0.28165299],\n",
       "         [ 0.49664435],\n",
       "         [-0.25627972],\n",
       "         [-0.03672719],\n",
       "         [ 0.30348206],\n",
       "         [ 0.1539853 ],\n",
       "         [-0.06556942],\n",
       "         [ 0.13924958],\n",
       "         [-0.20928515],\n",
       "         [ 0.40570607],\n",
       "         [ 0.50044004],\n",
       "         [-0.13422303],\n",
       "         [ 0.03624017],\n",
       "         [-0.16286397],\n",
       "         [-0.06729083],\n",
       "         [-0.02076426],\n",
       "         [-0.32382142],\n",
       "         [-0.02041192],\n",
       "         [ 0.04473323],\n",
       "         [-0.43936259],\n",
       "         [ 0.1996553 ],\n",
       "         [ 0.39777497],\n",
       "         [-0.21166601],\n",
       "         [ 0.32571938],\n",
       "         [ 0.18176374],\n",
       "         [-0.37870359],\n",
       "         [-0.30497948],\n",
       "         [-0.11113707],\n",
       "         [ 0.11492087],\n",
       "         [-0.08623875],\n",
       "         [-0.01314347],\n",
       "         [ 0.08676469],\n",
       "         [ 0.08652982]])},\n",
       " 'samplesize': 90}"
      ]
     },
     "execution_count": 51,
     "metadata": {},
     "output_type": "execute_result"
    }
   ],
   "source": [
    "lasso_direct = hdmpy.rlassoEffect(x=W, y=Y, d=D, method=\"partialling out\")  # put as argument method=\"partialling out\"\n",
    "lasso_direct"
   ]
  },
  {
   "cell_type": "code",
   "execution_count": 54,
   "id": "464da6ed",
   "metadata": {},
   "outputs": [
    {
     "data": {
      "text/plain": [
       "-0.049811444837338376"
      ]
     },
     "execution_count": 54,
     "metadata": {},
     "output_type": "execute_result"
    }
   ],
   "source": [
    "lasso_direct['coefficients']"
   ]
  },
  {
   "cell_type": "code",
   "execution_count": 55,
   "id": "1049c7af",
   "metadata": {},
   "outputs": [],
   "source": [
    "est_lasso_hdm = lasso_direct['alpha']\n",
    "std_lasso_hdm = lasso_direct[\"se\"]\n",
    "lower_ci_lasso_hdm = est_lasso - 1.96*std_lasso\n",
    "upper_ci_lasso_hdm = est_lasso + 1.96*std_lasso"
   ]
  },
  {
   "cell_type": "code",
   "execution_count": 59,
   "id": "72e70413",
   "metadata": {},
   "outputs": [
    {
     "data": {
      "text/html": [
       "<div>\n",
       "<style scoped>\n",
       "    .dataframe tbody tr th:only-of-type {\n",
       "        vertical-align: middle;\n",
       "    }\n",
       "\n",
       "    .dataframe tbody tr th {\n",
       "        vertical-align: top;\n",
       "    }\n",
       "\n",
       "    .dataframe thead th {\n",
       "        text-align: right;\n",
       "    }\n",
       "</style>\n",
       "<table border=\"1\" class=\"dataframe\">\n",
       "  <thead>\n",
       "    <tr style=\"text-align: right;\">\n",
       "      <th></th>\n",
       "      <th>Estimator</th>\n",
       "      <th>Std. Error</th>\n",
       "      <th>lower bound CI</th>\n",
       "      <th>upper bound CI</th>\n",
       "    </tr>\n",
       "  </thead>\n",
       "  <tbody>\n",
       "    <tr>\n",
       "      <th>LASSO_direct</th>\n",
       "      <td>-0.049811</td>\n",
       "      <td>0.015391</td>\n",
       "      <td>-0.076973</td>\n",
       "      <td>-0.02265</td>\n",
       "    </tr>\n",
       "  </tbody>\n",
       "</table>\n",
       "</div>"
      ],
      "text/plain": [
       "              Estimator  Std. Error  lower bound CI  upper bound CI\n",
       "LASSO_direct  -0.049811    0.015391       -0.076973        -0.02265"
      ]
     },
     "execution_count": 59,
     "metadata": {},
     "output_type": "execute_result"
    }
   ],
   "source": [
    "table_4 = np.zeros( (1, 4) )\n",
    "\n",
    "table_4[0,0] = est_lasso_hdm   \n",
    "table_4[0,1] = std_lasso_hdm    \n",
    "table_4[0,2] = lower_ci_lasso_hdm \n",
    "table_4[0,3] = upper_ci_lasso_hdm     \n",
    "\n",
    "\n",
    "table_4 = pd.DataFrame( table_4, columns = [ \"Estimator\",\"Std. Error\", \"lower bound CI\", \"upper bound CI\"  ]) \n",
    "table_4.index = [ \"LASSO_direct\" ]\n",
    "table_4"
   ]
  },
  {
   "cell_type": "code",
   "execution_count": 87,
   "id": "9834ccee",
   "metadata": {},
   "outputs": [
    {
     "name": "stderr",
     "output_type": "stream",
     "text": [
      "C:\\Users\\Andrea\\AppData\\Local\\Temp\\ipykernel_24524\\1567066412.py:1: FutureWarning: The frame.append method is deprecated and will be removed from pandas in a future version. Use pandas.concat instead.\n",
      "  sumary_table = table_1.append(table_2)\n",
      "C:\\Users\\Andrea\\AppData\\Local\\Temp\\ipykernel_24524\\1567066412.py:2: FutureWarning: The frame.append method is deprecated and will be removed from pandas in a future version. Use pandas.concat instead.\n",
      "  sumary_table = sumary_table.append(table_3)\n",
      "C:\\Users\\Andrea\\AppData\\Local\\Temp\\ipykernel_24524\\1567066412.py:3: FutureWarning: The frame.append method is deprecated and will be removed from pandas in a future version. Use pandas.concat instead.\n",
      "  sumary_table = sumary_table.append(table_4)\n"
     ]
    },
    {
     "data": {
      "text/html": [
       "<div>\n",
       "<style scoped>\n",
       "    .dataframe tbody tr th:only-of-type {\n",
       "        vertical-align: middle;\n",
       "    }\n",
       "\n",
       "    .dataframe tbody tr th {\n",
       "        vertical-align: top;\n",
       "    }\n",
       "\n",
       "    .dataframe thead th {\n",
       "        text-align: right;\n",
       "    }\n",
       "</style>\n",
       "<table border=\"1\" class=\"dataframe\">\n",
       "  <thead>\n",
       "    <tr style=\"text-align: right;\">\n",
       "      <th></th>\n",
       "      <th>Estimator</th>\n",
       "      <th>Std. Error</th>\n",
       "      <th>lower bound CI</th>\n",
       "      <th>upper bound CI</th>\n",
       "    </tr>\n",
       "  </thead>\n",
       "  <tbody>\n",
       "    <tr>\n",
       "      <th>OLS</th>\n",
       "      <td>-0.009378</td>\n",
       "      <td>0.029888</td>\n",
       "      <td>-0.070600</td>\n",
       "      <td>0.051844</td>\n",
       "    </tr>\n",
       "    <tr>\n",
       "      <th>LASSO</th>\n",
       "      <td>-0.047747</td>\n",
       "      <td>0.017705</td>\n",
       "      <td>-0.082926</td>\n",
       "      <td>-0.012567</td>\n",
       "    </tr>\n",
       "    <tr>\n",
       "      <th>LASSO HDM</th>\n",
       "      <td>-0.049811</td>\n",
       "      <td>0.013858</td>\n",
       "      <td>-0.077347</td>\n",
       "      <td>-0.022276</td>\n",
       "    </tr>\n",
       "    <tr>\n",
       "      <th>LASSO_direct</th>\n",
       "      <td>-0.049811</td>\n",
       "      <td>0.015391</td>\n",
       "      <td>-0.076973</td>\n",
       "      <td>-0.022650</td>\n",
       "    </tr>\n",
       "  </tbody>\n",
       "</table>\n",
       "</div>"
      ],
      "text/plain": [
       "              Estimator  Std. Error  lower bound CI  upper bound CI\n",
       "OLS           -0.009378    0.029888       -0.070600        0.051844\n",
       "LASSO         -0.047747    0.017705       -0.082926       -0.012567\n",
       "LASSO HDM     -0.049811    0.013858       -0.077347       -0.022276\n",
       "LASSO_direct  -0.049811    0.015391       -0.076973       -0.022650"
      ]
     },
     "execution_count": 87,
     "metadata": {},
     "output_type": "execute_result"
    }
   ],
   "source": [
    "sumary_table = table_1.append(table_2)\n",
    "sumary_table = sumary_table.append(table_3)\n",
    "sumary_table = sumary_table.append(table_4)\n",
    "sumary_table"
   ]
  },
  {
   "cell_type": "markdown",
   "id": "9cdf4cb3",
   "metadata": {},
   "source": [
    "#### Coefplot"
   ]
  },
  {
   "cell_type": "code",
   "execution_count": 102,
   "id": "33e28151",
   "metadata": {},
   "outputs": [
    {
     "data": {
      "text/html": [
       "<div>\n",
       "<style scoped>\n",
       "    .dataframe tbody tr th:only-of-type {\n",
       "        vertical-align: middle;\n",
       "    }\n",
       "\n",
       "    .dataframe tbody tr th {\n",
       "        vertical-align: top;\n",
       "    }\n",
       "\n",
       "    .dataframe thead th {\n",
       "        text-align: right;\n",
       "    }\n",
       "</style>\n",
       "<table border=\"1\" class=\"dataframe\">\n",
       "  <thead>\n",
       "    <tr style=\"text-align: right;\">\n",
       "      <th></th>\n",
       "      <th>Estimator</th>\n",
       "      <th>Std. Error</th>\n",
       "      <th>lower bound CI</th>\n",
       "      <th>upper bound CI</th>\n",
       "      <th>err_series</th>\n",
       "    </tr>\n",
       "  </thead>\n",
       "  <tbody>\n",
       "    <tr>\n",
       "      <th>OLS</th>\n",
       "      <td>-0.009378</td>\n",
       "      <td>0.029888</td>\n",
       "      <td>-0.070600</td>\n",
       "      <td>0.051844</td>\n",
       "      <td>0.061222</td>\n",
       "    </tr>\n",
       "    <tr>\n",
       "      <th>LASSO</th>\n",
       "      <td>-0.047747</td>\n",
       "      <td>0.017705</td>\n",
       "      <td>-0.082926</td>\n",
       "      <td>-0.012567</td>\n",
       "      <td>0.035180</td>\n",
       "    </tr>\n",
       "    <tr>\n",
       "      <th>LASSO HDM</th>\n",
       "      <td>-0.049811</td>\n",
       "      <td>0.013858</td>\n",
       "      <td>-0.077347</td>\n",
       "      <td>-0.022276</td>\n",
       "      <td>0.027535</td>\n",
       "    </tr>\n",
       "    <tr>\n",
       "      <th>LASSO_direct</th>\n",
       "      <td>-0.049811</td>\n",
       "      <td>0.015391</td>\n",
       "      <td>-0.076973</td>\n",
       "      <td>-0.022650</td>\n",
       "      <td>0.027161</td>\n",
       "    </tr>\n",
       "  </tbody>\n",
       "</table>\n",
       "</div>"
      ],
      "text/plain": [
       "              Estimator  Std. Error  lower bound CI  upper bound CI  \\\n",
       "OLS           -0.009378    0.029888       -0.070600        0.051844   \n",
       "LASSO         -0.047747    0.017705       -0.082926       -0.012567   \n",
       "LASSO HDM     -0.049811    0.013858       -0.077347       -0.022276   \n",
       "LASSO_direct  -0.049811    0.015391       -0.076973       -0.022650   \n",
       "\n",
       "              err_series  \n",
       "OLS             0.061222  \n",
       "LASSO           0.035180  \n",
       "LASSO HDM       0.027535  \n",
       "LASSO_direct    0.027161  "
      ]
     },
     "execution_count": 102,
     "metadata": {},
     "output_type": "execute_result"
    }
   ],
   "source": [
    "sumary_table['err_series']=sumary_table['Estimator']-sumary_table['lower bound CI']\n",
    "sumary_table['varname']=sumary_table.index\n",
    "sumary_table"
   ]
  },
  {
   "cell_type": "code",
   "execution_count": 109,
   "id": "fe1a3147",
   "metadata": {},
   "outputs": [
    {
     "name": "stderr",
     "output_type": "stream",
     "text": [
      "C:\\Users\\Andrea\\AppData\\Local\\Temp\\ipykernel_24524\\3535168775.py:7: FutureWarning: The pandas.np module is deprecated and will be removed from pandas in a future version. Import numpy directly instead.\n",
      "  ax.scatter(x=pd.np.arange(sumary_table.shape[0]),\n"
     ]
    },
    {
     "data": {
      "image/png": "[encoded data removed]",
      "text/plain": [
       "<Figure size 576x360 with 1 Axes>"
      ]
     },
     "metadata": {
      "needs_background": "light"
     },
     "output_type": "display_data"
    }
   ],
   "source": [
    "fig, ax = plt.subplots(figsize=(8, 5))\n",
    "sumary_table.plot(x='varname', y='Estimator', kind='bar', \n",
    "             ax=ax, color='none', \n",
    "             yerr='err_series', legend=False)\n",
    "ax.set_ylabel('')\n",
    "ax.set_xlabel('')\n",
    "ax.scatter(x=pd.np.arange(sumary_table.shape[0]), \n",
    "           marker='s', s=120, \n",
    "           y=sumary_table['Estimator'], color='black')\n",
    "ax.axhline(y=0, linestyle='--', color='black', linewidth=4)\n",
    "ax.xaxis.set_ticks_position('none')\n",
    "_ = ax.set_xticklabels(['OLS','LASSO', 'LASSO HDM','LASSO_direct'], \n",
    "                       rotation=0, fontsize=16)\n"
   ]
  },
  {
   "cell_type": "markdown",
   "id": "874ee89f",
   "metadata": {},
   "source": [
    "## Neyman Orthogonality Proof"
   ]
  },
  {
   "cell_type": "code",
   "execution_count": null,
   "id": "68d58a6e",
   "metadata": {},
   "outputs": [],
   "source": []
  },
  {
   "cell_type": "code",
   "execution_count": null,
   "id": "e66003a0",
   "metadata": {},
   "outputs": [],
   "source": []
  }
 ],
 "metadata": {
  "kernelspec": {
   "display_name": "Python 3 (ipykernel)",
   "language": "python",
   "name": "python3"
  },
  "language_info": {
   "codemirror_mode": {
    "name": "ipython",
    "version": 3
   },
   "file_extension": ".py",
   "mimetype": "text/x-python",
   "name": "python",
   "nbconvert_exporter": "python",
   "pygments_lexer": "ipython3",
   "version": "3.9.12"
  }
 },
 "nbformat": 4,
 "nbformat_minor": 5
}
