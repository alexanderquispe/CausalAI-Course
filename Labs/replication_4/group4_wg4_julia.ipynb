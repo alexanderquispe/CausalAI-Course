{
 "cells": [
  {
   "cell_type": "markdown",
   "id": "6a2477ef",
   "metadata": {},
   "source": [
    "## WORK GROUP 4\n",
    "### Integrants: \n",
    "* Luciana Álvarez\n",
    "* Rick Chuquilin\n",
    "* Kenia Moscoso "
   ]
  },
  {
   "cell_type": "code",
   "execution_count": 30,
   "id": "b6936a78",
   "metadata": {},
   "outputs": [],
   "source": [
    "using Random\n",
    "using DataFrames\n",
    "using Lasso\n",
    "using GLM, StatsModels\n",
    "\n"
   ]
  },
  {
   "cell_type": "code",
   "execution_count": 31,
   "id": "2d1a35b7",
   "metadata": {},
   "outputs": [],
   "source": [
    "using Distributed"
   ]
  },
  {
   "cell_type": "markdown",
   "id": "e2447e37",
   "metadata": {},
   "source": [
    "## ORTOGONAL LEARNING"
   ]
  },
  {
   "cell_type": "code",
   "execution_count": 34,
   "id": "5e6f35ba",
   "metadata": {},
   "outputs": [],
   "source": [
    "include(\"../Julia_Notebooks/hdmjl/hdmjl.jl\")"
   ]
  },
  {
   "cell_type": "code",
   "execution_count": 36,
   "id": "4eaba118",
   "metadata": {},
   "outputs": [
    {
     "data": {
      "text/plain": [
       "100×1 Matrix{Float64}:\n",
       " 1.0\n",
       " 0.25\n",
       " 0.1111111111111111\n",
       " 0.0625\n",
       " 0.04\n",
       " 0.027777777777777776\n",
       " 0.02040816326530612\n",
       " 0.015625\n",
       " 0.012345679012345678\n",
       " 0.01\n",
       " 0.008264462809917356\n",
       " 0.006944444444444444\n",
       " 0.005917159763313609\n",
       " ⋮\n",
       " 0.00012624668602449185\n",
       " 0.0001234567901234568\n",
       " 0.00012075836251660427\n",
       " 0.00011814744801512288\n",
       " 0.00011562030292519366\n",
       " 0.00011317338162064282\n",
       " 0.00011080332409972299\n",
       " 0.00010850694444444444\n",
       " 0.00010628122010840685\n",
       " 0.00010412328196584757\n",
       " 0.00010203040506070809\n",
       " 0.0001"
      ]
     },
     "execution_count": 36,
     "metadata": {},
     "output_type": "execute_result"
    }
   ],
   "source": [
    "n = 100\n",
    "p = 100\n",
    "beta =  reshape(( 1 ./ (1:p).^ 2 ),100,1)\n",
    "gamma = reshape(( 1 ./ (1:p).^ 2 ),100,1)"
   ]
  },
  {
   "cell_type": "code",
   "execution_count": 37,
   "id": "54595f96",
   "metadata": {},
   "outputs": [
    {
     "data": {
      "text/plain": [
       "100×1 Matrix{Float64}:\n",
       " -3.7418448467687044\n",
       "  0.4333461938271065\n",
       "  1.1813183801232725\n",
       " -0.09755733454065257\n",
       "  3.254607260277253\n",
       " -0.810631917090707\n",
       "  0.7238564836126573\n",
       "  0.1150559343324733\n",
       " -1.0989773006909476\n",
       " -1.1696693713824662\n",
       " -4.042854841191649\n",
       " -3.4821992896426788\n",
       " -0.8035759588175229\n",
       "  ⋮\n",
       "  0.6934902651509713\n",
       "  0.8705044640126745\n",
       " -0.0851264782966662\n",
       " -2.5567674358842427\n",
       "  0.6035640110734501\n",
       "  2.5064319148919285\n",
       "  1.1489816398147283\n",
       "  3.011317950241337\n",
       " -0.1802556226381935\n",
       "  0.035802980187761735\n",
       "  0.8419857606360746\n",
       "  1.3174412320380962"
      ]
     },
     "execution_count": 37,
     "metadata": {},
     "output_type": "execute_result"
    }
   ],
   "source": [
    "\n",
    "sd = 1\n",
    "X = randn(( n, p ))\n",
    "\n",
    "D = ( X * gamma ) + reshape(randn(n),n, 1)/4 \n",
    "\n",
    "# DGP \n",
    "Y = D + ( X * beta ) + reshape(randn( n ), n, 1 )\n"
   ]
  },
  {
   "cell_type": "code",
   "execution_count": 44,
   "id": "6d23fc74",
   "metadata": {
    "scrolled": false
   },
   "outputs": [
    {
     "data": {
      "text/html": [
       "<table class=\"data-frame\"><thead><tr><th></th><th>D</th></tr><tr><th></th><th>Float64</th></tr></thead><tbody><p>100 rows × 1 columns</p><tr><th>1</th><td>-2.41633</td></tr><tr><th>2</th><td>0.148689</td></tr><tr><th>3</th><td>0.942787</td></tr><tr><th>4</th><td>-0.313429</td></tr><tr><th>5</th><td>1.70705</td></tr><tr><th>6</th><td>-0.254298</td></tr><tr><th>7</th><td>0.577787</td></tr><tr><th>8</th><td>0.996948</td></tr><tr><th>9</th><td>-0.530846</td></tr><tr><th>10</th><td>-1.03893</td></tr><tr><th>11</th><td>-1.1533</td></tr><tr><th>12</th><td>-0.965561</td></tr><tr><th>13</th><td>-0.320469</td></tr><tr><th>14</th><td>0.29672</td></tr><tr><th>15</th><td>-0.430535</td></tr><tr><th>16</th><td>-0.0113684</td></tr><tr><th>17</th><td>-1.30847</td></tr><tr><th>18</th><td>1.15444</td></tr><tr><th>19</th><td>-0.758143</td></tr><tr><th>20</th><td>0.804035</td></tr><tr><th>21</th><td>1.61021</td></tr><tr><th>22</th><td>0.275983</td></tr><tr><th>23</th><td>1.04521</td></tr><tr><th>24</th><td>-0.291438</td></tr><tr><th>25</th><td>0.662744</td></tr><tr><th>26</th><td>-1.10781</td></tr><tr><th>27</th><td>0.374905</td></tr><tr><th>28</th><td>0.873723</td></tr><tr><th>29</th><td>1.48931</td></tr><tr><th>30</th><td>-0.501456</td></tr><tr><th>&vellip;</th><td>&vellip;</td></tr></tbody></table>"
      ],
      "text/latex": [
       "\\begin{tabular}{r|c}\n",
       "\t& D\\\\\n",
       "\t\\hline\n",
       "\t& Float64\\\\\n",
       "\t\\hline\n",
       "\t1 & -2.41633 \\\\\n",
       "\t2 & 0.148689 \\\\\n",
       "\t3 & 0.942787 \\\\\n",
       "\t4 & -0.313429 \\\\\n",
       "\t5 & 1.70705 \\\\\n",
       "\t6 & -0.254298 \\\\\n",
       "\t7 & 0.577787 \\\\\n",
       "\t8 & 0.996948 \\\\\n",
       "\t9 & -0.530846 \\\\\n",
       "\t10 & -1.03893 \\\\\n",
       "\t11 & -1.1533 \\\\\n",
       "\t12 & -0.965561 \\\\\n",
       "\t13 & -0.320469 \\\\\n",
       "\t14 & 0.29672 \\\\\n",
       "\t15 & -0.430535 \\\\\n",
       "\t16 & -0.0113684 \\\\\n",
       "\t17 & -1.30847 \\\\\n",
       "\t18 & 1.15444 \\\\\n",
       "\t19 & -0.758143 \\\\\n",
       "\t20 & 0.804035 \\\\\n",
       "\t21 & 1.61021 \\\\\n",
       "\t22 & 0.275983 \\\\\n",
       "\t23 & 1.04521 \\\\\n",
       "\t24 & -0.291438 \\\\\n",
       "\t25 & 0.662744 \\\\\n",
       "\t26 & -1.10781 \\\\\n",
       "\t27 & 0.374905 \\\\\n",
       "\t28 & 0.873723 \\\\\n",
       "\t29 & 1.48931 \\\\\n",
       "\t30 & -0.501456 \\\\\n",
       "\t$\\dots$ & $\\dots$ \\\\\n",
       "\\end{tabular}\n"
      ],
      "text/plain": [
       "100×1 DataFrame\n",
       "│ Row │ D          │\n",
       "│     │ \u001b[90mFloat64\u001b[39m    │\n",
       "├─────┼────────────┤\n",
       "│ 1   │ -2.41633   │\n",
       "│ 2   │ 0.148689   │\n",
       "│ 3   │ 0.942787   │\n",
       "│ 4   │ -0.313429  │\n",
       "│ 5   │ 1.70705    │\n",
       "│ 6   │ -0.254298  │\n",
       "│ 7   │ 0.577787   │\n",
       "│ 8   │ 0.996948   │\n",
       "│ 9   │ -0.530846  │\n",
       "│ 10  │ -1.03893   │\n",
       "⋮\n",
       "│ 90  │ -0.604571  │\n",
       "│ 91  │ -0.296181  │\n",
       "│ 92  │ -0.827571  │\n",
       "│ 93  │ 0.872847   │\n",
       "│ 94  │ 1.23192    │\n",
       "│ 95  │ 0.00322322 │\n",
       "│ 96  │ 1.63231    │\n",
       "│ 97  │ -0.56704   │\n",
       "│ 98  │ -0.716253  │\n",
       "│ 99  │ 0.341123   │\n",
       "│ 100 │ 0.664517   │"
      ]
     },
     "execution_count": 44,
     "metadata": {},
     "output_type": "execute_result"
    }
   ],
   "source": [
    "D = DataFrame(D)\n",
    "rename!(D, :x1 => :D)"
   ]
  },
  {
   "cell_type": "code",
   "execution_count": 43,
   "id": "06db0b57",
   "metadata": {},
   "outputs": [
    {
     "data": {
      "text/html": [
       "<table class=\"data-frame\"><thead><tr><th></th><th>Y</th></tr><tr><th></th><th>Float64</th></tr></thead><tbody><p>100 rows × 1 columns</p><tr><th>1</th><td>-3.74184</td></tr><tr><th>2</th><td>0.433346</td></tr><tr><th>3</th><td>1.18132</td></tr><tr><th>4</th><td>-0.0975573</td></tr><tr><th>5</th><td>3.25461</td></tr><tr><th>6</th><td>-0.810632</td></tr><tr><th>7</th><td>0.723856</td></tr><tr><th>8</th><td>0.115056</td></tr><tr><th>9</th><td>-1.09898</td></tr><tr><th>10</th><td>-1.16967</td></tr><tr><th>11</th><td>-4.04285</td></tr><tr><th>12</th><td>-3.4822</td></tr><tr><th>13</th><td>-0.803576</td></tr><tr><th>14</th><td>0.447343</td></tr><tr><th>15</th><td>0.71182</td></tr><tr><th>16</th><td>-2.3613</td></tr><tr><th>17</th><td>-1.90739</td></tr><tr><th>18</th><td>2.32607</td></tr><tr><th>19</th><td>-2.03447</td></tr><tr><th>20</th><td>1.73345</td></tr><tr><th>21</th><td>3.4586</td></tr><tr><th>22</th><td>1.43738</td></tr><tr><th>23</th><td>2.86489</td></tr><tr><th>24</th><td>-1.2705</td></tr><tr><th>25</th><td>-0.383743</td></tr><tr><th>26</th><td>-1.71617</td></tr><tr><th>27</th><td>0.346037</td></tr><tr><th>28</th><td>2.81385</td></tr><tr><th>29</th><td>1.97963</td></tr><tr><th>30</th><td>-0.672519</td></tr><tr><th>&vellip;</th><td>&vellip;</td></tr></tbody></table>"
      ],
      "text/latex": [
       "\\begin{tabular}{r|c}\n",
       "\t& Y\\\\\n",
       "\t\\hline\n",
       "\t& Float64\\\\\n",
       "\t\\hline\n",
       "\t1 & -3.74184 \\\\\n",
       "\t2 & 0.433346 \\\\\n",
       "\t3 & 1.18132 \\\\\n",
       "\t4 & -0.0975573 \\\\\n",
       "\t5 & 3.25461 \\\\\n",
       "\t6 & -0.810632 \\\\\n",
       "\t7 & 0.723856 \\\\\n",
       "\t8 & 0.115056 \\\\\n",
       "\t9 & -1.09898 \\\\\n",
       "\t10 & -1.16967 \\\\\n",
       "\t11 & -4.04285 \\\\\n",
       "\t12 & -3.4822 \\\\\n",
       "\t13 & -0.803576 \\\\\n",
       "\t14 & 0.447343 \\\\\n",
       "\t15 & 0.71182 \\\\\n",
       "\t16 & -2.3613 \\\\\n",
       "\t17 & -1.90739 \\\\\n",
       "\t18 & 2.32607 \\\\\n",
       "\t19 & -2.03447 \\\\\n",
       "\t20 & 1.73345 \\\\\n",
       "\t21 & 3.4586 \\\\\n",
       "\t22 & 1.43738 \\\\\n",
       "\t23 & 2.86489 \\\\\n",
       "\t24 & -1.2705 \\\\\n",
       "\t25 & -0.383743 \\\\\n",
       "\t26 & -1.71617 \\\\\n",
       "\t27 & 0.346037 \\\\\n",
       "\t28 & 2.81385 \\\\\n",
       "\t29 & 1.97963 \\\\\n",
       "\t30 & -0.672519 \\\\\n",
       "\t$\\dots$ & $\\dots$ \\\\\n",
       "\\end{tabular}\n"
      ],
      "text/plain": [
       "100×1 DataFrame\n",
       "│ Row │ Y          │\n",
       "│     │ \u001b[90mFloat64\u001b[39m    │\n",
       "├─────┼────────────┤\n",
       "│ 1   │ -3.74184   │\n",
       "│ 2   │ 0.433346   │\n",
       "│ 3   │ 1.18132    │\n",
       "│ 4   │ -0.0975573 │\n",
       "│ 5   │ 3.25461    │\n",
       "│ 6   │ -0.810632  │\n",
       "│ 7   │ 0.723856   │\n",
       "│ 8   │ 0.115056   │\n",
       "│ 9   │ -1.09898   │\n",
       "│ 10  │ -1.16967   │\n",
       "⋮\n",
       "│ 90  │ 0.870504   │\n",
       "│ 91  │ -0.0851265 │\n",
       "│ 92  │ -2.55677   │\n",
       "│ 93  │ 0.603564   │\n",
       "│ 94  │ 2.50643    │\n",
       "│ 95  │ 1.14898    │\n",
       "│ 96  │ 3.01132    │\n",
       "│ 97  │ -0.180256  │\n",
       "│ 98  │ 0.035803   │\n",
       "│ 99  │ 0.841986   │\n",
       "│ 100 │ 1.31744    │"
      ]
     },
     "execution_count": 43,
     "metadata": {},
     "output_type": "execute_result"
    }
   ],
   "source": [
    "X = DataFrame(X)\n",
    "Y =  DataFrame(Y)\n",
    "rename!(Y, :x1 => :Y)"
   ]
  },
  {
   "cell_type": "code",
   "execution_count": 40,
   "id": "a124f5a1",
   "metadata": {},
   "outputs": [
    {
     "data": {
      "text/html": [
       "<table class=\"data-frame\"><thead><tr><th></th><th>x1</th><th>x2</th><th>x3</th><th>x4</th><th>x5</th><th>x6</th><th>x7</th></tr><tr><th></th><th>Float64</th><th>Float64</th><th>Float64</th><th>Float64</th><th>Float64</th><th>Float64</th><th>Float64</th></tr></thead><tbody><p>100 rows × 100 columns (omitted printing of 93 columns)</p><tr><th>1</th><td>-1.51294</td><td>-1.32214</td><td>-1.31663</td><td>-1.80027</td><td>0.420349</td><td>-2.38617</td><td>-0.398834</td></tr><tr><th>2</th><td>0.436383</td><td>0.139765</td><td>0.247474</td><td>-0.568613</td><td>-1.25167</td><td>-1.77427</td><td>0.386621</td></tr><tr><th>3</th><td>0.203385</td><td>1.01122</td><td>0.793857</td><td>1.65262</td><td>0.304276</td><td>-1.1413</td><td>-0.00220144</td></tr><tr><th>4</th><td>-0.101117</td><td>0.889577</td><td>-0.52685</td><td>-0.320042</td><td>-1.16566</td><td>0.887185</td><td>0.697827</td></tr><tr><th>5</th><td>0.996763</td><td>0.29763</td><td>0.036947</td><td>-0.308642</td><td>-1.08028</td><td>0.611137</td><td>1.35707</td></tr><tr><th>6</th><td>-0.327777</td><td>-0.194303</td><td>1.40227</td><td>2.09619</td><td>0.0538941</td><td>-1.03558</td><td>1.5353</td></tr><tr><th>7</th><td>0.334907</td><td>0.647801</td><td>1.32159</td><td>0.7535</td><td>-0.483006</td><td>0.834628</td><td>-0.277918</td></tr><tr><th>8</th><td>1.26445</td><td>0.027627</td><td>-0.329335</td><td>-0.781433</td><td>-0.325373</td><td>-1.0701</td><td>-0.48213</td></tr><tr><th>9</th><td>-0.443556</td><td>-0.925337</td><td>1.17952</td><td>0.748262</td><td>-1.49774</td><td>0.108961</td><td>-0.509088</td></tr><tr><th>10</th><td>-1.11719</td><td>1.3677</td><td>0.657554</td><td>-0.936493</td><td>-0.397079</td><td>0.177934</td><td>-0.568185</td></tr><tr><th>11</th><td>-0.302733</td><td>-1.14984</td><td>-2.5901</td><td>-0.840178</td><td>0.0436838</td><td>-0.777453</td><td>-1.55692</td></tr><tr><th>12</th><td>-1.21124</td><td>1.34825</td><td>-0.340506</td><td>-0.0467021</td><td>1.09236</td><td>1.3121</td><td>1.19767</td></tr><tr><th>13</th><td>-0.646259</td><td>0.617766</td><td>0.14538</td><td>0.408598</td><td>-0.649548</td><td>-0.771376</td><td>1.09517</td></tr><tr><th>14</th><td>0.345382</td><td>-0.517488</td><td>0.0446926</td><td>-0.390107</td><td>-1.60653</td><td>1.52583</td><td>-0.090029</td></tr><tr><th>15</th><td>0.480292</td><td>-0.649503</td><td>-0.790328</td><td>-1.12966</td><td>0.758352</td><td>-1.72157</td><td>-0.273879</td></tr><tr><th>16</th><td>-0.555148</td><td>1.19268</td><td>1.12315</td><td>0.984989</td><td>1.84782</td><td>0.509909</td><td>1.42895</td></tr><tr><th>17</th><td>-1.805</td><td>-0.0600512</td><td>0.984536</td><td>0.12922</td><td>0.474267</td><td>0.133393</td><td>0.513496</td></tr><tr><th>18</th><td>1.42124</td><td>0.632719</td><td>-0.859135</td><td>-0.339282</td><td>-1.12179</td><td>-0.337249</td><td>-0.661933</td></tr><tr><th>19</th><td>-0.708062</td><td>0.843163</td><td>-0.0226486</td><td>1.23093</td><td>-0.125356</td><td>-1.29172</td><td>-1.23245</td></tr><tr><th>20</th><td>-0.173637</td><td>2.34597</td><td>1.40166</td><td>-2.63932</td><td>0.103948</td><td>1.19358</td><td>0.845701</td></tr><tr><th>21</th><td>0.97552</td><td>0.804539</td><td>-0.498683</td><td>0.259882</td><td>0.997905</td><td>-0.421575</td><td>-1.65898</td></tr><tr><th>22</th><td>0.361565</td><td>0.523095</td><td>-0.979867</td><td>0.710101</td><td>-1.36991</td><td>0.940499</td><td>1.77057</td></tr><tr><th>23</th><td>0.917899</td><td>0.82435</td><td>0.664635</td><td>0.411854</td><td>1.22875</td><td>1.20561</td><td>-1.49504</td></tr><tr><th>24</th><td>-0.487339</td><td>0.877921</td><td>-2.902</td><td>1.8816</td><td>-0.661612</td><td>0.752294</td><td>-0.319645</td></tr><tr><th>25</th><td>0.649944</td><td>-0.485001</td><td>-0.888832</td><td>-1.10664</td><td>-0.132856</td><td>-0.266973</td><td>-0.687098</td></tr><tr><th>26</th><td>-0.699993</td><td>-1.15118</td><td>0.848901</td><td>-0.249628</td><td>-0.143777</td><td>1.27429</td><td>-0.283987</td></tr><tr><th>27</th><td>0.602565</td><td>-0.702531</td><td>-1.87091</td><td>-0.309181</td><td>0.847797</td><td>-0.604732</td><td>0.217929</td></tr><tr><th>28</th><td>-0.0886732</td><td>1.39451</td><td>-0.0340551</td><td>-1.39462</td><td>-1.34097</td><td>0.90952</td><td>1.72789</td></tr><tr><th>29</th><td>1.55499</td><td>-2.25914</td><td>0.214884</td><td>0.531144</td><td>-0.410356</td><td>2.588</td><td>-1.03574</td></tr><tr><th>30</th><td>-0.488318</td><td>0.836143</td><td>-1.50134</td><td>-0.218711</td><td>0.316808</td><td>-0.97798</td><td>-0.76766</td></tr><tr><th>&vellip;</th><td>&vellip;</td><td>&vellip;</td><td>&vellip;</td><td>&vellip;</td><td>&vellip;</td><td>&vellip;</td><td>&vellip;</td></tr></tbody></table>"
      ],
      "text/latex": [
       "\\begin{tabular}{r|cccccccc}\n",
       "\t& x1 & x2 & x3 & x4 & x5 & x6 & x7 & \\\\\n",
       "\t\\hline\n",
       "\t& Float64 & Float64 & Float64 & Float64 & Float64 & Float64 & Float64 & \\\\\n",
       "\t\\hline\n",
       "\t1 & -1.51294 & -1.32214 & -1.31663 & -1.80027 & 0.420349 & -2.38617 & -0.398834 & $\\dots$ \\\\\n",
       "\t2 & 0.436383 & 0.139765 & 0.247474 & -0.568613 & -1.25167 & -1.77427 & 0.386621 & $\\dots$ \\\\\n",
       "\t3 & 0.203385 & 1.01122 & 0.793857 & 1.65262 & 0.304276 & -1.1413 & -0.00220144 & $\\dots$ \\\\\n",
       "\t4 & -0.101117 & 0.889577 & -0.52685 & -0.320042 & -1.16566 & 0.887185 & 0.697827 & $\\dots$ \\\\\n",
       "\t5 & 0.996763 & 0.29763 & 0.036947 & -0.308642 & -1.08028 & 0.611137 & 1.35707 & $\\dots$ \\\\\n",
       "\t6 & -0.327777 & -0.194303 & 1.40227 & 2.09619 & 0.0538941 & -1.03558 & 1.5353 & $\\dots$ \\\\\n",
       "\t7 & 0.334907 & 0.647801 & 1.32159 & 0.7535 & -0.483006 & 0.834628 & -0.277918 & $\\dots$ \\\\\n",
       "\t8 & 1.26445 & 0.027627 & -0.329335 & -0.781433 & -0.325373 & -1.0701 & -0.48213 & $\\dots$ \\\\\n",
       "\t9 & -0.443556 & -0.925337 & 1.17952 & 0.748262 & -1.49774 & 0.108961 & -0.509088 & $\\dots$ \\\\\n",
       "\t10 & -1.11719 & 1.3677 & 0.657554 & -0.936493 & -0.397079 & 0.177934 & -0.568185 & $\\dots$ \\\\\n",
       "\t11 & -0.302733 & -1.14984 & -2.5901 & -0.840178 & 0.0436838 & -0.777453 & -1.55692 & $\\dots$ \\\\\n",
       "\t12 & -1.21124 & 1.34825 & -0.340506 & -0.0467021 & 1.09236 & 1.3121 & 1.19767 & $\\dots$ \\\\\n",
       "\t13 & -0.646259 & 0.617766 & 0.14538 & 0.408598 & -0.649548 & -0.771376 & 1.09517 & $\\dots$ \\\\\n",
       "\t14 & 0.345382 & -0.517488 & 0.0446926 & -0.390107 & -1.60653 & 1.52583 & -0.090029 & $\\dots$ \\\\\n",
       "\t15 & 0.480292 & -0.649503 & -0.790328 & -1.12966 & 0.758352 & -1.72157 & -0.273879 & $\\dots$ \\\\\n",
       "\t16 & -0.555148 & 1.19268 & 1.12315 & 0.984989 & 1.84782 & 0.509909 & 1.42895 & $\\dots$ \\\\\n",
       "\t17 & -1.805 & -0.0600512 & 0.984536 & 0.12922 & 0.474267 & 0.133393 & 0.513496 & $\\dots$ \\\\\n",
       "\t18 & 1.42124 & 0.632719 & -0.859135 & -0.339282 & -1.12179 & -0.337249 & -0.661933 & $\\dots$ \\\\\n",
       "\t19 & -0.708062 & 0.843163 & -0.0226486 & 1.23093 & -0.125356 & -1.29172 & -1.23245 & $\\dots$ \\\\\n",
       "\t20 & -0.173637 & 2.34597 & 1.40166 & -2.63932 & 0.103948 & 1.19358 & 0.845701 & $\\dots$ \\\\\n",
       "\t21 & 0.97552 & 0.804539 & -0.498683 & 0.259882 & 0.997905 & -0.421575 & -1.65898 & $\\dots$ \\\\\n",
       "\t22 & 0.361565 & 0.523095 & -0.979867 & 0.710101 & -1.36991 & 0.940499 & 1.77057 & $\\dots$ \\\\\n",
       "\t23 & 0.917899 & 0.82435 & 0.664635 & 0.411854 & 1.22875 & 1.20561 & -1.49504 & $\\dots$ \\\\\n",
       "\t24 & -0.487339 & 0.877921 & -2.902 & 1.8816 & -0.661612 & 0.752294 & -0.319645 & $\\dots$ \\\\\n",
       "\t25 & 0.649944 & -0.485001 & -0.888832 & -1.10664 & -0.132856 & -0.266973 & -0.687098 & $\\dots$ \\\\\n",
       "\t26 & -0.699993 & -1.15118 & 0.848901 & -0.249628 & -0.143777 & 1.27429 & -0.283987 & $\\dots$ \\\\\n",
       "\t27 & 0.602565 & -0.702531 & -1.87091 & -0.309181 & 0.847797 & -0.604732 & 0.217929 & $\\dots$ \\\\\n",
       "\t28 & -0.0886732 & 1.39451 & -0.0340551 & -1.39462 & -1.34097 & 0.90952 & 1.72789 & $\\dots$ \\\\\n",
       "\t29 & 1.55499 & -2.25914 & 0.214884 & 0.531144 & -0.410356 & 2.588 & -1.03574 & $\\dots$ \\\\\n",
       "\t30 & -0.488318 & 0.836143 & -1.50134 & -0.218711 & 0.316808 & -0.97798 & -0.76766 & $\\dots$ \\\\\n",
       "\t$\\dots$ & $\\dots$ & $\\dots$ & $\\dots$ & $\\dots$ & $\\dots$ & $\\dots$ & $\\dots$ &  \\\\\n",
       "\\end{tabular}\n"
      ],
      "text/plain": [
       "100×100 DataFrame. Omitted printing of 95 columns\n",
       "│ Row │ x1        │ x2        │ x3         │ x4          │ x5         │\n",
       "│     │ \u001b[90mFloat64\u001b[39m   │ \u001b[90mFloat64\u001b[39m   │ \u001b[90mFloat64\u001b[39m    │ \u001b[90mFloat64\u001b[39m     │ \u001b[90mFloat64\u001b[39m    │\n",
       "├─────┼───────────┼───────────┼────────────┼─────────────┼────────────┤\n",
       "│ 1   │ -1.51294  │ -1.32214  │ -1.31663   │ -1.80027    │ 0.420349   │\n",
       "│ 2   │ 0.436383  │ 0.139765  │ 0.247474   │ -0.568613   │ -1.25167   │\n",
       "│ 3   │ 0.203385  │ 1.01122   │ 0.793857   │ 1.65262     │ 0.304276   │\n",
       "│ 4   │ -0.101117 │ 0.889577  │ -0.52685   │ -0.320042   │ -1.16566   │\n",
       "│ 5   │ 0.996763  │ 0.29763   │ 0.036947   │ -0.308642   │ -1.08028   │\n",
       "│ 6   │ -0.327777 │ -0.194303 │ 1.40227    │ 2.09619     │ 0.0538941  │\n",
       "│ 7   │ 0.334907  │ 0.647801  │ 1.32159    │ 0.7535      │ -0.483006  │\n",
       "│ 8   │ 1.26445   │ 0.027627  │ -0.329335  │ -0.781433   │ -0.325373  │\n",
       "│ 9   │ -0.443556 │ -0.925337 │ 1.17952    │ 0.748262    │ -1.49774   │\n",
       "│ 10  │ -1.11719  │ 1.3677    │ 0.657554   │ -0.936493   │ -0.397079  │\n",
       "⋮\n",
       "│ 90  │ 0.032911  │ -1.53131  │ -0.270295  │ -0.527506   │ 1.09451    │\n",
       "│ 91  │ -0.87768  │ 1.60109   │ -0.0968099 │ -1.71055    │ 1.1033     │\n",
       "│ 92  │ -0.973117 │ -0.010148 │ -1.21972   │ 0.370462    │ -1.2718    │\n",
       "│ 93  │ 1.10701   │ -2.1282   │ 0.710635   │ -0.410424   │ 1.59732    │\n",
       "│ 94  │ 1.11638   │ 0.0977509 │ 0.937471   │ -0.414024   │ 1.73216    │\n",
       "│ 95  │ -0.210475 │ -0.461128 │ -0.0756923 │ 2.08012     │ 0.616838   │\n",
       "│ 96  │ 1.32707   │ 1.64557   │ -0.357061  │ -0.00820294 │ -0.312729  │\n",
       "│ 97  │ -0.304274 │ -0.487747 │ 0.182283   │ 0.374373    │ -0.0519194 │\n",
       "│ 98  │ 0.278056  │ -0.434817 │ 0.84644    │ -0.563206   │ 0.196316   │\n",
       "│ 99  │ 0.0738311 │ 1.7256    │ 1.68384    │ 0.378146    │ -1.69674   │\n",
       "│ 100 │ 0.909301  │ 0.0209606 │ -0.795703  │ -0.3623     │ -0.868879  │"
      ]
     },
     "execution_count": 40,
     "metadata": {},
     "output_type": "execute_result"
    }
   ],
   "source": [
    "X"
   ]
  },
  {
   "cell_type": "code",
   "execution_count": 45,
   "id": "2ef3a07d",
   "metadata": {},
   "outputs": [
    {
     "data": {
      "text/html": [
       "<table class=\"data-frame\"><thead><tr><th></th><th>Y</th><th>D</th></tr><tr><th></th><th>Float64</th><th>Float64</th></tr></thead><tbody><p>100 rows × 2 columns</p><tr><th>1</th><td>-3.74184</td><td>-2.41633</td></tr><tr><th>2</th><td>0.433346</td><td>0.148689</td></tr><tr><th>3</th><td>1.18132</td><td>0.942787</td></tr><tr><th>4</th><td>-0.0975573</td><td>-0.313429</td></tr><tr><th>5</th><td>3.25461</td><td>1.70705</td></tr><tr><th>6</th><td>-0.810632</td><td>-0.254298</td></tr><tr><th>7</th><td>0.723856</td><td>0.577787</td></tr><tr><th>8</th><td>0.115056</td><td>0.996948</td></tr><tr><th>9</th><td>-1.09898</td><td>-0.530846</td></tr><tr><th>10</th><td>-1.16967</td><td>-1.03893</td></tr><tr><th>11</th><td>-4.04285</td><td>-1.1533</td></tr><tr><th>12</th><td>-3.4822</td><td>-0.965561</td></tr><tr><th>13</th><td>-0.803576</td><td>-0.320469</td></tr><tr><th>14</th><td>0.447343</td><td>0.29672</td></tr><tr><th>15</th><td>0.71182</td><td>-0.430535</td></tr><tr><th>16</th><td>-2.3613</td><td>-0.0113684</td></tr><tr><th>17</th><td>-1.90739</td><td>-1.30847</td></tr><tr><th>18</th><td>2.32607</td><td>1.15444</td></tr><tr><th>19</th><td>-2.03447</td><td>-0.758143</td></tr><tr><th>20</th><td>1.73345</td><td>0.804035</td></tr><tr><th>21</th><td>3.4586</td><td>1.61021</td></tr><tr><th>22</th><td>1.43738</td><td>0.275983</td></tr><tr><th>23</th><td>2.86489</td><td>1.04521</td></tr><tr><th>24</th><td>-1.2705</td><td>-0.291438</td></tr><tr><th>25</th><td>-0.383743</td><td>0.662744</td></tr><tr><th>26</th><td>-1.71617</td><td>-1.10781</td></tr><tr><th>27</th><td>0.346037</td><td>0.374905</td></tr><tr><th>28</th><td>2.81385</td><td>0.873723</td></tr><tr><th>29</th><td>1.97963</td><td>1.48931</td></tr><tr><th>30</th><td>-0.672519</td><td>-0.501456</td></tr><tr><th>&vellip;</th><td>&vellip;</td><td>&vellip;</td></tr></tbody></table>"
      ],
      "text/latex": [
       "\\begin{tabular}{r|cc}\n",
       "\t& Y & D\\\\\n",
       "\t\\hline\n",
       "\t& Float64 & Float64\\\\\n",
       "\t\\hline\n",
       "\t1 & -3.74184 & -2.41633 \\\\\n",
       "\t2 & 0.433346 & 0.148689 \\\\\n",
       "\t3 & 1.18132 & 0.942787 \\\\\n",
       "\t4 & -0.0975573 & -0.313429 \\\\\n",
       "\t5 & 3.25461 & 1.70705 \\\\\n",
       "\t6 & -0.810632 & -0.254298 \\\\\n",
       "\t7 & 0.723856 & 0.577787 \\\\\n",
       "\t8 & 0.115056 & 0.996948 \\\\\n",
       "\t9 & -1.09898 & -0.530846 \\\\\n",
       "\t10 & -1.16967 & -1.03893 \\\\\n",
       "\t11 & -4.04285 & -1.1533 \\\\\n",
       "\t12 & -3.4822 & -0.965561 \\\\\n",
       "\t13 & -0.803576 & -0.320469 \\\\\n",
       "\t14 & 0.447343 & 0.29672 \\\\\n",
       "\t15 & 0.71182 & -0.430535 \\\\\n",
       "\t16 & -2.3613 & -0.0113684 \\\\\n",
       "\t17 & -1.90739 & -1.30847 \\\\\n",
       "\t18 & 2.32607 & 1.15444 \\\\\n",
       "\t19 & -2.03447 & -0.758143 \\\\\n",
       "\t20 & 1.73345 & 0.804035 \\\\\n",
       "\t21 & 3.4586 & 1.61021 \\\\\n",
       "\t22 & 1.43738 & 0.275983 \\\\\n",
       "\t23 & 2.86489 & 1.04521 \\\\\n",
       "\t24 & -1.2705 & -0.291438 \\\\\n",
       "\t25 & -0.383743 & 0.662744 \\\\\n",
       "\t26 & -1.71617 & -1.10781 \\\\\n",
       "\t27 & 0.346037 & 0.374905 \\\\\n",
       "\t28 & 2.81385 & 0.873723 \\\\\n",
       "\t29 & 1.97963 & 1.48931 \\\\\n",
       "\t30 & -0.672519 & -0.501456 \\\\\n",
       "\t$\\dots$ & $\\dots$ & $\\dots$ \\\\\n",
       "\\end{tabular}\n"
      ],
      "text/plain": [
       "100×2 DataFrame\n",
       "│ Row │ Y          │ D          │\n",
       "│     │ \u001b[90mFloat64\u001b[39m    │ \u001b[90mFloat64\u001b[39m    │\n",
       "├─────┼────────────┼────────────┤\n",
       "│ 1   │ -3.74184   │ -2.41633   │\n",
       "│ 2   │ 0.433346   │ 0.148689   │\n",
       "│ 3   │ 1.18132    │ 0.942787   │\n",
       "│ 4   │ -0.0975573 │ -0.313429  │\n",
       "│ 5   │ 3.25461    │ 1.70705    │\n",
       "│ 6   │ -0.810632  │ -0.254298  │\n",
       "│ 7   │ 0.723856   │ 0.577787   │\n",
       "│ 8   │ 0.115056   │ 0.996948   │\n",
       "│ 9   │ -1.09898   │ -0.530846  │\n",
       "│ 10  │ -1.16967   │ -1.03893   │\n",
       "⋮\n",
       "│ 90  │ 0.870504   │ -0.604571  │\n",
       "│ 91  │ -0.0851265 │ -0.296181  │\n",
       "│ 92  │ -2.55677   │ -0.827571  │\n",
       "│ 93  │ 0.603564   │ 0.872847   │\n",
       "│ 94  │ 2.50643    │ 1.23192    │\n",
       "│ 95  │ 1.14898    │ 0.00322322 │\n",
       "│ 96  │ 3.01132    │ 1.63231    │\n",
       "│ 97  │ -0.180256  │ -0.56704   │\n",
       "│ 98  │ 0.035803   │ -0.716253  │\n",
       "│ 99  │ 0.841986   │ 0.341123   │\n",
       "│ 100 │ 1.31744    │ 0.664517   │"
      ]
     },
     "execution_count": 45,
     "metadata": {},
     "output_type": "execute_result"
    }
   ],
   "source": [
    "DX = DataFrame(hcat( D , X))\n",
    "YD = DataFrame(hcat( Y , D))"
   ]
  },
  {
   "cell_type": "code",
   "execution_count": 42,
   "id": "b73bd1c7",
   "metadata": {},
   "outputs": [],
   "source": [
    "using LinearAlgebra, GLM, DataFrames, Statistics, Random, Distributions, Tables, TableOperations, StatsBase, FreqTables, DataFrames\n",
    "    "
   ]
  },
  {
   "cell_type": "code",
   "execution_count": 47,
   "id": "20e6d4eb",
   "metadata": {},
   "outputs": [
    {
     "ename": "LoadError",
     "evalue": "MethodError: no method matching DataFrame(::Vector{Vector}, ::Symbol)\n\u001b[0mClosest candidates are:\n\u001b[0m  DataFrame(::AbstractVector{<:AbstractVector}, \u001b[91m::AbstractVector{<:AbstractString}\u001b[39m; makeunique, copycols) at C:\\Users\\Kenia\\.julia\\packages\\DataFrames\\GtZ1l\\src\\dataframe\\dataframe.jl:249\n\u001b[0m  DataFrame(::AbstractVector{<:AbstractVector}, \u001b[91m::AbstractVector{Symbol}\u001b[39m; makeunique, copycols) at C:\\Users\\Kenia\\.julia\\packages\\DataFrames\\GtZ1l\\src\\dataframe\\dataframe.jl:242\n\u001b[0m  DataFrame(::AbstractVector, \u001b[91m::AbstractVector{<:AbstractString}\u001b[39m; makeunique, copycols) at C:\\Users\\Kenia\\.julia\\packages\\DataFrames\\GtZ1l\\src\\dataframe\\dataframe.jl:237\n\u001b[0m  ...",
     "output_type": "error",
     "traceback": [
      "MethodError: no method matching DataFrame(::Vector{Vector}, ::Symbol)\n\u001b[0mClosest candidates are:\n\u001b[0m  DataFrame(::AbstractVector{<:AbstractVector}, \u001b[91m::AbstractVector{<:AbstractString}\u001b[39m; makeunique, copycols) at C:\\Users\\Kenia\\.julia\\packages\\DataFrames\\GtZ1l\\src\\dataframe\\dataframe.jl:249\n\u001b[0m  DataFrame(::AbstractVector{<:AbstractVector}, \u001b[91m::AbstractVector{Symbol}\u001b[39m; makeunique, copycols) at C:\\Users\\Kenia\\.julia\\packages\\DataFrames\\GtZ1l\\src\\dataframe\\dataframe.jl:242\n\u001b[0m  DataFrame(::AbstractVector, \u001b[91m::AbstractVector{<:AbstractString}\u001b[39m; makeunique, copycols) at C:\\Users\\Kenia\\.julia\\packages\\DataFrames\\GtZ1l\\src\\dataframe\\dataframe.jl:237\n\u001b[0m  ...",
      "",
      "Stacktrace:",
      " [1] rlasso(self::rlasso_arg)",
      "   @ Main C:\\Users\\Kenia\\Documents\\Draft_kenia\\hdmjl\\hdmjl_final.jl:662",
      " [2] top-level scope",
      "   @ In[47]:3",
      " [3] eval",
      "   @ .\\boot.jl:373 [inlined]",
      " [4] include_string(mapexpr::typeof(REPL.softscope), mod::Module, code::String, filename::String)",
      "   @ Base .\\loading.jl:1196"
     ]
    }
   ],
   "source": [
    "r_lasso_estimation = rlasso_arg( DX, Y , nothing, true, true, true, false, false, \n",
    "                    nothing, 1.1, nothing, 5000, 15, 10^(-5), -Inf, true, Inf, true )\n",
    "coef_array = rlasso(r_lasso_estimation)\n",
    "#\"beta\"][2:end ,2]\n",
    "#SX_IDs  = findall(x-> x != 0,coef_array)"
   ]
  },
  {
   "cell_type": "code",
   "execution_count": 37,
   "id": "2cc1f6cc",
   "metadata": {},
   "outputs": [
    {
     "ename": "LoadError",
     "evalue": "UndefVarError: Pkg not defined",
     "output_type": "error",
     "traceback": [
      "UndefVarError: Pkg not defined",
      "",
      "Stacktrace:",
      " [1] top-level scope",
      "   @ In[37]:1",
      " [2] eval",
      "   @ .\\boot.jl:373 [inlined]",
      " [3] include_string(mapexpr::typeof(REPL.softscope), mod::Module, code::String, filename::String)",
      "   @ Base .\\loading.jl:1196"
     ]
    }
   ],
   "source": [
    "Pkg.add(\"rlasso\")"
   ]
  },
  {
   "cell_type": "code",
   "execution_count": 58,
   "id": "6602ec74",
   "metadata": {},
   "outputs": [
    {
     "ename": "LoadError",
     "evalue": "UndefVarError: SX_IDs not defined",
     "output_type": "error",
     "traceback": [
      "UndefVarError: SX_IDs not defined",
      "",
      "Stacktrace:",
      " [1] top-level scope",
      "   @ In[58]:2",
      " [2] eval",
      "   @ .\\boot.jl:373 [inlined]",
      " [3] include_string(mapexpr::typeof(REPL.softscope), mod::Module, code::String, filename::String)",
      "   @ Base .\\loading.jl:1196"
     ]
    }
   ],
   "source": [
    "# In case all X coefficients are zero, then regress Y on D\n",
    "if sum(SX_IDs) == 0 \n",
    "    reg = lm( @formula(Y ~ D), YD )\n",
    "    Naive[i] = GLM.coeftable(reg).cols[1,1][2]\n",
    "# Otherwise, then regress Y on X and D (but only in the selected coefficients)\n",
    "elseif sum( SX_IDs ) > 0\n",
    "    X_D = hcat(Y, D, X[:, SX_IDs ],makeunique=true ) \n",
    "    rename!(X_D,:x1 => :Y)\n",
    "    rename!(X_D,:x1_1 => :D)\n",
    "    rename!(X_D,:x1_2 => :X)\n",
    "    reg = lm( @formula(Y ~ D+X),X_D )\n",
    "    Naive[ i ] = GLM.coeftable(reg).cols[1,1][2]\n",
    "end"
   ]
  },
  {
   "cell_type": "code",
   "execution_count": 36,
   "id": "c711b0b3",
   "metadata": {
    "scrolled": false
   },
   "outputs": [
    {
     "ename": "LoadError",
     "evalue": "ArgumentError: Package rlasso not found in current path:\n- Run `import Pkg; Pkg.add(\"rlasso\")` to install the rlasso package.\n",
     "output_type": "error",
     "traceback": [
      "ArgumentError: Package rlasso not found in current path:\n- Run `import Pkg; Pkg.add(\"rlasso\")` to install the rlasso package.\n",
      "",
      "Stacktrace:",
      " [1] require(into::Module, mod::Symbol)",
      "   @ Base .\\loading.jl:967",
      " [2] eval",
      "   @ .\\boot.jl:373 [inlined]",
      " [3] include_string(mapexpr::typeof(REPL.softscope), mod::Module, code::String, filename::String)",
      "   @ Base .\\loading.jl:1196"
     ]
    }
   ],
   "source": [
    "import rlasso"
   ]
  },
  {
   "cell_type": "code",
   "execution_count": null,
   "id": "bbc7e7bc",
   "metadata": {},
   "outputs": [],
   "source": [
    "\n",
    "# In both cases we save D coefficient"
   ]
  },
  {
   "cell_type": "code",
   "execution_count": 55,
   "id": "6fc9f161",
   "metadata": {
    "scrolled": true
   },
   "outputs": [
    {
     "ename": "LoadError",
     "evalue": "OutOfMemoryError()",
     "output_type": "error",
     "traceback": [
      "OutOfMemoryError()",
      "",
      "Stacktrace:",
      "  [1] Array",
      "    @ .\\boot.jl:459 [inlined]",
      "  [2] Array",
      "    @ .\\boot.jl:467 [inlined]",
      "  [3] Array",
      "    @ .\\array.jl:563 [inlined]",
      "  [4] GLM.DensePredChol(X::Matrix{Float64}, pivot::Bool)",
      "    @ GLM C:\\Users\\Kenia\\.julia\\packages\\GLM\\DgddX\\src\\linpred.jl:108",
      "  [5] cholpred",
      "    @ C:\\Users\\Kenia\\.julia\\packages\\GLM\\DgddX\\src\\linpred.jl:117 [inlined]",
      "  [6] #fit#4",
      "    @ C:\\Users\\Kenia\\.julia\\packages\\GLM\\DgddX\\src\\lm.jl:170 [inlined]",
      "  [7] fit(::Type{LinearModel}, X::Matrix{Float64}, y::Vector{Float64}, allowrankdeficient_dep::Nothing)",
      "    @ GLM C:\\Users\\Kenia\\.julia\\packages\\GLM\\DgddX\\src\\lm.jl:165",
      "  [8] #lm#5",
      "    @ C:\\Users\\Kenia\\.julia\\packages\\GLM\\DgddX\\src\\lm.jl:184 [inlined]",
      "  [9] lm (repeats 2 times)",
      "    @ C:\\Users\\Kenia\\.julia\\packages\\GLM\\DgddX\\src\\lm.jl:184 [inlined]",
      " [10] init_values(X::Matrix{Float64}, y::Vector{Float64}, number::Int64, intercetp::Bool)",
      "    @ Main C:\\Users\\Kenia\\Documents\\Draft_kenia\\hdmjl\\hdmjl.jl:91",
      " [11] init_values",
      "    @ C:\\Users\\Kenia\\Documents\\Draft_kenia\\hdmjl\\hdmjl.jl:64 [inlined]",
      " [12] LassoShooting_fit(; x::Matrix{Float64}, y::Vector{Float64}, lmbda::Vector{Float64}, maxIter::Int64, optTol::Float64, zeroThreshold::Float64, XX::Matrix{Float64}, Xy::Vector{Float64}, beta_start::Nothing)",
      "    @ Main C:\\Users\\Kenia\\Documents\\Draft_kenia\\hdmjl\\hdmjl.jl:158",
      " [13] rlasso(self::rlasso_arg)",
      "    @ Main C:\\Users\\Kenia\\Documents\\Draft_kenia\\hdmjl\\hdmjl.jl:497",
      " [14] top-level scope",
      "    @ In[55]:4",
      " [15] eval",
      "    @ .\\boot.jl:373 [inlined]",
      " [16] include_string(mapexpr::typeof(REPL.softscope), mod::Module, code::String, filename::String)",
      "    @ Base .\\loading.jl:1196"
     ]
    }
   ],
   "source": [
    "# Regress residuals. \n",
    "regY = rlasso_arg( X , Y , nothing, true, false, true, false, false, \n",
    "                    nothing, 1.1, nothing, 5000, 15, 10^(-5), -Inf, true, Inf, true )\n",
    "resY = rlasso(regY)[\"residuals\"]\n",
    "\n",
    "regD = rlasso_arg( X , D , nothing, true, false, true, false, false, \n",
    "                    nothing, 1.1, nothing, 5000, 15, 10^(-5), -Inf, true, Inf, true )\n",
    "resD = rlasso(regD)[\"residuals\"]\n",
    "\n",
    "eYeD = convert(DataFrame,hcat( resY , resD))\n",
    "rename!(eYeD,:x1 => :resY)\n",
    "rename!(eYeD,:x2 => :resD)\n",
    "\n",
    "res_reg= lm( @formula(resY ~ resD), eYeD)\n",
    "Orthogonal[ i ] = GLM.coeftable(reg).cols[1,1][2]"
   ]
  },
  {
   "cell_type": "markdown",
   "id": "4f93e73b",
   "metadata": {},
   "source": [
    "## DOUBLE LASSO - HETEROGENOUS WAGE EFFECTS"
   ]
  },
  {
   "cell_type": "code",
   "execution_count": 48,
   "id": "4b0d3ebd",
   "metadata": {},
   "outputs": [],
   "source": [
    "using RData, LinearAlgebra, GLM, DataFrames, Statistics, Random, Distributions, \n",
    "DataStructures, NamedArrays, PrettyTables, StatsModels, Combinatorics\n",
    "\n",
    "import CodecBzip2"
   ]
  },
  {
   "cell_type": "code",
   "execution_count": 49,
   "id": "18845a80",
   "metadata": {},
   "outputs": [
    {
     "data": {
      "text/plain": [
       "Dict{String, Any} with 1 entry:\n",
       "  \"data\" => 29217×23 DataFrame. Omitted printing of 17 columns…"
      ]
     },
     "execution_count": 49,
     "metadata": {},
     "output_type": "execute_result"
    }
   ],
   "source": [
    "# Importing .Rdata file\n",
    "\n",
    "cps2012 = load(\"../data/cps2012.RData\")"
   ]
  },
  {
   "cell_type": "code",
   "execution_count": 50,
   "id": "0d7e7e6e",
   "metadata": {},
   "outputs": [
    {
     "data": {
      "text/plain": [
       "KeySet for a Dict{String, Any} with 1 entry. Keys:\n",
       "  \"data\""
      ]
     },
     "execution_count": 50,
     "metadata": {},
     "output_type": "execute_result"
    }
   ],
   "source": [
    "keys(cps2012)   # get information from key"
   ]
  },
  {
   "cell_type": "code",
   "execution_count": 51,
   "id": "54d0365c",
   "metadata": {},
   "outputs": [
    {
     "data": {
      "text/plain": [
       "23-element Vector{String}:\n",
       " \"year\"\n",
       " \"lnw\"\n",
       " \"female\"\n",
       " \"widowed\"\n",
       " \"divorced\"\n",
       " \"separated\"\n",
       " \"nevermarried\"\n",
       " \"hsd08\"\n",
       " \"hsd911\"\n",
       " \"hsg\"\n",
       " \"cg\"\n",
       " \"ad\"\n",
       " \"mw\"\n",
       " \"so\"\n",
       " \"we\"\n",
       " \"exp1\"\n",
       " \"exp2\"\n",
       " \"exp3\"\n",
       " \"exp4\"\n",
       " \"weight\"\n",
       " \"married\"\n",
       " \"ne\"\n",
       " \"sc\""
      ]
     },
     "execution_count": 51,
     "metadata": {},
     "output_type": "execute_result"
    }
   ],
   "source": [
    "cps2012 = cps2012[\"data\"]\n",
    "\n",
    "names(cps2012)"
   ]
  },
  {
   "cell_type": "code",
   "execution_count": 52,
   "id": "b58a60a0",
   "metadata": {},
   "outputs": [],
   "source": [
    "   # couples variables combinations \n",
    "    combinations_upto(x, n) = Iterators.flatten(combinations(x, i) for i in 1:n)\n",
    "\n",
    "    # combinations without same couple\n",
    "    expand_exp(args, deg::ConstantTerm) =\n",
    "        tuple(((&)(terms...) for terms in combinations_upto(args, deg.n))...)\n",
    "\n",
    "    StatsModels.apply_schema(t::FunctionTerm{typeof(^)}, sch::StatsModels.Schema, ctx::Type) =\n",
    "        apply_schema.(expand_exp(t.args_parsed...), Ref(sch), ctx)"
   ]
  },
  {
   "cell_type": "code",
   "execution_count": 53,
   "id": "64cf7182",
   "metadata": {},
   "outputs": [
    {
     "data": {
      "text/plain": [
       "FormulaTerm\n",
       "Response:\n",
       "  lnw(continuous)\n",
       "Predictors:\n",
       "  0\n",
       "  female(continuous)\n",
       "  widowed(continuous)\n",
       "  divorced(continuous)\n",
       "  separated(continuous)\n",
       "  nevermarried(continuous)\n",
       "  hsd08(continuous)\n",
       "  hsd911(continuous)\n",
       "  hsg(continuous)\n",
       "  cg(continuous)\n",
       "  ad(continuous)\n",
       "  mw(continuous)\n",
       "  so(continuous)\n",
       "  we(continuous)\n",
       "  exp1(continuous)\n",
       "  exp2(continuous)\n",
       "  exp3(continuous)\n",
       "  widowed(continuous) & divorced(continuous)\n",
       "  widowed(continuous) & separated(continuous)\n",
       "  widowed(continuous) & nevermarried(continuous)\n",
       "  widowed(continuous) & hsd08(continuous)\n",
       "  widowed(continuous) & hsd911(continuous)\n",
       "  widowed(continuous) & hsg(continuous)\n",
       "  widowed(continuous) & cg(continuous)\n",
       "  widowed(continuous) & ad(continuous)\n",
       "  widowed(continuous) & mw(continuous)\n",
       "  widowed(continuous) & so(continuous)\n",
       "  widowed(continuous) & we(continuous)\n",
       "  widowed(continuous) & exp1(continuous)\n",
       "  widowed(continuous) & exp2(continuous)\n",
       "  widowed(continuous) & exp3(continuous)\n",
       "  divorced(continuous) & separated(continuous)\n",
       "  divorced(continuous) & nevermarried(continuous)\n",
       "  divorced(continuous) & hsd08(continuous)\n",
       "  divorced(continuous) & hsd911(continuous)\n",
       "  divorced(continuous) & hsg(continuous)\n",
       "  divorced(continuous) & cg(continuous)\n",
       "  divorced(continuous) & ad(continuous)\n",
       "  divorced(continuous) & mw(continuous)\n",
       "  divorced(continuous) & so(continuous)\n",
       "  divorced(continuous) & we(continuous)\n",
       "  divorced(continuous) & exp1(continuous)\n",
       "  divorced(continuous) & exp2(continuous)\n",
       "  divorced(continuous) & exp3(continuous)\n",
       "  separated(continuous) & nevermarried(continuous)\n",
       "  separated(continuous) & hsd08(continuous)\n",
       "  separated(continuous) & hsd911(continuous)\n",
       "  separated(continuous) & hsg(continuous)\n",
       "  separated(continuous) & cg(continuous)\n",
       "  separated(continuous) & ad(continuous)\n",
       "  separated(continuous) & mw(continuous)\n",
       "  separated(continuous) & so(continuous)\n",
       "  separated(continuous) & we(continuous)\n",
       "  separated(continuous) & exp1(continuous)\n",
       "  separated(continuous) & exp2(continuous)\n",
       "  separated(continuous) & exp3(continuous)\n",
       "  nevermarried(continuous) & hsd08(continuous)\n",
       "  nevermarried(continuous) & hsd911(continuous)\n",
       "  nevermarried(continuous) & hsg(continuous)\n",
       "  nevermarried(continuous) & cg(continuous)\n",
       "  nevermarried(continuous) & ad(continuous)\n",
       "  nevermarried(continuous) & mw(continuous)\n",
       "  nevermarried(continuous) & so(continuous)\n",
       "  nevermarried(continuous) & we(continuous)\n",
       "  nevermarried(continuous) & exp1(continuous)\n",
       "  nevermarried(continuous) & exp2(continuous)\n",
       "  nevermarried(continuous) & exp3(continuous)\n",
       "  hsd08(continuous) & hsd911(continuous)\n",
       "  hsd08(continuous) & hsg(continuous)\n",
       "  hsd08(continuous) & cg(continuous)\n",
       "  hsd08(continuous) & ad(continuous)\n",
       "  hsd08(continuous) & mw(continuous)\n",
       "  hsd08(continuous) & so(continuous)\n",
       "  hsd08(continuous) & we(continuous)\n",
       "  hsd08(continuous) & exp1(continuous)\n",
       "  hsd08(continuous) & exp2(continuous)\n",
       "  hsd08(continuous) & exp3(continuous)\n",
       "  hsd911(continuous) & hsg(continuous)\n",
       "  hsd911(continuous) & cg(continuous)\n",
       "  hsd911(continuous) & ad(continuous)\n",
       "  hsd911(continuous) & mw(continuous)\n",
       "  hsd911(continuous) & so(continuous)\n",
       "  hsd911(continuous) & we(continuous)\n",
       "  hsd911(continuous) & exp1(continuous)\n",
       "  hsd911(continuous) & exp2(continuous)\n",
       "  hsd911(continuous) & exp3(continuous)\n",
       "  hsg(continuous) & cg(continuous)\n",
       "  hsg(continuous) & ad(continuous)\n",
       "  hsg(continuous) & mw(continuous)\n",
       "  hsg(continuous) & so(continuous)\n",
       "  hsg(continuous) & we(continuous)\n",
       "  hsg(continuous) & exp1(continuous)\n",
       "  hsg(continuous) & exp2(continuous)\n",
       "  hsg(continuous) & exp3(continuous)\n",
       "  cg(continuous) & ad(continuous)\n",
       "  cg(continuous) & mw(continuous)\n",
       "  cg(continuous) & so(continuous)\n",
       "  cg(continuous) & we(continuous)\n",
       "  cg(continuous) & exp1(continuous)\n",
       "  cg(continuous) & exp2(continuous)\n",
       "  cg(continuous) & exp3(continuous)\n",
       "  ad(continuous) & mw(continuous)\n",
       "  ad(continuous) & so(continuous)\n",
       "  ad(continuous) & we(continuous)\n",
       "  ad(continuous) & exp1(continuous)\n",
       "  ad(continuous) & exp2(continuous)\n",
       "  ad(continuous) & exp3(continuous)\n",
       "  mw(continuous) & so(continuous)\n",
       "  mw(continuous) & we(continuous)\n",
       "  mw(continuous) & exp1(continuous)\n",
       "  mw(continuous) & exp2(continuous)\n",
       "  mw(continuous) & exp3(continuous)\n",
       "  so(continuous) & we(continuous)\n",
       "  so(continuous) & exp1(continuous)\n",
       "  so(continuous) & exp2(continuous)\n",
       "  so(continuous) & exp3(continuous)\n",
       "  we(continuous) & exp1(continuous)\n",
       "  we(continuous) & exp2(continuous)\n",
       "  we(continuous) & exp3(continuous)\n",
       "  exp1(continuous) & exp2(continuous)\n",
       "  exp1(continuous) & exp3(continuous)\n",
       "  exp2(continuous) & exp3(continuous)\n",
       "  female(continuous) & widowed(continuous)\n",
       "  female(continuous) & divorced(continuous)\n",
       "  female(continuous) & separated(continuous)\n",
       "  female(continuous) & nevermarried(continuous)\n",
       "  female(continuous) & hsd08(continuous)\n",
       "  female(continuous) & hsd911(continuous)\n",
       "  female(continuous) & hsg(continuous)\n",
       "  female(continuous) & cg(continuous)\n",
       "  female(continuous) & ad(continuous)\n",
       "  female(continuous) & mw(continuous)\n",
       "  female(continuous) & so(continuous)\n",
       "  female(continuous) & we(continuous)\n",
       "  female(continuous) & exp1(continuous)\n",
       "  female(continuous) & exp2(continuous)\n",
       "  female(continuous) & exp3(continuous)"
      ]
     },
     "execution_count": 53,
     "metadata": {},
     "output_type": "execute_result"
    }
   ],
   "source": [
    "# Basic model \n",
    "\n",
    "\n",
    "reg = @formula(lnw ~ -1 + female + female&(widowed + divorced + separated + nevermarried +\n",
    "hsd08 + hsd911 + hsg + cg + ad + mw + so + we + exp1 + exp2 + exp3) + (widowed +\n",
    "divorced + separated + nevermarried + hsd08 + hsd911 + hsg + cg + ad + mw + so +\n",
    "we + exp1 + exp2 + exp3)^2 )\n",
    "\n",
    "\n",
    "formula_basic = apply_schema(reg, schema(reg, cps2012))\n"
   ]
  },
  {
   "cell_type": "code",
   "execution_count": 54,
   "id": "a8088439",
   "metadata": {},
   "outputs": [
    {
     "data": {
      "text/plain": [
       "(\"lnw\", Any[\"female\", \"widowed\", \"divorced\", \"separated\", \"nevermarried\", \"hsd08\", \"hsd911\", \"hsg\", \"cg\", \"ad\"  …  \"female & hsd911\", \"female & hsg\", \"female & cg\", \"female & ad\", \"female & mw\", \"female & so\", \"female & we\", \"female & exp1\", \"female & exp2\", \"female & exp3\"])"
      ]
     },
     "execution_count": 54,
     "metadata": {},
     "output_type": "execute_result"
    }
   ],
   "source": [
    "coefnames(formula_basic)"
   ]
  },
  {
   "cell_type": "code",
   "execution_count": 55,
   "id": "c94a3f5d",
   "metadata": {},
   "outputs": [
    {
     "data": {
      "text/plain": [
       "136-element Vector{Symbol}:\n",
       " :female\n",
       " :widowed\n",
       " :divorced\n",
       " :separated\n",
       " :nevermarried\n",
       " :hsd08\n",
       " :hsd911\n",
       " :hsg\n",
       " :cg\n",
       " :ad\n",
       " :mw\n",
       " :so\n",
       " :we\n",
       " ⋮\n",
       " Symbol(\"female & nevermarried\")\n",
       " Symbol(\"female & hsd08\")\n",
       " Symbol(\"female & hsd911\")\n",
       " Symbol(\"female & hsg\")\n",
       " Symbol(\"female & cg\")\n",
       " Symbol(\"female & ad\")\n",
       " Symbol(\"female & mw\")\n",
       " Symbol(\"female & so\")\n",
       " Symbol(\"female & we\")\n",
       " Symbol(\"female & exp1\")\n",
       " Symbol(\"female & exp2\")\n",
       " Symbol(\"female & exp3\")"
      ]
     },
     "execution_count": 55,
     "metadata": {},
     "output_type": "execute_result"
    }
   ],
   "source": [
    "Y = select(cps2012,:lnw)  # uptcome variable\n",
    "control = coefnames(formula_basic)[2]  # regresors \n",
    "names_col = Symbol.(control)  # string to Symbol to create varaible's name "
   ]
  },
  {
   "cell_type": "code",
   "execution_count": 56,
   "id": "1791a713",
   "metadata": {},
   "outputs": [
    {
     "data": {
      "text/plain": [
       "29217×136 Matrix{Float64}:\n",
       " 1.0  0.0  0.0  0.0  0.0  0.0  0.0  0.0  …  0.0  0.0  22.0  4.84    10.648\n",
       " 1.0  0.0  0.0  0.0  0.0  0.0  1.0  0.0     0.0  0.0  30.0  9.0     27.0\n",
       " 0.0  0.0  0.0  0.0  0.0  0.0  0.0  1.0     0.0  0.0   0.0  0.0      0.0\n",
       " 1.0  0.0  0.0  0.0  0.0  0.0  0.0  1.0     0.0  0.0  14.0  1.96     2.744\n",
       " 0.0  0.0  0.0  0.0  0.0  0.0  0.0  0.0     0.0  0.0   0.0  0.0      0.0\n",
       " 0.0  0.0  0.0  0.0  0.0  0.0  0.0  1.0  …  0.0  0.0   0.0  0.0      0.0\n",
       " 0.0  0.0  0.0  0.0  1.0  0.0  0.0  1.0     0.0  0.0   0.0  0.0      0.0\n",
       " 0.0  0.0  0.0  0.0  0.0  0.0  0.0  0.0     0.0  0.0   0.0  0.0      0.0\n",
       " 0.0  0.0  0.0  0.0  0.0  0.0  0.0  0.0     0.0  0.0   0.0  0.0      0.0\n",
       " 1.0  0.0  0.0  0.0  0.0  0.0  0.0  0.0     0.0  0.0  15.5  2.4025   3.72388\n",
       " 0.0  0.0  0.0  0.0  0.0  0.0  0.0  1.0  …  0.0  0.0   0.0  0.0      0.0\n",
       " 1.0  0.0  0.0  0.0  0.0  0.0  0.0  0.0     0.0  0.0   7.0  0.49     0.343\n",
       " 0.0  0.0  0.0  0.0  0.0  0.0  0.0  0.0     0.0  0.0   0.0  0.0      0.0\n",
       " ⋮                        ⋮              ⋱                           ⋮\n",
       " 1.0  0.0  0.0  0.0  0.0  0.0  0.0  0.0  …  0.0  1.0  15.0  2.25     3.375\n",
       " 0.0  0.0  0.0  0.0  1.0  0.0  0.0  1.0     0.0  0.0   0.0  0.0      0.0\n",
       " 1.0  0.0  0.0  0.0  1.0  0.0  0.0  0.0     0.0  1.0  18.0  3.24     5.832\n",
       " 1.0  0.0  0.0  0.0  1.0  0.0  0.0  0.0     0.0  1.0   5.0  0.25     0.125\n",
       " 0.0  0.0  0.0  0.0  0.0  0.0  0.0  1.0     0.0  0.0   0.0  0.0      0.0\n",
       " 0.0  0.0  0.0  0.0  0.0  0.0  0.0  0.0  …  0.0  0.0   0.0  0.0      0.0\n",
       " 1.0  0.0  0.0  0.0  0.0  0.0  0.0  1.0     0.0  1.0  16.0  2.56     4.096\n",
       " 0.0  0.0  0.0  0.0  1.0  0.0  0.0  0.0     0.0  0.0   0.0  0.0      0.0\n",
       " 1.0  0.0  0.0  0.0  1.0  0.0  0.0  0.0     0.0  1.0  16.0  2.56     4.096\n",
       " 1.0  0.0  0.0  0.0  0.0  0.0  0.0  0.0     0.0  1.0  21.0  4.41     9.261\n",
       " 0.0  0.0  0.0  0.0  0.0  0.0  0.0  0.0  …  0.0  0.0   0.0  0.0      0.0\n",
       " 1.0  0.0  0.0  0.0  0.0  0.0  0.0  0.0     0.0  1.0   2.0  0.04     0.008"
      ]
     },
     "execution_count": 56,
     "metadata": {},
     "output_type": "execute_result"
    }
   ],
   "source": [
    "X = StatsModels.modelmatrix(formula_basic,cps2012)"
   ]
  },
  {
   "cell_type": "code",
   "execution_count": 57,
   "id": "459a85cb",
   "metadata": {},
   "outputs": [
    {
     "data": {
      "text/html": [
       "<table class=\"data-frame\"><thead><tr><th></th><th>female</th><th>widowed</th><th>divorced</th><th>separated</th><th>nevermarried</th><th>hsd08</th><th>hsd911</th><th>hsg</th></tr><tr><th></th><th>Float64</th><th>Float64</th><th>Float64</th><th>Float64</th><th>Float64</th><th>Float64</th><th>Float64</th><th>Float64</th></tr></thead><tbody><p>29,217 rows × 136 columns (omitted printing of 128 columns)</p><tr><th>1</th><td>1.0</td><td>0.0</td><td>0.0</td><td>0.0</td><td>0.0</td><td>0.0</td><td>0.0</td><td>0.0</td></tr><tr><th>2</th><td>1.0</td><td>0.0</td><td>0.0</td><td>0.0</td><td>0.0</td><td>0.0</td><td>1.0</td><td>0.0</td></tr><tr><th>3</th><td>0.0</td><td>0.0</td><td>0.0</td><td>0.0</td><td>0.0</td><td>0.0</td><td>0.0</td><td>1.0</td></tr><tr><th>4</th><td>1.0</td><td>0.0</td><td>0.0</td><td>0.0</td><td>0.0</td><td>0.0</td><td>0.0</td><td>1.0</td></tr><tr><th>5</th><td>0.0</td><td>0.0</td><td>0.0</td><td>0.0</td><td>0.0</td><td>0.0</td><td>0.0</td><td>0.0</td></tr><tr><th>6</th><td>0.0</td><td>0.0</td><td>0.0</td><td>0.0</td><td>0.0</td><td>0.0</td><td>0.0</td><td>1.0</td></tr><tr><th>7</th><td>0.0</td><td>0.0</td><td>0.0</td><td>0.0</td><td>1.0</td><td>0.0</td><td>0.0</td><td>1.0</td></tr><tr><th>8</th><td>0.0</td><td>0.0</td><td>0.0</td><td>0.0</td><td>0.0</td><td>0.0</td><td>0.0</td><td>0.0</td></tr><tr><th>9</th><td>0.0</td><td>0.0</td><td>0.0</td><td>0.0</td><td>0.0</td><td>0.0</td><td>0.0</td><td>0.0</td></tr><tr><th>10</th><td>1.0</td><td>0.0</td><td>0.0</td><td>0.0</td><td>0.0</td><td>0.0</td><td>0.0</td><td>0.0</td></tr><tr><th>11</th><td>0.0</td><td>0.0</td><td>0.0</td><td>0.0</td><td>0.0</td><td>0.0</td><td>0.0</td><td>1.0</td></tr><tr><th>12</th><td>1.0</td><td>0.0</td><td>0.0</td><td>0.0</td><td>0.0</td><td>0.0</td><td>0.0</td><td>0.0</td></tr><tr><th>13</th><td>0.0</td><td>0.0</td><td>0.0</td><td>0.0</td><td>0.0</td><td>0.0</td><td>0.0</td><td>0.0</td></tr><tr><th>14</th><td>0.0</td><td>0.0</td><td>0.0</td><td>0.0</td><td>1.0</td><td>0.0</td><td>0.0</td><td>0.0</td></tr><tr><th>15</th><td>1.0</td><td>0.0</td><td>1.0</td><td>0.0</td><td>0.0</td><td>0.0</td><td>0.0</td><td>0.0</td></tr><tr><th>16</th><td>0.0</td><td>0.0</td><td>0.0</td><td>0.0</td><td>1.0</td><td>0.0</td><td>0.0</td><td>0.0</td></tr><tr><th>17</th><td>0.0</td><td>0.0</td><td>0.0</td><td>0.0</td><td>0.0</td><td>0.0</td><td>0.0</td><td>0.0</td></tr><tr><th>18</th><td>0.0</td><td>0.0</td><td>0.0</td><td>0.0</td><td>1.0</td><td>0.0</td><td>0.0</td><td>0.0</td></tr><tr><th>19</th><td>0.0</td><td>0.0</td><td>0.0</td><td>0.0</td><td>0.0</td><td>0.0</td><td>0.0</td><td>0.0</td></tr><tr><th>20</th><td>1.0</td><td>0.0</td><td>0.0</td><td>0.0</td><td>1.0</td><td>0.0</td><td>0.0</td><td>0.0</td></tr><tr><th>21</th><td>0.0</td><td>0.0</td><td>0.0</td><td>0.0</td><td>0.0</td><td>0.0</td><td>0.0</td><td>1.0</td></tr><tr><th>22</th><td>1.0</td><td>0.0</td><td>0.0</td><td>0.0</td><td>0.0</td><td>0.0</td><td>0.0</td><td>0.0</td></tr><tr><th>23</th><td>0.0</td><td>0.0</td><td>0.0</td><td>0.0</td><td>0.0</td><td>0.0</td><td>0.0</td><td>0.0</td></tr><tr><th>24</th><td>0.0</td><td>0.0</td><td>0.0</td><td>0.0</td><td>1.0</td><td>0.0</td><td>0.0</td><td>0.0</td></tr><tr><th>25</th><td>1.0</td><td>0.0</td><td>0.0</td><td>0.0</td><td>1.0</td><td>0.0</td><td>0.0</td><td>0.0</td></tr><tr><th>26</th><td>0.0</td><td>0.0</td><td>0.0</td><td>0.0</td><td>0.0</td><td>0.0</td><td>0.0</td><td>0.0</td></tr><tr><th>27</th><td>0.0</td><td>0.0</td><td>0.0</td><td>0.0</td><td>0.0</td><td>0.0</td><td>0.0</td><td>1.0</td></tr><tr><th>28</th><td>1.0</td><td>0.0</td><td>0.0</td><td>0.0</td><td>0.0</td><td>0.0</td><td>0.0</td><td>0.0</td></tr><tr><th>29</th><td>1.0</td><td>0.0</td><td>0.0</td><td>0.0</td><td>0.0</td><td>0.0</td><td>0.0</td><td>0.0</td></tr><tr><th>30</th><td>0.0</td><td>0.0</td><td>0.0</td><td>0.0</td><td>0.0</td><td>0.0</td><td>0.0</td><td>0.0</td></tr><tr><th>&vellip;</th><td>&vellip;</td><td>&vellip;</td><td>&vellip;</td><td>&vellip;</td><td>&vellip;</td><td>&vellip;</td><td>&vellip;</td><td>&vellip;</td></tr></tbody></table>"
      ],
      "text/latex": [
       "\\begin{tabular}{r|ccccccccc}\n",
       "\t& female & widowed & divorced & separated & nevermarried & hsd08 & hsd911 & hsg & \\\\\n",
       "\t\\hline\n",
       "\t& Float64 & Float64 & Float64 & Float64 & Float64 & Float64 & Float64 & Float64 & \\\\\n",
       "\t\\hline\n",
       "\t1 & 1.0 & 0.0 & 0.0 & 0.0 & 0.0 & 0.0 & 0.0 & 0.0 & $\\dots$ \\\\\n",
       "\t2 & 1.0 & 0.0 & 0.0 & 0.0 & 0.0 & 0.0 & 1.0 & 0.0 & $\\dots$ \\\\\n",
       "\t3 & 0.0 & 0.0 & 0.0 & 0.0 & 0.0 & 0.0 & 0.0 & 1.0 & $\\dots$ \\\\\n",
       "\t4 & 1.0 & 0.0 & 0.0 & 0.0 & 0.0 & 0.0 & 0.0 & 1.0 & $\\dots$ \\\\\n",
       "\t5 & 0.0 & 0.0 & 0.0 & 0.0 & 0.0 & 0.0 & 0.0 & 0.0 & $\\dots$ \\\\\n",
       "\t6 & 0.0 & 0.0 & 0.0 & 0.0 & 0.0 & 0.0 & 0.0 & 1.0 & $\\dots$ \\\\\n",
       "\t7 & 0.0 & 0.0 & 0.0 & 0.0 & 1.0 & 0.0 & 0.0 & 1.0 & $\\dots$ \\\\\n",
       "\t8 & 0.0 & 0.0 & 0.0 & 0.0 & 0.0 & 0.0 & 0.0 & 0.0 & $\\dots$ \\\\\n",
       "\t9 & 0.0 & 0.0 & 0.0 & 0.0 & 0.0 & 0.0 & 0.0 & 0.0 & $\\dots$ \\\\\n",
       "\t10 & 1.0 & 0.0 & 0.0 & 0.0 & 0.0 & 0.0 & 0.0 & 0.0 & $\\dots$ \\\\\n",
       "\t11 & 0.0 & 0.0 & 0.0 & 0.0 & 0.0 & 0.0 & 0.0 & 1.0 & $\\dots$ \\\\\n",
       "\t12 & 1.0 & 0.0 & 0.0 & 0.0 & 0.0 & 0.0 & 0.0 & 0.0 & $\\dots$ \\\\\n",
       "\t13 & 0.0 & 0.0 & 0.0 & 0.0 & 0.0 & 0.0 & 0.0 & 0.0 & $\\dots$ \\\\\n",
       "\t14 & 0.0 & 0.0 & 0.0 & 0.0 & 1.0 & 0.0 & 0.0 & 0.0 & $\\dots$ \\\\\n",
       "\t15 & 1.0 & 0.0 & 1.0 & 0.0 & 0.0 & 0.0 & 0.0 & 0.0 & $\\dots$ \\\\\n",
       "\t16 & 0.0 & 0.0 & 0.0 & 0.0 & 1.0 & 0.0 & 0.0 & 0.0 & $\\dots$ \\\\\n",
       "\t17 & 0.0 & 0.0 & 0.0 & 0.0 & 0.0 & 0.0 & 0.0 & 0.0 & $\\dots$ \\\\\n",
       "\t18 & 0.0 & 0.0 & 0.0 & 0.0 & 1.0 & 0.0 & 0.0 & 0.0 & $\\dots$ \\\\\n",
       "\t19 & 0.0 & 0.0 & 0.0 & 0.0 & 0.0 & 0.0 & 0.0 & 0.0 & $\\dots$ \\\\\n",
       "\t20 & 1.0 & 0.0 & 0.0 & 0.0 & 1.0 & 0.0 & 0.0 & 0.0 & $\\dots$ \\\\\n",
       "\t21 & 0.0 & 0.0 & 0.0 & 0.0 & 0.0 & 0.0 & 0.0 & 1.0 & $\\dots$ \\\\\n",
       "\t22 & 1.0 & 0.0 & 0.0 & 0.0 & 0.0 & 0.0 & 0.0 & 0.0 & $\\dots$ \\\\\n",
       "\t23 & 0.0 & 0.0 & 0.0 & 0.0 & 0.0 & 0.0 & 0.0 & 0.0 & $\\dots$ \\\\\n",
       "\t24 & 0.0 & 0.0 & 0.0 & 0.0 & 1.0 & 0.0 & 0.0 & 0.0 & $\\dots$ \\\\\n",
       "\t25 & 1.0 & 0.0 & 0.0 & 0.0 & 1.0 & 0.0 & 0.0 & 0.0 & $\\dots$ \\\\\n",
       "\t26 & 0.0 & 0.0 & 0.0 & 0.0 & 0.0 & 0.0 & 0.0 & 0.0 & $\\dots$ \\\\\n",
       "\t27 & 0.0 & 0.0 & 0.0 & 0.0 & 0.0 & 0.0 & 0.0 & 1.0 & $\\dots$ \\\\\n",
       "\t28 & 1.0 & 0.0 & 0.0 & 0.0 & 0.0 & 0.0 & 0.0 & 0.0 & $\\dots$ \\\\\n",
       "\t29 & 1.0 & 0.0 & 0.0 & 0.0 & 0.0 & 0.0 & 0.0 & 0.0 & $\\dots$ \\\\\n",
       "\t30 & 0.0 & 0.0 & 0.0 & 0.0 & 0.0 & 0.0 & 0.0 & 0.0 & $\\dots$ \\\\\n",
       "\t$\\dots$ & $\\dots$ & $\\dots$ & $\\dots$ & $\\dots$ & $\\dots$ & $\\dots$ & $\\dots$ & $\\dots$ &  \\\\\n",
       "\\end{tabular}\n"
      ],
      "text/plain": [
       "29217×136 DataFrame. Omitted printing of 130 columns\n",
       "│ Row   │ female  │ widowed │ divorced │ separated │ nevermarried │ hsd08   │\n",
       "│       │ \u001b[90mFloat64\u001b[39m │ \u001b[90mFloat64\u001b[39m │ \u001b[90mFloat64\u001b[39m  │ \u001b[90mFloat64\u001b[39m   │ \u001b[90mFloat64\u001b[39m      │ \u001b[90mFloat64\u001b[39m │\n",
       "├───────┼─────────┼─────────┼──────────┼───────────┼──────────────┼─────────┤\n",
       "│ 1     │ 1.0     │ 0.0     │ 0.0      │ 0.0       │ 0.0          │ 0.0     │\n",
       "│ 2     │ 1.0     │ 0.0     │ 0.0      │ 0.0       │ 0.0          │ 0.0     │\n",
       "│ 3     │ 0.0     │ 0.0     │ 0.0      │ 0.0       │ 0.0          │ 0.0     │\n",
       "│ 4     │ 1.0     │ 0.0     │ 0.0      │ 0.0       │ 0.0          │ 0.0     │\n",
       "│ 5     │ 0.0     │ 0.0     │ 0.0      │ 0.0       │ 0.0          │ 0.0     │\n",
       "│ 6     │ 0.0     │ 0.0     │ 0.0      │ 0.0       │ 0.0          │ 0.0     │\n",
       "│ 7     │ 0.0     │ 0.0     │ 0.0      │ 0.0       │ 1.0          │ 0.0     │\n",
       "│ 8     │ 0.0     │ 0.0     │ 0.0      │ 0.0       │ 0.0          │ 0.0     │\n",
       "│ 9     │ 0.0     │ 0.0     │ 0.0      │ 0.0       │ 0.0          │ 0.0     │\n",
       "│ 10    │ 1.0     │ 0.0     │ 0.0      │ 0.0       │ 0.0          │ 0.0     │\n",
       "⋮\n",
       "│ 29207 │ 0.0     │ 0.0     │ 0.0      │ 0.0       │ 1.0          │ 0.0     │\n",
       "│ 29208 │ 1.0     │ 0.0     │ 0.0      │ 0.0       │ 1.0          │ 0.0     │\n",
       "│ 29209 │ 1.0     │ 0.0     │ 0.0      │ 0.0       │ 1.0          │ 0.0     │\n",
       "│ 29210 │ 0.0     │ 0.0     │ 0.0      │ 0.0       │ 0.0          │ 0.0     │\n",
       "│ 29211 │ 0.0     │ 0.0     │ 0.0      │ 0.0       │ 0.0          │ 0.0     │\n",
       "│ 29212 │ 1.0     │ 0.0     │ 0.0      │ 0.0       │ 0.0          │ 0.0     │\n",
       "│ 29213 │ 0.0     │ 0.0     │ 0.0      │ 0.0       │ 1.0          │ 0.0     │\n",
       "│ 29214 │ 1.0     │ 0.0     │ 0.0      │ 0.0       │ 1.0          │ 0.0     │\n",
       "│ 29215 │ 1.0     │ 0.0     │ 0.0      │ 0.0       │ 0.0          │ 0.0     │\n",
       "│ 29216 │ 0.0     │ 0.0     │ 0.0      │ 0.0       │ 0.0          │ 0.0     │\n",
       "│ 29217 │ 1.0     │ 0.0     │ 0.0      │ 0.0       │ 0.0          │ 0.0     │"
      ]
     },
     "execution_count": 57,
     "metadata": {},
     "output_type": "execute_result"
    }
   ],
   "source": [
    "X = DataFrame(X, names_col)"
   ]
  },
  {
   "cell_type": "code",
   "execution_count": 58,
   "id": "efcc6c57",
   "metadata": {},
   "outputs": [],
   "source": [
    "# Function to get index of constant columns   \n",
    "\n",
    "cons_column = []\n",
    "\n",
    "#recoge todos los valores que tengan varianza 0\n",
    "for i in 1:size(X,2)\n",
    "    if var(X[!,i]) == 0\n",
    "        append!(cons_column  , i)      \n",
    "    end       \n",
    "end"
   ]
  },
  {
   "cell_type": "code",
   "execution_count": 59,
   "id": "30dc8f3f",
   "metadata": {},
   "outputs": [
    {
     "data": {
      "text/html": [
       "<table class=\"data-frame\"><thead><tr><th></th><th>female</th><th>widowed</th><th>divorced</th><th>separated</th><th>nevermarried</th><th>hsd08</th><th>hsd911</th><th>hsg</th></tr><tr><th></th><th>Float64</th><th>Float64</th><th>Float64</th><th>Float64</th><th>Float64</th><th>Float64</th><th>Float64</th><th>Float64</th></tr></thead><tbody><p>29,217 rows × 116 columns (omitted printing of 108 columns)</p><tr><th>1</th><td>1.0</td><td>0.0</td><td>0.0</td><td>0.0</td><td>0.0</td><td>0.0</td><td>0.0</td><td>0.0</td></tr><tr><th>2</th><td>1.0</td><td>0.0</td><td>0.0</td><td>0.0</td><td>0.0</td><td>0.0</td><td>1.0</td><td>0.0</td></tr><tr><th>3</th><td>0.0</td><td>0.0</td><td>0.0</td><td>0.0</td><td>0.0</td><td>0.0</td><td>0.0</td><td>1.0</td></tr><tr><th>4</th><td>1.0</td><td>0.0</td><td>0.0</td><td>0.0</td><td>0.0</td><td>0.0</td><td>0.0</td><td>1.0</td></tr><tr><th>5</th><td>0.0</td><td>0.0</td><td>0.0</td><td>0.0</td><td>0.0</td><td>0.0</td><td>0.0</td><td>0.0</td></tr><tr><th>6</th><td>0.0</td><td>0.0</td><td>0.0</td><td>0.0</td><td>0.0</td><td>0.0</td><td>0.0</td><td>1.0</td></tr><tr><th>7</th><td>0.0</td><td>0.0</td><td>0.0</td><td>0.0</td><td>1.0</td><td>0.0</td><td>0.0</td><td>1.0</td></tr><tr><th>8</th><td>0.0</td><td>0.0</td><td>0.0</td><td>0.0</td><td>0.0</td><td>0.0</td><td>0.0</td><td>0.0</td></tr><tr><th>9</th><td>0.0</td><td>0.0</td><td>0.0</td><td>0.0</td><td>0.0</td><td>0.0</td><td>0.0</td><td>0.0</td></tr><tr><th>10</th><td>1.0</td><td>0.0</td><td>0.0</td><td>0.0</td><td>0.0</td><td>0.0</td><td>0.0</td><td>0.0</td></tr><tr><th>11</th><td>0.0</td><td>0.0</td><td>0.0</td><td>0.0</td><td>0.0</td><td>0.0</td><td>0.0</td><td>1.0</td></tr><tr><th>12</th><td>1.0</td><td>0.0</td><td>0.0</td><td>0.0</td><td>0.0</td><td>0.0</td><td>0.0</td><td>0.0</td></tr><tr><th>13</th><td>0.0</td><td>0.0</td><td>0.0</td><td>0.0</td><td>0.0</td><td>0.0</td><td>0.0</td><td>0.0</td></tr><tr><th>14</th><td>0.0</td><td>0.0</td><td>0.0</td><td>0.0</td><td>1.0</td><td>0.0</td><td>0.0</td><td>0.0</td></tr><tr><th>15</th><td>1.0</td><td>0.0</td><td>1.0</td><td>0.0</td><td>0.0</td><td>0.0</td><td>0.0</td><td>0.0</td></tr><tr><th>16</th><td>0.0</td><td>0.0</td><td>0.0</td><td>0.0</td><td>1.0</td><td>0.0</td><td>0.0</td><td>0.0</td></tr><tr><th>17</th><td>0.0</td><td>0.0</td><td>0.0</td><td>0.0</td><td>0.0</td><td>0.0</td><td>0.0</td><td>0.0</td></tr><tr><th>18</th><td>0.0</td><td>0.0</td><td>0.0</td><td>0.0</td><td>1.0</td><td>0.0</td><td>0.0</td><td>0.0</td></tr><tr><th>19</th><td>0.0</td><td>0.0</td><td>0.0</td><td>0.0</td><td>0.0</td><td>0.0</td><td>0.0</td><td>0.0</td></tr><tr><th>20</th><td>1.0</td><td>0.0</td><td>0.0</td><td>0.0</td><td>1.0</td><td>0.0</td><td>0.0</td><td>0.0</td></tr><tr><th>21</th><td>0.0</td><td>0.0</td><td>0.0</td><td>0.0</td><td>0.0</td><td>0.0</td><td>0.0</td><td>1.0</td></tr><tr><th>22</th><td>1.0</td><td>0.0</td><td>0.0</td><td>0.0</td><td>0.0</td><td>0.0</td><td>0.0</td><td>0.0</td></tr><tr><th>23</th><td>0.0</td><td>0.0</td><td>0.0</td><td>0.0</td><td>0.0</td><td>0.0</td><td>0.0</td><td>0.0</td></tr><tr><th>24</th><td>0.0</td><td>0.0</td><td>0.0</td><td>0.0</td><td>1.0</td><td>0.0</td><td>0.0</td><td>0.0</td></tr><tr><th>25</th><td>1.0</td><td>0.0</td><td>0.0</td><td>0.0</td><td>1.0</td><td>0.0</td><td>0.0</td><td>0.0</td></tr><tr><th>26</th><td>0.0</td><td>0.0</td><td>0.0</td><td>0.0</td><td>0.0</td><td>0.0</td><td>0.0</td><td>0.0</td></tr><tr><th>27</th><td>0.0</td><td>0.0</td><td>0.0</td><td>0.0</td><td>0.0</td><td>0.0</td><td>0.0</td><td>1.0</td></tr><tr><th>28</th><td>1.0</td><td>0.0</td><td>0.0</td><td>0.0</td><td>0.0</td><td>0.0</td><td>0.0</td><td>0.0</td></tr><tr><th>29</th><td>1.0</td><td>0.0</td><td>0.0</td><td>0.0</td><td>0.0</td><td>0.0</td><td>0.0</td><td>0.0</td></tr><tr><th>30</th><td>0.0</td><td>0.0</td><td>0.0</td><td>0.0</td><td>0.0</td><td>0.0</td><td>0.0</td><td>0.0</td></tr><tr><th>&vellip;</th><td>&vellip;</td><td>&vellip;</td><td>&vellip;</td><td>&vellip;</td><td>&vellip;</td><td>&vellip;</td><td>&vellip;</td><td>&vellip;</td></tr></tbody></table>"
      ],
      "text/latex": [
       "\\begin{tabular}{r|ccccccccc}\n",
       "\t& female & widowed & divorced & separated & nevermarried & hsd08 & hsd911 & hsg & \\\\\n",
       "\t\\hline\n",
       "\t& Float64 & Float64 & Float64 & Float64 & Float64 & Float64 & Float64 & Float64 & \\\\\n",
       "\t\\hline\n",
       "\t1 & 1.0 & 0.0 & 0.0 & 0.0 & 0.0 & 0.0 & 0.0 & 0.0 & $\\dots$ \\\\\n",
       "\t2 & 1.0 & 0.0 & 0.0 & 0.0 & 0.0 & 0.0 & 1.0 & 0.0 & $\\dots$ \\\\\n",
       "\t3 & 0.0 & 0.0 & 0.0 & 0.0 & 0.0 & 0.0 & 0.0 & 1.0 & $\\dots$ \\\\\n",
       "\t4 & 1.0 & 0.0 & 0.0 & 0.0 & 0.0 & 0.0 & 0.0 & 1.0 & $\\dots$ \\\\\n",
       "\t5 & 0.0 & 0.0 & 0.0 & 0.0 & 0.0 & 0.0 & 0.0 & 0.0 & $\\dots$ \\\\\n",
       "\t6 & 0.0 & 0.0 & 0.0 & 0.0 & 0.0 & 0.0 & 0.0 & 1.0 & $\\dots$ \\\\\n",
       "\t7 & 0.0 & 0.0 & 0.0 & 0.0 & 1.0 & 0.0 & 0.0 & 1.0 & $\\dots$ \\\\\n",
       "\t8 & 0.0 & 0.0 & 0.0 & 0.0 & 0.0 & 0.0 & 0.0 & 0.0 & $\\dots$ \\\\\n",
       "\t9 & 0.0 & 0.0 & 0.0 & 0.0 & 0.0 & 0.0 & 0.0 & 0.0 & $\\dots$ \\\\\n",
       "\t10 & 1.0 & 0.0 & 0.0 & 0.0 & 0.0 & 0.0 & 0.0 & 0.0 & $\\dots$ \\\\\n",
       "\t11 & 0.0 & 0.0 & 0.0 & 0.0 & 0.0 & 0.0 & 0.0 & 1.0 & $\\dots$ \\\\\n",
       "\t12 & 1.0 & 0.0 & 0.0 & 0.0 & 0.0 & 0.0 & 0.0 & 0.0 & $\\dots$ \\\\\n",
       "\t13 & 0.0 & 0.0 & 0.0 & 0.0 & 0.0 & 0.0 & 0.0 & 0.0 & $\\dots$ \\\\\n",
       "\t14 & 0.0 & 0.0 & 0.0 & 0.0 & 1.0 & 0.0 & 0.0 & 0.0 & $\\dots$ \\\\\n",
       "\t15 & 1.0 & 0.0 & 1.0 & 0.0 & 0.0 & 0.0 & 0.0 & 0.0 & $\\dots$ \\\\\n",
       "\t16 & 0.0 & 0.0 & 0.0 & 0.0 & 1.0 & 0.0 & 0.0 & 0.0 & $\\dots$ \\\\\n",
       "\t17 & 0.0 & 0.0 & 0.0 & 0.0 & 0.0 & 0.0 & 0.0 & 0.0 & $\\dots$ \\\\\n",
       "\t18 & 0.0 & 0.0 & 0.0 & 0.0 & 1.0 & 0.0 & 0.0 & 0.0 & $\\dots$ \\\\\n",
       "\t19 & 0.0 & 0.0 & 0.0 & 0.0 & 0.0 & 0.0 & 0.0 & 0.0 & $\\dots$ \\\\\n",
       "\t20 & 1.0 & 0.0 & 0.0 & 0.0 & 1.0 & 0.0 & 0.0 & 0.0 & $\\dots$ \\\\\n",
       "\t21 & 0.0 & 0.0 & 0.0 & 0.0 & 0.0 & 0.0 & 0.0 & 1.0 & $\\dots$ \\\\\n",
       "\t22 & 1.0 & 0.0 & 0.0 & 0.0 & 0.0 & 0.0 & 0.0 & 0.0 & $\\dots$ \\\\\n",
       "\t23 & 0.0 & 0.0 & 0.0 & 0.0 & 0.0 & 0.0 & 0.0 & 0.0 & $\\dots$ \\\\\n",
       "\t24 & 0.0 & 0.0 & 0.0 & 0.0 & 1.0 & 0.0 & 0.0 & 0.0 & $\\dots$ \\\\\n",
       "\t25 & 1.0 & 0.0 & 0.0 & 0.0 & 1.0 & 0.0 & 0.0 & 0.0 & $\\dots$ \\\\\n",
       "\t26 & 0.0 & 0.0 & 0.0 & 0.0 & 0.0 & 0.0 & 0.0 & 0.0 & $\\dots$ \\\\\n",
       "\t27 & 0.0 & 0.0 & 0.0 & 0.0 & 0.0 & 0.0 & 0.0 & 1.0 & $\\dots$ \\\\\n",
       "\t28 & 1.0 & 0.0 & 0.0 & 0.0 & 0.0 & 0.0 & 0.0 & 0.0 & $\\dots$ \\\\\n",
       "\t29 & 1.0 & 0.0 & 0.0 & 0.0 & 0.0 & 0.0 & 0.0 & 0.0 & $\\dots$ \\\\\n",
       "\t30 & 0.0 & 0.0 & 0.0 & 0.0 & 0.0 & 0.0 & 0.0 & 0.0 & $\\dots$ \\\\\n",
       "\t$\\dots$ & $\\dots$ & $\\dots$ & $\\dots$ & $\\dots$ & $\\dots$ & $\\dots$ & $\\dots$ & $\\dots$ &  \\\\\n",
       "\\end{tabular}\n"
      ],
      "text/plain": [
       "29217×116 DataFrame. Omitted printing of 110 columns\n",
       "│ Row   │ female  │ widowed │ divorced │ separated │ nevermarried │ hsd08   │\n",
       "│       │ \u001b[90mFloat64\u001b[39m │ \u001b[90mFloat64\u001b[39m │ \u001b[90mFloat64\u001b[39m  │ \u001b[90mFloat64\u001b[39m   │ \u001b[90mFloat64\u001b[39m      │ \u001b[90mFloat64\u001b[39m │\n",
       "├───────┼─────────┼─────────┼──────────┼───────────┼──────────────┼─────────┤\n",
       "│ 1     │ 1.0     │ 0.0     │ 0.0      │ 0.0       │ 0.0          │ 0.0     │\n",
       "│ 2     │ 1.0     │ 0.0     │ 0.0      │ 0.0       │ 0.0          │ 0.0     │\n",
       "│ 3     │ 0.0     │ 0.0     │ 0.0      │ 0.0       │ 0.0          │ 0.0     │\n",
       "│ 4     │ 1.0     │ 0.0     │ 0.0      │ 0.0       │ 0.0          │ 0.0     │\n",
       "│ 5     │ 0.0     │ 0.0     │ 0.0      │ 0.0       │ 0.0          │ 0.0     │\n",
       "│ 6     │ 0.0     │ 0.0     │ 0.0      │ 0.0       │ 0.0          │ 0.0     │\n",
       "│ 7     │ 0.0     │ 0.0     │ 0.0      │ 0.0       │ 1.0          │ 0.0     │\n",
       "│ 8     │ 0.0     │ 0.0     │ 0.0      │ 0.0       │ 0.0          │ 0.0     │\n",
       "│ 9     │ 0.0     │ 0.0     │ 0.0      │ 0.0       │ 0.0          │ 0.0     │\n",
       "│ 10    │ 1.0     │ 0.0     │ 0.0      │ 0.0       │ 0.0          │ 0.0     │\n",
       "⋮\n",
       "│ 29207 │ 0.0     │ 0.0     │ 0.0      │ 0.0       │ 1.0          │ 0.0     │\n",
       "│ 29208 │ 1.0     │ 0.0     │ 0.0      │ 0.0       │ 1.0          │ 0.0     │\n",
       "│ 29209 │ 1.0     │ 0.0     │ 0.0      │ 0.0       │ 1.0          │ 0.0     │\n",
       "│ 29210 │ 0.0     │ 0.0     │ 0.0      │ 0.0       │ 0.0          │ 0.0     │\n",
       "│ 29211 │ 0.0     │ 0.0     │ 0.0      │ 0.0       │ 0.0          │ 0.0     │\n",
       "│ 29212 │ 1.0     │ 0.0     │ 0.0      │ 0.0       │ 0.0          │ 0.0     │\n",
       "│ 29213 │ 0.0     │ 0.0     │ 0.0      │ 0.0       │ 1.0          │ 0.0     │\n",
       "│ 29214 │ 1.0     │ 0.0     │ 0.0      │ 0.0       │ 1.0          │ 0.0     │\n",
       "│ 29215 │ 1.0     │ 0.0     │ 0.0      │ 0.0       │ 0.0          │ 0.0     │\n",
       "│ 29216 │ 0.0     │ 0.0     │ 0.0      │ 0.0       │ 0.0          │ 0.0     │\n",
       "│ 29217 │ 1.0     │ 0.0     │ 0.0      │ 0.0       │ 0.0          │ 0.0     │"
      ]
     },
     "execution_count": 59,
     "metadata": {},
     "output_type": "execute_result"
    }
   ],
   "source": [
    "# Drop constant columns \n",
    "\n",
    "names(X)[cons_column]\n",
    "select!(X, Not(names(X)[cons_column]))"
   ]
  },
  {
   "cell_type": "code",
   "execution_count": 60,
   "id": "8615a759",
   "metadata": {},
   "outputs": [
    {
     "data": {
      "text/html": [
       "<table class=\"data-frame\"><thead><tr><th></th><th>female</th><th>widowed</th><th>divorced</th><th>separated</th><th>nevermarried</th><th>hsd08</th><th>hsd911</th><th>hsg</th></tr><tr><th></th><th>Float64</th><th>Float64</th><th>Float64</th><th>Float64</th><th>Float64</th><th>Float64</th><th>Float64</th><th>Float64</th></tr></thead><tbody><p>29,217 rows × 116 columns (omitted printing of 108 columns)</p><tr><th>1</th><td>1.0</td><td>0.0</td><td>0.0</td><td>0.0</td><td>0.0</td><td>0.0</td><td>0.0</td><td>0.0</td></tr><tr><th>2</th><td>1.0</td><td>0.0</td><td>0.0</td><td>0.0</td><td>0.0</td><td>0.0</td><td>1.0</td><td>0.0</td></tr><tr><th>3</th><td>0.0</td><td>0.0</td><td>0.0</td><td>0.0</td><td>0.0</td><td>0.0</td><td>0.0</td><td>1.0</td></tr><tr><th>4</th><td>1.0</td><td>0.0</td><td>0.0</td><td>0.0</td><td>0.0</td><td>0.0</td><td>0.0</td><td>1.0</td></tr><tr><th>5</th><td>0.0</td><td>0.0</td><td>0.0</td><td>0.0</td><td>0.0</td><td>0.0</td><td>0.0</td><td>0.0</td></tr><tr><th>6</th><td>0.0</td><td>0.0</td><td>0.0</td><td>0.0</td><td>0.0</td><td>0.0</td><td>0.0</td><td>1.0</td></tr><tr><th>7</th><td>0.0</td><td>0.0</td><td>0.0</td><td>0.0</td><td>1.0</td><td>0.0</td><td>0.0</td><td>1.0</td></tr><tr><th>8</th><td>0.0</td><td>0.0</td><td>0.0</td><td>0.0</td><td>0.0</td><td>0.0</td><td>0.0</td><td>0.0</td></tr><tr><th>9</th><td>0.0</td><td>0.0</td><td>0.0</td><td>0.0</td><td>0.0</td><td>0.0</td><td>0.0</td><td>0.0</td></tr><tr><th>10</th><td>1.0</td><td>0.0</td><td>0.0</td><td>0.0</td><td>0.0</td><td>0.0</td><td>0.0</td><td>0.0</td></tr><tr><th>11</th><td>0.0</td><td>0.0</td><td>0.0</td><td>0.0</td><td>0.0</td><td>0.0</td><td>0.0</td><td>1.0</td></tr><tr><th>12</th><td>1.0</td><td>0.0</td><td>0.0</td><td>0.0</td><td>0.0</td><td>0.0</td><td>0.0</td><td>0.0</td></tr><tr><th>13</th><td>0.0</td><td>0.0</td><td>0.0</td><td>0.0</td><td>0.0</td><td>0.0</td><td>0.0</td><td>0.0</td></tr><tr><th>14</th><td>0.0</td><td>0.0</td><td>0.0</td><td>0.0</td><td>1.0</td><td>0.0</td><td>0.0</td><td>0.0</td></tr><tr><th>15</th><td>1.0</td><td>0.0</td><td>1.0</td><td>0.0</td><td>0.0</td><td>0.0</td><td>0.0</td><td>0.0</td></tr><tr><th>16</th><td>0.0</td><td>0.0</td><td>0.0</td><td>0.0</td><td>1.0</td><td>0.0</td><td>0.0</td><td>0.0</td></tr><tr><th>17</th><td>0.0</td><td>0.0</td><td>0.0</td><td>0.0</td><td>0.0</td><td>0.0</td><td>0.0</td><td>0.0</td></tr><tr><th>18</th><td>0.0</td><td>0.0</td><td>0.0</td><td>0.0</td><td>1.0</td><td>0.0</td><td>0.0</td><td>0.0</td></tr><tr><th>19</th><td>0.0</td><td>0.0</td><td>0.0</td><td>0.0</td><td>0.0</td><td>0.0</td><td>0.0</td><td>0.0</td></tr><tr><th>20</th><td>1.0</td><td>0.0</td><td>0.0</td><td>0.0</td><td>1.0</td><td>0.0</td><td>0.0</td><td>0.0</td></tr><tr><th>21</th><td>0.0</td><td>0.0</td><td>0.0</td><td>0.0</td><td>0.0</td><td>0.0</td><td>0.0</td><td>1.0</td></tr><tr><th>22</th><td>1.0</td><td>0.0</td><td>0.0</td><td>0.0</td><td>0.0</td><td>0.0</td><td>0.0</td><td>0.0</td></tr><tr><th>23</th><td>0.0</td><td>0.0</td><td>0.0</td><td>0.0</td><td>0.0</td><td>0.0</td><td>0.0</td><td>0.0</td></tr><tr><th>24</th><td>0.0</td><td>0.0</td><td>0.0</td><td>0.0</td><td>1.0</td><td>0.0</td><td>0.0</td><td>0.0</td></tr><tr><th>25</th><td>1.0</td><td>0.0</td><td>0.0</td><td>0.0</td><td>1.0</td><td>0.0</td><td>0.0</td><td>0.0</td></tr><tr><th>26</th><td>0.0</td><td>0.0</td><td>0.0</td><td>0.0</td><td>0.0</td><td>0.0</td><td>0.0</td><td>0.0</td></tr><tr><th>27</th><td>0.0</td><td>0.0</td><td>0.0</td><td>0.0</td><td>0.0</td><td>0.0</td><td>0.0</td><td>1.0</td></tr><tr><th>28</th><td>1.0</td><td>0.0</td><td>0.0</td><td>0.0</td><td>0.0</td><td>0.0</td><td>0.0</td><td>0.0</td></tr><tr><th>29</th><td>1.0</td><td>0.0</td><td>0.0</td><td>0.0</td><td>0.0</td><td>0.0</td><td>0.0</td><td>0.0</td></tr><tr><th>30</th><td>0.0</td><td>0.0</td><td>0.0</td><td>0.0</td><td>0.0</td><td>0.0</td><td>0.0</td><td>0.0</td></tr><tr><th>&vellip;</th><td>&vellip;</td><td>&vellip;</td><td>&vellip;</td><td>&vellip;</td><td>&vellip;</td><td>&vellip;</td><td>&vellip;</td><td>&vellip;</td></tr></tbody></table>"
      ],
      "text/latex": [
       "\\begin{tabular}{r|ccccccccc}\n",
       "\t& female & widowed & divorced & separated & nevermarried & hsd08 & hsd911 & hsg & \\\\\n",
       "\t\\hline\n",
       "\t& Float64 & Float64 & Float64 & Float64 & Float64 & Float64 & Float64 & Float64 & \\\\\n",
       "\t\\hline\n",
       "\t1 & 1.0 & 0.0 & 0.0 & 0.0 & 0.0 & 0.0 & 0.0 & 0.0 & $\\dots$ \\\\\n",
       "\t2 & 1.0 & 0.0 & 0.0 & 0.0 & 0.0 & 0.0 & 1.0 & 0.0 & $\\dots$ \\\\\n",
       "\t3 & 0.0 & 0.0 & 0.0 & 0.0 & 0.0 & 0.0 & 0.0 & 1.0 & $\\dots$ \\\\\n",
       "\t4 & 1.0 & 0.0 & 0.0 & 0.0 & 0.0 & 0.0 & 0.0 & 1.0 & $\\dots$ \\\\\n",
       "\t5 & 0.0 & 0.0 & 0.0 & 0.0 & 0.0 & 0.0 & 0.0 & 0.0 & $\\dots$ \\\\\n",
       "\t6 & 0.0 & 0.0 & 0.0 & 0.0 & 0.0 & 0.0 & 0.0 & 1.0 & $\\dots$ \\\\\n",
       "\t7 & 0.0 & 0.0 & 0.0 & 0.0 & 1.0 & 0.0 & 0.0 & 1.0 & $\\dots$ \\\\\n",
       "\t8 & 0.0 & 0.0 & 0.0 & 0.0 & 0.0 & 0.0 & 0.0 & 0.0 & $\\dots$ \\\\\n",
       "\t9 & 0.0 & 0.0 & 0.0 & 0.0 & 0.0 & 0.0 & 0.0 & 0.0 & $\\dots$ \\\\\n",
       "\t10 & 1.0 & 0.0 & 0.0 & 0.0 & 0.0 & 0.0 & 0.0 & 0.0 & $\\dots$ \\\\\n",
       "\t11 & 0.0 & 0.0 & 0.0 & 0.0 & 0.0 & 0.0 & 0.0 & 1.0 & $\\dots$ \\\\\n",
       "\t12 & 1.0 & 0.0 & 0.0 & 0.0 & 0.0 & 0.0 & 0.0 & 0.0 & $\\dots$ \\\\\n",
       "\t13 & 0.0 & 0.0 & 0.0 & 0.0 & 0.0 & 0.0 & 0.0 & 0.0 & $\\dots$ \\\\\n",
       "\t14 & 0.0 & 0.0 & 0.0 & 0.0 & 1.0 & 0.0 & 0.0 & 0.0 & $\\dots$ \\\\\n",
       "\t15 & 1.0 & 0.0 & 1.0 & 0.0 & 0.0 & 0.0 & 0.0 & 0.0 & $\\dots$ \\\\\n",
       "\t16 & 0.0 & 0.0 & 0.0 & 0.0 & 1.0 & 0.0 & 0.0 & 0.0 & $\\dots$ \\\\\n",
       "\t17 & 0.0 & 0.0 & 0.0 & 0.0 & 0.0 & 0.0 & 0.0 & 0.0 & $\\dots$ \\\\\n",
       "\t18 & 0.0 & 0.0 & 0.0 & 0.0 & 1.0 & 0.0 & 0.0 & 0.0 & $\\dots$ \\\\\n",
       "\t19 & 0.0 & 0.0 & 0.0 & 0.0 & 0.0 & 0.0 & 0.0 & 0.0 & $\\dots$ \\\\\n",
       "\t20 & 1.0 & 0.0 & 0.0 & 0.0 & 1.0 & 0.0 & 0.0 & 0.0 & $\\dots$ \\\\\n",
       "\t21 & 0.0 & 0.0 & 0.0 & 0.0 & 0.0 & 0.0 & 0.0 & 1.0 & $\\dots$ \\\\\n",
       "\t22 & 1.0 & 0.0 & 0.0 & 0.0 & 0.0 & 0.0 & 0.0 & 0.0 & $\\dots$ \\\\\n",
       "\t23 & 0.0 & 0.0 & 0.0 & 0.0 & 0.0 & 0.0 & 0.0 & 0.0 & $\\dots$ \\\\\n",
       "\t24 & 0.0 & 0.0 & 0.0 & 0.0 & 1.0 & 0.0 & 0.0 & 0.0 & $\\dots$ \\\\\n",
       "\t25 & 1.0 & 0.0 & 0.0 & 0.0 & 1.0 & 0.0 & 0.0 & 0.0 & $\\dots$ \\\\\n",
       "\t26 & 0.0 & 0.0 & 0.0 & 0.0 & 0.0 & 0.0 & 0.0 & 0.0 & $\\dots$ \\\\\n",
       "\t27 & 0.0 & 0.0 & 0.0 & 0.0 & 0.0 & 0.0 & 0.0 & 1.0 & $\\dots$ \\\\\n",
       "\t28 & 1.0 & 0.0 & 0.0 & 0.0 & 0.0 & 0.0 & 0.0 & 0.0 & $\\dots$ \\\\\n",
       "\t29 & 1.0 & 0.0 & 0.0 & 0.0 & 0.0 & 0.0 & 0.0 & 0.0 & $\\dots$ \\\\\n",
       "\t30 & 0.0 & 0.0 & 0.0 & 0.0 & 0.0 & 0.0 & 0.0 & 0.0 & $\\dots$ \\\\\n",
       "\t$\\dots$ & $\\dots$ & $\\dots$ & $\\dots$ & $\\dots$ & $\\dots$ & $\\dots$ & $\\dots$ & $\\dots$ &  \\\\\n",
       "\\end{tabular}\n"
      ],
      "text/plain": [
       "29217×116 DataFrame. Omitted printing of 110 columns\n",
       "│ Row   │ female  │ widowed │ divorced │ separated │ nevermarried │ hsd08   │\n",
       "│       │ \u001b[90mFloat64\u001b[39m │ \u001b[90mFloat64\u001b[39m │ \u001b[90mFloat64\u001b[39m  │ \u001b[90mFloat64\u001b[39m   │ \u001b[90mFloat64\u001b[39m      │ \u001b[90mFloat64\u001b[39m │\n",
       "├───────┼─────────┼─────────┼──────────┼───────────┼──────────────┼─────────┤\n",
       "│ 1     │ 1.0     │ 0.0     │ 0.0      │ 0.0       │ 0.0          │ 0.0     │\n",
       "│ 2     │ 1.0     │ 0.0     │ 0.0      │ 0.0       │ 0.0          │ 0.0     │\n",
       "│ 3     │ 0.0     │ 0.0     │ 0.0      │ 0.0       │ 0.0          │ 0.0     │\n",
       "│ 4     │ 1.0     │ 0.0     │ 0.0      │ 0.0       │ 0.0          │ 0.0     │\n",
       "│ 5     │ 0.0     │ 0.0     │ 0.0      │ 0.0       │ 0.0          │ 0.0     │\n",
       "│ 6     │ 0.0     │ 0.0     │ 0.0      │ 0.0       │ 0.0          │ 0.0     │\n",
       "│ 7     │ 0.0     │ 0.0     │ 0.0      │ 0.0       │ 1.0          │ 0.0     │\n",
       "│ 8     │ 0.0     │ 0.0     │ 0.0      │ 0.0       │ 0.0          │ 0.0     │\n",
       "│ 9     │ 0.0     │ 0.0     │ 0.0      │ 0.0       │ 0.0          │ 0.0     │\n",
       "│ 10    │ 1.0     │ 0.0     │ 0.0      │ 0.0       │ 0.0          │ 0.0     │\n",
       "⋮\n",
       "│ 29207 │ 0.0     │ 0.0     │ 0.0      │ 0.0       │ 1.0          │ 0.0     │\n",
       "│ 29208 │ 1.0     │ 0.0     │ 0.0      │ 0.0       │ 1.0          │ 0.0     │\n",
       "│ 29209 │ 1.0     │ 0.0     │ 0.0      │ 0.0       │ 1.0          │ 0.0     │\n",
       "│ 29210 │ 0.0     │ 0.0     │ 0.0      │ 0.0       │ 0.0          │ 0.0     │\n",
       "│ 29211 │ 0.0     │ 0.0     │ 0.0      │ 0.0       │ 0.0          │ 0.0     │\n",
       "│ 29212 │ 1.0     │ 0.0     │ 0.0      │ 0.0       │ 0.0          │ 0.0     │\n",
       "│ 29213 │ 0.0     │ 0.0     │ 0.0      │ 0.0       │ 1.0          │ 0.0     │\n",
       "│ 29214 │ 1.0     │ 0.0     │ 0.0      │ 0.0       │ 1.0          │ 0.0     │\n",
       "│ 29215 │ 1.0     │ 0.0     │ 0.0      │ 0.0       │ 0.0          │ 0.0     │\n",
       "│ 29216 │ 0.0     │ 0.0     │ 0.0      │ 0.0       │ 0.0          │ 0.0     │\n",
       "│ 29217 │ 1.0     │ 0.0     │ 0.0      │ 0.0       │ 0.0          │ 0.0     │"
      ]
     },
     "execution_count": 60,
     "metadata": {},
     "output_type": "execute_result"
    }
   ],
   "source": [
    "X"
   ]
  },
  {
   "cell_type": "code",
   "execution_count": 61,
   "id": "f96495ff",
   "metadata": {},
   "outputs": [
    {
     "data": {
      "text/html": [
       "<table class=\"data-frame\"><thead><tr><th></th><th>female</th><th>widowed</th><th>divorced</th><th>separated</th><th>nevermarried</th><th>hsd08</th><th>hsd911</th></tr><tr><th></th><th>Float64</th><th>Float64</th><th>Float64</th><th>Float64</th><th>Float64</th><th>Float64</th><th>Float64</th></tr></thead><tbody><p>29,217 rows × 116 columns (omitted printing of 109 columns)</p><tr><th>1</th><td>0.571243</td><td>-0.00797481</td><td>-0.113393</td><td>-0.0165999</td><td>-0.156347</td><td>-0.0041072</td><td>-0.0221789</td></tr><tr><th>2</th><td>0.571243</td><td>-0.00797481</td><td>-0.113393</td><td>-0.0165999</td><td>-0.156347</td><td>-0.0041072</td><td>0.977821</td></tr><tr><th>3</th><td>-0.428757</td><td>-0.00797481</td><td>-0.113393</td><td>-0.0165999</td><td>-0.156347</td><td>-0.0041072</td><td>-0.0221789</td></tr><tr><th>4</th><td>0.571243</td><td>-0.00797481</td><td>-0.113393</td><td>-0.0165999</td><td>-0.156347</td><td>-0.0041072</td><td>-0.0221789</td></tr><tr><th>5</th><td>-0.428757</td><td>-0.00797481</td><td>-0.113393</td><td>-0.0165999</td><td>-0.156347</td><td>-0.0041072</td><td>-0.0221789</td></tr><tr><th>6</th><td>-0.428757</td><td>-0.00797481</td><td>-0.113393</td><td>-0.0165999</td><td>-0.156347</td><td>-0.0041072</td><td>-0.0221789</td></tr><tr><th>7</th><td>-0.428757</td><td>-0.00797481</td><td>-0.113393</td><td>-0.0165999</td><td>0.843653</td><td>-0.0041072</td><td>-0.0221789</td></tr><tr><th>8</th><td>-0.428757</td><td>-0.00797481</td><td>-0.113393</td><td>-0.0165999</td><td>-0.156347</td><td>-0.0041072</td><td>-0.0221789</td></tr><tr><th>9</th><td>-0.428757</td><td>-0.00797481</td><td>-0.113393</td><td>-0.0165999</td><td>-0.156347</td><td>-0.0041072</td><td>-0.0221789</td></tr><tr><th>10</th><td>0.571243</td><td>-0.00797481</td><td>-0.113393</td><td>-0.0165999</td><td>-0.156347</td><td>-0.0041072</td><td>-0.0221789</td></tr><tr><th>11</th><td>-0.428757</td><td>-0.00797481</td><td>-0.113393</td><td>-0.0165999</td><td>-0.156347</td><td>-0.0041072</td><td>-0.0221789</td></tr><tr><th>12</th><td>0.571243</td><td>-0.00797481</td><td>-0.113393</td><td>-0.0165999</td><td>-0.156347</td><td>-0.0041072</td><td>-0.0221789</td></tr><tr><th>13</th><td>-0.428757</td><td>-0.00797481</td><td>-0.113393</td><td>-0.0165999</td><td>-0.156347</td><td>-0.0041072</td><td>-0.0221789</td></tr><tr><th>14</th><td>-0.428757</td><td>-0.00797481</td><td>-0.113393</td><td>-0.0165999</td><td>0.843653</td><td>-0.0041072</td><td>-0.0221789</td></tr><tr><th>15</th><td>0.571243</td><td>-0.00797481</td><td>0.886607</td><td>-0.0165999</td><td>-0.156347</td><td>-0.0041072</td><td>-0.0221789</td></tr><tr><th>16</th><td>-0.428757</td><td>-0.00797481</td><td>-0.113393</td><td>-0.0165999</td><td>0.843653</td><td>-0.0041072</td><td>-0.0221789</td></tr><tr><th>17</th><td>-0.428757</td><td>-0.00797481</td><td>-0.113393</td><td>-0.0165999</td><td>-0.156347</td><td>-0.0041072</td><td>-0.0221789</td></tr><tr><th>18</th><td>-0.428757</td><td>-0.00797481</td><td>-0.113393</td><td>-0.0165999</td><td>0.843653</td><td>-0.0041072</td><td>-0.0221789</td></tr><tr><th>19</th><td>-0.428757</td><td>-0.00797481</td><td>-0.113393</td><td>-0.0165999</td><td>-0.156347</td><td>-0.0041072</td><td>-0.0221789</td></tr><tr><th>20</th><td>0.571243</td><td>-0.00797481</td><td>-0.113393</td><td>-0.0165999</td><td>0.843653</td><td>-0.0041072</td><td>-0.0221789</td></tr><tr><th>21</th><td>-0.428757</td><td>-0.00797481</td><td>-0.113393</td><td>-0.0165999</td><td>-0.156347</td><td>-0.0041072</td><td>-0.0221789</td></tr><tr><th>22</th><td>0.571243</td><td>-0.00797481</td><td>-0.113393</td><td>-0.0165999</td><td>-0.156347</td><td>-0.0041072</td><td>-0.0221789</td></tr><tr><th>23</th><td>-0.428757</td><td>-0.00797481</td><td>-0.113393</td><td>-0.0165999</td><td>-0.156347</td><td>-0.0041072</td><td>-0.0221789</td></tr><tr><th>24</th><td>-0.428757</td><td>-0.00797481</td><td>-0.113393</td><td>-0.0165999</td><td>0.843653</td><td>-0.0041072</td><td>-0.0221789</td></tr><tr><th>25</th><td>0.571243</td><td>-0.00797481</td><td>-0.113393</td><td>-0.0165999</td><td>0.843653</td><td>-0.0041072</td><td>-0.0221789</td></tr><tr><th>26</th><td>-0.428757</td><td>-0.00797481</td><td>-0.113393</td><td>-0.0165999</td><td>-0.156347</td><td>-0.0041072</td><td>-0.0221789</td></tr><tr><th>27</th><td>-0.428757</td><td>-0.00797481</td><td>-0.113393</td><td>-0.0165999</td><td>-0.156347</td><td>-0.0041072</td><td>-0.0221789</td></tr><tr><th>28</th><td>0.571243</td><td>-0.00797481</td><td>-0.113393</td><td>-0.0165999</td><td>-0.156347</td><td>-0.0041072</td><td>-0.0221789</td></tr><tr><th>29</th><td>0.571243</td><td>-0.00797481</td><td>-0.113393</td><td>-0.0165999</td><td>-0.156347</td><td>-0.0041072</td><td>-0.0221789</td></tr><tr><th>30</th><td>-0.428757</td><td>-0.00797481</td><td>-0.113393</td><td>-0.0165999</td><td>-0.156347</td><td>-0.0041072</td><td>-0.0221789</td></tr><tr><th>&vellip;</th><td>&vellip;</td><td>&vellip;</td><td>&vellip;</td><td>&vellip;</td><td>&vellip;</td><td>&vellip;</td><td>&vellip;</td></tr></tbody></table>"
      ],
      "text/latex": [
       "\\begin{tabular}{r|cccccccc}\n",
       "\t& female & widowed & divorced & separated & nevermarried & hsd08 & hsd911 & \\\\\n",
       "\t\\hline\n",
       "\t& Float64 & Float64 & Float64 & Float64 & Float64 & Float64 & Float64 & \\\\\n",
       "\t\\hline\n",
       "\t1 & 0.571243 & -0.00797481 & -0.113393 & -0.0165999 & -0.156347 & -0.0041072 & -0.0221789 & $\\dots$ \\\\\n",
       "\t2 & 0.571243 & -0.00797481 & -0.113393 & -0.0165999 & -0.156347 & -0.0041072 & 0.977821 & $\\dots$ \\\\\n",
       "\t3 & -0.428757 & -0.00797481 & -0.113393 & -0.0165999 & -0.156347 & -0.0041072 & -0.0221789 & $\\dots$ \\\\\n",
       "\t4 & 0.571243 & -0.00797481 & -0.113393 & -0.0165999 & -0.156347 & -0.0041072 & -0.0221789 & $\\dots$ \\\\\n",
       "\t5 & -0.428757 & -0.00797481 & -0.113393 & -0.0165999 & -0.156347 & -0.0041072 & -0.0221789 & $\\dots$ \\\\\n",
       "\t6 & -0.428757 & -0.00797481 & -0.113393 & -0.0165999 & -0.156347 & -0.0041072 & -0.0221789 & $\\dots$ \\\\\n",
       "\t7 & -0.428757 & -0.00797481 & -0.113393 & -0.0165999 & 0.843653 & -0.0041072 & -0.0221789 & $\\dots$ \\\\\n",
       "\t8 & -0.428757 & -0.00797481 & -0.113393 & -0.0165999 & -0.156347 & -0.0041072 & -0.0221789 & $\\dots$ \\\\\n",
       "\t9 & -0.428757 & -0.00797481 & -0.113393 & -0.0165999 & -0.156347 & -0.0041072 & -0.0221789 & $\\dots$ \\\\\n",
       "\t10 & 0.571243 & -0.00797481 & -0.113393 & -0.0165999 & -0.156347 & -0.0041072 & -0.0221789 & $\\dots$ \\\\\n",
       "\t11 & -0.428757 & -0.00797481 & -0.113393 & -0.0165999 & -0.156347 & -0.0041072 & -0.0221789 & $\\dots$ \\\\\n",
       "\t12 & 0.571243 & -0.00797481 & -0.113393 & -0.0165999 & -0.156347 & -0.0041072 & -0.0221789 & $\\dots$ \\\\\n",
       "\t13 & -0.428757 & -0.00797481 & -0.113393 & -0.0165999 & -0.156347 & -0.0041072 & -0.0221789 & $\\dots$ \\\\\n",
       "\t14 & -0.428757 & -0.00797481 & -0.113393 & -0.0165999 & 0.843653 & -0.0041072 & -0.0221789 & $\\dots$ \\\\\n",
       "\t15 & 0.571243 & -0.00797481 & 0.886607 & -0.0165999 & -0.156347 & -0.0041072 & -0.0221789 & $\\dots$ \\\\\n",
       "\t16 & -0.428757 & -0.00797481 & -0.113393 & -0.0165999 & 0.843653 & -0.0041072 & -0.0221789 & $\\dots$ \\\\\n",
       "\t17 & -0.428757 & -0.00797481 & -0.113393 & -0.0165999 & -0.156347 & -0.0041072 & -0.0221789 & $\\dots$ \\\\\n",
       "\t18 & -0.428757 & -0.00797481 & -0.113393 & -0.0165999 & 0.843653 & -0.0041072 & -0.0221789 & $\\dots$ \\\\\n",
       "\t19 & -0.428757 & -0.00797481 & -0.113393 & -0.0165999 & -0.156347 & -0.0041072 & -0.0221789 & $\\dots$ \\\\\n",
       "\t20 & 0.571243 & -0.00797481 & -0.113393 & -0.0165999 & 0.843653 & -0.0041072 & -0.0221789 & $\\dots$ \\\\\n",
       "\t21 & -0.428757 & -0.00797481 & -0.113393 & -0.0165999 & -0.156347 & -0.0041072 & -0.0221789 & $\\dots$ \\\\\n",
       "\t22 & 0.571243 & -0.00797481 & -0.113393 & -0.0165999 & -0.156347 & -0.0041072 & -0.0221789 & $\\dots$ \\\\\n",
       "\t23 & -0.428757 & -0.00797481 & -0.113393 & -0.0165999 & -0.156347 & -0.0041072 & -0.0221789 & $\\dots$ \\\\\n",
       "\t24 & -0.428757 & -0.00797481 & -0.113393 & -0.0165999 & 0.843653 & -0.0041072 & -0.0221789 & $\\dots$ \\\\\n",
       "\t25 & 0.571243 & -0.00797481 & -0.113393 & -0.0165999 & 0.843653 & -0.0041072 & -0.0221789 & $\\dots$ \\\\\n",
       "\t26 & -0.428757 & -0.00797481 & -0.113393 & -0.0165999 & -0.156347 & -0.0041072 & -0.0221789 & $\\dots$ \\\\\n",
       "\t27 & -0.428757 & -0.00797481 & -0.113393 & -0.0165999 & -0.156347 & -0.0041072 & -0.0221789 & $\\dots$ \\\\\n",
       "\t28 & 0.571243 & -0.00797481 & -0.113393 & -0.0165999 & -0.156347 & -0.0041072 & -0.0221789 & $\\dots$ \\\\\n",
       "\t29 & 0.571243 & -0.00797481 & -0.113393 & -0.0165999 & -0.156347 & -0.0041072 & -0.0221789 & $\\dots$ \\\\\n",
       "\t30 & -0.428757 & -0.00797481 & -0.113393 & -0.0165999 & -0.156347 & -0.0041072 & -0.0221789 & $\\dots$ \\\\\n",
       "\t$\\dots$ & $\\dots$ & $\\dots$ & $\\dots$ & $\\dots$ & $\\dots$ & $\\dots$ & $\\dots$ &  \\\\\n",
       "\\end{tabular}\n"
      ],
      "text/plain": [
       "29217×116 DataFrame. Omitted printing of 111 columns\n",
       "│ Row   │ female    │ widowed     │ divorced  │ separated  │ nevermarried │\n",
       "│       │ \u001b[90mFloat64\u001b[39m   │ \u001b[90mFloat64\u001b[39m     │ \u001b[90mFloat64\u001b[39m   │ \u001b[90mFloat64\u001b[39m    │ \u001b[90mFloat64\u001b[39m      │\n",
       "├───────┼───────────┼─────────────┼───────────┼────────────┼──────────────┤\n",
       "│ 1     │ 0.571243  │ -0.00797481 │ -0.113393 │ -0.0165999 │ -0.156347    │\n",
       "│ 2     │ 0.571243  │ -0.00797481 │ -0.113393 │ -0.0165999 │ -0.156347    │\n",
       "│ 3     │ -0.428757 │ -0.00797481 │ -0.113393 │ -0.0165999 │ -0.156347    │\n",
       "│ 4     │ 0.571243  │ -0.00797481 │ -0.113393 │ -0.0165999 │ -0.156347    │\n",
       "│ 5     │ -0.428757 │ -0.00797481 │ -0.113393 │ -0.0165999 │ -0.156347    │\n",
       "│ 6     │ -0.428757 │ -0.00797481 │ -0.113393 │ -0.0165999 │ -0.156347    │\n",
       "│ 7     │ -0.428757 │ -0.00797481 │ -0.113393 │ -0.0165999 │ 0.843653     │\n",
       "│ 8     │ -0.428757 │ -0.00797481 │ -0.113393 │ -0.0165999 │ -0.156347    │\n",
       "│ 9     │ -0.428757 │ -0.00797481 │ -0.113393 │ -0.0165999 │ -0.156347    │\n",
       "│ 10    │ 0.571243  │ -0.00797481 │ -0.113393 │ -0.0165999 │ -0.156347    │\n",
       "⋮\n",
       "│ 29207 │ -0.428757 │ -0.00797481 │ -0.113393 │ -0.0165999 │ 0.843653     │\n",
       "│ 29208 │ 0.571243  │ -0.00797481 │ -0.113393 │ -0.0165999 │ 0.843653     │\n",
       "│ 29209 │ 0.571243  │ -0.00797481 │ -0.113393 │ -0.0165999 │ 0.843653     │\n",
       "│ 29210 │ -0.428757 │ -0.00797481 │ -0.113393 │ -0.0165999 │ -0.156347    │\n",
       "│ 29211 │ -0.428757 │ -0.00797481 │ -0.113393 │ -0.0165999 │ -0.156347    │\n",
       "│ 29212 │ 0.571243  │ -0.00797481 │ -0.113393 │ -0.0165999 │ -0.156347    │\n",
       "│ 29213 │ -0.428757 │ -0.00797481 │ -0.113393 │ -0.0165999 │ 0.843653     │\n",
       "│ 29214 │ 0.571243  │ -0.00797481 │ -0.113393 │ -0.0165999 │ 0.843653     │\n",
       "│ 29215 │ 0.571243  │ -0.00797481 │ -0.113393 │ -0.0165999 │ -0.156347    │\n",
       "│ 29216 │ -0.428757 │ -0.00797481 │ -0.113393 │ -0.0165999 │ -0.156347    │\n",
       "│ 29217 │ 0.571243  │ -0.00797481 │ -0.113393 │ -0.0165999 │ -0.156347    │"
      ]
     },
     "execution_count": 61,
     "metadata": {},
     "output_type": "execute_result"
    }
   ],
   "source": [
    "# demean function\n",
    "function desv_mean(a)\n",
    "    a = Matrix(a)   # dataframe to matrix \n",
    "    A = mean(a, dims = 1)\n",
    "    M = zeros(Float64, size(X,1), size(X,2))\n",
    "    \n",
    "    for i in 1:size(a,2)\n",
    "          M[:,i] = a[:,i] .- A[i]\n",
    "    end\n",
    "    \n",
    "    return M\n",
    "end    \n",
    "\n",
    "\n",
    "# Matrix Model & demean\n",
    "\n",
    "X = DataFrame(desv_mean(X), names(X)) # Dataframe and names "
   ]
  },
  {
   "cell_type": "code",
   "execution_count": 62,
   "id": "327a346f",
   "metadata": {},
   "outputs": [],
   "source": [
    "# index to get columns that contains female\n",
    "\n",
    "index = []\n",
    "\n",
    "for i in 1:size(X,2)  \n",
    "        if contains( names(X)[i] , \"female\")\n",
    "            append!(index, i)\n",
    "        end  \n",
    "end"
   ]
  },
  {
   "cell_type": "code",
   "execution_count": 63,
   "id": "60bab88e",
   "metadata": {},
   "outputs": [
    {
     "data": {
      "text/html": [
       "<table class=\"data-frame\"><thead><tr><th></th><th>widowed</th><th>divorced</th><th>separated</th><th>nevermarried</th><th>hsd08</th><th>hsd911</th><th>hsg</th></tr><tr><th></th><th>Float64</th><th>Float64</th><th>Float64</th><th>Float64</th><th>Float64</th><th>Float64</th><th>Float64</th></tr></thead><tbody><p>29,217 rows × 100 columns (omitted printing of 93 columns)</p><tr><th>1</th><td>-0.00797481</td><td>-0.113393</td><td>-0.0165999</td><td>-0.156347</td><td>-0.0041072</td><td>-0.0221789</td><td>-0.247288</td></tr><tr><th>2</th><td>-0.00797481</td><td>-0.113393</td><td>-0.0165999</td><td>-0.156347</td><td>-0.0041072</td><td>0.977821</td><td>-0.247288</td></tr><tr><th>3</th><td>-0.00797481</td><td>-0.113393</td><td>-0.0165999</td><td>-0.156347</td><td>-0.0041072</td><td>-0.0221789</td><td>0.752712</td></tr><tr><th>4</th><td>-0.00797481</td><td>-0.113393</td><td>-0.0165999</td><td>-0.156347</td><td>-0.0041072</td><td>-0.0221789</td><td>0.752712</td></tr><tr><th>5</th><td>-0.00797481</td><td>-0.113393</td><td>-0.0165999</td><td>-0.156347</td><td>-0.0041072</td><td>-0.0221789</td><td>-0.247288</td></tr><tr><th>6</th><td>-0.00797481</td><td>-0.113393</td><td>-0.0165999</td><td>-0.156347</td><td>-0.0041072</td><td>-0.0221789</td><td>0.752712</td></tr><tr><th>7</th><td>-0.00797481</td><td>-0.113393</td><td>-0.0165999</td><td>0.843653</td><td>-0.0041072</td><td>-0.0221789</td><td>0.752712</td></tr><tr><th>8</th><td>-0.00797481</td><td>-0.113393</td><td>-0.0165999</td><td>-0.156347</td><td>-0.0041072</td><td>-0.0221789</td><td>-0.247288</td></tr><tr><th>9</th><td>-0.00797481</td><td>-0.113393</td><td>-0.0165999</td><td>-0.156347</td><td>-0.0041072</td><td>-0.0221789</td><td>-0.247288</td></tr><tr><th>10</th><td>-0.00797481</td><td>-0.113393</td><td>-0.0165999</td><td>-0.156347</td><td>-0.0041072</td><td>-0.0221789</td><td>-0.247288</td></tr><tr><th>11</th><td>-0.00797481</td><td>-0.113393</td><td>-0.0165999</td><td>-0.156347</td><td>-0.0041072</td><td>-0.0221789</td><td>0.752712</td></tr><tr><th>12</th><td>-0.00797481</td><td>-0.113393</td><td>-0.0165999</td><td>-0.156347</td><td>-0.0041072</td><td>-0.0221789</td><td>-0.247288</td></tr><tr><th>13</th><td>-0.00797481</td><td>-0.113393</td><td>-0.0165999</td><td>-0.156347</td><td>-0.0041072</td><td>-0.0221789</td><td>-0.247288</td></tr><tr><th>14</th><td>-0.00797481</td><td>-0.113393</td><td>-0.0165999</td><td>0.843653</td><td>-0.0041072</td><td>-0.0221789</td><td>-0.247288</td></tr><tr><th>15</th><td>-0.00797481</td><td>0.886607</td><td>-0.0165999</td><td>-0.156347</td><td>-0.0041072</td><td>-0.0221789</td><td>-0.247288</td></tr><tr><th>16</th><td>-0.00797481</td><td>-0.113393</td><td>-0.0165999</td><td>0.843653</td><td>-0.0041072</td><td>-0.0221789</td><td>-0.247288</td></tr><tr><th>17</th><td>-0.00797481</td><td>-0.113393</td><td>-0.0165999</td><td>-0.156347</td><td>-0.0041072</td><td>-0.0221789</td><td>-0.247288</td></tr><tr><th>18</th><td>-0.00797481</td><td>-0.113393</td><td>-0.0165999</td><td>0.843653</td><td>-0.0041072</td><td>-0.0221789</td><td>-0.247288</td></tr><tr><th>19</th><td>-0.00797481</td><td>-0.113393</td><td>-0.0165999</td><td>-0.156347</td><td>-0.0041072</td><td>-0.0221789</td><td>-0.247288</td></tr><tr><th>20</th><td>-0.00797481</td><td>-0.113393</td><td>-0.0165999</td><td>0.843653</td><td>-0.0041072</td><td>-0.0221789</td><td>-0.247288</td></tr><tr><th>21</th><td>-0.00797481</td><td>-0.113393</td><td>-0.0165999</td><td>-0.156347</td><td>-0.0041072</td><td>-0.0221789</td><td>0.752712</td></tr><tr><th>22</th><td>-0.00797481</td><td>-0.113393</td><td>-0.0165999</td><td>-0.156347</td><td>-0.0041072</td><td>-0.0221789</td><td>-0.247288</td></tr><tr><th>23</th><td>-0.00797481</td><td>-0.113393</td><td>-0.0165999</td><td>-0.156347</td><td>-0.0041072</td><td>-0.0221789</td><td>-0.247288</td></tr><tr><th>24</th><td>-0.00797481</td><td>-0.113393</td><td>-0.0165999</td><td>0.843653</td><td>-0.0041072</td><td>-0.0221789</td><td>-0.247288</td></tr><tr><th>25</th><td>-0.00797481</td><td>-0.113393</td><td>-0.0165999</td><td>0.843653</td><td>-0.0041072</td><td>-0.0221789</td><td>-0.247288</td></tr><tr><th>26</th><td>-0.00797481</td><td>-0.113393</td><td>-0.0165999</td><td>-0.156347</td><td>-0.0041072</td><td>-0.0221789</td><td>-0.247288</td></tr><tr><th>27</th><td>-0.00797481</td><td>-0.113393</td><td>-0.0165999</td><td>-0.156347</td><td>-0.0041072</td><td>-0.0221789</td><td>0.752712</td></tr><tr><th>28</th><td>-0.00797481</td><td>-0.113393</td><td>-0.0165999</td><td>-0.156347</td><td>-0.0041072</td><td>-0.0221789</td><td>-0.247288</td></tr><tr><th>29</th><td>-0.00797481</td><td>-0.113393</td><td>-0.0165999</td><td>-0.156347</td><td>-0.0041072</td><td>-0.0221789</td><td>-0.247288</td></tr><tr><th>30</th><td>-0.00797481</td><td>-0.113393</td><td>-0.0165999</td><td>-0.156347</td><td>-0.0041072</td><td>-0.0221789</td><td>-0.247288</td></tr><tr><th>&vellip;</th><td>&vellip;</td><td>&vellip;</td><td>&vellip;</td><td>&vellip;</td><td>&vellip;</td><td>&vellip;</td><td>&vellip;</td></tr></tbody></table>"
      ],
      "text/latex": [
       "\\begin{tabular}{r|cccccccc}\n",
       "\t& widowed & divorced & separated & nevermarried & hsd08 & hsd911 & hsg & \\\\\n",
       "\t\\hline\n",
       "\t& Float64 & Float64 & Float64 & Float64 & Float64 & Float64 & Float64 & \\\\\n",
       "\t\\hline\n",
       "\t1 & -0.00797481 & -0.113393 & -0.0165999 & -0.156347 & -0.0041072 & -0.0221789 & -0.247288 & $\\dots$ \\\\\n",
       "\t2 & -0.00797481 & -0.113393 & -0.0165999 & -0.156347 & -0.0041072 & 0.977821 & -0.247288 & $\\dots$ \\\\\n",
       "\t3 & -0.00797481 & -0.113393 & -0.0165999 & -0.156347 & -0.0041072 & -0.0221789 & 0.752712 & $\\dots$ \\\\\n",
       "\t4 & -0.00797481 & -0.113393 & -0.0165999 & -0.156347 & -0.0041072 & -0.0221789 & 0.752712 & $\\dots$ \\\\\n",
       "\t5 & -0.00797481 & -0.113393 & -0.0165999 & -0.156347 & -0.0041072 & -0.0221789 & -0.247288 & $\\dots$ \\\\\n",
       "\t6 & -0.00797481 & -0.113393 & -0.0165999 & -0.156347 & -0.0041072 & -0.0221789 & 0.752712 & $\\dots$ \\\\\n",
       "\t7 & -0.00797481 & -0.113393 & -0.0165999 & 0.843653 & -0.0041072 & -0.0221789 & 0.752712 & $\\dots$ \\\\\n",
       "\t8 & -0.00797481 & -0.113393 & -0.0165999 & -0.156347 & -0.0041072 & -0.0221789 & -0.247288 & $\\dots$ \\\\\n",
       "\t9 & -0.00797481 & -0.113393 & -0.0165999 & -0.156347 & -0.0041072 & -0.0221789 & -0.247288 & $\\dots$ \\\\\n",
       "\t10 & -0.00797481 & -0.113393 & -0.0165999 & -0.156347 & -0.0041072 & -0.0221789 & -0.247288 & $\\dots$ \\\\\n",
       "\t11 & -0.00797481 & -0.113393 & -0.0165999 & -0.156347 & -0.0041072 & -0.0221789 & 0.752712 & $\\dots$ \\\\\n",
       "\t12 & -0.00797481 & -0.113393 & -0.0165999 & -0.156347 & -0.0041072 & -0.0221789 & -0.247288 & $\\dots$ \\\\\n",
       "\t13 & -0.00797481 & -0.113393 & -0.0165999 & -0.156347 & -0.0041072 & -0.0221789 & -0.247288 & $\\dots$ \\\\\n",
       "\t14 & -0.00797481 & -0.113393 & -0.0165999 & 0.843653 & -0.0041072 & -0.0221789 & -0.247288 & $\\dots$ \\\\\n",
       "\t15 & -0.00797481 & 0.886607 & -0.0165999 & -0.156347 & -0.0041072 & -0.0221789 & -0.247288 & $\\dots$ \\\\\n",
       "\t16 & -0.00797481 & -0.113393 & -0.0165999 & 0.843653 & -0.0041072 & -0.0221789 & -0.247288 & $\\dots$ \\\\\n",
       "\t17 & -0.00797481 & -0.113393 & -0.0165999 & -0.156347 & -0.0041072 & -0.0221789 & -0.247288 & $\\dots$ \\\\\n",
       "\t18 & -0.00797481 & -0.113393 & -0.0165999 & 0.843653 & -0.0041072 & -0.0221789 & -0.247288 & $\\dots$ \\\\\n",
       "\t19 & -0.00797481 & -0.113393 & -0.0165999 & -0.156347 & -0.0041072 & -0.0221789 & -0.247288 & $\\dots$ \\\\\n",
       "\t20 & -0.00797481 & -0.113393 & -0.0165999 & 0.843653 & -0.0041072 & -0.0221789 & -0.247288 & $\\dots$ \\\\\n",
       "\t21 & -0.00797481 & -0.113393 & -0.0165999 & -0.156347 & -0.0041072 & -0.0221789 & 0.752712 & $\\dots$ \\\\\n",
       "\t22 & -0.00797481 & -0.113393 & -0.0165999 & -0.156347 & -0.0041072 & -0.0221789 & -0.247288 & $\\dots$ \\\\\n",
       "\t23 & -0.00797481 & -0.113393 & -0.0165999 & -0.156347 & -0.0041072 & -0.0221789 & -0.247288 & $\\dots$ \\\\\n",
       "\t24 & -0.00797481 & -0.113393 & -0.0165999 & 0.843653 & -0.0041072 & -0.0221789 & -0.247288 & $\\dots$ \\\\\n",
       "\t25 & -0.00797481 & -0.113393 & -0.0165999 & 0.843653 & -0.0041072 & -0.0221789 & -0.247288 & $\\dots$ \\\\\n",
       "\t26 & -0.00797481 & -0.113393 & -0.0165999 & -0.156347 & -0.0041072 & -0.0221789 & -0.247288 & $\\dots$ \\\\\n",
       "\t27 & -0.00797481 & -0.113393 & -0.0165999 & -0.156347 & -0.0041072 & -0.0221789 & 0.752712 & $\\dots$ \\\\\n",
       "\t28 & -0.00797481 & -0.113393 & -0.0165999 & -0.156347 & -0.0041072 & -0.0221789 & -0.247288 & $\\dots$ \\\\\n",
       "\t29 & -0.00797481 & -0.113393 & -0.0165999 & -0.156347 & -0.0041072 & -0.0221789 & -0.247288 & $\\dots$ \\\\\n",
       "\t30 & -0.00797481 & -0.113393 & -0.0165999 & -0.156347 & -0.0041072 & -0.0221789 & -0.247288 & $\\dots$ \\\\\n",
       "\t$\\dots$ & $\\dots$ & $\\dots$ & $\\dots$ & $\\dots$ & $\\dots$ & $\\dots$ & $\\dots$ &  \\\\\n",
       "\\end{tabular}\n"
      ],
      "text/plain": [
       "29217×100 DataFrame. Omitted printing of 95 columns\n",
       "│ Row   │ widowed     │ divorced  │ separated  │ nevermarried │ hsd08      │\n",
       "│       │ \u001b[90mFloat64\u001b[39m     │ \u001b[90mFloat64\u001b[39m   │ \u001b[90mFloat64\u001b[39m    │ \u001b[90mFloat64\u001b[39m      │ \u001b[90mFloat64\u001b[39m    │\n",
       "├───────┼─────────────┼───────────┼────────────┼──────────────┼────────────┤\n",
       "│ 1     │ -0.00797481 │ -0.113393 │ -0.0165999 │ -0.156347    │ -0.0041072 │\n",
       "│ 2     │ -0.00797481 │ -0.113393 │ -0.0165999 │ -0.156347    │ -0.0041072 │\n",
       "│ 3     │ -0.00797481 │ -0.113393 │ -0.0165999 │ -0.156347    │ -0.0041072 │\n",
       "│ 4     │ -0.00797481 │ -0.113393 │ -0.0165999 │ -0.156347    │ -0.0041072 │\n",
       "│ 5     │ -0.00797481 │ -0.113393 │ -0.0165999 │ -0.156347    │ -0.0041072 │\n",
       "│ 6     │ -0.00797481 │ -0.113393 │ -0.0165999 │ -0.156347    │ -0.0041072 │\n",
       "│ 7     │ -0.00797481 │ -0.113393 │ -0.0165999 │ 0.843653     │ -0.0041072 │\n",
       "│ 8     │ -0.00797481 │ -0.113393 │ -0.0165999 │ -0.156347    │ -0.0041072 │\n",
       "│ 9     │ -0.00797481 │ -0.113393 │ -0.0165999 │ -0.156347    │ -0.0041072 │\n",
       "│ 10    │ -0.00797481 │ -0.113393 │ -0.0165999 │ -0.156347    │ -0.0041072 │\n",
       "⋮\n",
       "│ 29207 │ -0.00797481 │ -0.113393 │ -0.0165999 │ 0.843653     │ -0.0041072 │\n",
       "│ 29208 │ -0.00797481 │ -0.113393 │ -0.0165999 │ 0.843653     │ -0.0041072 │\n",
       "│ 29209 │ -0.00797481 │ -0.113393 │ -0.0165999 │ 0.843653     │ -0.0041072 │\n",
       "│ 29210 │ -0.00797481 │ -0.113393 │ -0.0165999 │ -0.156347    │ -0.0041072 │\n",
       "│ 29211 │ -0.00797481 │ -0.113393 │ -0.0165999 │ -0.156347    │ -0.0041072 │\n",
       "│ 29212 │ -0.00797481 │ -0.113393 │ -0.0165999 │ -0.156347    │ -0.0041072 │\n",
       "│ 29213 │ -0.00797481 │ -0.113393 │ -0.0165999 │ 0.843653     │ -0.0041072 │\n",
       "│ 29214 │ -0.00797481 │ -0.113393 │ -0.0165999 │ 0.843653     │ -0.0041072 │\n",
       "│ 29215 │ -0.00797481 │ -0.113393 │ -0.0165999 │ -0.156347    │ -0.0041072 │\n",
       "│ 29216 │ -0.00797481 │ -0.113393 │ -0.0165999 │ -0.156347    │ -0.0041072 │\n",
       "│ 29217 │ -0.00797481 │ -0.113393 │ -0.0165999 │ -0.156347    │ -0.0041072 │"
      ]
     },
     "execution_count": 63,
     "metadata": {},
     "output_type": "execute_result"
    }
   ],
   "source": [
    "# Control variables \n",
    "\n",
    "W = select(X, Not(names(X)[index]))"
   ]
  },
  {
   "cell_type": "code",
   "execution_count": 64,
   "id": "3ee0caac",
   "metadata": {},
   "outputs": [
    {
     "data": {
      "text/plain": [
       "16-element Vector{Any}:\n",
       "   1\n",
       " 102\n",
       " 103\n",
       " 104\n",
       " 105\n",
       " 106\n",
       " 107\n",
       " 108\n",
       " 109\n",
       " 110\n",
       " 111\n",
       " 112\n",
       " 113\n",
       " 114\n",
       " 115\n",
       " 116"
      ]
     },
     "execution_count": 64,
     "metadata": {},
     "output_type": "execute_result"
    }
   ],
   "source": [
    "index"
   ]
  },
  {
   "cell_type": "code",
   "execution_count": 65,
   "id": "6fdbf58d",
   "metadata": {},
   "outputs": [
    {
     "ename": "LoadError",
     "evalue": "MethodError: no method matching DataFrame(::Vector{Vector}, ::Symbol)\n\u001b[0mClosest candidates are:\n\u001b[0m  DataFrame(::AbstractVector{<:AbstractVector}, \u001b[91m::AbstractVector{<:AbstractString}\u001b[39m; makeunique, copycols) at C:\\Users\\Kenia\\.julia\\packages\\DataFrames\\GtZ1l\\src\\dataframe\\dataframe.jl:249\n\u001b[0m  DataFrame(::AbstractVector{<:AbstractVector}, \u001b[91m::AbstractVector{Symbol}\u001b[39m; makeunique, copycols) at C:\\Users\\Kenia\\.julia\\packages\\DataFrames\\GtZ1l\\src\\dataframe\\dataframe.jl:242\n\u001b[0m  DataFrame(::AbstractVector, \u001b[91m::AbstractVector{<:AbstractString}\u001b[39m; makeunique, copycols) at C:\\Users\\Kenia\\.julia\\packages\\DataFrames\\GtZ1l\\src\\dataframe\\dataframe.jl:237\n\u001b[0m  ...",
     "output_type": "error",
     "traceback": [
      "MethodError: no method matching DataFrame(::Vector{Vector}, ::Symbol)\n\u001b[0mClosest candidates are:\n\u001b[0m  DataFrame(::AbstractVector{<:AbstractVector}, \u001b[91m::AbstractVector{<:AbstractString}\u001b[39m; makeunique, copycols) at C:\\Users\\Kenia\\.julia\\packages\\DataFrames\\GtZ1l\\src\\dataframe\\dataframe.jl:249\n\u001b[0m  DataFrame(::AbstractVector{<:AbstractVector}, \u001b[91m::AbstractVector{Symbol}\u001b[39m; makeunique, copycols) at C:\\Users\\Kenia\\.julia\\packages\\DataFrames\\GtZ1l\\src\\dataframe\\dataframe.jl:242\n\u001b[0m  DataFrame(::AbstractVector, \u001b[91m::AbstractVector{<:AbstractString}\u001b[39m; makeunique, copycols) at C:\\Users\\Kenia\\.julia\\packages\\DataFrames\\GtZ1l\\src\\dataframe\\dataframe.jl:237\n\u001b[0m  ...",
      "",
      "Stacktrace:",
      " [1] rlasso(self::rlasso_arg)",
      "   @ Main C:\\Users\\Kenia\\Documents\\Draft_kenia\\hdmjl\\hdmjl_final.jl:662",
      " [2] top-level scope",
      "   @ .\\In[65]:16",
      " [3] eval",
      "   @ .\\boot.jl:373 [inlined]",
      " [4] include_string(mapexpr::typeof(REPL.softscope), mod::Module, code::String, filename::String)",
      "   @ Base .\\loading.jl:1196"
     ]
    }
   ],
   "source": [
    "table = NamedArray(zeros(16, 2))\n",
    "\n",
    "j = 0\n",
    "\n",
    "for i in 1:length(index)\n",
    "\n",
    "j = j + 1\n",
    "    \n",
    "#first step\n",
    "D = select(X, names(X)[index[i]])\n",
    "    \n",
    "D_reg_0  = rlasso_arg( W, D, nothing, true, true, true, false, false, \n",
    "                    nothing, 1.1, nothing, 5000, 15, 10^(-5), -Inf, true, Inf, true )\n",
    "\n",
    "\n",
    "_resid[!,j] =rlasso(D_reg_0)[\"residuals\"]\n",
    "\n",
    "\n",
    "\n",
    "# third step\n",
    "    \n",
    "#Lasso_HDM = lm(D_resid, Y_resid)\n",
    "\n",
    "#table[j,1] = GLM.coeftable(Lasso_HDM).cols[5][1]\n",
    "#table[j,2] = GLM.coeftable(Lasso_HDM).cols[6][1]\n",
    "\n",
    "    \n",
    "end "
   ]
  },
  {
   "cell_type": "code",
   "execution_count": null,
   "id": "3fec9db7",
   "metadata": {},
   "outputs": [],
   "source": [
    "#second step\n",
    "    \n",
    "Y_reg_0  = rlasso_arg( W, Y, nothing, true, true, true, false, false, \n",
    "                    nothing, 1.1, nothing, 5000, 15, 10^(-5), -Inf, true, Inf, true )\n",
    "\n",
    "Y_resid = rlasso(Y_reg_0)[\"residuals\"]\n",
    "\n",
    "D_resid[!,j] = reshape(D_resid, length(D_resid), 1)"
   ]
  },
  {
   "cell_type": "markdown",
   "id": "bab9d9e9",
   "metadata": {},
   "source": [
    "## DOUBLE LASSO - TESTING THE CONVERGENCE HYPOTHESIS"
   ]
  },
  {
   "cell_type": "markdown",
   "id": "bcd7838e",
   "metadata": {},
   "source": [
    "We provide an additional empirical example of partialling-out based on lasso regretion(Double-Lasso) to estimate the regression coefficient $\\beta_1$ in the high-dimensional linear regression model:\n",
    "  $$\n",
    "  Y = \\beta_1 D +  \\beta_2'W + \\epsilon.\n",
    "  $$\n",
    "  \n",
    "Specifically, we are interested in how the rates  at which economies of different countries grow ($Y$) are related to the initial wealth levels in each country ($D$) controlling for country's institutional, educational, and other similar characteristics ($W$).\n",
    "  \n",
    "The relationship is captured by $\\beta_1$, the *speed of convergence/divergence*, which measures the speed at which poor countries catch up $(\\beta_1< 0)$ or fall behind $(\\beta_1> 0)$ rich countries, after controlling for $W$. Our inference question here is: do poor countries grow faster than rich countries, controlling for educational and other characteristics? In other words, is the speed of convergence negative: $ \\beta_1 <0?$ This is the Convergence Hypothesis predicted by the Solow Growth Model. This is a structural economic model. Under some strong assumptions, that we won't state here, the predictive exercise we are doing here can be given causal interpretation."
   ]
  },
  {
   "cell_type": "markdown",
   "id": "0ace48c1",
   "metadata": {},
   "source": [
    "The outcome $Y$ is the realized annual growth rate of a country's wealth  (Gross Domestic Product per capita). The target regressor ($D$) is the initial level of the country's wealth. The target parameter $\\beta_1$ is the speed of convergence, which measures the speed at which poor countries catch up with rich countries. The controls ($W$) include measures of education levels, quality of institutions, trade openness, and political stability in the country."
   ]
  },
  {
   "cell_type": "code",
   "execution_count": 68,
   "id": "b2b60edd",
   "metadata": {},
   "outputs": [
    {
     "data": {
      "text/plain": [
       "Dict{String, Any} with 1 entry:\n",
       "  \"GrowthData\" => 90×63 DataFrame. Omitted printing of 57 columns…"
      ]
     },
     "execution_count": 68,
     "metadata": {},
     "output_type": "execute_result"
    }
   ],
   "source": [
    "growth_read = load(\"../data/GrowthData.RData\")"
   ]
  },
  {
   "cell_type": "code",
   "execution_count": 69,
   "id": "7edb0bb3",
   "metadata": {},
   "outputs": [
    {
     "data": {
      "text/plain": [
       "true"
      ]
     },
     "execution_count": 69,
     "metadata": {},
     "output_type": "execute_result"
    }
   ],
   "source": [
    "# Since growth_read is a dictionary, we check if there is a key called \"GrowthData\", the one we need for our analyze\n",
    "haskey(growth_read, \"GrowthData\")"
   ]
  },
  {
   "cell_type": "code",
   "execution_count": 70,
   "id": "aefb6990",
   "metadata": {},
   "outputs": [
    {
     "data": {
      "text/plain": [
       "63-element Vector{String}:\n",
       " \"Outcome\"\n",
       " \"intercept\"\n",
       " \"gdpsh465\"\n",
       " \"bmp1l\"\n",
       " \"freeop\"\n",
       " \"freetar\"\n",
       " \"h65\"\n",
       " \"hm65\"\n",
       " \"hf65\"\n",
       " \"p65\"\n",
       " \"pm65\"\n",
       " \"pf65\"\n",
       " \"s65\"\n",
       " ⋮\n",
       " \"secc65\"\n",
       " \"seccm65\"\n",
       " \"seccf65\"\n",
       " \"syr65\"\n",
       " \"syrm65\"\n",
       " \"syrf65\"\n",
       " \"teapri65\"\n",
       " \"teasec65\"\n",
       " \"ex1\"\n",
       " \"im1\"\n",
       " \"xr65\"\n",
       " \"tot1\""
      ]
     },
     "execution_count": 70,
     "metadata": {},
     "output_type": "execute_result"
    }
   ],
   "source": [
    "growth = growth_read[\"GrowthData\"]\n",
    "names(growth)"
   ]
  },
  {
   "cell_type": "code",
   "execution_count": 71,
   "id": "3769c983",
   "metadata": {},
   "outputs": [
    {
     "data": {
      "text/html": [
       "<table class=\"data-frame\"><thead><tr><th></th><th>y</th></tr><tr><th></th><th>Float64</th></tr></thead><tbody><p>90 rows × 1 columns</p><tr><th>1</th><td>-0.0243358</td></tr><tr><th>2</th><td>0.100473</td></tr><tr><th>3</th><td>0.0670515</td></tr><tr><th>4</th><td>0.0640892</td></tr><tr><th>5</th><td>0.0279295</td></tr><tr><th>6</th><td>0.0464074</td></tr><tr><th>7</th><td>0.0673323</td></tr><tr><th>8</th><td>0.0209777</td></tr><tr><th>9</th><td>0.0335512</td></tr><tr><th>10</th><td>0.0391465</td></tr><tr><th>11</th><td>0.0761265</td></tr><tr><th>12</th><td>0.127951</td></tr><tr><th>13</th><td>-0.0243261</td></tr><tr><th>14</th><td>0.0782934</td></tr><tr><th>15</th><td>0.112912</td></tr><tr><th>16</th><td>0.0523082</td></tr><tr><th>17</th><td>0.0363909</td></tr><tr><th>18</th><td>0.0297382</td></tr><tr><th>19</th><td>-0.0566436</td></tr><tr><th>20</th><td>0.0192048</td></tr><tr><th>21</th><td>0.085206</td></tr><tr><th>22</th><td>0.133982</td></tr><tr><th>23</th><td>0.173025</td></tr><tr><th>24</th><td>0.109699</td></tr><tr><th>25</th><td>0.0159899</td></tr><tr><th>26</th><td>0.0622498</td></tr><tr><th>27</th><td>0.109871</td></tr><tr><th>28</th><td>0.0921063</td></tr><tr><th>29</th><td>0.083376</td></tr><tr><th>30</th><td>0.0762335</td></tr><tr><th>&vellip;</th><td>&vellip;</td></tr></tbody></table>"
      ],
      "text/latex": [
       "\\begin{tabular}{r|c}\n",
       "\t& y\\\\\n",
       "\t\\hline\n",
       "\t& Float64\\\\\n",
       "\t\\hline\n",
       "\t1 & -0.0243358 \\\\\n",
       "\t2 & 0.100473 \\\\\n",
       "\t3 & 0.0670515 \\\\\n",
       "\t4 & 0.0640892 \\\\\n",
       "\t5 & 0.0279295 \\\\\n",
       "\t6 & 0.0464074 \\\\\n",
       "\t7 & 0.0673323 \\\\\n",
       "\t8 & 0.0209777 \\\\\n",
       "\t9 & 0.0335512 \\\\\n",
       "\t10 & 0.0391465 \\\\\n",
       "\t11 & 0.0761265 \\\\\n",
       "\t12 & 0.127951 \\\\\n",
       "\t13 & -0.0243261 \\\\\n",
       "\t14 & 0.0782934 \\\\\n",
       "\t15 & 0.112912 \\\\\n",
       "\t16 & 0.0523082 \\\\\n",
       "\t17 & 0.0363909 \\\\\n",
       "\t18 & 0.0297382 \\\\\n",
       "\t19 & -0.0566436 \\\\\n",
       "\t20 & 0.0192048 \\\\\n",
       "\t21 & 0.085206 \\\\\n",
       "\t22 & 0.133982 \\\\\n",
       "\t23 & 0.173025 \\\\\n",
       "\t24 & 0.109699 \\\\\n",
       "\t25 & 0.0159899 \\\\\n",
       "\t26 & 0.0622498 \\\\\n",
       "\t27 & 0.109871 \\\\\n",
       "\t28 & 0.0921063 \\\\\n",
       "\t29 & 0.083376 \\\\\n",
       "\t30 & 0.0762335 \\\\\n",
       "\t$\\dots$ & $\\dots$ \\\\\n",
       "\\end{tabular}\n"
      ],
      "text/plain": [
       "90×1 DataFrame\n",
       "│ Row │ y          │\n",
       "│     │ \u001b[90mFloat64\u001b[39m    │\n",
       "├─────┼────────────┤\n",
       "│ 1   │ -0.0243358 │\n",
       "│ 2   │ 0.100473   │\n",
       "│ 3   │ 0.0670515  │\n",
       "│ 4   │ 0.0640892  │\n",
       "│ 5   │ 0.0279295  │\n",
       "│ 6   │ 0.0464074  │\n",
       "│ 7   │ 0.0673323  │\n",
       "│ 8   │ 0.0209777  │\n",
       "│ 9   │ 0.0335512  │\n",
       "│ 10  │ 0.0391465  │\n",
       "⋮\n",
       "│ 80  │ 0.0652286  │\n",
       "│ 81  │ 0.038095   │\n",
       "│ 82  │ 0.034213   │\n",
       "│ 83  │ 0.0527591  │\n",
       "│ 84  │ 0.0384156  │\n",
       "│ 85  │ 0.0318948  │\n",
       "│ 86  │ 0.031196   │\n",
       "│ 87  │ 0.0340957  │\n",
       "│ 88  │ 0.0469005  │\n",
       "│ 89  │ 0.0397734  │\n",
       "│ 90  │ 0.0406415  │"
      ]
     },
     "execution_count": 71,
     "metadata": {},
     "output_type": "execute_result"
    }
   ],
   "source": [
    "y = growth[!, \"Outcome\"]\n",
    "y = DataFrame([y], [:y])"
   ]
  },
  {
   "cell_type": "code",
   "execution_count": 72,
   "id": "fcc24e77",
   "metadata": {},
   "outputs": [
    {
     "data": {
      "text/html": [
       "<table class=\"data-frame\"><thead><tr><th></th><th>intercept</th><th>gdpsh465</th><th>bmp1l</th><th>freeop</th><th>freetar</th><th>h65</th><th>hm65</th><th>hf65</th><th>p65</th></tr><tr><th></th><th>Int32</th><th>Float64</th><th>Float64</th><th>Float64</th><th>Float64</th><th>Float64</th><th>Float64</th><th>Float64</th><th>Float64</th></tr></thead><tbody><p>90 rows × 62 columns (omitted printing of 53 columns)</p><tr><th>1</th><td>1</td><td>6.59167</td><td>0.2837</td><td>0.153491</td><td>0.043888</td><td>0.007</td><td>0.013</td><td>0.001</td><td>0.29</td></tr><tr><th>2</th><td>1</td><td>6.82979</td><td>0.6141</td><td>0.313509</td><td>0.061827</td><td>0.019</td><td>0.032</td><td>0.007</td><td>0.91</td></tr><tr><th>3</th><td>1</td><td>8.89508</td><td>0.0</td><td>0.204244</td><td>0.009186</td><td>0.26</td><td>0.325</td><td>0.201</td><td>1.0</td></tr><tr><th>4</th><td>1</td><td>7.56528</td><td>0.1997</td><td>0.248714</td><td>0.03627</td><td>0.061</td><td>0.07</td><td>0.051</td><td>1.0</td></tr><tr><th>5</th><td>1</td><td>7.1624</td><td>0.174</td><td>0.299252</td><td>0.037367</td><td>0.017</td><td>0.027</td><td>0.007</td><td>0.82</td></tr><tr><th>6</th><td>1</td><td>7.21891</td><td>0.0</td><td>0.258865</td><td>0.02088</td><td>0.023</td><td>0.038</td><td>0.006</td><td>0.5</td></tr><tr><th>7</th><td>1</td><td>7.8536</td><td>0.0</td><td>0.182525</td><td>0.014385</td><td>0.039</td><td>0.063</td><td>0.014</td><td>0.92</td></tr><tr><th>8</th><td>1</td><td>7.70391</td><td>0.2776</td><td>0.215275</td><td>0.029713</td><td>0.024</td><td>0.035</td><td>0.013</td><td>0.69</td></tr><tr><th>9</th><td>1</td><td>9.06346</td><td>0.0</td><td>0.109614</td><td>0.002171</td><td>0.402</td><td>0.488</td><td>0.314</td><td>1.0</td></tr><tr><th>10</th><td>1</td><td>8.15191</td><td>0.1484</td><td>0.110885</td><td>0.028579</td><td>0.145</td><td>0.173</td><td>0.114</td><td>1.0</td></tr><tr><th>11</th><td>1</td><td>6.92952</td><td>0.0296</td><td>0.165784</td><td>0.020115</td><td>0.046</td><td>0.066</td><td>0.025</td><td>0.73</td></tr><tr><th>12</th><td>1</td><td>7.23778</td><td>0.2151</td><td>0.078488</td><td>0.011581</td><td>0.022</td><td>0.031</td><td>0.014</td><td>1.0</td></tr><tr><th>13</th><td>1</td><td>8.11582</td><td>0.4318</td><td>0.137482</td><td>0.026547</td><td>0.059</td><td>0.073</td><td>0.045</td><td>1.0</td></tr><tr><th>14</th><td>1</td><td>7.2717</td><td>0.1689</td><td>0.164598</td><td>0.044446</td><td>0.029</td><td>0.045</td><td>0.013</td><td>0.84</td></tr><tr><th>15</th><td>1</td><td>7.12125</td><td>0.1832</td><td>0.188016</td><td>0.045678</td><td>0.033</td><td>0.051</td><td>0.015</td><td>0.91</td></tr><tr><th>16</th><td>1</td><td>6.97728</td><td>0.0962</td><td>0.204611</td><td>0.077852</td><td>0.037</td><td>0.043</td><td>0.03</td><td>1.0</td></tr><tr><th>17</th><td>1</td><td>7.64969</td><td>0.0227</td><td>0.136287</td><td>0.04673</td><td>0.081</td><td>0.105</td><td>0.056</td><td>0.99</td></tr><tr><th>18</th><td>1</td><td>8.05674</td><td>0.0208</td><td>0.197853</td><td>0.037224</td><td>0.083</td><td>0.097</td><td>0.069</td><td>1.0</td></tr><tr><th>19</th><td>1</td><td>8.78094</td><td>0.2654</td><td>0.189867</td><td>0.031747</td><td>0.068</td><td>0.089</td><td>0.046</td><td>0.94</td></tr><tr><th>20</th><td>1</td><td>6.28786</td><td>0.4207</td><td>0.130682</td><td>0.109921</td><td>0.053</td><td>0.039</td><td>0.011</td><td>0.74</td></tr><tr><th>21</th><td>1</td><td>6.13773</td><td>0.1371</td><td>0.123818</td><td>0.015897</td><td>0.028</td><td>0.025</td><td>0.007</td><td>0.72</td></tr><tr><th>22</th><td>1</td><td>8.12888</td><td>0.0</td><td>0.16721</td><td>0.003311</td><td>0.129</td><td>0.196</td><td>0.063</td><td>1.0</td></tr><tr><th>23</th><td>1</td><td>6.68085</td><td>0.4713</td><td>0.228424</td><td>0.029328</td><td>0.062</td><td>0.09</td><td>0.032</td><td>1.0</td></tr><tr><th>24</th><td>1</td><td>7.17702</td><td>0.0178</td><td>0.18524</td><td>0.015453</td><td>0.02</td><td>0.026</td><td>0.013</td><td>0.9</td></tr><tr><th>25</th><td>1</td><td>6.64898</td><td>0.4762</td><td>0.171181</td><td>0.058937</td><td>0.018</td><td>0.028</td><td>0.007</td><td>0.4</td></tr><tr><th>26</th><td>1</td><td>6.87936</td><td>0.2927</td><td>0.179508</td><td>0.035842</td><td>0.188</td><td>0.169</td><td>0.208</td><td>1.0</td></tr><tr><th>27</th><td>1</td><td>7.3473</td><td>0.1017</td><td>0.247626</td><td>0.037392</td><td>0.08</td><td>0.133</td><td>0.027</td><td>0.78</td></tr><tr><th>28</th><td>1</td><td>6.72503</td><td>0.0266</td><td>0.179933</td><td>0.046376</td><td>0.015</td><td>0.02</td><td>0.01</td><td>0.78</td></tr><tr><th>29</th><td>1</td><td>8.45105</td><td>0.0</td><td>0.358556</td><td>0.016468</td><td>0.09</td><td>0.133</td><td>0.044</td><td>1.0</td></tr><tr><th>30</th><td>1</td><td>8.60245</td><td>0.0</td><td>0.416234</td><td>0.014721</td><td>0.148</td><td>0.194</td><td>0.1</td><td>1.0</td></tr><tr><th>&vellip;</th><td>&vellip;</td><td>&vellip;</td><td>&vellip;</td><td>&vellip;</td><td>&vellip;</td><td>&vellip;</td><td>&vellip;</td><td>&vellip;</td><td>&vellip;</td></tr></tbody></table>"
      ],
      "text/latex": [
       "\\begin{tabular}{r|cccccccccc}\n",
       "\t& intercept & gdpsh465 & bmp1l & freeop & freetar & h65 & hm65 & hf65 & p65 & \\\\\n",
       "\t\\hline\n",
       "\t& Int32 & Float64 & Float64 & Float64 & Float64 & Float64 & Float64 & Float64 & Float64 & \\\\\n",
       "\t\\hline\n",
       "\t1 & 1 & 6.59167 & 0.2837 & 0.153491 & 0.043888 & 0.007 & 0.013 & 0.001 & 0.29 & $\\dots$ \\\\\n",
       "\t2 & 1 & 6.82979 & 0.6141 & 0.313509 & 0.061827 & 0.019 & 0.032 & 0.007 & 0.91 & $\\dots$ \\\\\n",
       "\t3 & 1 & 8.89508 & 0.0 & 0.204244 & 0.009186 & 0.26 & 0.325 & 0.201 & 1.0 & $\\dots$ \\\\\n",
       "\t4 & 1 & 7.56528 & 0.1997 & 0.248714 & 0.03627 & 0.061 & 0.07 & 0.051 & 1.0 & $\\dots$ \\\\\n",
       "\t5 & 1 & 7.1624 & 0.174 & 0.299252 & 0.037367 & 0.017 & 0.027 & 0.007 & 0.82 & $\\dots$ \\\\\n",
       "\t6 & 1 & 7.21891 & 0.0 & 0.258865 & 0.02088 & 0.023 & 0.038 & 0.006 & 0.5 & $\\dots$ \\\\\n",
       "\t7 & 1 & 7.8536 & 0.0 & 0.182525 & 0.014385 & 0.039 & 0.063 & 0.014 & 0.92 & $\\dots$ \\\\\n",
       "\t8 & 1 & 7.70391 & 0.2776 & 0.215275 & 0.029713 & 0.024 & 0.035 & 0.013 & 0.69 & $\\dots$ \\\\\n",
       "\t9 & 1 & 9.06346 & 0.0 & 0.109614 & 0.002171 & 0.402 & 0.488 & 0.314 & 1.0 & $\\dots$ \\\\\n",
       "\t10 & 1 & 8.15191 & 0.1484 & 0.110885 & 0.028579 & 0.145 & 0.173 & 0.114 & 1.0 & $\\dots$ \\\\\n",
       "\t11 & 1 & 6.92952 & 0.0296 & 0.165784 & 0.020115 & 0.046 & 0.066 & 0.025 & 0.73 & $\\dots$ \\\\\n",
       "\t12 & 1 & 7.23778 & 0.2151 & 0.078488 & 0.011581 & 0.022 & 0.031 & 0.014 & 1.0 & $\\dots$ \\\\\n",
       "\t13 & 1 & 8.11582 & 0.4318 & 0.137482 & 0.026547 & 0.059 & 0.073 & 0.045 & 1.0 & $\\dots$ \\\\\n",
       "\t14 & 1 & 7.2717 & 0.1689 & 0.164598 & 0.044446 & 0.029 & 0.045 & 0.013 & 0.84 & $\\dots$ \\\\\n",
       "\t15 & 1 & 7.12125 & 0.1832 & 0.188016 & 0.045678 & 0.033 & 0.051 & 0.015 & 0.91 & $\\dots$ \\\\\n",
       "\t16 & 1 & 6.97728 & 0.0962 & 0.204611 & 0.077852 & 0.037 & 0.043 & 0.03 & 1.0 & $\\dots$ \\\\\n",
       "\t17 & 1 & 7.64969 & 0.0227 & 0.136287 & 0.04673 & 0.081 & 0.105 & 0.056 & 0.99 & $\\dots$ \\\\\n",
       "\t18 & 1 & 8.05674 & 0.0208 & 0.197853 & 0.037224 & 0.083 & 0.097 & 0.069 & 1.0 & $\\dots$ \\\\\n",
       "\t19 & 1 & 8.78094 & 0.2654 & 0.189867 & 0.031747 & 0.068 & 0.089 & 0.046 & 0.94 & $\\dots$ \\\\\n",
       "\t20 & 1 & 6.28786 & 0.4207 & 0.130682 & 0.109921 & 0.053 & 0.039 & 0.011 & 0.74 & $\\dots$ \\\\\n",
       "\t21 & 1 & 6.13773 & 0.1371 & 0.123818 & 0.015897 & 0.028 & 0.025 & 0.007 & 0.72 & $\\dots$ \\\\\n",
       "\t22 & 1 & 8.12888 & 0.0 & 0.16721 & 0.003311 & 0.129 & 0.196 & 0.063 & 1.0 & $\\dots$ \\\\\n",
       "\t23 & 1 & 6.68085 & 0.4713 & 0.228424 & 0.029328 & 0.062 & 0.09 & 0.032 & 1.0 & $\\dots$ \\\\\n",
       "\t24 & 1 & 7.17702 & 0.0178 & 0.18524 & 0.015453 & 0.02 & 0.026 & 0.013 & 0.9 & $\\dots$ \\\\\n",
       "\t25 & 1 & 6.64898 & 0.4762 & 0.171181 & 0.058937 & 0.018 & 0.028 & 0.007 & 0.4 & $\\dots$ \\\\\n",
       "\t26 & 1 & 6.87936 & 0.2927 & 0.179508 & 0.035842 & 0.188 & 0.169 & 0.208 & 1.0 & $\\dots$ \\\\\n",
       "\t27 & 1 & 7.3473 & 0.1017 & 0.247626 & 0.037392 & 0.08 & 0.133 & 0.027 & 0.78 & $\\dots$ \\\\\n",
       "\t28 & 1 & 6.72503 & 0.0266 & 0.179933 & 0.046376 & 0.015 & 0.02 & 0.01 & 0.78 & $\\dots$ \\\\\n",
       "\t29 & 1 & 8.45105 & 0.0 & 0.358556 & 0.016468 & 0.09 & 0.133 & 0.044 & 1.0 & $\\dots$ \\\\\n",
       "\t30 & 1 & 8.60245 & 0.0 & 0.416234 & 0.014721 & 0.148 & 0.194 & 0.1 & 1.0 & $\\dots$ \\\\\n",
       "\t$\\dots$ & $\\dots$ & $\\dots$ & $\\dots$ & $\\dots$ & $\\dots$ & $\\dots$ & $\\dots$ & $\\dots$ & $\\dots$ &  \\\\\n",
       "\\end{tabular}\n"
      ],
      "text/plain": [
       "90×62 DataFrame. Omitted printing of 56 columns\n",
       "│ Row │ intercept │ gdpsh465 │ bmp1l   │ freeop   │ freetar  │ h65     │\n",
       "│     │ \u001b[90mInt32\u001b[39m     │ \u001b[90mFloat64\u001b[39m  │ \u001b[90mFloat64\u001b[39m │ \u001b[90mFloat64\u001b[39m  │ \u001b[90mFloat64\u001b[39m  │ \u001b[90mFloat64\u001b[39m │\n",
       "├─────┼───────────┼──────────┼─────────┼──────────┼──────────┼─────────┤\n",
       "│ 1   │ 1         │ 6.59167  │ 0.2837  │ 0.153491 │ 0.043888 │ 0.007   │\n",
       "│ 2   │ 1         │ 6.82979  │ 0.6141  │ 0.313509 │ 0.061827 │ 0.019   │\n",
       "│ 3   │ 1         │ 8.89508  │ 0.0     │ 0.204244 │ 0.009186 │ 0.26    │\n",
       "│ 4   │ 1         │ 7.56528  │ 0.1997  │ 0.248714 │ 0.03627  │ 0.061   │\n",
       "│ 5   │ 1         │ 7.1624   │ 0.174   │ 0.299252 │ 0.037367 │ 0.017   │\n",
       "│ 6   │ 1         │ 7.21891  │ 0.0     │ 0.258865 │ 0.02088  │ 0.023   │\n",
       "│ 7   │ 1         │ 7.8536   │ 0.0     │ 0.182525 │ 0.014385 │ 0.039   │\n",
       "│ 8   │ 1         │ 7.70391  │ 0.2776  │ 0.215275 │ 0.029713 │ 0.024   │\n",
       "│ 9   │ 1         │ 9.06346  │ 0.0     │ 0.109614 │ 0.002171 │ 0.402   │\n",
       "│ 10  │ 1         │ 8.15191  │ 0.1484  │ 0.110885 │ 0.028579 │ 0.145   │\n",
       "⋮\n",
       "│ 80  │ 1         │ 7.17549  │ 0.0     │ 0.179933 │ 0.046376 │ 0.035   │\n",
       "│ 81  │ 1         │ 9.03097  │ 0.0     │ 0.293138 │ 0.005517 │ 0.245   │\n",
       "│ 82  │ 1         │ 8.99554  │ 0.0     │ 0.30472  │ 0.011658 │ 0.246   │\n",
       "│ 83  │ 1         │ 8.23483  │ 0.0363  │ 0.288405 │ 0.011589 │ 0.183   │\n",
       "│ 84  │ 1         │ 8.33255  │ 0.0     │ 0.345485 │ 0.006503 │ 0.188   │\n",
       "│ 85  │ 1         │ 8.64559  │ 0.0     │ 0.28844  │ 0.005995 │ 0.256   │\n",
       "│ 86  │ 1         │ 8.99106  │ 0.0     │ 0.371898 │ 0.014586 │ 0.255   │\n",
       "│ 87  │ 1         │ 8.02519  │ 0.005   │ 0.296437 │ 0.013615 │ 0.108   │\n",
       "│ 88  │ 1         │ 9.03014  │ 0.0     │ 0.265778 │ 0.008629 │ 0.288   │\n",
       "│ 89  │ 1         │ 8.86531  │ 0.0     │ 0.282939 │ 0.005048 │ 0.188   │\n",
       "│ 90  │ 1         │ 8.91234  │ 0.0     │ 0.150366 │ 0.024377 │ 0.257   │"
      ]
     },
     "execution_count": 72,
     "metadata": {},
     "output_type": "execute_result"
    }
   ],
   "source": [
    "X = select(growth, Not([\"Outcome\"]))"
   ]
  },
  {
   "cell_type": "code",
   "execution_count": 81,
   "id": "68eca4d1",
   "metadata": {
    "scrolled": true
   },
   "outputs": [
    {
     "data": {
      "text/html": [
       "<table class=\"data-frame\"><thead><tr><th></th><th>y</th><th>intercept</th><th>gdpsh465</th><th>bmp1l</th><th>freeop</th><th>freetar</th><th>h65</th><th>hm65</th></tr><tr><th></th><th>Float64</th><th>Int32</th><th>Float64</th><th>Float64</th><th>Float64</th><th>Float64</th><th>Float64</th><th>Float64</th></tr></thead><tbody><p>90 rows × 63 columns (omitted printing of 55 columns)</p><tr><th>1</th><td>-0.0243358</td><td>1</td><td>6.59167</td><td>0.2837</td><td>0.153491</td><td>0.043888</td><td>0.007</td><td>0.013</td></tr><tr><th>2</th><td>0.100473</td><td>1</td><td>6.82979</td><td>0.6141</td><td>0.313509</td><td>0.061827</td><td>0.019</td><td>0.032</td></tr><tr><th>3</th><td>0.0670515</td><td>1</td><td>8.89508</td><td>0.0</td><td>0.204244</td><td>0.009186</td><td>0.26</td><td>0.325</td></tr><tr><th>4</th><td>0.0640892</td><td>1</td><td>7.56528</td><td>0.1997</td><td>0.248714</td><td>0.03627</td><td>0.061</td><td>0.07</td></tr><tr><th>5</th><td>0.0279295</td><td>1</td><td>7.1624</td><td>0.174</td><td>0.299252</td><td>0.037367</td><td>0.017</td><td>0.027</td></tr><tr><th>6</th><td>0.0464074</td><td>1</td><td>7.21891</td><td>0.0</td><td>0.258865</td><td>0.02088</td><td>0.023</td><td>0.038</td></tr><tr><th>7</th><td>0.0673323</td><td>1</td><td>7.8536</td><td>0.0</td><td>0.182525</td><td>0.014385</td><td>0.039</td><td>0.063</td></tr><tr><th>8</th><td>0.0209777</td><td>1</td><td>7.70391</td><td>0.2776</td><td>0.215275</td><td>0.029713</td><td>0.024</td><td>0.035</td></tr><tr><th>9</th><td>0.0335512</td><td>1</td><td>9.06346</td><td>0.0</td><td>0.109614</td><td>0.002171</td><td>0.402</td><td>0.488</td></tr><tr><th>10</th><td>0.0391465</td><td>1</td><td>8.15191</td><td>0.1484</td><td>0.110885</td><td>0.028579</td><td>0.145</td><td>0.173</td></tr><tr><th>11</th><td>0.0761265</td><td>1</td><td>6.92952</td><td>0.0296</td><td>0.165784</td><td>0.020115</td><td>0.046</td><td>0.066</td></tr><tr><th>12</th><td>0.127951</td><td>1</td><td>7.23778</td><td>0.2151</td><td>0.078488</td><td>0.011581</td><td>0.022</td><td>0.031</td></tr><tr><th>13</th><td>-0.0243261</td><td>1</td><td>8.11582</td><td>0.4318</td><td>0.137482</td><td>0.026547</td><td>0.059</td><td>0.073</td></tr><tr><th>14</th><td>0.0782934</td><td>1</td><td>7.2717</td><td>0.1689</td><td>0.164598</td><td>0.044446</td><td>0.029</td><td>0.045</td></tr><tr><th>15</th><td>0.112912</td><td>1</td><td>7.12125</td><td>0.1832</td><td>0.188016</td><td>0.045678</td><td>0.033</td><td>0.051</td></tr><tr><th>16</th><td>0.0523082</td><td>1</td><td>6.97728</td><td>0.0962</td><td>0.204611</td><td>0.077852</td><td>0.037</td><td>0.043</td></tr><tr><th>17</th><td>0.0363909</td><td>1</td><td>7.64969</td><td>0.0227</td><td>0.136287</td><td>0.04673</td><td>0.081</td><td>0.105</td></tr><tr><th>18</th><td>0.0297382</td><td>1</td><td>8.05674</td><td>0.0208</td><td>0.197853</td><td>0.037224</td><td>0.083</td><td>0.097</td></tr><tr><th>19</th><td>-0.0566436</td><td>1</td><td>8.78094</td><td>0.2654</td><td>0.189867</td><td>0.031747</td><td>0.068</td><td>0.089</td></tr><tr><th>20</th><td>0.0192048</td><td>1</td><td>6.28786</td><td>0.4207</td><td>0.130682</td><td>0.109921</td><td>0.053</td><td>0.039</td></tr><tr><th>21</th><td>0.085206</td><td>1</td><td>6.13773</td><td>0.1371</td><td>0.123818</td><td>0.015897</td><td>0.028</td><td>0.025</td></tr><tr><th>22</th><td>0.133982</td><td>1</td><td>8.12888</td><td>0.0</td><td>0.16721</td><td>0.003311</td><td>0.129</td><td>0.196</td></tr><tr><th>23</th><td>0.173025</td><td>1</td><td>6.68085</td><td>0.4713</td><td>0.228424</td><td>0.029328</td><td>0.062</td><td>0.09</td></tr><tr><th>24</th><td>0.109699</td><td>1</td><td>7.17702</td><td>0.0178</td><td>0.18524</td><td>0.015453</td><td>0.02</td><td>0.026</td></tr><tr><th>25</th><td>0.0159899</td><td>1</td><td>6.64898</td><td>0.4762</td><td>0.171181</td><td>0.058937</td><td>0.018</td><td>0.028</td></tr><tr><th>26</th><td>0.0622498</td><td>1</td><td>6.87936</td><td>0.2927</td><td>0.179508</td><td>0.035842</td><td>0.188</td><td>0.169</td></tr><tr><th>27</th><td>0.109871</td><td>1</td><td>7.3473</td><td>0.1017</td><td>0.247626</td><td>0.037392</td><td>0.08</td><td>0.133</td></tr><tr><th>28</th><td>0.0921063</td><td>1</td><td>6.72503</td><td>0.0266</td><td>0.179933</td><td>0.046376</td><td>0.015</td><td>0.02</td></tr><tr><th>29</th><td>0.083376</td><td>1</td><td>8.45105</td><td>0.0</td><td>0.358556</td><td>0.016468</td><td>0.09</td><td>0.133</td></tr><tr><th>30</th><td>0.0762335</td><td>1</td><td>8.60245</td><td>0.0</td><td>0.416234</td><td>0.014721</td><td>0.148</td><td>0.194</td></tr><tr><th>&vellip;</th><td>&vellip;</td><td>&vellip;</td><td>&vellip;</td><td>&vellip;</td><td>&vellip;</td><td>&vellip;</td><td>&vellip;</td><td>&vellip;</td></tr></tbody></table>"
      ],
      "text/latex": [
       "\\begin{tabular}{r|ccccccccc}\n",
       "\t& y & intercept & gdpsh465 & bmp1l & freeop & freetar & h65 & hm65 & \\\\\n",
       "\t\\hline\n",
       "\t& Float64 & Int32 & Float64 & Float64 & Float64 & Float64 & Float64 & Float64 & \\\\\n",
       "\t\\hline\n",
       "\t1 & -0.0243358 & 1 & 6.59167 & 0.2837 & 0.153491 & 0.043888 & 0.007 & 0.013 & $\\dots$ \\\\\n",
       "\t2 & 0.100473 & 1 & 6.82979 & 0.6141 & 0.313509 & 0.061827 & 0.019 & 0.032 & $\\dots$ \\\\\n",
       "\t3 & 0.0670515 & 1 & 8.89508 & 0.0 & 0.204244 & 0.009186 & 0.26 & 0.325 & $\\dots$ \\\\\n",
       "\t4 & 0.0640892 & 1 & 7.56528 & 0.1997 & 0.248714 & 0.03627 & 0.061 & 0.07 & $\\dots$ \\\\\n",
       "\t5 & 0.0279295 & 1 & 7.1624 & 0.174 & 0.299252 & 0.037367 & 0.017 & 0.027 & $\\dots$ \\\\\n",
       "\t6 & 0.0464074 & 1 & 7.21891 & 0.0 & 0.258865 & 0.02088 & 0.023 & 0.038 & $\\dots$ \\\\\n",
       "\t7 & 0.0673323 & 1 & 7.8536 & 0.0 & 0.182525 & 0.014385 & 0.039 & 0.063 & $\\dots$ \\\\\n",
       "\t8 & 0.0209777 & 1 & 7.70391 & 0.2776 & 0.215275 & 0.029713 & 0.024 & 0.035 & $\\dots$ \\\\\n",
       "\t9 & 0.0335512 & 1 & 9.06346 & 0.0 & 0.109614 & 0.002171 & 0.402 & 0.488 & $\\dots$ \\\\\n",
       "\t10 & 0.0391465 & 1 & 8.15191 & 0.1484 & 0.110885 & 0.028579 & 0.145 & 0.173 & $\\dots$ \\\\\n",
       "\t11 & 0.0761265 & 1 & 6.92952 & 0.0296 & 0.165784 & 0.020115 & 0.046 & 0.066 & $\\dots$ \\\\\n",
       "\t12 & 0.127951 & 1 & 7.23778 & 0.2151 & 0.078488 & 0.011581 & 0.022 & 0.031 & $\\dots$ \\\\\n",
       "\t13 & -0.0243261 & 1 & 8.11582 & 0.4318 & 0.137482 & 0.026547 & 0.059 & 0.073 & $\\dots$ \\\\\n",
       "\t14 & 0.0782934 & 1 & 7.2717 & 0.1689 & 0.164598 & 0.044446 & 0.029 & 0.045 & $\\dots$ \\\\\n",
       "\t15 & 0.112912 & 1 & 7.12125 & 0.1832 & 0.188016 & 0.045678 & 0.033 & 0.051 & $\\dots$ \\\\\n",
       "\t16 & 0.0523082 & 1 & 6.97728 & 0.0962 & 0.204611 & 0.077852 & 0.037 & 0.043 & $\\dots$ \\\\\n",
       "\t17 & 0.0363909 & 1 & 7.64969 & 0.0227 & 0.136287 & 0.04673 & 0.081 & 0.105 & $\\dots$ \\\\\n",
       "\t18 & 0.0297382 & 1 & 8.05674 & 0.0208 & 0.197853 & 0.037224 & 0.083 & 0.097 & $\\dots$ \\\\\n",
       "\t19 & -0.0566436 & 1 & 8.78094 & 0.2654 & 0.189867 & 0.031747 & 0.068 & 0.089 & $\\dots$ \\\\\n",
       "\t20 & 0.0192048 & 1 & 6.28786 & 0.4207 & 0.130682 & 0.109921 & 0.053 & 0.039 & $\\dots$ \\\\\n",
       "\t21 & 0.085206 & 1 & 6.13773 & 0.1371 & 0.123818 & 0.015897 & 0.028 & 0.025 & $\\dots$ \\\\\n",
       "\t22 & 0.133982 & 1 & 8.12888 & 0.0 & 0.16721 & 0.003311 & 0.129 & 0.196 & $\\dots$ \\\\\n",
       "\t23 & 0.173025 & 1 & 6.68085 & 0.4713 & 0.228424 & 0.029328 & 0.062 & 0.09 & $\\dots$ \\\\\n",
       "\t24 & 0.109699 & 1 & 7.17702 & 0.0178 & 0.18524 & 0.015453 & 0.02 & 0.026 & $\\dots$ \\\\\n",
       "\t25 & 0.0159899 & 1 & 6.64898 & 0.4762 & 0.171181 & 0.058937 & 0.018 & 0.028 & $\\dots$ \\\\\n",
       "\t26 & 0.0622498 & 1 & 6.87936 & 0.2927 & 0.179508 & 0.035842 & 0.188 & 0.169 & $\\dots$ \\\\\n",
       "\t27 & 0.109871 & 1 & 7.3473 & 0.1017 & 0.247626 & 0.037392 & 0.08 & 0.133 & $\\dots$ \\\\\n",
       "\t28 & 0.0921063 & 1 & 6.72503 & 0.0266 & 0.179933 & 0.046376 & 0.015 & 0.02 & $\\dots$ \\\\\n",
       "\t29 & 0.083376 & 1 & 8.45105 & 0.0 & 0.358556 & 0.016468 & 0.09 & 0.133 & $\\dots$ \\\\\n",
       "\t30 & 0.0762335 & 1 & 8.60245 & 0.0 & 0.416234 & 0.014721 & 0.148 & 0.194 & $\\dots$ \\\\\n",
       "\t$\\dots$ & $\\dots$ & $\\dots$ & $\\dots$ & $\\dots$ & $\\dots$ & $\\dots$ & $\\dots$ & $\\dots$ &  \\\\\n",
       "\\end{tabular}\n"
      ],
      "text/plain": [
       "90×63 DataFrame. Omitted printing of 57 columns\n",
       "│ Row │ y          │ intercept │ gdpsh465 │ bmp1l   │ freeop   │ freetar  │\n",
       "│     │ \u001b[90mFloat64\u001b[39m    │ \u001b[90mInt32\u001b[39m     │ \u001b[90mFloat64\u001b[39m  │ \u001b[90mFloat64\u001b[39m │ \u001b[90mFloat64\u001b[39m  │ \u001b[90mFloat64\u001b[39m  │\n",
       "├─────┼────────────┼───────────┼──────────┼─────────┼──────────┼──────────┤\n",
       "│ 1   │ -0.0243358 │ 1         │ 6.59167  │ 0.2837  │ 0.153491 │ 0.043888 │\n",
       "│ 2   │ 0.100473   │ 1         │ 6.82979  │ 0.6141  │ 0.313509 │ 0.061827 │\n",
       "│ 3   │ 0.0670515  │ 1         │ 8.89508  │ 0.0     │ 0.204244 │ 0.009186 │\n",
       "│ 4   │ 0.0640892  │ 1         │ 7.56528  │ 0.1997  │ 0.248714 │ 0.03627  │\n",
       "│ 5   │ 0.0279295  │ 1         │ 7.1624   │ 0.174   │ 0.299252 │ 0.037367 │\n",
       "│ 6   │ 0.0464074  │ 1         │ 7.21891  │ 0.0     │ 0.258865 │ 0.02088  │\n",
       "│ 7   │ 0.0673323  │ 1         │ 7.8536   │ 0.0     │ 0.182525 │ 0.014385 │\n",
       "│ 8   │ 0.0209777  │ 1         │ 7.70391  │ 0.2776  │ 0.215275 │ 0.029713 │\n",
       "│ 9   │ 0.0335512  │ 1         │ 9.06346  │ 0.0     │ 0.109614 │ 0.002171 │\n",
       "│ 10  │ 0.0391465  │ 1         │ 8.15191  │ 0.1484  │ 0.110885 │ 0.028579 │\n",
       "⋮\n",
       "│ 80  │ 0.0652286  │ 1         │ 7.17549  │ 0.0     │ 0.179933 │ 0.046376 │\n",
       "│ 81  │ 0.038095   │ 1         │ 9.03097  │ 0.0     │ 0.293138 │ 0.005517 │\n",
       "│ 82  │ 0.034213   │ 1         │ 8.99554  │ 0.0     │ 0.30472  │ 0.011658 │\n",
       "│ 83  │ 0.0527591  │ 1         │ 8.23483  │ 0.0363  │ 0.288405 │ 0.011589 │\n",
       "│ 84  │ 0.0384156  │ 1         │ 8.33255  │ 0.0     │ 0.345485 │ 0.006503 │\n",
       "│ 85  │ 0.0318948  │ 1         │ 8.64559  │ 0.0     │ 0.28844  │ 0.005995 │\n",
       "│ 86  │ 0.031196   │ 1         │ 8.99106  │ 0.0     │ 0.371898 │ 0.014586 │\n",
       "│ 87  │ 0.0340957  │ 1         │ 8.02519  │ 0.005   │ 0.296437 │ 0.013615 │\n",
       "│ 88  │ 0.0469005  │ 1         │ 9.03014  │ 0.0     │ 0.265778 │ 0.008629 │\n",
       "│ 89  │ 0.0397734  │ 1         │ 8.86531  │ 0.0     │ 0.282939 │ 0.005048 │\n",
       "│ 90  │ 0.0406415  │ 1         │ 8.91234  │ 0.0     │ 0.150366 │ 0.024377 │"
      ]
     },
     "execution_count": 81,
     "metadata": {},
     "output_type": "execute_result"
    }
   ],
   "source": [
    "data = [y X]"
   ]
  },
  {
   "cell_type": "code",
   "execution_count": 74,
   "id": "0a73b6ba",
   "metadata": {},
   "outputs": [],
   "source": [
    "    # couples variables combinations \n",
    "    combinations_upto(x, n) = Iterators.flatten(combinations(x, i) for i in 1:n)\n",
    "\n",
    "    # combinations without same couple\n",
    "    expand_exp(args, deg::ConstantTerm) =\n",
    "        tuple(((&)(terms...) for terms in combinations_upto(args, deg.n))...)\n",
    "\n",
    "    StatsModels.apply_schema(t::FunctionTerm{typeof(^)}, sch::StatsModels.Schema, ctx::Type) =\n",
    "        apply_schema.(expand_exp(t.args_parsed...), Ref(sch), ctx)"
   ]
  },
  {
   "cell_type": "code",
   "execution_count": 88,
   "id": "78e54d99",
   "metadata": {},
   "outputs": [
    {
     "data": {
      "text/plain": [
       "FormulaTerm\n",
       "Response:\n",
       "  y(continuous)\n",
       "Predictors:\n",
       "  0\n",
       "  gdpsh465(continuous)\n",
       "  bmp1l(continuous)\n",
       "  freeop(continuous)\n",
       "  freetar(continuous)\n",
       "  h65(continuous)\n",
       "  hm65(continuous)\n",
       "  hf65(continuous)\n",
       "  p65(continuous)\n",
       "  pm65(continuous)\n",
       "  pf65(continuous)\n",
       "  s65(continuous)\n",
       "  sm65(continuous)\n",
       "  sf65(continuous)\n",
       "  fert65(continuous)\n",
       "  mort65(continuous)\n",
       "  lifee065(continuous)\n",
       "  gpop1(continuous)\n",
       "  fert1(continuous)\n",
       "  mort1(continuous)\n",
       "  invsh41(continuous)\n",
       "  geetot1(continuous)\n",
       "  geerec1(continuous)\n",
       "  gde1(continuous)\n",
       "  govwb1(continuous)\n",
       "  govsh41(continuous)\n",
       "  gvxdxe41(continuous)\n",
       "  high65(continuous)\n",
       "  highm65(continuous)\n",
       "  highf65(continuous)\n",
       "  highc65(continuous)\n",
       "  highcm65(continuous)\n",
       "  highcf65(continuous)\n",
       "  human65(continuous)\n",
       "  humanm65(continuous)\n",
       "  humanf65(continuous)\n",
       "  hyr65(continuous)\n",
       "  hyrm65(continuous)\n",
       "  hyrf65(continuous)\n",
       "  no65(continuous)\n",
       "  nom65(continuous)\n",
       "  nof65(continuous)\n",
       "  pinstab1(continuous)\n",
       "  pop65(continuous)\n",
       "  worker65(continuous)\n",
       "  pop1565(continuous)\n",
       "  pop6565(continuous)\n",
       "  sec65(continuous)\n",
       "  secm65(continuous)\n",
       "  secf65(continuous)\n",
       "  secc65(continuous)\n",
       "  seccm65(continuous)\n",
       "  seccf65(continuous)\n",
       "  syr65(continuous)\n",
       "  syrm65(continuous)\n",
       "  syrf65(continuous)\n",
       "  teapri65(continuous)\n",
       "  teasec65(continuous)\n",
       "  ex1(continuous)\n",
       "  im1(continuous)\n",
       "  xr65(continuous)\n",
       "  tot1(continuous)"
      ]
     },
     "execution_count": 88,
     "metadata": {},
     "output_type": "execute_result"
    }
   ],
   "source": [
    "reg = @formula(y ~ -1 + gdpsh465 + bmp1l + freeop + freetar + h65 + hm65 + hf65 + p65 + pm65 + pf65 + s65 + sm65 + sf65 + fert65 + mort65 + lifee065 + gpop1 + fert1 + mort1 + invsh41 + geetot1 + geerec1 + gde1 + govwb1 + govsh41 + gvxdxe41 + high65 + highm65 + highf65 + highc65 + highcm65 + highcf65 + human65 + humanm65 + humanf65 + hyr65 + hyrm65 + hyrf65 + no65 + nom65 + nof65 + pinstab1 + pop65 + worker65 + pop1565 + pop6565 + sec65 + secm65 + secf65 + secc65 + seccm65 + seccf65 + syr65 + syrm65 + syrf65 + teapri65 + teasec65 + ex1 + im1 + xr65 + tot1)\n",
    "formula_basic = apply_schema(reg, schema(reg, data))"
   ]
  },
  {
   "cell_type": "code",
   "execution_count": 89,
   "id": "1746270b",
   "metadata": {},
   "outputs": [
    {
     "data": {
      "text/plain": [
       "(\"y\", Any[\"gdpsh465\", \"bmp1l\", \"freeop\", \"freetar\", \"h65\", \"hm65\", \"hf65\", \"p65\", \"pm65\", \"pf65\"  …  \"seccf65\", \"syr65\", \"syrm65\", \"syrf65\", \"teapri65\", \"teasec65\", \"ex1\", \"im1\", \"xr65\", \"tot1\"])"
      ]
     },
     "execution_count": 89,
     "metadata": {},
     "output_type": "execute_result"
    }
   ],
   "source": [
    "coefnames(formula_basic)"
   ]
  },
  {
   "cell_type": "code",
   "execution_count": 91,
   "id": "9a7280ff",
   "metadata": {},
   "outputs": [
    {
     "data": {
      "text/plain": [
       "61-element Vector{Symbol}:\n",
       " :gdpsh465\n",
       " :bmp1l\n",
       " :freeop\n",
       " :freetar\n",
       " :h65\n",
       " :hm65\n",
       " :hf65\n",
       " :p65\n",
       " :pm65\n",
       " :pf65\n",
       " :s65\n",
       " :sm65\n",
       " :sf65\n",
       " ⋮\n",
       " :secc65\n",
       " :seccm65\n",
       " :seccf65\n",
       " :syr65\n",
       " :syrm65\n",
       " :syrf65\n",
       " :teapri65\n",
       " :teasec65\n",
       " :ex1\n",
       " :im1\n",
       " :xr65\n",
       " :tot1"
      ]
     },
     "execution_count": 91,
     "metadata": {},
     "output_type": "execute_result"
    }
   ],
   "source": [
    "Y = select(data,:y)  # uptcome variable\n",
    "control = coefnames(formula_basic)[2]  # regresors \n",
    "names_col = Symbol.(control)  # string to Symbol to create varaible's name "
   ]
  },
  {
   "cell_type": "code",
   "execution_count": 92,
   "id": "e21ba553",
   "metadata": {},
   "outputs": [
    {
     "data": {
      "text/plain": [
       "90×61 Matrix{Float64}:\n",
       " 6.59167  0.2837  0.153491  0.043888  …  0.0729  0.0667    0.348  -0.014727\n",
       " 6.82979  0.6141  0.313509  0.061827     0.094   0.1438    0.525   0.00575\n",
       " 8.89508  0.0     0.204244  0.009186     0.1741  0.175     1.082  -0.01004\n",
       " 7.56528  0.1997  0.248714  0.03627      0.1265  0.1496    6.625  -0.002195\n",
       " 7.1624   0.174   0.299252  0.037367     0.1211  0.1308    2.5     0.003283\n",
       " 7.21891  0.0     0.258865  0.02088   …  0.0634  0.0762    1.0    -0.001747\n",
       " 7.8536   0.0     0.182525  0.014385     0.0342  0.0428   12.499   0.009092\n",
       " 7.70391  0.2776  0.215275  0.029713     0.0864  0.0931    7.0     0.01163\n",
       " 9.06346  0.0     0.109614  0.002171     0.0594  0.046     1.0     0.008169\n",
       " 8.15191  0.1484  0.110885  0.028579     0.0524  0.0523    2.119   0.007584\n",
       " 6.92952  0.0296  0.165784  0.020115  …  0.056   0.0826   11.879   0.086032\n",
       " 7.23778  0.2151  0.078488  0.011581     0.027   0.0275    1.938   0.007666\n",
       " 8.11582  0.4318  0.137482  0.026547     0.0804  0.093     0.003   0.016968\n",
       " ⋮                                    ⋱                            ⋮\n",
       " 7.89469  0.1062  0.247626  0.037392     0.0797  0.1018    3.017   0.207492\n",
       " 7.17549  0.0     0.179933  0.046376     0.0636  0.0721   20.379   0.018019\n",
       " 9.03097  0.0     0.293138  0.005517  …  0.1662  0.1617    4.286  -0.006642\n",
       " 8.99554  0.0     0.30472   0.011658     0.2597  0.2288    2.46   -0.003241\n",
       " 8.23483  0.0363  0.288405  0.011589     0.1044  0.1796   32.051  -0.034352\n",
       " 8.33255  0.0     0.345485  0.006503     0.2866  0.35      0.452  -0.00166\n",
       " 8.64559  0.0     0.28844   0.005995     0.1296  0.1458  652.85   -0.046278\n",
       " 8.99106  0.0     0.371898  0.014586  …  0.4407  0.4257    2.529  -0.011883\n",
       " 8.02519  0.005   0.296437  0.013615     0.1669  0.2201   25.553  -0.03908\n",
       " 9.03014  0.0     0.265778  0.008629     0.3238  0.3134    4.152   0.005175\n",
       " 8.86531  0.0     0.282939  0.005048     0.1845  0.194     0.452  -0.029551\n",
       " 8.91234  0.0     0.150366  0.024377     0.1876  0.2007    0.886  -0.036482"
      ]
     },
     "execution_count": 92,
     "metadata": {},
     "output_type": "execute_result"
    }
   ],
   "source": [
    "X = StatsModels.modelmatrix(formula_basic,data)"
   ]
  },
  {
   "cell_type": "code",
   "execution_count": 93,
   "id": "d9c62012",
   "metadata": {},
   "outputs": [
    {
     "data": {
      "text/html": [
       "<table class=\"data-frame\"><thead><tr><th></th><th>gdpsh465</th><th>bmp1l</th><th>freeop</th><th>freetar</th><th>h65</th><th>hm65</th><th>hf65</th><th>p65</th><th>pm65</th></tr><tr><th></th><th>Float64</th><th>Float64</th><th>Float64</th><th>Float64</th><th>Float64</th><th>Float64</th><th>Float64</th><th>Float64</th><th>Float64</th></tr></thead><tbody><p>90 rows × 61 columns (omitted printing of 52 columns)</p><tr><th>1</th><td>6.59167</td><td>0.2837</td><td>0.153491</td><td>0.043888</td><td>0.007</td><td>0.013</td><td>0.001</td><td>0.29</td><td>0.37</td></tr><tr><th>2</th><td>6.82979</td><td>0.6141</td><td>0.313509</td><td>0.061827</td><td>0.019</td><td>0.032</td><td>0.007</td><td>0.91</td><td>1.0</td></tr><tr><th>3</th><td>8.89508</td><td>0.0</td><td>0.204244</td><td>0.009186</td><td>0.26</td><td>0.325</td><td>0.201</td><td>1.0</td><td>1.0</td></tr><tr><th>4</th><td>7.56528</td><td>0.1997</td><td>0.248714</td><td>0.03627</td><td>0.061</td><td>0.07</td><td>0.051</td><td>1.0</td><td>1.0</td></tr><tr><th>5</th><td>7.1624</td><td>0.174</td><td>0.299252</td><td>0.037367</td><td>0.017</td><td>0.027</td><td>0.007</td><td>0.82</td><td>0.85</td></tr><tr><th>6</th><td>7.21891</td><td>0.0</td><td>0.258865</td><td>0.02088</td><td>0.023</td><td>0.038</td><td>0.006</td><td>0.5</td><td>0.55</td></tr><tr><th>7</th><td>7.8536</td><td>0.0</td><td>0.182525</td><td>0.014385</td><td>0.039</td><td>0.063</td><td>0.014</td><td>0.92</td><td>0.94</td></tr><tr><th>8</th><td>7.70391</td><td>0.2776</td><td>0.215275</td><td>0.029713</td><td>0.024</td><td>0.035</td><td>0.013</td><td>0.69</td><td>0.69</td></tr><tr><th>9</th><td>9.06346</td><td>0.0</td><td>0.109614</td><td>0.002171</td><td>0.402</td><td>0.488</td><td>0.314</td><td>1.0</td><td>1.0</td></tr><tr><th>10</th><td>8.15191</td><td>0.1484</td><td>0.110885</td><td>0.028579</td><td>0.145</td><td>0.173</td><td>0.114</td><td>1.0</td><td>1.0</td></tr><tr><th>11</th><td>6.92952</td><td>0.0296</td><td>0.165784</td><td>0.020115</td><td>0.046</td><td>0.066</td><td>0.025</td><td>0.73</td><td>0.86</td></tr><tr><th>12</th><td>7.23778</td><td>0.2151</td><td>0.078488</td><td>0.011581</td><td>0.022</td><td>0.031</td><td>0.014</td><td>1.0</td><td>0.73</td></tr><tr><th>13</th><td>8.11582</td><td>0.4318</td><td>0.137482</td><td>0.026547</td><td>0.059</td><td>0.073</td><td>0.045</td><td>1.0</td><td>1.0</td></tr><tr><th>14</th><td>7.2717</td><td>0.1689</td><td>0.164598</td><td>0.044446</td><td>0.029</td><td>0.045</td><td>0.013</td><td>0.84</td><td>0.83</td></tr><tr><th>15</th><td>7.12125</td><td>0.1832</td><td>0.188016</td><td>0.045678</td><td>0.033</td><td>0.051</td><td>0.015</td><td>0.91</td><td>0.94</td></tr><tr><th>16</th><td>6.97728</td><td>0.0962</td><td>0.204611</td><td>0.077852</td><td>0.037</td><td>0.043</td><td>0.03</td><td>1.0</td><td>1.0</td></tr><tr><th>17</th><td>7.64969</td><td>0.0227</td><td>0.136287</td><td>0.04673</td><td>0.081</td><td>0.105</td><td>0.056</td><td>0.99</td><td>1.0</td></tr><tr><th>18</th><td>8.05674</td><td>0.0208</td><td>0.197853</td><td>0.037224</td><td>0.083</td><td>0.097</td><td>0.069</td><td>1.0</td><td>1.0</td></tr><tr><th>19</th><td>8.78094</td><td>0.2654</td><td>0.189867</td><td>0.031747</td><td>0.068</td><td>0.089</td><td>0.046</td><td>0.94</td><td>0.93</td></tr><tr><th>20</th><td>6.28786</td><td>0.4207</td><td>0.130682</td><td>0.109921</td><td>0.053</td><td>0.039</td><td>0.011</td><td>0.74</td><td>0.69</td></tr><tr><th>21</th><td>6.13773</td><td>0.1371</td><td>0.123818</td><td>0.015897</td><td>0.028</td><td>0.025</td><td>0.007</td><td>0.72</td><td>0.75</td></tr><tr><th>22</th><td>8.12888</td><td>0.0</td><td>0.16721</td><td>0.003311</td><td>0.129</td><td>0.196</td><td>0.063</td><td>1.0</td><td>1.0</td></tr><tr><th>23</th><td>6.68085</td><td>0.4713</td><td>0.228424</td><td>0.029328</td><td>0.062</td><td>0.09</td><td>0.032</td><td>1.0</td><td>1.0</td></tr><tr><th>24</th><td>7.17702</td><td>0.0178</td><td>0.18524</td><td>0.015453</td><td>0.02</td><td>0.026</td><td>0.013</td><td>0.9</td><td>0.96</td></tr><tr><th>25</th><td>6.64898</td><td>0.4762</td><td>0.171181</td><td>0.058937</td><td>0.018</td><td>0.028</td><td>0.007</td><td>0.4</td><td>0.59</td></tr><tr><th>26</th><td>6.87936</td><td>0.2927</td><td>0.179508</td><td>0.035842</td><td>0.188</td><td>0.169</td><td>0.208</td><td>1.0</td><td>1.0</td></tr><tr><th>27</th><td>7.3473</td><td>0.1017</td><td>0.247626</td><td>0.037392</td><td>0.08</td><td>0.133</td><td>0.027</td><td>0.78</td><td>1.0</td></tr><tr><th>28</th><td>6.72503</td><td>0.0266</td><td>0.179933</td><td>0.046376</td><td>0.015</td><td>0.02</td><td>0.01</td><td>0.78</td><td>0.82</td></tr><tr><th>29</th><td>8.45105</td><td>0.0</td><td>0.358556</td><td>0.016468</td><td>0.09</td><td>0.133</td><td>0.044</td><td>1.0</td><td>1.0</td></tr><tr><th>30</th><td>8.60245</td><td>0.0</td><td>0.416234</td><td>0.014721</td><td>0.148</td><td>0.194</td><td>0.1</td><td>1.0</td><td>1.0</td></tr><tr><th>&vellip;</th><td>&vellip;</td><td>&vellip;</td><td>&vellip;</td><td>&vellip;</td><td>&vellip;</td><td>&vellip;</td><td>&vellip;</td><td>&vellip;</td><td>&vellip;</td></tr></tbody></table>"
      ],
      "text/latex": [
       "\\begin{tabular}{r|cccccccccc}\n",
       "\t& gdpsh465 & bmp1l & freeop & freetar & h65 & hm65 & hf65 & p65 & pm65 & \\\\\n",
       "\t\\hline\n",
       "\t& Float64 & Float64 & Float64 & Float64 & Float64 & Float64 & Float64 & Float64 & Float64 & \\\\\n",
       "\t\\hline\n",
       "\t1 & 6.59167 & 0.2837 & 0.153491 & 0.043888 & 0.007 & 0.013 & 0.001 & 0.29 & 0.37 & $\\dots$ \\\\\n",
       "\t2 & 6.82979 & 0.6141 & 0.313509 & 0.061827 & 0.019 & 0.032 & 0.007 & 0.91 & 1.0 & $\\dots$ \\\\\n",
       "\t3 & 8.89508 & 0.0 & 0.204244 & 0.009186 & 0.26 & 0.325 & 0.201 & 1.0 & 1.0 & $\\dots$ \\\\\n",
       "\t4 & 7.56528 & 0.1997 & 0.248714 & 0.03627 & 0.061 & 0.07 & 0.051 & 1.0 & 1.0 & $\\dots$ \\\\\n",
       "\t5 & 7.1624 & 0.174 & 0.299252 & 0.037367 & 0.017 & 0.027 & 0.007 & 0.82 & 0.85 & $\\dots$ \\\\\n",
       "\t6 & 7.21891 & 0.0 & 0.258865 & 0.02088 & 0.023 & 0.038 & 0.006 & 0.5 & 0.55 & $\\dots$ \\\\\n",
       "\t7 & 7.8536 & 0.0 & 0.182525 & 0.014385 & 0.039 & 0.063 & 0.014 & 0.92 & 0.94 & $\\dots$ \\\\\n",
       "\t8 & 7.70391 & 0.2776 & 0.215275 & 0.029713 & 0.024 & 0.035 & 0.013 & 0.69 & 0.69 & $\\dots$ \\\\\n",
       "\t9 & 9.06346 & 0.0 & 0.109614 & 0.002171 & 0.402 & 0.488 & 0.314 & 1.0 & 1.0 & $\\dots$ \\\\\n",
       "\t10 & 8.15191 & 0.1484 & 0.110885 & 0.028579 & 0.145 & 0.173 & 0.114 & 1.0 & 1.0 & $\\dots$ \\\\\n",
       "\t11 & 6.92952 & 0.0296 & 0.165784 & 0.020115 & 0.046 & 0.066 & 0.025 & 0.73 & 0.86 & $\\dots$ \\\\\n",
       "\t12 & 7.23778 & 0.2151 & 0.078488 & 0.011581 & 0.022 & 0.031 & 0.014 & 1.0 & 0.73 & $\\dots$ \\\\\n",
       "\t13 & 8.11582 & 0.4318 & 0.137482 & 0.026547 & 0.059 & 0.073 & 0.045 & 1.0 & 1.0 & $\\dots$ \\\\\n",
       "\t14 & 7.2717 & 0.1689 & 0.164598 & 0.044446 & 0.029 & 0.045 & 0.013 & 0.84 & 0.83 & $\\dots$ \\\\\n",
       "\t15 & 7.12125 & 0.1832 & 0.188016 & 0.045678 & 0.033 & 0.051 & 0.015 & 0.91 & 0.94 & $\\dots$ \\\\\n",
       "\t16 & 6.97728 & 0.0962 & 0.204611 & 0.077852 & 0.037 & 0.043 & 0.03 & 1.0 & 1.0 & $\\dots$ \\\\\n",
       "\t17 & 7.64969 & 0.0227 & 0.136287 & 0.04673 & 0.081 & 0.105 & 0.056 & 0.99 & 1.0 & $\\dots$ \\\\\n",
       "\t18 & 8.05674 & 0.0208 & 0.197853 & 0.037224 & 0.083 & 0.097 & 0.069 & 1.0 & 1.0 & $\\dots$ \\\\\n",
       "\t19 & 8.78094 & 0.2654 & 0.189867 & 0.031747 & 0.068 & 0.089 & 0.046 & 0.94 & 0.93 & $\\dots$ \\\\\n",
       "\t20 & 6.28786 & 0.4207 & 0.130682 & 0.109921 & 0.053 & 0.039 & 0.011 & 0.74 & 0.69 & $\\dots$ \\\\\n",
       "\t21 & 6.13773 & 0.1371 & 0.123818 & 0.015897 & 0.028 & 0.025 & 0.007 & 0.72 & 0.75 & $\\dots$ \\\\\n",
       "\t22 & 8.12888 & 0.0 & 0.16721 & 0.003311 & 0.129 & 0.196 & 0.063 & 1.0 & 1.0 & $\\dots$ \\\\\n",
       "\t23 & 6.68085 & 0.4713 & 0.228424 & 0.029328 & 0.062 & 0.09 & 0.032 & 1.0 & 1.0 & $\\dots$ \\\\\n",
       "\t24 & 7.17702 & 0.0178 & 0.18524 & 0.015453 & 0.02 & 0.026 & 0.013 & 0.9 & 0.96 & $\\dots$ \\\\\n",
       "\t25 & 6.64898 & 0.4762 & 0.171181 & 0.058937 & 0.018 & 0.028 & 0.007 & 0.4 & 0.59 & $\\dots$ \\\\\n",
       "\t26 & 6.87936 & 0.2927 & 0.179508 & 0.035842 & 0.188 & 0.169 & 0.208 & 1.0 & 1.0 & $\\dots$ \\\\\n",
       "\t27 & 7.3473 & 0.1017 & 0.247626 & 0.037392 & 0.08 & 0.133 & 0.027 & 0.78 & 1.0 & $\\dots$ \\\\\n",
       "\t28 & 6.72503 & 0.0266 & 0.179933 & 0.046376 & 0.015 & 0.02 & 0.01 & 0.78 & 0.82 & $\\dots$ \\\\\n",
       "\t29 & 8.45105 & 0.0 & 0.358556 & 0.016468 & 0.09 & 0.133 & 0.044 & 1.0 & 1.0 & $\\dots$ \\\\\n",
       "\t30 & 8.60245 & 0.0 & 0.416234 & 0.014721 & 0.148 & 0.194 & 0.1 & 1.0 & 1.0 & $\\dots$ \\\\\n",
       "\t$\\dots$ & $\\dots$ & $\\dots$ & $\\dots$ & $\\dots$ & $\\dots$ & $\\dots$ & $\\dots$ & $\\dots$ & $\\dots$ &  \\\\\n",
       "\\end{tabular}\n"
      ],
      "text/plain": [
       "90×61 DataFrame. Omitted printing of 54 columns\n",
       "│ Row │ gdpsh465 │ bmp1l   │ freeop   │ freetar  │ h65     │ hm65    │ hf65    │\n",
       "│     │ \u001b[90mFloat64\u001b[39m  │ \u001b[90mFloat64\u001b[39m │ \u001b[90mFloat64\u001b[39m  │ \u001b[90mFloat64\u001b[39m  │ \u001b[90mFloat64\u001b[39m │ \u001b[90mFloat64\u001b[39m │ \u001b[90mFloat64\u001b[39m │\n",
       "├─────┼──────────┼─────────┼──────────┼──────────┼─────────┼─────────┼─────────┤\n",
       "│ 1   │ 6.59167  │ 0.2837  │ 0.153491 │ 0.043888 │ 0.007   │ 0.013   │ 0.001   │\n",
       "│ 2   │ 6.82979  │ 0.6141  │ 0.313509 │ 0.061827 │ 0.019   │ 0.032   │ 0.007   │\n",
       "│ 3   │ 8.89508  │ 0.0     │ 0.204244 │ 0.009186 │ 0.26    │ 0.325   │ 0.201   │\n",
       "│ 4   │ 7.56528  │ 0.1997  │ 0.248714 │ 0.03627  │ 0.061   │ 0.07    │ 0.051   │\n",
       "│ 5   │ 7.1624   │ 0.174   │ 0.299252 │ 0.037367 │ 0.017   │ 0.027   │ 0.007   │\n",
       "│ 6   │ 7.21891  │ 0.0     │ 0.258865 │ 0.02088  │ 0.023   │ 0.038   │ 0.006   │\n",
       "│ 7   │ 7.8536   │ 0.0     │ 0.182525 │ 0.014385 │ 0.039   │ 0.063   │ 0.014   │\n",
       "│ 8   │ 7.70391  │ 0.2776  │ 0.215275 │ 0.029713 │ 0.024   │ 0.035   │ 0.013   │\n",
       "│ 9   │ 9.06346  │ 0.0     │ 0.109614 │ 0.002171 │ 0.402   │ 0.488   │ 0.314   │\n",
       "│ 10  │ 8.15191  │ 0.1484  │ 0.110885 │ 0.028579 │ 0.145   │ 0.173   │ 0.114   │\n",
       "⋮\n",
       "│ 80  │ 7.17549  │ 0.0     │ 0.179933 │ 0.046376 │ 0.035   │ 0.04    │ 0.027   │\n",
       "│ 81  │ 9.03097  │ 0.0     │ 0.293138 │ 0.005517 │ 0.245   │ 0.251   │ 0.238   │\n",
       "│ 82  │ 8.99554  │ 0.0     │ 0.30472  │ 0.011658 │ 0.246   │ 0.26    │ 0.19    │\n",
       "│ 83  │ 8.23483  │ 0.0363  │ 0.288405 │ 0.011589 │ 0.183   │ 0.222   │ 0.142   │\n",
       "│ 84  │ 8.33255  │ 0.0     │ 0.345485 │ 0.006503 │ 0.188   │ 0.248   │ 0.136   │\n",
       "│ 85  │ 8.64559  │ 0.0     │ 0.28844  │ 0.005995 │ 0.256   │ 0.301   │ 0.199   │\n",
       "│ 86  │ 8.99106  │ 0.0     │ 0.371898 │ 0.014586 │ 0.255   │ 0.336   │ 0.17    │\n",
       "│ 87  │ 8.02519  │ 0.005   │ 0.296437 │ 0.013615 │ 0.108   │ 0.117   │ 0.093   │\n",
       "│ 88  │ 9.03014  │ 0.0     │ 0.265778 │ 0.008629 │ 0.288   │ 0.337   │ 0.237   │\n",
       "│ 89  │ 8.86531  │ 0.0     │ 0.282939 │ 0.005048 │ 0.188   │ 0.236   │ 0.139   │\n",
       "│ 90  │ 8.91234  │ 0.0     │ 0.150366 │ 0.024377 │ 0.257   │ 0.338   │ 0.215   │"
      ]
     },
     "execution_count": 93,
     "metadata": {},
     "output_type": "execute_result"
    }
   ],
   "source": [
    "X = DataFrame(X, names_col)"
   ]
  },
  {
   "cell_type": "code",
   "execution_count": 94,
   "id": "a6a97181",
   "metadata": {},
   "outputs": [],
   "source": [
    "# Function to get index of constant columns   \n",
    "\n",
    "cons_column = []\n",
    "\n",
    "#recoge todos los valores que tengan varianza 0\n",
    "for i in 1:size(X,2)\n",
    "    if var(X[!,i]) == 0\n",
    "        append!(cons_column  , i)      \n",
    "    end       \n",
    "end"
   ]
  },
  {
   "cell_type": "code",
   "execution_count": 96,
   "id": "542fb3a7",
   "metadata": {},
   "outputs": [
    {
     "data": {
      "text/html": [
       "<table class=\"data-frame\"><thead><tr><th></th><th>gdpsh465</th><th>bmp1l</th><th>freeop</th><th>freetar</th><th>h65</th><th>hm65</th><th>hf65</th><th>p65</th><th>pm65</th></tr><tr><th></th><th>Float64</th><th>Float64</th><th>Float64</th><th>Float64</th><th>Float64</th><th>Float64</th><th>Float64</th><th>Float64</th><th>Float64</th></tr></thead><tbody><p>90 rows × 61 columns (omitted printing of 52 columns)</p><tr><th>1</th><td>6.59167</td><td>0.2837</td><td>0.153491</td><td>0.043888</td><td>0.007</td><td>0.013</td><td>0.001</td><td>0.29</td><td>0.37</td></tr><tr><th>2</th><td>6.82979</td><td>0.6141</td><td>0.313509</td><td>0.061827</td><td>0.019</td><td>0.032</td><td>0.007</td><td>0.91</td><td>1.0</td></tr><tr><th>3</th><td>8.89508</td><td>0.0</td><td>0.204244</td><td>0.009186</td><td>0.26</td><td>0.325</td><td>0.201</td><td>1.0</td><td>1.0</td></tr><tr><th>4</th><td>7.56528</td><td>0.1997</td><td>0.248714</td><td>0.03627</td><td>0.061</td><td>0.07</td><td>0.051</td><td>1.0</td><td>1.0</td></tr><tr><th>5</th><td>7.1624</td><td>0.174</td><td>0.299252</td><td>0.037367</td><td>0.017</td><td>0.027</td><td>0.007</td><td>0.82</td><td>0.85</td></tr><tr><th>6</th><td>7.21891</td><td>0.0</td><td>0.258865</td><td>0.02088</td><td>0.023</td><td>0.038</td><td>0.006</td><td>0.5</td><td>0.55</td></tr><tr><th>7</th><td>7.8536</td><td>0.0</td><td>0.182525</td><td>0.014385</td><td>0.039</td><td>0.063</td><td>0.014</td><td>0.92</td><td>0.94</td></tr><tr><th>8</th><td>7.70391</td><td>0.2776</td><td>0.215275</td><td>0.029713</td><td>0.024</td><td>0.035</td><td>0.013</td><td>0.69</td><td>0.69</td></tr><tr><th>9</th><td>9.06346</td><td>0.0</td><td>0.109614</td><td>0.002171</td><td>0.402</td><td>0.488</td><td>0.314</td><td>1.0</td><td>1.0</td></tr><tr><th>10</th><td>8.15191</td><td>0.1484</td><td>0.110885</td><td>0.028579</td><td>0.145</td><td>0.173</td><td>0.114</td><td>1.0</td><td>1.0</td></tr><tr><th>11</th><td>6.92952</td><td>0.0296</td><td>0.165784</td><td>0.020115</td><td>0.046</td><td>0.066</td><td>0.025</td><td>0.73</td><td>0.86</td></tr><tr><th>12</th><td>7.23778</td><td>0.2151</td><td>0.078488</td><td>0.011581</td><td>0.022</td><td>0.031</td><td>0.014</td><td>1.0</td><td>0.73</td></tr><tr><th>13</th><td>8.11582</td><td>0.4318</td><td>0.137482</td><td>0.026547</td><td>0.059</td><td>0.073</td><td>0.045</td><td>1.0</td><td>1.0</td></tr><tr><th>14</th><td>7.2717</td><td>0.1689</td><td>0.164598</td><td>0.044446</td><td>0.029</td><td>0.045</td><td>0.013</td><td>0.84</td><td>0.83</td></tr><tr><th>15</th><td>7.12125</td><td>0.1832</td><td>0.188016</td><td>0.045678</td><td>0.033</td><td>0.051</td><td>0.015</td><td>0.91</td><td>0.94</td></tr><tr><th>16</th><td>6.97728</td><td>0.0962</td><td>0.204611</td><td>0.077852</td><td>0.037</td><td>0.043</td><td>0.03</td><td>1.0</td><td>1.0</td></tr><tr><th>17</th><td>7.64969</td><td>0.0227</td><td>0.136287</td><td>0.04673</td><td>0.081</td><td>0.105</td><td>0.056</td><td>0.99</td><td>1.0</td></tr><tr><th>18</th><td>8.05674</td><td>0.0208</td><td>0.197853</td><td>0.037224</td><td>0.083</td><td>0.097</td><td>0.069</td><td>1.0</td><td>1.0</td></tr><tr><th>19</th><td>8.78094</td><td>0.2654</td><td>0.189867</td><td>0.031747</td><td>0.068</td><td>0.089</td><td>0.046</td><td>0.94</td><td>0.93</td></tr><tr><th>20</th><td>6.28786</td><td>0.4207</td><td>0.130682</td><td>0.109921</td><td>0.053</td><td>0.039</td><td>0.011</td><td>0.74</td><td>0.69</td></tr><tr><th>21</th><td>6.13773</td><td>0.1371</td><td>0.123818</td><td>0.015897</td><td>0.028</td><td>0.025</td><td>0.007</td><td>0.72</td><td>0.75</td></tr><tr><th>22</th><td>8.12888</td><td>0.0</td><td>0.16721</td><td>0.003311</td><td>0.129</td><td>0.196</td><td>0.063</td><td>1.0</td><td>1.0</td></tr><tr><th>23</th><td>6.68085</td><td>0.4713</td><td>0.228424</td><td>0.029328</td><td>0.062</td><td>0.09</td><td>0.032</td><td>1.0</td><td>1.0</td></tr><tr><th>24</th><td>7.17702</td><td>0.0178</td><td>0.18524</td><td>0.015453</td><td>0.02</td><td>0.026</td><td>0.013</td><td>0.9</td><td>0.96</td></tr><tr><th>25</th><td>6.64898</td><td>0.4762</td><td>0.171181</td><td>0.058937</td><td>0.018</td><td>0.028</td><td>0.007</td><td>0.4</td><td>0.59</td></tr><tr><th>26</th><td>6.87936</td><td>0.2927</td><td>0.179508</td><td>0.035842</td><td>0.188</td><td>0.169</td><td>0.208</td><td>1.0</td><td>1.0</td></tr><tr><th>27</th><td>7.3473</td><td>0.1017</td><td>0.247626</td><td>0.037392</td><td>0.08</td><td>0.133</td><td>0.027</td><td>0.78</td><td>1.0</td></tr><tr><th>28</th><td>6.72503</td><td>0.0266</td><td>0.179933</td><td>0.046376</td><td>0.015</td><td>0.02</td><td>0.01</td><td>0.78</td><td>0.82</td></tr><tr><th>29</th><td>8.45105</td><td>0.0</td><td>0.358556</td><td>0.016468</td><td>0.09</td><td>0.133</td><td>0.044</td><td>1.0</td><td>1.0</td></tr><tr><th>30</th><td>8.60245</td><td>0.0</td><td>0.416234</td><td>0.014721</td><td>0.148</td><td>0.194</td><td>0.1</td><td>1.0</td><td>1.0</td></tr><tr><th>&vellip;</th><td>&vellip;</td><td>&vellip;</td><td>&vellip;</td><td>&vellip;</td><td>&vellip;</td><td>&vellip;</td><td>&vellip;</td><td>&vellip;</td><td>&vellip;</td></tr></tbody></table>"
      ],
      "text/latex": [
       "\\begin{tabular}{r|cccccccccc}\n",
       "\t& gdpsh465 & bmp1l & freeop & freetar & h65 & hm65 & hf65 & p65 & pm65 & \\\\\n",
       "\t\\hline\n",
       "\t& Float64 & Float64 & Float64 & Float64 & Float64 & Float64 & Float64 & Float64 & Float64 & \\\\\n",
       "\t\\hline\n",
       "\t1 & 6.59167 & 0.2837 & 0.153491 & 0.043888 & 0.007 & 0.013 & 0.001 & 0.29 & 0.37 & $\\dots$ \\\\\n",
       "\t2 & 6.82979 & 0.6141 & 0.313509 & 0.061827 & 0.019 & 0.032 & 0.007 & 0.91 & 1.0 & $\\dots$ \\\\\n",
       "\t3 & 8.89508 & 0.0 & 0.204244 & 0.009186 & 0.26 & 0.325 & 0.201 & 1.0 & 1.0 & $\\dots$ \\\\\n",
       "\t4 & 7.56528 & 0.1997 & 0.248714 & 0.03627 & 0.061 & 0.07 & 0.051 & 1.0 & 1.0 & $\\dots$ \\\\\n",
       "\t5 & 7.1624 & 0.174 & 0.299252 & 0.037367 & 0.017 & 0.027 & 0.007 & 0.82 & 0.85 & $\\dots$ \\\\\n",
       "\t6 & 7.21891 & 0.0 & 0.258865 & 0.02088 & 0.023 & 0.038 & 0.006 & 0.5 & 0.55 & $\\dots$ \\\\\n",
       "\t7 & 7.8536 & 0.0 & 0.182525 & 0.014385 & 0.039 & 0.063 & 0.014 & 0.92 & 0.94 & $\\dots$ \\\\\n",
       "\t8 & 7.70391 & 0.2776 & 0.215275 & 0.029713 & 0.024 & 0.035 & 0.013 & 0.69 & 0.69 & $\\dots$ \\\\\n",
       "\t9 & 9.06346 & 0.0 & 0.109614 & 0.002171 & 0.402 & 0.488 & 0.314 & 1.0 & 1.0 & $\\dots$ \\\\\n",
       "\t10 & 8.15191 & 0.1484 & 0.110885 & 0.028579 & 0.145 & 0.173 & 0.114 & 1.0 & 1.0 & $\\dots$ \\\\\n",
       "\t11 & 6.92952 & 0.0296 & 0.165784 & 0.020115 & 0.046 & 0.066 & 0.025 & 0.73 & 0.86 & $\\dots$ \\\\\n",
       "\t12 & 7.23778 & 0.2151 & 0.078488 & 0.011581 & 0.022 & 0.031 & 0.014 & 1.0 & 0.73 & $\\dots$ \\\\\n",
       "\t13 & 8.11582 & 0.4318 & 0.137482 & 0.026547 & 0.059 & 0.073 & 0.045 & 1.0 & 1.0 & $\\dots$ \\\\\n",
       "\t14 & 7.2717 & 0.1689 & 0.164598 & 0.044446 & 0.029 & 0.045 & 0.013 & 0.84 & 0.83 & $\\dots$ \\\\\n",
       "\t15 & 7.12125 & 0.1832 & 0.188016 & 0.045678 & 0.033 & 0.051 & 0.015 & 0.91 & 0.94 & $\\dots$ \\\\\n",
       "\t16 & 6.97728 & 0.0962 & 0.204611 & 0.077852 & 0.037 & 0.043 & 0.03 & 1.0 & 1.0 & $\\dots$ \\\\\n",
       "\t17 & 7.64969 & 0.0227 & 0.136287 & 0.04673 & 0.081 & 0.105 & 0.056 & 0.99 & 1.0 & $\\dots$ \\\\\n",
       "\t18 & 8.05674 & 0.0208 & 0.197853 & 0.037224 & 0.083 & 0.097 & 0.069 & 1.0 & 1.0 & $\\dots$ \\\\\n",
       "\t19 & 8.78094 & 0.2654 & 0.189867 & 0.031747 & 0.068 & 0.089 & 0.046 & 0.94 & 0.93 & $\\dots$ \\\\\n",
       "\t20 & 6.28786 & 0.4207 & 0.130682 & 0.109921 & 0.053 & 0.039 & 0.011 & 0.74 & 0.69 & $\\dots$ \\\\\n",
       "\t21 & 6.13773 & 0.1371 & 0.123818 & 0.015897 & 0.028 & 0.025 & 0.007 & 0.72 & 0.75 & $\\dots$ \\\\\n",
       "\t22 & 8.12888 & 0.0 & 0.16721 & 0.003311 & 0.129 & 0.196 & 0.063 & 1.0 & 1.0 & $\\dots$ \\\\\n",
       "\t23 & 6.68085 & 0.4713 & 0.228424 & 0.029328 & 0.062 & 0.09 & 0.032 & 1.0 & 1.0 & $\\dots$ \\\\\n",
       "\t24 & 7.17702 & 0.0178 & 0.18524 & 0.015453 & 0.02 & 0.026 & 0.013 & 0.9 & 0.96 & $\\dots$ \\\\\n",
       "\t25 & 6.64898 & 0.4762 & 0.171181 & 0.058937 & 0.018 & 0.028 & 0.007 & 0.4 & 0.59 & $\\dots$ \\\\\n",
       "\t26 & 6.87936 & 0.2927 & 0.179508 & 0.035842 & 0.188 & 0.169 & 0.208 & 1.0 & 1.0 & $\\dots$ \\\\\n",
       "\t27 & 7.3473 & 0.1017 & 0.247626 & 0.037392 & 0.08 & 0.133 & 0.027 & 0.78 & 1.0 & $\\dots$ \\\\\n",
       "\t28 & 6.72503 & 0.0266 & 0.179933 & 0.046376 & 0.015 & 0.02 & 0.01 & 0.78 & 0.82 & $\\dots$ \\\\\n",
       "\t29 & 8.45105 & 0.0 & 0.358556 & 0.016468 & 0.09 & 0.133 & 0.044 & 1.0 & 1.0 & $\\dots$ \\\\\n",
       "\t30 & 8.60245 & 0.0 & 0.416234 & 0.014721 & 0.148 & 0.194 & 0.1 & 1.0 & 1.0 & $\\dots$ \\\\\n",
       "\t$\\dots$ & $\\dots$ & $\\dots$ & $\\dots$ & $\\dots$ & $\\dots$ & $\\dots$ & $\\dots$ & $\\dots$ & $\\dots$ &  \\\\\n",
       "\\end{tabular}\n"
      ],
      "text/plain": [
       "90×61 DataFrame. Omitted printing of 54 columns\n",
       "│ Row │ gdpsh465 │ bmp1l   │ freeop   │ freetar  │ h65     │ hm65    │ hf65    │\n",
       "│     │ \u001b[90mFloat64\u001b[39m  │ \u001b[90mFloat64\u001b[39m │ \u001b[90mFloat64\u001b[39m  │ \u001b[90mFloat64\u001b[39m  │ \u001b[90mFloat64\u001b[39m │ \u001b[90mFloat64\u001b[39m │ \u001b[90mFloat64\u001b[39m │\n",
       "├─────┼──────────┼─────────┼──────────┼──────────┼─────────┼─────────┼─────────┤\n",
       "│ 1   │ 6.59167  │ 0.2837  │ 0.153491 │ 0.043888 │ 0.007   │ 0.013   │ 0.001   │\n",
       "│ 2   │ 6.82979  │ 0.6141  │ 0.313509 │ 0.061827 │ 0.019   │ 0.032   │ 0.007   │\n",
       "│ 3   │ 8.89508  │ 0.0     │ 0.204244 │ 0.009186 │ 0.26    │ 0.325   │ 0.201   │\n",
       "│ 4   │ 7.56528  │ 0.1997  │ 0.248714 │ 0.03627  │ 0.061   │ 0.07    │ 0.051   │\n",
       "│ 5   │ 7.1624   │ 0.174   │ 0.299252 │ 0.037367 │ 0.017   │ 0.027   │ 0.007   │\n",
       "│ 6   │ 7.21891  │ 0.0     │ 0.258865 │ 0.02088  │ 0.023   │ 0.038   │ 0.006   │\n",
       "│ 7   │ 7.8536   │ 0.0     │ 0.182525 │ 0.014385 │ 0.039   │ 0.063   │ 0.014   │\n",
       "│ 8   │ 7.70391  │ 0.2776  │ 0.215275 │ 0.029713 │ 0.024   │ 0.035   │ 0.013   │\n",
       "│ 9   │ 9.06346  │ 0.0     │ 0.109614 │ 0.002171 │ 0.402   │ 0.488   │ 0.314   │\n",
       "│ 10  │ 8.15191  │ 0.1484  │ 0.110885 │ 0.028579 │ 0.145   │ 0.173   │ 0.114   │\n",
       "⋮\n",
       "│ 80  │ 7.17549  │ 0.0     │ 0.179933 │ 0.046376 │ 0.035   │ 0.04    │ 0.027   │\n",
       "│ 81  │ 9.03097  │ 0.0     │ 0.293138 │ 0.005517 │ 0.245   │ 0.251   │ 0.238   │\n",
       "│ 82  │ 8.99554  │ 0.0     │ 0.30472  │ 0.011658 │ 0.246   │ 0.26    │ 0.19    │\n",
       "│ 83  │ 8.23483  │ 0.0363  │ 0.288405 │ 0.011589 │ 0.183   │ 0.222   │ 0.142   │\n",
       "│ 84  │ 8.33255  │ 0.0     │ 0.345485 │ 0.006503 │ 0.188   │ 0.248   │ 0.136   │\n",
       "│ 85  │ 8.64559  │ 0.0     │ 0.28844  │ 0.005995 │ 0.256   │ 0.301   │ 0.199   │\n",
       "│ 86  │ 8.99106  │ 0.0     │ 0.371898 │ 0.014586 │ 0.255   │ 0.336   │ 0.17    │\n",
       "│ 87  │ 8.02519  │ 0.005   │ 0.296437 │ 0.013615 │ 0.108   │ 0.117   │ 0.093   │\n",
       "│ 88  │ 9.03014  │ 0.0     │ 0.265778 │ 0.008629 │ 0.288   │ 0.337   │ 0.237   │\n",
       "│ 89  │ 8.86531  │ 0.0     │ 0.282939 │ 0.005048 │ 0.188   │ 0.236   │ 0.139   │\n",
       "│ 90  │ 8.91234  │ 0.0     │ 0.150366 │ 0.024377 │ 0.257   │ 0.338   │ 0.215   │"
      ]
     },
     "execution_count": 96,
     "metadata": {},
     "output_type": "execute_result"
    }
   ],
   "source": [
    "#Drop constant columns \n",
    "\n",
    "names(X)[cons_column]\n",
    "select!(X, Not(names(X)[cons_column]))"
   ]
  },
  {
   "cell_type": "code",
   "execution_count": 97,
   "id": "500717f6",
   "metadata": {},
   "outputs": [
    {
     "data": {
      "text/html": [
       "<table class=\"data-frame\"><thead><tr><th></th><th>gdpsh465</th><th>bmp1l</th><th>freeop</th><th>freetar</th><th>h65</th><th>hm65</th><th>hf65</th></tr><tr><th></th><th>Float64</th><th>Float64</th><th>Float64</th><th>Float64</th><th>Float64</th><th>Float64</th><th>Float64</th></tr></thead><tbody><p>90 rows × 61 columns (omitted printing of 54 columns)</p><tr><th>1</th><td>-1.11123</td><td>0.114953</td><td>-0.0666109</td><td>0.0155539</td><td>-0.104556</td><td>-0.124156</td><td>-0.0812333</td></tr><tr><th>2</th><td>-0.873113</td><td>0.445353</td><td>0.0934071</td><td>0.0334929</td><td>-0.0925556</td><td>-0.105156</td><td>-0.0752333</td></tr><tr><th>3</th><td>1.19217</td><td>-0.168747</td><td>-0.0158579</td><td>-0.0191481</td><td>0.148444</td><td>0.187844</td><td>0.118767</td></tr><tr><th>4</th><td>-0.137631</td><td>0.0309533</td><td>0.0286121</td><td>0.00793594</td><td>-0.0505556</td><td>-0.0671556</td><td>-0.0312333</td></tr><tr><th>5</th><td>-0.540509</td><td>0.00525333</td><td>0.0791501</td><td>0.00903294</td><td>-0.0945556</td><td>-0.110156</td><td>-0.0752333</td></tr><tr><th>6</th><td>-0.483997</td><td>-0.168747</td><td>0.0387631</td><td>-0.00745406</td><td>-0.0885556</td><td>-0.0991556</td><td>-0.0762333</td></tr><tr><th>7</th><td>0.150698</td><td>-0.168747</td><td>-0.0375769</td><td>-0.0139491</td><td>-0.0725556</td><td>-0.0741556</td><td>-0.0682333</td></tr><tr><th>8</th><td>0.00100345</td><td>0.108853</td><td>-0.00482694</td><td>0.00137894</td><td>-0.0875556</td><td>-0.102156</td><td>-0.0692333</td></tr><tr><th>9</th><td>1.36056</td><td>-0.168747</td><td>-0.110488</td><td>-0.0261631</td><td>0.290444</td><td>0.350844</td><td>0.231767</td></tr><tr><th>10</th><td>0.449003</td><td>-0.0203467</td><td>-0.109217</td><td>0.000244944</td><td>0.0334444</td><td>0.0358444</td><td>0.0317667</td></tr><tr><th>11</th><td>-0.77339</td><td>-0.139147</td><td>-0.0543179</td><td>-0.00821906</td><td>-0.0655556</td><td>-0.0711556</td><td>-0.0572333</td></tr><tr><th>12</th><td>-0.465129</td><td>0.0463533</td><td>-0.141614</td><td>-0.0167531</td><td>-0.0895556</td><td>-0.106156</td><td>-0.0682333</td></tr><tr><th>13</th><td>0.412913</td><td>0.263053</td><td>-0.0826199</td><td>-0.00178706</td><td>-0.0525556</td><td>-0.0641556</td><td>-0.0372333</td></tr><tr><th>14</th><td>-0.431203</td><td>0.000153333</td><td>-0.0555039</td><td>0.0161119</td><td>-0.0825556</td><td>-0.0921556</td><td>-0.0692333</td></tr><tr><th>15</th><td>-0.581654</td><td>0.0144533</td><td>-0.0320859</td><td>0.0173439</td><td>-0.0785556</td><td>-0.0861556</td><td>-0.0672333</td></tr><tr><th>16</th><td>-0.725625</td><td>-0.0725467</td><td>-0.0154909</td><td>0.0495179</td><td>-0.0745556</td><td>-0.0941556</td><td>-0.0522333</td></tr><tr><th>17</th><td>-0.0532141</td><td>-0.146047</td><td>-0.0838149</td><td>0.0183959</td><td>-0.0305556</td><td>-0.0321556</td><td>-0.0262333</td></tr><tr><th>18</th><td>0.353837</td><td>-0.147947</td><td>-0.0222489</td><td>0.00888994</td><td>-0.0285556</td><td>-0.0401556</td><td>-0.0132333</td></tr><tr><th>19</th><td>1.07803</td><td>0.0966533</td><td>-0.0302349</td><td>0.00341294</td><td>-0.0435556</td><td>-0.0481556</td><td>-0.0362333</td></tr><tr><th>20</th><td>-1.41505</td><td>0.251953</td><td>-0.0894199</td><td>0.0815869</td><td>-0.0585556</td><td>-0.0981556</td><td>-0.0712333</td></tr><tr><th>21</th><td>-1.56518</td><td>-0.0316467</td><td>-0.0962839</td><td>-0.0124371</td><td>-0.0835556</td><td>-0.112156</td><td>-0.0752333</td></tr><tr><th>22</th><td>0.425973</td><td>-0.168747</td><td>-0.0528919</td><td>-0.0250231</td><td>0.0174444</td><td>0.0588444</td><td>-0.0192333</td></tr><tr><th>23</th><td>-1.02205</td><td>0.302553</td><td>0.00832206</td><td>0.000993944</td><td>-0.0495556</td><td>-0.0471556</td><td>-0.0502333</td></tr><tr><th>24</th><td>-0.525888</td><td>-0.150947</td><td>-0.0348619</td><td>-0.0128811</td><td>-0.0915556</td><td>-0.111156</td><td>-0.0692333</td></tr><tr><th>25</th><td>-1.05392</td><td>0.307453</td><td>-0.0489209</td><td>0.0306029</td><td>-0.0935556</td><td>-0.109156</td><td>-0.0752333</td></tr><tr><th>26</th><td>-0.823551</td><td>0.123953</td><td>-0.0405939</td><td>0.00750794</td><td>0.0764444</td><td>0.0318444</td><td>0.125767</td></tr><tr><th>27</th><td>-0.355607</td><td>-0.0670467</td><td>0.0275241</td><td>0.00905794</td><td>-0.0315556</td><td>-0.00415556</td><td>-0.0552333</td></tr><tr><th>28</th><td>-0.977873</td><td>-0.142147</td><td>-0.0401689</td><td>0.0180419</td><td>-0.0965556</td><td>-0.117156</td><td>-0.0722333</td></tr><tr><th>29</th><td>0.748147</td><td>-0.168747</td><td>0.138454</td><td>-0.0118661</td><td>-0.0215556</td><td>-0.00415556</td><td>-0.0382333</td></tr><tr><th>30</th><td>0.899546</td><td>-0.168747</td><td>0.196132</td><td>-0.0136131</td><td>0.0364444</td><td>0.0568444</td><td>0.0177667</td></tr><tr><th>&vellip;</th><td>&vellip;</td><td>&vellip;</td><td>&vellip;</td><td>&vellip;</td><td>&vellip;</td><td>&vellip;</td><td>&vellip;</td></tr></tbody></table>"
      ],
      "text/latex": [
       "\\begin{tabular}{r|cccccccc}\n",
       "\t& gdpsh465 & bmp1l & freeop & freetar & h65 & hm65 & hf65 & \\\\\n",
       "\t\\hline\n",
       "\t& Float64 & Float64 & Float64 & Float64 & Float64 & Float64 & Float64 & \\\\\n",
       "\t\\hline\n",
       "\t1 & -1.11123 & 0.114953 & -0.0666109 & 0.0155539 & -0.104556 & -0.124156 & -0.0812333 & $\\dots$ \\\\\n",
       "\t2 & -0.873113 & 0.445353 & 0.0934071 & 0.0334929 & -0.0925556 & -0.105156 & -0.0752333 & $\\dots$ \\\\\n",
       "\t3 & 1.19217 & -0.168747 & -0.0158579 & -0.0191481 & 0.148444 & 0.187844 & 0.118767 & $\\dots$ \\\\\n",
       "\t4 & -0.137631 & 0.0309533 & 0.0286121 & 0.00793594 & -0.0505556 & -0.0671556 & -0.0312333 & $\\dots$ \\\\\n",
       "\t5 & -0.540509 & 0.00525333 & 0.0791501 & 0.00903294 & -0.0945556 & -0.110156 & -0.0752333 & $\\dots$ \\\\\n",
       "\t6 & -0.483997 & -0.168747 & 0.0387631 & -0.00745406 & -0.0885556 & -0.0991556 & -0.0762333 & $\\dots$ \\\\\n",
       "\t7 & 0.150698 & -0.168747 & -0.0375769 & -0.0139491 & -0.0725556 & -0.0741556 & -0.0682333 & $\\dots$ \\\\\n",
       "\t8 & 0.00100345 & 0.108853 & -0.00482694 & 0.00137894 & -0.0875556 & -0.102156 & -0.0692333 & $\\dots$ \\\\\n",
       "\t9 & 1.36056 & -0.168747 & -0.110488 & -0.0261631 & 0.290444 & 0.350844 & 0.231767 & $\\dots$ \\\\\n",
       "\t10 & 0.449003 & -0.0203467 & -0.109217 & 0.000244944 & 0.0334444 & 0.0358444 & 0.0317667 & $\\dots$ \\\\\n",
       "\t11 & -0.77339 & -0.139147 & -0.0543179 & -0.00821906 & -0.0655556 & -0.0711556 & -0.0572333 & $\\dots$ \\\\\n",
       "\t12 & -0.465129 & 0.0463533 & -0.141614 & -0.0167531 & -0.0895556 & -0.106156 & -0.0682333 & $\\dots$ \\\\\n",
       "\t13 & 0.412913 & 0.263053 & -0.0826199 & -0.00178706 & -0.0525556 & -0.0641556 & -0.0372333 & $\\dots$ \\\\\n",
       "\t14 & -0.431203 & 0.000153333 & -0.0555039 & 0.0161119 & -0.0825556 & -0.0921556 & -0.0692333 & $\\dots$ \\\\\n",
       "\t15 & -0.581654 & 0.0144533 & -0.0320859 & 0.0173439 & -0.0785556 & -0.0861556 & -0.0672333 & $\\dots$ \\\\\n",
       "\t16 & -0.725625 & -0.0725467 & -0.0154909 & 0.0495179 & -0.0745556 & -0.0941556 & -0.0522333 & $\\dots$ \\\\\n",
       "\t17 & -0.0532141 & -0.146047 & -0.0838149 & 0.0183959 & -0.0305556 & -0.0321556 & -0.0262333 & $\\dots$ \\\\\n",
       "\t18 & 0.353837 & -0.147947 & -0.0222489 & 0.00888994 & -0.0285556 & -0.0401556 & -0.0132333 & $\\dots$ \\\\\n",
       "\t19 & 1.07803 & 0.0966533 & -0.0302349 & 0.00341294 & -0.0435556 & -0.0481556 & -0.0362333 & $\\dots$ \\\\\n",
       "\t20 & -1.41505 & 0.251953 & -0.0894199 & 0.0815869 & -0.0585556 & -0.0981556 & -0.0712333 & $\\dots$ \\\\\n",
       "\t21 & -1.56518 & -0.0316467 & -0.0962839 & -0.0124371 & -0.0835556 & -0.112156 & -0.0752333 & $\\dots$ \\\\\n",
       "\t22 & 0.425973 & -0.168747 & -0.0528919 & -0.0250231 & 0.0174444 & 0.0588444 & -0.0192333 & $\\dots$ \\\\\n",
       "\t23 & -1.02205 & 0.302553 & 0.00832206 & 0.000993944 & -0.0495556 & -0.0471556 & -0.0502333 & $\\dots$ \\\\\n",
       "\t24 & -0.525888 & -0.150947 & -0.0348619 & -0.0128811 & -0.0915556 & -0.111156 & -0.0692333 & $\\dots$ \\\\\n",
       "\t25 & -1.05392 & 0.307453 & -0.0489209 & 0.0306029 & -0.0935556 & -0.109156 & -0.0752333 & $\\dots$ \\\\\n",
       "\t26 & -0.823551 & 0.123953 & -0.0405939 & 0.00750794 & 0.0764444 & 0.0318444 & 0.125767 & $\\dots$ \\\\\n",
       "\t27 & -0.355607 & -0.0670467 & 0.0275241 & 0.00905794 & -0.0315556 & -0.00415556 & -0.0552333 & $\\dots$ \\\\\n",
       "\t28 & -0.977873 & -0.142147 & -0.0401689 & 0.0180419 & -0.0965556 & -0.117156 & -0.0722333 & $\\dots$ \\\\\n",
       "\t29 & 0.748147 & -0.168747 & 0.138454 & -0.0118661 & -0.0215556 & -0.00415556 & -0.0382333 & $\\dots$ \\\\\n",
       "\t30 & 0.899546 & -0.168747 & 0.196132 & -0.0136131 & 0.0364444 & 0.0568444 & 0.0177667 & $\\dots$ \\\\\n",
       "\t$\\dots$ & $\\dots$ & $\\dots$ & $\\dots$ & $\\dots$ & $\\dots$ & $\\dots$ & $\\dots$ &  \\\\\n",
       "\\end{tabular}\n"
      ],
      "text/plain": [
       "90×61 DataFrame. Omitted printing of 56 columns\n",
       "│ Row │ gdpsh465   │ bmp1l      │ freeop      │ freetar     │ h65         │\n",
       "│     │ \u001b[90mFloat64\u001b[39m    │ \u001b[90mFloat64\u001b[39m    │ \u001b[90mFloat64\u001b[39m     │ \u001b[90mFloat64\u001b[39m     │ \u001b[90mFloat64\u001b[39m     │\n",
       "├─────┼────────────┼────────────┼─────────────┼─────────────┼─────────────┤\n",
       "│ 1   │ -1.11123   │ 0.114953   │ -0.0666109  │ 0.0155539   │ -0.104556   │\n",
       "│ 2   │ -0.873113  │ 0.445353   │ 0.0934071   │ 0.0334929   │ -0.0925556  │\n",
       "│ 3   │ 1.19217    │ -0.168747  │ -0.0158579  │ -0.0191481  │ 0.148444    │\n",
       "│ 4   │ -0.137631  │ 0.0309533  │ 0.0286121   │ 0.00793594  │ -0.0505556  │\n",
       "│ 5   │ -0.540509  │ 0.00525333 │ 0.0791501   │ 0.00903294  │ -0.0945556  │\n",
       "│ 6   │ -0.483997  │ -0.168747  │ 0.0387631   │ -0.00745406 │ -0.0885556  │\n",
       "│ 7   │ 0.150698   │ -0.168747  │ -0.0375769  │ -0.0139491  │ -0.0725556  │\n",
       "│ 8   │ 0.00100345 │ 0.108853   │ -0.00482694 │ 0.00137894  │ -0.0875556  │\n",
       "│ 9   │ 1.36056    │ -0.168747  │ -0.110488   │ -0.0261631  │ 0.290444    │\n",
       "│ 10  │ 0.449003   │ -0.0203467 │ -0.109217   │ 0.000244944 │ 0.0334444   │\n",
       "⋮\n",
       "│ 80  │ -0.527417  │ -0.168747  │ -0.0401689  │ 0.0180419   │ -0.0765556  │\n",
       "│ 81  │ 1.32807    │ -0.168747  │ 0.0730361   │ -0.0228171  │ 0.133444    │\n",
       "│ 82  │ 1.29263    │ -0.168747  │ 0.0846181   │ -0.0166761  │ 0.134444    │\n",
       "│ 83  │ 0.531924   │ -0.132447  │ 0.0683031   │ -0.0167451  │ 0.0714444   │\n",
       "│ 84  │ 0.629642   │ -0.168747  │ 0.125383    │ -0.0218311  │ 0.0764444   │\n",
       "│ 85  │ 0.94268    │ -0.168747  │ 0.0683381   │ -0.0223391  │ 0.144444    │\n",
       "│ 86  │ 1.28816    │ -0.168747  │ 0.151796    │ -0.0137481  │ 0.143444    │\n",
       "│ 87  │ 0.322283   │ -0.163747  │ 0.0763351   │ -0.0147191  │ -0.00355556 │\n",
       "│ 88  │ 1.32723    │ -0.168747  │ 0.0456761   │ -0.0197051  │ 0.176444    │\n",
       "│ 89  │ 1.1624     │ -0.168747  │ 0.0628371   │ -0.0232861  │ 0.0764444   │\n",
       "│ 90  │ 1.20943    │ -0.168747  │ -0.0697359  │ -0.00395706 │ 0.145444    │"
      ]
     },
     "execution_count": 97,
     "metadata": {},
     "output_type": "execute_result"
    }
   ],
   "source": [
    "# demean function\n",
    "function desv_mean(a)\n",
    "    a = Matrix(a)   # dataframe to matrix \n",
    "    A = mean(a, dims = 1)\n",
    "    M = zeros(Float64, size(X,1), size(X,2))\n",
    "    \n",
    "    for i in 1:size(a,2)\n",
    "          M[:,i] = a[:,i] .- A[i]\n",
    "    end\n",
    "    \n",
    "    return M\n",
    "end    \n",
    "\n",
    "\n",
    "# Matrix Model & demean\n",
    "\n",
    "X = DataFrame(desv_mean(X), names(X)) # Dataframe and names "
   ]
  },
  {
   "cell_type": "code",
   "execution_count": 101,
   "id": "165eaaf1",
   "metadata": {},
   "outputs": [
    {
     "data": {
      "text/plain": [
       "1-element Vector{Any}:\n",
       " 1"
      ]
     },
     "execution_count": 101,
     "metadata": {},
     "output_type": "execute_result"
    }
   ],
   "source": [
    "index"
   ]
  },
  {
   "cell_type": "code",
   "execution_count": 103,
   "id": "3a5cb62f",
   "metadata": {},
   "outputs": [
    {
     "data": {
      "text/html": [
       "<table class=\"data-frame\"><thead><tr><th></th><th>bmp1l</th><th>freeop</th><th>freetar</th><th>h65</th><th>hm65</th><th>hf65</th><th>p65</th></tr><tr><th></th><th>Float64</th><th>Float64</th><th>Float64</th><th>Float64</th><th>Float64</th><th>Float64</th><th>Float64</th></tr></thead><tbody><p>90 rows × 60 columns (omitted printing of 53 columns)</p><tr><th>1</th><td>0.114953</td><td>-0.0666109</td><td>0.0155539</td><td>-0.104556</td><td>-0.124156</td><td>-0.0812333</td><td>-0.603333</td></tr><tr><th>2</th><td>0.445353</td><td>0.0934071</td><td>0.0334929</td><td>-0.0925556</td><td>-0.105156</td><td>-0.0752333</td><td>0.0166667</td></tr><tr><th>3</th><td>-0.168747</td><td>-0.0158579</td><td>-0.0191481</td><td>0.148444</td><td>0.187844</td><td>0.118767</td><td>0.106667</td></tr><tr><th>4</th><td>0.0309533</td><td>0.0286121</td><td>0.00793594</td><td>-0.0505556</td><td>-0.0671556</td><td>-0.0312333</td><td>0.106667</td></tr><tr><th>5</th><td>0.00525333</td><td>0.0791501</td><td>0.00903294</td><td>-0.0945556</td><td>-0.110156</td><td>-0.0752333</td><td>-0.0733333</td></tr><tr><th>6</th><td>-0.168747</td><td>0.0387631</td><td>-0.00745406</td><td>-0.0885556</td><td>-0.0991556</td><td>-0.0762333</td><td>-0.393333</td></tr><tr><th>7</th><td>-0.168747</td><td>-0.0375769</td><td>-0.0139491</td><td>-0.0725556</td><td>-0.0741556</td><td>-0.0682333</td><td>0.0266667</td></tr><tr><th>8</th><td>0.108853</td><td>-0.00482694</td><td>0.00137894</td><td>-0.0875556</td><td>-0.102156</td><td>-0.0692333</td><td>-0.203333</td></tr><tr><th>9</th><td>-0.168747</td><td>-0.110488</td><td>-0.0261631</td><td>0.290444</td><td>0.350844</td><td>0.231767</td><td>0.106667</td></tr><tr><th>10</th><td>-0.0203467</td><td>-0.109217</td><td>0.000244944</td><td>0.0334444</td><td>0.0358444</td><td>0.0317667</td><td>0.106667</td></tr><tr><th>11</th><td>-0.139147</td><td>-0.0543179</td><td>-0.00821906</td><td>-0.0655556</td><td>-0.0711556</td><td>-0.0572333</td><td>-0.163333</td></tr><tr><th>12</th><td>0.0463533</td><td>-0.141614</td><td>-0.0167531</td><td>-0.0895556</td><td>-0.106156</td><td>-0.0682333</td><td>0.106667</td></tr><tr><th>13</th><td>0.263053</td><td>-0.0826199</td><td>-0.00178706</td><td>-0.0525556</td><td>-0.0641556</td><td>-0.0372333</td><td>0.106667</td></tr><tr><th>14</th><td>0.000153333</td><td>-0.0555039</td><td>0.0161119</td><td>-0.0825556</td><td>-0.0921556</td><td>-0.0692333</td><td>-0.0533333</td></tr><tr><th>15</th><td>0.0144533</td><td>-0.0320859</td><td>0.0173439</td><td>-0.0785556</td><td>-0.0861556</td><td>-0.0672333</td><td>0.0166667</td></tr><tr><th>16</th><td>-0.0725467</td><td>-0.0154909</td><td>0.0495179</td><td>-0.0745556</td><td>-0.0941556</td><td>-0.0522333</td><td>0.106667</td></tr><tr><th>17</th><td>-0.146047</td><td>-0.0838149</td><td>0.0183959</td><td>-0.0305556</td><td>-0.0321556</td><td>-0.0262333</td><td>0.0966667</td></tr><tr><th>18</th><td>-0.147947</td><td>-0.0222489</td><td>0.00888994</td><td>-0.0285556</td><td>-0.0401556</td><td>-0.0132333</td><td>0.106667</td></tr><tr><th>19</th><td>0.0966533</td><td>-0.0302349</td><td>0.00341294</td><td>-0.0435556</td><td>-0.0481556</td><td>-0.0362333</td><td>0.0466667</td></tr><tr><th>20</th><td>0.251953</td><td>-0.0894199</td><td>0.0815869</td><td>-0.0585556</td><td>-0.0981556</td><td>-0.0712333</td><td>-0.153333</td></tr><tr><th>21</th><td>-0.0316467</td><td>-0.0962839</td><td>-0.0124371</td><td>-0.0835556</td><td>-0.112156</td><td>-0.0752333</td><td>-0.173333</td></tr><tr><th>22</th><td>-0.168747</td><td>-0.0528919</td><td>-0.0250231</td><td>0.0174444</td><td>0.0588444</td><td>-0.0192333</td><td>0.106667</td></tr><tr><th>23</th><td>0.302553</td><td>0.00832206</td><td>0.000993944</td><td>-0.0495556</td><td>-0.0471556</td><td>-0.0502333</td><td>0.106667</td></tr><tr><th>24</th><td>-0.150947</td><td>-0.0348619</td><td>-0.0128811</td><td>-0.0915556</td><td>-0.111156</td><td>-0.0692333</td><td>0.00666667</td></tr><tr><th>25</th><td>0.307453</td><td>-0.0489209</td><td>0.0306029</td><td>-0.0935556</td><td>-0.109156</td><td>-0.0752333</td><td>-0.493333</td></tr><tr><th>26</th><td>0.123953</td><td>-0.0405939</td><td>0.00750794</td><td>0.0764444</td><td>0.0318444</td><td>0.125767</td><td>0.106667</td></tr><tr><th>27</th><td>-0.0670467</td><td>0.0275241</td><td>0.00905794</td><td>-0.0315556</td><td>-0.00415556</td><td>-0.0552333</td><td>-0.113333</td></tr><tr><th>28</th><td>-0.142147</td><td>-0.0401689</td><td>0.0180419</td><td>-0.0965556</td><td>-0.117156</td><td>-0.0722333</td><td>-0.113333</td></tr><tr><th>29</th><td>-0.168747</td><td>0.138454</td><td>-0.0118661</td><td>-0.0215556</td><td>-0.00415556</td><td>-0.0382333</td><td>0.106667</td></tr><tr><th>30</th><td>-0.168747</td><td>0.196132</td><td>-0.0136131</td><td>0.0364444</td><td>0.0568444</td><td>0.0177667</td><td>0.106667</td></tr><tr><th>&vellip;</th><td>&vellip;</td><td>&vellip;</td><td>&vellip;</td><td>&vellip;</td><td>&vellip;</td><td>&vellip;</td><td>&vellip;</td></tr></tbody></table>"
      ],
      "text/latex": [
       "\\begin{tabular}{r|cccccccc}\n",
       "\t& bmp1l & freeop & freetar & h65 & hm65 & hf65 & p65 & \\\\\n",
       "\t\\hline\n",
       "\t& Float64 & Float64 & Float64 & Float64 & Float64 & Float64 & Float64 & \\\\\n",
       "\t\\hline\n",
       "\t1 & 0.114953 & -0.0666109 & 0.0155539 & -0.104556 & -0.124156 & -0.0812333 & -0.603333 & $\\dots$ \\\\\n",
       "\t2 & 0.445353 & 0.0934071 & 0.0334929 & -0.0925556 & -0.105156 & -0.0752333 & 0.0166667 & $\\dots$ \\\\\n",
       "\t3 & -0.168747 & -0.0158579 & -0.0191481 & 0.148444 & 0.187844 & 0.118767 & 0.106667 & $\\dots$ \\\\\n",
       "\t4 & 0.0309533 & 0.0286121 & 0.00793594 & -0.0505556 & -0.0671556 & -0.0312333 & 0.106667 & $\\dots$ \\\\\n",
       "\t5 & 0.00525333 & 0.0791501 & 0.00903294 & -0.0945556 & -0.110156 & -0.0752333 & -0.0733333 & $\\dots$ \\\\\n",
       "\t6 & -0.168747 & 0.0387631 & -0.00745406 & -0.0885556 & -0.0991556 & -0.0762333 & -0.393333 & $\\dots$ \\\\\n",
       "\t7 & -0.168747 & -0.0375769 & -0.0139491 & -0.0725556 & -0.0741556 & -0.0682333 & 0.0266667 & $\\dots$ \\\\\n",
       "\t8 & 0.108853 & -0.00482694 & 0.00137894 & -0.0875556 & -0.102156 & -0.0692333 & -0.203333 & $\\dots$ \\\\\n",
       "\t9 & -0.168747 & -0.110488 & -0.0261631 & 0.290444 & 0.350844 & 0.231767 & 0.106667 & $\\dots$ \\\\\n",
       "\t10 & -0.0203467 & -0.109217 & 0.000244944 & 0.0334444 & 0.0358444 & 0.0317667 & 0.106667 & $\\dots$ \\\\\n",
       "\t11 & -0.139147 & -0.0543179 & -0.00821906 & -0.0655556 & -0.0711556 & -0.0572333 & -0.163333 & $\\dots$ \\\\\n",
       "\t12 & 0.0463533 & -0.141614 & -0.0167531 & -0.0895556 & -0.106156 & -0.0682333 & 0.106667 & $\\dots$ \\\\\n",
       "\t13 & 0.263053 & -0.0826199 & -0.00178706 & -0.0525556 & -0.0641556 & -0.0372333 & 0.106667 & $\\dots$ \\\\\n",
       "\t14 & 0.000153333 & -0.0555039 & 0.0161119 & -0.0825556 & -0.0921556 & -0.0692333 & -0.0533333 & $\\dots$ \\\\\n",
       "\t15 & 0.0144533 & -0.0320859 & 0.0173439 & -0.0785556 & -0.0861556 & -0.0672333 & 0.0166667 & $\\dots$ \\\\\n",
       "\t16 & -0.0725467 & -0.0154909 & 0.0495179 & -0.0745556 & -0.0941556 & -0.0522333 & 0.106667 & $\\dots$ \\\\\n",
       "\t17 & -0.146047 & -0.0838149 & 0.0183959 & -0.0305556 & -0.0321556 & -0.0262333 & 0.0966667 & $\\dots$ \\\\\n",
       "\t18 & -0.147947 & -0.0222489 & 0.00888994 & -0.0285556 & -0.0401556 & -0.0132333 & 0.106667 & $\\dots$ \\\\\n",
       "\t19 & 0.0966533 & -0.0302349 & 0.00341294 & -0.0435556 & -0.0481556 & -0.0362333 & 0.0466667 & $\\dots$ \\\\\n",
       "\t20 & 0.251953 & -0.0894199 & 0.0815869 & -0.0585556 & -0.0981556 & -0.0712333 & -0.153333 & $\\dots$ \\\\\n",
       "\t21 & -0.0316467 & -0.0962839 & -0.0124371 & -0.0835556 & -0.112156 & -0.0752333 & -0.173333 & $\\dots$ \\\\\n",
       "\t22 & -0.168747 & -0.0528919 & -0.0250231 & 0.0174444 & 0.0588444 & -0.0192333 & 0.106667 & $\\dots$ \\\\\n",
       "\t23 & 0.302553 & 0.00832206 & 0.000993944 & -0.0495556 & -0.0471556 & -0.0502333 & 0.106667 & $\\dots$ \\\\\n",
       "\t24 & -0.150947 & -0.0348619 & -0.0128811 & -0.0915556 & -0.111156 & -0.0692333 & 0.00666667 & $\\dots$ \\\\\n",
       "\t25 & 0.307453 & -0.0489209 & 0.0306029 & -0.0935556 & -0.109156 & -0.0752333 & -0.493333 & $\\dots$ \\\\\n",
       "\t26 & 0.123953 & -0.0405939 & 0.00750794 & 0.0764444 & 0.0318444 & 0.125767 & 0.106667 & $\\dots$ \\\\\n",
       "\t27 & -0.0670467 & 0.0275241 & 0.00905794 & -0.0315556 & -0.00415556 & -0.0552333 & -0.113333 & $\\dots$ \\\\\n",
       "\t28 & -0.142147 & -0.0401689 & 0.0180419 & -0.0965556 & -0.117156 & -0.0722333 & -0.113333 & $\\dots$ \\\\\n",
       "\t29 & -0.168747 & 0.138454 & -0.0118661 & -0.0215556 & -0.00415556 & -0.0382333 & 0.106667 & $\\dots$ \\\\\n",
       "\t30 & -0.168747 & 0.196132 & -0.0136131 & 0.0364444 & 0.0568444 & 0.0177667 & 0.106667 & $\\dots$ \\\\\n",
       "\t$\\dots$ & $\\dots$ & $\\dots$ & $\\dots$ & $\\dots$ & $\\dots$ & $\\dots$ & $\\dots$ &  \\\\\n",
       "\\end{tabular}\n"
      ],
      "text/plain": [
       "90×60 DataFrame. Omitted printing of 55 columns\n",
       "│ Row │ bmp1l      │ freeop      │ freetar     │ h65         │ hm65       │\n",
       "│     │ \u001b[90mFloat64\u001b[39m    │ \u001b[90mFloat64\u001b[39m     │ \u001b[90mFloat64\u001b[39m     │ \u001b[90mFloat64\u001b[39m     │ \u001b[90mFloat64\u001b[39m    │\n",
       "├─────┼────────────┼─────────────┼─────────────┼─────────────┼────────────┤\n",
       "│ 1   │ 0.114953   │ -0.0666109  │ 0.0155539   │ -0.104556   │ -0.124156  │\n",
       "│ 2   │ 0.445353   │ 0.0934071   │ 0.0334929   │ -0.0925556  │ -0.105156  │\n",
       "│ 3   │ -0.168747  │ -0.0158579  │ -0.0191481  │ 0.148444    │ 0.187844   │\n",
       "│ 4   │ 0.0309533  │ 0.0286121   │ 0.00793594  │ -0.0505556  │ -0.0671556 │\n",
       "│ 5   │ 0.00525333 │ 0.0791501   │ 0.00903294  │ -0.0945556  │ -0.110156  │\n",
       "│ 6   │ -0.168747  │ 0.0387631   │ -0.00745406 │ -0.0885556  │ -0.0991556 │\n",
       "│ 7   │ -0.168747  │ -0.0375769  │ -0.0139491  │ -0.0725556  │ -0.0741556 │\n",
       "│ 8   │ 0.108853   │ -0.00482694 │ 0.00137894  │ -0.0875556  │ -0.102156  │\n",
       "│ 9   │ -0.168747  │ -0.110488   │ -0.0261631  │ 0.290444    │ 0.350844   │\n",
       "│ 10  │ -0.0203467 │ -0.109217   │ 0.000244944 │ 0.0334444   │ 0.0358444  │\n",
       "⋮\n",
       "│ 80  │ -0.168747  │ -0.0401689  │ 0.0180419   │ -0.0765556  │ -0.0971556 │\n",
       "│ 81  │ -0.168747  │ 0.0730361   │ -0.0228171  │ 0.133444    │ 0.113844   │\n",
       "│ 82  │ -0.168747  │ 0.0846181   │ -0.0166761  │ 0.134444    │ 0.122844   │\n",
       "│ 83  │ -0.132447  │ 0.0683031   │ -0.0167451  │ 0.0714444   │ 0.0848444  │\n",
       "│ 84  │ -0.168747  │ 0.125383    │ -0.0218311  │ 0.0764444   │ 0.110844   │\n",
       "│ 85  │ -0.168747  │ 0.0683381   │ -0.0223391  │ 0.144444    │ 0.163844   │\n",
       "│ 86  │ -0.168747  │ 0.151796    │ -0.0137481  │ 0.143444    │ 0.198844   │\n",
       "│ 87  │ -0.163747  │ 0.0763351   │ -0.0147191  │ -0.00355556 │ -0.0201556 │\n",
       "│ 88  │ -0.168747  │ 0.0456761   │ -0.0197051  │ 0.176444    │ 0.199844   │\n",
       "│ 89  │ -0.168747  │ 0.0628371   │ -0.0232861  │ 0.0764444   │ 0.0988444  │\n",
       "│ 90  │ -0.168747  │ -0.0697359  │ -0.00395706 │ 0.145444    │ 0.200844   │"
      ]
     },
     "execution_count": 103,
     "metadata": {},
     "output_type": "execute_result"
    }
   ],
   "source": [
    "# Control variables \n",
    "\n",
    "W = select(X, Not(names(X)[index]))"
   ]
  },
  {
   "cell_type": "code",
   "execution_count": 104,
   "id": "32706970",
   "metadata": {
    "scrolled": true
   },
   "outputs": [
    {
     "ename": "LoadError",
     "evalue": "MethodError: no method matching DataFrame(::Vector{Vector}, ::Symbol)\n\u001b[0mClosest candidates are:\n\u001b[0m  DataFrame(::AbstractVector{<:AbstractVector}, \u001b[91m::AbstractVector{<:AbstractString}\u001b[39m; makeunique, copycols) at C:\\Users\\Kenia\\.julia\\packages\\DataFrames\\GtZ1l\\src\\dataframe\\dataframe.jl:249\n\u001b[0m  DataFrame(::AbstractVector{<:AbstractVector}, \u001b[91m::AbstractVector{Symbol}\u001b[39m; makeunique, copycols) at C:\\Users\\Kenia\\.julia\\packages\\DataFrames\\GtZ1l\\src\\dataframe\\dataframe.jl:242\n\u001b[0m  DataFrame(::AbstractVector, \u001b[91m::AbstractVector{<:AbstractString}\u001b[39m; makeunique, copycols) at C:\\Users\\Kenia\\.julia\\packages\\DataFrames\\GtZ1l\\src\\dataframe\\dataframe.jl:237\n\u001b[0m  ...",
     "output_type": "error",
     "traceback": [
      "MethodError: no method matching DataFrame(::Vector{Vector}, ::Symbol)\n\u001b[0mClosest candidates are:\n\u001b[0m  DataFrame(::AbstractVector{<:AbstractVector}, \u001b[91m::AbstractVector{<:AbstractString}\u001b[39m; makeunique, copycols) at C:\\Users\\Kenia\\.julia\\packages\\DataFrames\\GtZ1l\\src\\dataframe\\dataframe.jl:249\n\u001b[0m  DataFrame(::AbstractVector{<:AbstractVector}, \u001b[91m::AbstractVector{Symbol}\u001b[39m; makeunique, copycols) at C:\\Users\\Kenia\\.julia\\packages\\DataFrames\\GtZ1l\\src\\dataframe\\dataframe.jl:242\n\u001b[0m  DataFrame(::AbstractVector, \u001b[91m::AbstractVector{<:AbstractString}\u001b[39m; makeunique, copycols) at C:\\Users\\Kenia\\.julia\\packages\\DataFrames\\GtZ1l\\src\\dataframe\\dataframe.jl:237\n\u001b[0m  ...",
      "",
      "Stacktrace:",
      " [1] rlasso(self::rlasso_arg)",
      "   @ Main C:\\Users\\Kenia\\Documents\\Draft_kenia\\hdmjl\\hdmjl_final.jl:662",
      " [2] top-level scope",
      "   @ .\\In[104]:16",
      " [3] eval",
      "   @ .\\boot.jl:373 [inlined]",
      " [4] include_string(mapexpr::typeof(REPL.softscope), mod::Module, code::String, filename::String)",
      "   @ Base .\\loading.jl:1196"
     ]
    }
   ],
   "source": [
    "table = NamedArray(zeros(16, 2))\n",
    "\n",
    "j = 0\n",
    "\n",
    "for i in 1:length(index)\n",
    "\n",
    "j = j + 1\n",
    "    \n",
    "#first step\n",
    "D = select(X, names(X)[index[i]])\n",
    "    \n",
    "D_reg_0  = rlasso_arg( W, D, nothing, true, true, true, false, false, \n",
    "                    nothing, 1.1, nothing, 5000, 15, 10^(-5), -Inf, true, Inf, true )\n",
    "\n",
    "\n",
    "D_resid = rlasso(D_reg_0)[\"residuals\"]\n",
    "\n",
    "#second step\n",
    "    \n",
    "Y_reg_0  = rlasso_arg( W, Y, nothing, true, true, true, false, false, \n",
    "                    nothing, 1.1, nothing, 5000, 15, 10^(-5), -Inf, true, Inf, true )\n",
    "\n",
    "Y_resid = rlasso(Y_reg_0)[\"residuals\"]\n",
    "\n",
    "D_resid = reshape(D_resid, length(D_resid), 1)\n",
    "\n",
    "# third step\n",
    "    \n",
    "Lasso_HDM = lm(D_resid, Y_resid)\n",
    "\n",
    "table[j,1] = GLM.coeftable(Lasso_HDM).cols[5][1]\n",
    "table[j,2] = GLM.coeftable(Lasso_HDM).cols[6][1]\n",
    "\n",
    "    \n",
    "end \n",
    "\n",
    "## The same problem persist in the exercise 1, 2 and this one. "
   ]
  },
  {
   "cell_type": "code",
   "execution_count": 105,
   "id": "ba6d8815",
   "metadata": {},
   "outputs": [
    {
     "ename": "LoadError",
     "evalue": "MethodError: no method matching DataFrame(::Vector{Vector}, ::Symbol)\n\u001b[0mClosest candidates are:\n\u001b[0m  DataFrame(::AbstractVector{<:AbstractVector}, \u001b[91m::AbstractVector{<:AbstractString}\u001b[39m; makeunique, copycols) at C:\\Users\\Kenia\\.julia\\packages\\DataFrames\\GtZ1l\\src\\dataframe\\dataframe.jl:249\n\u001b[0m  DataFrame(::AbstractVector{<:AbstractVector}, \u001b[91m::AbstractVector{Symbol}\u001b[39m; makeunique, copycols) at C:\\Users\\Kenia\\.julia\\packages\\DataFrames\\GtZ1l\\src\\dataframe\\dataframe.jl:242\n\u001b[0m  DataFrame(::AbstractVector, \u001b[91m::AbstractVector{<:AbstractString}\u001b[39m; makeunique, copycols) at C:\\Users\\Kenia\\.julia\\packages\\DataFrames\\GtZ1l\\src\\dataframe\\dataframe.jl:237\n\u001b[0m  ...",
     "output_type": "error",
     "traceback": [
      "MethodError: no method matching DataFrame(::Vector{Vector}, ::Symbol)\n\u001b[0mClosest candidates are:\n\u001b[0m  DataFrame(::AbstractVector{<:AbstractVector}, \u001b[91m::AbstractVector{<:AbstractString}\u001b[39m; makeunique, copycols) at C:\\Users\\Kenia\\.julia\\packages\\DataFrames\\GtZ1l\\src\\dataframe\\dataframe.jl:249\n\u001b[0m  DataFrame(::AbstractVector{<:AbstractVector}, \u001b[91m::AbstractVector{Symbol}\u001b[39m; makeunique, copycols) at C:\\Users\\Kenia\\.julia\\packages\\DataFrames\\GtZ1l\\src\\dataframe\\dataframe.jl:242\n\u001b[0m  DataFrame(::AbstractVector, \u001b[91m::AbstractVector{<:AbstractString}\u001b[39m; makeunique, copycols) at C:\\Users\\Kenia\\.julia\\packages\\DataFrames\\GtZ1l\\src\\dataframe\\dataframe.jl:237\n\u001b[0m  ...",
      "",
      "Stacktrace:",
      " [1] rlasso(self::rlasso_arg)",
      "   @ Main C:\\Users\\Kenia\\Documents\\Draft_kenia\\hdmjl\\hdmjl_final.jl:662",
      " [2] top-level scope",
      "   @ In[105]:7",
      " [3] eval",
      "   @ .\\boot.jl:373 [inlined]",
      " [4] include_string(mapexpr::typeof(REPL.softscope), mod::Module, code::String, filename::String)",
      "   @ Base .\\loading.jl:1196"
     ]
    }
   ],
   "source": [
    "D = select(X, names(X)[1])\n",
    "    \n",
    "D_reg_0  = rlasso_arg( W, D, nothing, true, true, true, false, false, \n",
    "                    nothing, 1.1, nothing, 5000, 15, 10^(-5), -Inf, true, Inf, true )\n",
    "\n",
    "\n",
    "D_resid = rlasso(D_reg_0)[\"residuals\"]\n",
    "\n",
    "#second step\n",
    "    \n",
    "Y_reg_0  = rlasso_arg( W, Y, nothing, true, true, true, false, false, \n",
    "                    nothing, 1.1, nothing, 5000, 15, 10^(-5), -Inf, true, Inf, true )\n",
    "\n",
    "Y_resid = rlasso(Y_reg_0)[\"residuals\"]\n",
    "\n",
    "D_resid = reshape(D_resid, length(D_resid), 1)\n",
    "\n",
    "# third step\n",
    "    \n",
    "Lasso_HDM = lm(D_resid, Y_resid)\n",
    "\n",
    "table[1,1] = GLM.coeftable(Lasso_HDM).cols[5][1]\n",
    "table[1,2] = GLM.coeftable(Lasso_HDM).cols[6][1]"
   ]
  }
 ],
 "metadata": {
  "kernelspec": {
   "display_name": "Julia 1.7.2",
   "language": "julia",
   "name": "julia-1.7"
  },
  "language_info": {
   "file_extension": ".jl",
   "mimetype": "application/julia",
   "name": "julia",
   "version": "1.7.2"
  }
 },
 "nbformat": 4,
 "nbformat_minor": 5
}
