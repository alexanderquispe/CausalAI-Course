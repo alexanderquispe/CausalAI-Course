{
 "cells": [
  {
   "cell_type": "markdown",
   "metadata": {},
   "source": [
    "# Proving Neyman Orthogonality "
   ]
  },
  {
   "cell_type": "markdown",
   "metadata": {},
   "source": [
    "We start with the standard linear model formulation:\n",
    "\n",
    "$$\n",
    "Y = \\alpha D + \\beta' W + \\epsilon\n",
    "$$\n",
    "\n",
    "Where:\n",
    "- $\\alpha$ is the coefficient of interest linked to the treatment variable $D$.\n",
    "- $\\beta$ is a vector of coefficients associated with the control variables $W$.\n",
    "- $\\epsilon$ is the error term.\n",
    "\n",
    "The residuals from Lasso regressions:\n",
    "- For the outcome $Y$ on controls $W$, let the estimate be $\\gamma_{YW}'$.\n",
    "- For the treatment $D$ on controls $W$, let the estimate be $\\gamma_{DW}'$.\n",
    "\n",
    "The residuals are defined as:\n",
    "$$\n",
    "\\tilde{Y} = Y - \\gamma_{YW}'W\n",
    "$$\n",
    "$$\n",
    "\\tilde{D} = D - \\gamma_{DW}'W\n",
    "$$\n",
    "\n",
    "We define the true parameter vector:\n",
    "$$\n",
    "\\eta^0 = (\\gamma_{DW}', \\gamma_{YW}')'\n",
    "$$\n",
    "\n",
    "Since $\\alpha$ is a function of $\\eta$, where $\\eta = (\\eta_1', \\eta_2')'$, we aim to show that $\\alpha$ is insensitive to local perturbations around $\\eta^0$:\n",
    "$$\n",
    "D = \\frac{\\partial \\alpha(\\eta^0)}{\\partial \\eta} = 0\n",
    "$$\n",
    "\n",
    "### Proposed Model\n",
    "\n",
    "We assume the model:\n",
    "$$\n",
    "\\tilde{Y} = a \\tilde{D} + \\mu\n",
    "$$\n",
    "Where $\\alpha = \\arg\\min_{a \\in \\mathbb{R}} E[(\\tilde{Y} - a \\tilde{D})^2]$. $\\alpha$ is the true value as it minimizes the expected square residuals.\n",
    "\n",
    "The moment condition for the model is:\n",
    "$$\n",
    "M(a, \\eta) = E[(\\tilde{Y}(\\eta_1) - a \\tilde{D}(\\eta_2)) \\tilde{D}(\\eta_2)]\n",
    "$$\n",
    "Where:\n",
    "$$\n",
    "\\tilde{Y}(\\eta_1) = Y - \\eta_1'W\n",
    "$$\n",
    "$$\n",
    "\\tilde{D}(\\eta_2) = D - \\eta_2'W\n",
    "$$\n",
    "\n",
    "At true values $\\eta = \\eta^0$:\n",
    "$$\n",
    "\\tilde{Y} = Y - \\gamma_{YW}'W\n",
    "$$\n",
    "$$\n",
    "\\tilde{D} = D - \\gamma_{DW}'W\n",
    "$$\n",
    "\n",
    "### Application of the Implicit Function Theorem\n",
    "\n",
    "To derive $a$ with respect to $\\eta$:\n",
    "$$\n",
    "\\frac{\\partial a}{\\partial \\eta} = -\\partial_a M(\\alpha, \\eta^0)^{-1} \\partial_\\eta M(\\alpha, \\eta^0)\n",
    "$$\n",
    "To demonstrate $\\frac{\\partial \\alpha(\\eta^0)}{\\partial \\eta} = 0$, we need $\\partial_\\eta M(\\alpha, \\eta^0)$ to be zero since $\\partial_a M(\\alpha, \\eta^0)$ cannot be zero.\n",
    "\n",
    "### Derivatives Calculation\n",
    "\n",
    "For the first component:\n",
    "$$\n",
    "\\frac{\\partial M(\\alpha, \\eta^0)}{\\partial \\eta_1} = E\\left[\\frac{\\partial \\tilde{Y}(\\eta_1)}{\\partial \\eta_1} \\tilde{D}\\right]\n",
    "$$\n",
    "Given that $\\tilde{Y} = Y - \\eta_1'W$:\n",
    "$$\n",
    "\\frac{\\partial \\tilde{Y}}{\\partial \\eta_1} = -W\n",
    "$$\n",
    "Thus:\n",
    "$$\n",
    "\\frac{\\partial M(\\alpha, \\eta^0)}{\\partial \\eta_1} = E[-W \\tilde{D}] = 0\n",
    "$$\n",
    "\n",
    "For the second component:\n",
    "$$\n",
    "\\frac{\\partial M(\\alpha, \\eta^0)}{\\partial \\eta_2} = E\\left[(-a \\frac{\\partial \\tilde{D}(\\eta_2)}{\\partial \\eta_2})\\tilde{D} + \\frac{\\partial \\tilde{D}(\\eta_2)}{\\partial \\eta_2}(\\tilde{Y} - a\\tilde{D})\\right]\n",
    "$$\n",
    "Since $\\tilde{D} = D - \\eta_2'W$:\n",
    "$$\n",
    "\\frac{\\partial \\tilde{D}}{\\partial \\eta_2} = -W\n",
    "$$\n",
    "Resulting in:\n",
    "$$\n",
    "\\frac{\\partial M(\\alpha, \\eta^0)}{\\partial \\eta_2} = -E[W\\tilde{Y}] + 2E(\\alpha W\\tilde{D}) = 0\n",
    "$$\n",
    "\n",
    "This confirms that $\\frac{\\partial M}{\\partial \\eta_1} = 0$ and $\\frac{\\partial M}{\\partial \\eta_2} = 0$. Therefore, $\\frac{\\partial \\alpha(\\eta^0)}{\\partial \\eta} = 0$ is proven.\n"
   ]
  },
  {
   "cell_type": "markdown",
   "metadata": {
    "id": "lrvHVBdgTDIl"
   },
   "source": [
    "# Double Lasso - Using School data\n",
    "\n"
   ]
  },
  {
   "cell_type": "code",
   "execution_count": 3,
   "metadata": {
    "colab": {
     "base_uri": "https://localhost:8080/"
    },
    "id": "Xx47yVLequGK",
    "outputId": "ae470296-de87-4f08-b86c-8e36b7b02374"
   },
   "outputs": [
    {
     "name": "stderr",
     "output_type": "stream",
     "text": [
      "Installing packages into ‘/usr/local/lib/R/site-library’\n",
      "(as ‘lib’ is unspecified)\n",
      "\n"
     ]
    }
   ],
   "source": [
    "# Install and load necessary packages\n",
    "install.packages(c(\"tidyverse\", \"glmnet\", \"hdm\"))\n"
   ]
  },
  {
   "cell_type": "code",
   "execution_count": 4,
   "metadata": {
    "id": "k09XO-mUUFwA"
   },
   "outputs": [],
   "source": [
    "library(tidyverse)\n",
    "library(glmnet)\n",
    "library(hdm)"
   ]
  },
  {
   "cell_type": "code",
   "execution_count": 5,
   "metadata": {
    "id": "8RAdf4x6sgl5"
   },
   "outputs": [],
   "source": [
    "# Load the data\n",
    "url <- \"https://raw.githubusercontent.com/gsbDBI/ExperimentData/97a11199ba559f01c7b3803a1493ffa08631732e/School/bruhn2016.csv\"\n",
    "db <- read.csv(url)\n",
    "# Drop rows with missing values in specific columns and replace dots in column names with underscores\n",
    "names(db) <- gsub(\"\\\\.\", \"_\", names(db))\n",
    "db <- db %>% drop_na(outcome_test_score, school, failed_at_least_one_school_year, is_female, treatment)\n",
    "\n"
   ]
  },
  {
   "cell_type": "code",
   "execution_count": 6,
   "metadata": {
    "colab": {
     "base_uri": "https://localhost:8080/",
     "height": 1000
    },
    "id": "OEIjFw7Esqbl",
    "outputId": "20862bf9-e692-4910-909f-1bb252affa4c"
   },
   "outputs": [
    {
     "data": {
      "text/html": [
       "<table class=\"dataframe\">\n",
       "<caption>A data.frame: 6 × 16</caption>\n",
       "<thead>\n",
       "\t<tr><th></th><th scope=col>outcome_test_score</th><th scope=col>treatment</th><th scope=col>school</th><th scope=col>is_female</th><th scope=col>mother_attended_secondary_school</th><th scope=col>father_attened_secondary_school</th><th scope=col>failed_at_least_one_school_year</th><th scope=col>family_receives_cash_transfer</th><th scope=col>has_computer_with_internet_at_home</th><th scope=col>is_unemployed</th><th scope=col>has_some_form_of_income</th><th scope=col>saves_money_for_future_purchases</th><th scope=col>intention_to_save_index</th><th scope=col>makes_list_of_expenses_every_month</th><th scope=col>negotiates_prices_or_payment_methods</th><th scope=col>financial_autonomy_index</th></tr>\n",
       "\t<tr><th></th><th scope=col>&lt;dbl&gt;</th><th scope=col>&lt;int&gt;</th><th scope=col>&lt;int&gt;</th><th scope=col>&lt;int&gt;</th><th scope=col>&lt;int&gt;</th><th scope=col>&lt;int&gt;</th><th scope=col>&lt;int&gt;</th><th scope=col>&lt;int&gt;</th><th scope=col>&lt;int&gt;</th><th scope=col>&lt;int&gt;</th><th scope=col>&lt;int&gt;</th><th scope=col>&lt;int&gt;</th><th scope=col>&lt;int&gt;</th><th scope=col>&lt;int&gt;</th><th scope=col>&lt;int&gt;</th><th scope=col>&lt;int&gt;</th></tr>\n",
       "</thead>\n",
       "<tbody>\n",
       "\t<tr><th scope=row>1</th><td>56.67166</td><td>1</td><td>35002914</td><td>1</td><td>1</td><td>1</td><td>0</td><td>0</td><td>0</td><td>1</td><td>0</td><td>0</td><td>48</td><td>0</td><td>1</td><td>56</td></tr>\n",
       "\t<tr><th scope=row>2</th><td>29.07938</td><td>0</td><td>35908915</td><td>1</td><td>0</td><td>0</td><td>0</td><td>0</td><td>0</td><td>0</td><td>0</td><td>0</td><td>42</td><td>0</td><td>0</td><td>27</td></tr>\n",
       "\t<tr><th scope=row>3</th><td>49.56353</td><td>1</td><td>33047324</td><td>1</td><td>0</td><td>0</td><td>0</td><td>0</td><td>1</td><td>0</td><td>1</td><td>0</td><td>50</td><td>0</td><td>1</td><td>31</td></tr>\n",
       "\t<tr><th scope=row>4</th><td>43.09943</td><td>0</td><td>53012542</td><td>1</td><td>0</td><td>0</td><td>0</td><td>1</td><td>1</td><td>0</td><td>1</td><td>0</td><td>93</td><td>0</td><td>1</td><td>77</td></tr>\n",
       "\t<tr><th scope=row>5</th><td>71.32960</td><td>0</td><td>53006984</td><td>1</td><td>1</td><td>0</td><td>0</td><td>0</td><td>1</td><td>1</td><td>1</td><td>0</td><td>52</td><td>0</td><td>1</td><td>43</td></tr>\n",
       "\t<tr><th scope=row>6</th><td>80.06344</td><td>0</td><td>33049475</td><td>1</td><td>1</td><td>1</td><td>0</td><td>0</td><td>0</td><td>0</td><td>1</td><td>0</td><td>50</td><td>0</td><td>0</td><td>31</td></tr>\n",
       "</tbody>\n",
       "</table>\n"
      ],
      "text/latex": [
       "A data.frame: 6 × 16\n",
       "\\begin{tabular}{r|llllllllllllllll}\n",
       "  & outcome\\_test\\_score & treatment & school & is\\_female & mother\\_attended\\_secondary\\_school & father\\_attened\\_secondary\\_school & failed\\_at\\_least\\_one\\_school\\_year & family\\_receives\\_cash\\_transfer & has\\_computer\\_with\\_internet\\_at\\_home & is\\_unemployed & has\\_some\\_form\\_of\\_income & saves\\_money\\_for\\_future\\_purchases & intention\\_to\\_save\\_index & makes\\_list\\_of\\_expenses\\_every\\_month & negotiates\\_prices\\_or\\_payment\\_methods & financial\\_autonomy\\_index\\\\\n",
       "  & <dbl> & <int> & <int> & <int> & <int> & <int> & <int> & <int> & <int> & <int> & <int> & <int> & <int> & <int> & <int> & <int>\\\\\n",
       "\\hline\n",
       "\t1 & 56.67166 & 1 & 35002914 & 1 & 1 & 1 & 0 & 0 & 0 & 1 & 0 & 0 & 48 & 0 & 1 & 56\\\\\n",
       "\t2 & 29.07938 & 0 & 35908915 & 1 & 0 & 0 & 0 & 0 & 0 & 0 & 0 & 0 & 42 & 0 & 0 & 27\\\\\n",
       "\t3 & 49.56353 & 1 & 33047324 & 1 & 0 & 0 & 0 & 0 & 1 & 0 & 1 & 0 & 50 & 0 & 1 & 31\\\\\n",
       "\t4 & 43.09943 & 0 & 53012542 & 1 & 0 & 0 & 0 & 1 & 1 & 0 & 1 & 0 & 93 & 0 & 1 & 77\\\\\n",
       "\t5 & 71.32960 & 0 & 53006984 & 1 & 1 & 0 & 0 & 0 & 1 & 1 & 1 & 0 & 52 & 0 & 1 & 43\\\\\n",
       "\t6 & 80.06344 & 0 & 33049475 & 1 & 1 & 1 & 0 & 0 & 0 & 0 & 1 & 0 & 50 & 0 & 0 & 31\\\\\n",
       "\\end{tabular}\n"
      ],
      "text/markdown": [
       "\n",
       "A data.frame: 6 × 16\n",
       "\n",
       "| <!--/--> | outcome_test_score &lt;dbl&gt; | treatment &lt;int&gt; | school &lt;int&gt; | is_female &lt;int&gt; | mother_attended_secondary_school &lt;int&gt; | father_attened_secondary_school &lt;int&gt; | failed_at_least_one_school_year &lt;int&gt; | family_receives_cash_transfer &lt;int&gt; | has_computer_with_internet_at_home &lt;int&gt; | is_unemployed &lt;int&gt; | has_some_form_of_income &lt;int&gt; | saves_money_for_future_purchases &lt;int&gt; | intention_to_save_index &lt;int&gt; | makes_list_of_expenses_every_month &lt;int&gt; | negotiates_prices_or_payment_methods &lt;int&gt; | financial_autonomy_index &lt;int&gt; |\n",
       "|---|---|---|---|---|---|---|---|---|---|---|---|---|---|---|---|---|\n",
       "| 1 | 56.67166 | 1 | 35002914 | 1 | 1 | 1 | 0 | 0 | 0 | 1 | 0 | 0 | 48 | 0 | 1 | 56 |\n",
       "| 2 | 29.07938 | 0 | 35908915 | 1 | 0 | 0 | 0 | 0 | 0 | 0 | 0 | 0 | 42 | 0 | 0 | 27 |\n",
       "| 3 | 49.56353 | 1 | 33047324 | 1 | 0 | 0 | 0 | 0 | 1 | 0 | 1 | 0 | 50 | 0 | 1 | 31 |\n",
       "| 4 | 43.09943 | 0 | 53012542 | 1 | 0 | 0 | 0 | 1 | 1 | 0 | 1 | 0 | 93 | 0 | 1 | 77 |\n",
       "| 5 | 71.32960 | 0 | 53006984 | 1 | 1 | 0 | 0 | 0 | 1 | 1 | 1 | 0 | 52 | 0 | 1 | 43 |\n",
       "| 6 | 80.06344 | 0 | 33049475 | 1 | 1 | 1 | 0 | 0 | 0 | 0 | 1 | 0 | 50 | 0 | 0 | 31 |\n",
       "\n"
      ],
      "text/plain": [
       "  outcome_test_score treatment school   is_female\n",
       "1 56.67166           1         35002914 1        \n",
       "2 29.07938           0         35908915 1        \n",
       "3 49.56353           1         33047324 1        \n",
       "4 43.09943           0         53012542 1        \n",
       "5 71.32960           0         53006984 1        \n",
       "6 80.06344           0         33049475 1        \n",
       "  mother_attended_secondary_school father_attened_secondary_school\n",
       "1 1                                1                              \n",
       "2 0                                0                              \n",
       "3 0                                0                              \n",
       "4 0                                0                              \n",
       "5 1                                0                              \n",
       "6 1                                1                              \n",
       "  failed_at_least_one_school_year family_receives_cash_transfer\n",
       "1 0                               0                            \n",
       "2 0                               0                            \n",
       "3 0                               0                            \n",
       "4 0                               1                            \n",
       "5 0                               0                            \n",
       "6 0                               0                            \n",
       "  has_computer_with_internet_at_home is_unemployed has_some_form_of_income\n",
       "1 0                                  1             0                      \n",
       "2 0                                  0             0                      \n",
       "3 1                                  0             1                      \n",
       "4 1                                  0             1                      \n",
       "5 1                                  1             1                      \n",
       "6 0                                  0             1                      \n",
       "  saves_money_for_future_purchases intention_to_save_index\n",
       "1 0                                48                     \n",
       "2 0                                42                     \n",
       "3 0                                50                     \n",
       "4 0                                93                     \n",
       "5 0                                52                     \n",
       "6 0                                50                     \n",
       "  makes_list_of_expenses_every_month negotiates_prices_or_payment_methods\n",
       "1 0                                  1                                   \n",
       "2 0                                  0                                   \n",
       "3 0                                  1                                   \n",
       "4 0                                  1                                   \n",
       "5 0                                  1                                   \n",
       "6 0                                  0                                   \n",
       "  financial_autonomy_index\n",
       "1 56                      \n",
       "2 27                      \n",
       "3 31                      \n",
       "4 77                      \n",
       "5 43                      \n",
       "6 31                      "
      ]
     },
     "metadata": {},
     "output_type": "display_data"
    },
    {
     "data": {
      "text/plain": [
       " outcome_test_score   treatment          school           is_female     \n",
       " Min.   : 23.55     Min.   :0.0000   Min.   :17000386   Min.   :0.0000  \n",
       " 1st Qu.: 47.58     1st Qu.:0.0000   1st Qu.:31068276   1st Qu.:0.0000  \n",
       " Median : 59.22     Median :1.0000   Median :33090823   Median :1.0000  \n",
       " Mean   : 58.75     Mean   :0.5119   Mean   :32418591   Mean   :0.5576  \n",
       " 3rd Qu.: 69.60     3rd Qu.:1.0000   3rd Qu.:35019860   3rd Qu.:1.0000  \n",
       " Max.   :100.00     Max.   :1.0000   Max.   :53068181   Max.   :1.0000  \n",
       "                                                                        \n",
       " mother_attended_secondary_school father_attened_secondary_school\n",
       " Min.   :0.0000                   Min.   :0.0000                 \n",
       " 1st Qu.:0.0000                   1st Qu.:0.0000                 \n",
       " Median :0.0000                   Median :0.0000                 \n",
       " Mean   :0.4307                   Mean   :0.3956                 \n",
       " 3rd Qu.:1.0000                   3rd Qu.:1.0000                 \n",
       " Max.   :1.0000                   Max.   :1.0000                 \n",
       " NA's   :199                      NA's   :276                    \n",
       " failed_at_least_one_school_year family_receives_cash_transfer\n",
       " Min.   :0.0000                  Min.   :0.0000               \n",
       " 1st Qu.:0.0000                  1st Qu.:0.0000               \n",
       " Median :0.0000                  Median :0.0000               \n",
       " Mean   :0.2882                  Mean   :0.3434               \n",
       " 3rd Qu.:1.0000                  3rd Qu.:1.0000               \n",
       " Max.   :1.0000                  Max.   :1.0000               \n",
       "                                 NA's   :70                   \n",
       " has_computer_with_internet_at_home is_unemployed    has_some_form_of_income\n",
       " Min.   :0.0000                     Min.   :0.0000   Min.   :0.0000         \n",
       " 1st Qu.:0.0000                     1st Qu.:0.0000   1st Qu.:0.0000         \n",
       " Median :1.0000                     Median :0.0000   Median :1.0000         \n",
       " Mean   :0.5465                     Mean   :0.3295   Mean   :0.6471         \n",
       " 3rd Qu.:1.0000                     3rd Qu.:1.0000   3rd Qu.:1.0000         \n",
       " Max.   :1.0000                     Max.   :1.0000   Max.   :1.0000         \n",
       " NA's   :110                        NA's   :750      NA's   :736            \n",
       " saves_money_for_future_purchases intention_to_save_index\n",
       " Min.   :0.000                    Min.   :-25.00         \n",
       " 1st Qu.:0.000                    1st Qu.: 36.00         \n",
       " Median :0.000                    Median : 49.00         \n",
       " Mean   :0.149                    Mean   : 48.62         \n",
       " 3rd Qu.:0.000                    3rd Qu.: 62.00         \n",
       " Max.   :1.000                    Max.   :100.00         \n",
       " NA's   :937                      NA's   :1689           \n",
       " makes_list_of_expenses_every_month negotiates_prices_or_payment_methods\n",
       " Min.   :0.0000                     Min.   :0.0000                      \n",
       " 1st Qu.:0.0000                     1st Qu.:1.0000                      \n",
       " Median :0.0000                     Median :1.0000                      \n",
       " Mean   :0.1003                     Mean   :0.7632                      \n",
       " 3rd Qu.:0.0000                     3rd Qu.:1.0000                      \n",
       " Max.   :1.0000                     Max.   :1.0000                      \n",
       " NA's   :836                        NA's   :950                         \n",
       " financial_autonomy_index\n",
       " Min.   :-33.00          \n",
       " 1st Qu.: 37.00          \n",
       " Median : 50.00          \n",
       " Mean   : 49.22          \n",
       " 3rd Qu.: 62.00          \n",
       " Max.   : 94.00          \n",
       " NA's   :1723            "
      ]
     },
     "metadata": {},
     "output_type": "display_data"
    }
   ],
   "source": [
    "# Display the first few rows of the dataset\n",
    "head(db)\n",
    "\n",
    "# Display the summary statistics of the dataset\n",
    "summary(db)\n"
   ]
  },
  {
   "cell_type": "markdown",
   "metadata": {
    "id": "dvuMAFN5TQRE"
   },
   "source": [
    "## OLS"
   ]
  },
  {
   "cell_type": "code",
   "execution_count": 7,
   "metadata": {
    "id": "WGr0pemnTZxD"
   },
   "outputs": [],
   "source": [
    "# OLS Models in the paper\n",
    "modelo1a <- lm(outcome_test_score ~ treatment, data = db)\n",
    "modelo1b <- lm(outcome_test_score ~ treatment + school, data = db)\n",
    "modelo1c <- lm(outcome_test_score ~ treatment + school + failed_at_least_one_school_year + is_female, data = db)"
   ]
  },
  {
   "cell_type": "code",
   "execution_count": 8,
   "metadata": {
    "colab": {
     "base_uri": "https://localhost:8080/",
     "height": 1000
    },
    "id": "QpqPgqncTZZL",
    "outputId": "5b43a231-3af2-417f-b53d-6bbe11bb2041"
   },
   "outputs": [
    {
     "data": {
      "text/plain": [
       "\n",
       "Call:\n",
       "lm(formula = outcome_test_score ~ treatment, data = db)\n",
       "\n",
       "Residuals:\n",
       "   Min     1Q Median     3Q    Max \n",
       "-36.75 -11.07   0.37  10.72  43.50 \n",
       "\n",
       "Coefficients:\n",
       "            Estimate Std. Error t value Pr(>|t|)    \n",
       "(Intercept)  56.4976     0.1682  335.83   <2e-16 ***\n",
       "treatment     4.3995     0.2351   18.71   <2e-16 ***\n",
       "---\n",
       "Signif. codes:  0 ‘***’ 0.001 ‘**’ 0.01 ‘*’ 0.05 ‘.’ 0.1 ‘ ’ 1\n",
       "\n",
       "Residual standard error: 14.57 on 15363 degrees of freedom\n",
       "Multiple R-squared:  0.02228,\tAdjusted R-squared:  0.02222 \n",
       "F-statistic: 350.1 on 1 and 15363 DF,  p-value: < 2.2e-16\n"
      ]
     },
     "metadata": {},
     "output_type": "display_data"
    },
    {
     "data": {
      "text/plain": [
       "\n",
       "Call:\n",
       "lm(formula = outcome_test_score ~ treatment + school, data = db)\n",
       "\n",
       "Residuals:\n",
       "    Min      1Q  Median      3Q     Max \n",
       "-36.741 -11.077   0.367  10.717  43.544 \n",
       "\n",
       "Coefficients:\n",
       "             Estimate Std. Error t value Pr(>|t|)    \n",
       "(Intercept) 5.635e+01  5.142e-01 109.585   <2e-16 ***\n",
       "treatment   4.398e+00  2.352e-01  18.703   <2e-16 ***\n",
       "school      4.472e-09  1.505e-08   0.297    0.766    \n",
       "---\n",
       "Signif. codes:  0 ‘***’ 0.001 ‘**’ 0.01 ‘*’ 0.05 ‘.’ 0.1 ‘ ’ 1\n",
       "\n",
       "Residual standard error: 14.57 on 15362 degrees of freedom\n",
       "Multiple R-squared:  0.02228,\tAdjusted R-squared:  0.02216 \n",
       "F-statistic: 175.1 on 2 and 15362 DF,  p-value: < 2.2e-16\n"
      ]
     },
     "metadata": {},
     "output_type": "display_data"
    },
    {
     "data": {
      "text/plain": [
       "\n",
       "Call:\n",
       "lm(formula = outcome_test_score ~ treatment + school + failed_at_least_one_school_year + \n",
       "    is_female, data = db)\n",
       "\n",
       "Residuals:\n",
       "    Min      1Q  Median      3Q     Max \n",
       "-37.602 -10.430   0.156  10.191  43.057 \n",
       "\n",
       "Coefficients:\n",
       "                                  Estimate Std. Error t value Pr(>|t|)    \n",
       "(Intercept)                      5.698e+01  5.228e-01 108.981   <2e-16 ***\n",
       "treatment                        4.480e+00  2.278e-01  19.664   <2e-16 ***\n",
       "school                          -1.493e-09  1.457e-08  -0.102    0.918    \n",
       "failed_at_least_one_school_year -7.146e+00  2.524e-01 -28.308   <2e-16 ***\n",
       "is_female                        2.846e+00  2.302e-01  12.364   <2e-16 ***\n",
       "---\n",
       "Signif. codes:  0 ‘***’ 0.001 ‘**’ 0.01 ‘*’ 0.05 ‘.’ 0.1 ‘ ’ 1\n",
       "\n",
       "Residual standard error: 14.11 on 15360 degrees of freedom\n",
       "Multiple R-squared:  0.08357,\tAdjusted R-squared:  0.08334 \n",
       "F-statistic: 350.2 on 4 and 15360 DF,  p-value: < 2.2e-16\n"
      ]
     },
     "metadata": {},
     "output_type": "display_data"
    }
   ],
   "source": [
    "# Summarize the OLS models\n",
    "summary(modelo1a)\n",
    "summary(modelo1b)\n",
    "summary(modelo1c)"
   ]
  },
  {
   "cell_type": "markdown",
   "metadata": {
    "id": "49zaE0t-TYh0"
   },
   "source": [
    "## Double LASSO using cross Validation"
   ]
  },
  {
   "cell_type": "code",
   "execution_count": 9,
   "metadata": {
    "id": "Rc_scoL2ThFc"
   },
   "outputs": [],
   "source": [
    "# Prepare data for Double LASSO\n",
    "X <- model.matrix(~ school + failed_at_least_one_school_year + is_female, data = db)[, -1]\n",
    "Y <- db$outcome_test_score\n",
    "D <- db$treatment"
   ]
  },
  {
   "cell_type": "code",
   "execution_count": 10,
   "metadata": {
    "id": "ARNIZ3ZsUarI"
   },
   "outputs": [],
   "source": [
    "# Double LASSO using glmnet with cross-validation\n",
    "cv_lasso_Y_W <- cv.glmnet(X, Y, alpha = 1)\n",
    "cv_lasso_D_W <- cv.glmnet(X, D, alpha = 1)\n"
   ]
  },
  {
   "cell_type": "code",
   "execution_count": 11,
   "metadata": {
    "id": "ExdCM_lWUbb-"
   },
   "outputs": [],
   "source": [
    "# Calculate residuals\n",
    "W_Y_residuals <- Y - predict(cv_lasso_Y_W, X, s = \"lambda.min\")\n",
    "W_D_residuals <- D - predict(cv_lasso_D_W, X, s = \"lambda.min\")"
   ]
  },
  {
   "cell_type": "code",
   "execution_count": 12,
   "metadata": {
    "colab": {
     "base_uri": "https://localhost:8080/",
     "height": 343
    },
    "id": "SYdDdEHAUmc4",
    "outputId": "a6a2094f-a702-47da-baf3-f6f45a09bef8"
   },
   "outputs": [
    {
     "data": {
      "text/plain": [
       "\n",
       "Call:\n",
       "lm(formula = W_Y_residuals ~ W_D_residuals)\n",
       "\n",
       "Residuals:\n",
       "    Min      1Q  Median      3Q     Max \n",
       "-37.530 -10.427   0.153  10.194  43.008 \n",
       "\n",
       "Coefficients:\n",
       "                Estimate Std. Error t value Pr(>|t|)    \n",
       "(Intercept)   -7.300e-14  1.138e-01    0.00        1    \n",
       "W_D_residuals  4.480e+00  2.278e-01   19.67   <2e-16 ***\n",
       "---\n",
       "Signif. codes:  0 ‘***’ 0.001 ‘**’ 0.01 ‘*’ 0.05 ‘.’ 0.1 ‘ ’ 1\n",
       "\n",
       "Residual standard error: 14.11 on 15363 degrees of freedom\n",
       "Multiple R-squared:  0.02456,\tAdjusted R-squared:  0.02449 \n",
       "F-statistic: 386.7 on 1 and 15363 DF,  p-value: < 2.2e-16\n"
      ]
     },
     "metadata": {},
     "output_type": "display_data"
    }
   ],
   "source": [
    "# OLS of the residuals\n",
    "ols_model_cv <- lm(W_Y_residuals ~ W_D_residuals)\n",
    "summary(ols_model_cv)\n"
   ]
  },
  {
   "cell_type": "markdown",
   "metadata": {
    "id": "UyhDmhM6Tagt"
   },
   "source": [
    "## Double Lasso using theorical Lambda"
   ]
  },
  {
   "cell_type": "code",
   "execution_count": 33,
   "metadata": {
    "id": "33q6lTJQThie"
   },
   "outputs": [],
   "source": [
    "#Set theorical lambda\n",
    "theorical_lambda <- 0.68\n",
    "lasso_Y_W <- rlasso(Y ~ ., data = as.data.frame(cbind(Y, X)), lambda = theorical_lambda)\n",
    "W_Y_residuals <- residuals(lasso_Y_W)\n",
    "lasso_D_W <- rlasso(D ~ ., data = as.data.frame(cbind(D, X)), lambda = theorical_lambda)\n",
    "W_D_residuals <- residuals(lasso_D_W)"
   ]
  },
  {
   "cell_type": "code",
   "execution_count": 34,
   "metadata": {
    "colab": {
     "base_uri": "https://localhost:8080/",
     "height": 343
    },
    "id": "K9xp51B4VBa5",
    "outputId": "3205c87f-28e7-4035-b9b9-e8a2bafb7b01"
   },
   "outputs": [
    {
     "data": {
      "text/plain": [
       "\n",
       "Call:\n",
       "lm(formula = W_Y_residuals ~ W_D_residuals)\n",
       "\n",
       "Residuals:\n",
       "    Min      1Q  Median      3Q     Max \n",
       "-37.619 -10.426   0.133  10.201  43.166 \n",
       "\n",
       "Coefficients:\n",
       "                Estimate Std. Error t value Pr(>|t|)    \n",
       "(Intercept)   -2.287e-16  1.138e-01    0.00        1    \n",
       "W_D_residuals  4.475e+00  2.277e-01   19.66   <2e-16 ***\n",
       "---\n",
       "Signif. codes:  0 ‘***’ 0.001 ‘**’ 0.01 ‘*’ 0.05 ‘.’ 0.1 ‘ ’ 1\n",
       "\n",
       "Residual standard error: 14.11 on 15363 degrees of freedom\n",
       "Multiple R-squared:  0.02453,\tAdjusted R-squared:  0.02447 \n",
       "F-statistic: 386.3 on 1 and 15363 DF,  p-value: < 2.2e-16\n"
      ]
     },
     "metadata": {},
     "output_type": "display_data"
    }
   ],
   "source": [
    "# OLS of the residuals\n",
    "ols_model_lambda <- lm(W_Y_residuals ~ W_D_residuals)\n",
    "summary(ols_model_lambda)"
   ]
  },
  {
   "cell_type": "markdown",
   "metadata": {
    "id": "Rkf5DygaTh1e"
   },
   "source": [
    "## Double Lasso using partialling out"
   ]
  },
  {
   "cell_type": "code",
   "execution_count": 25,
   "metadata": {
    "colab": {
     "base_uri": "https://localhost:8080/",
     "height": 126
    },
    "id": "sKayzBhcTo40",
    "outputId": "49ff11d2-9a7c-49ac-aebc-ed1ee177e522"
   },
   "outputs": [
    {
     "data": {
      "text/plain": [
       "[1] \"Estimates and significance testing of the effect of target variables\"\n",
       "     Estimate. Std. Error t value Pr(>|t|)    \n",
       "[1,]    4.4747     0.2277   19.66   <2e-16 ***\n",
       "---\n",
       "Signif. codes:  0 ‘***’ 0.001 ‘**’ 0.01 ‘*’ 0.05 ‘.’ 0.1 ‘ ’ 1\n",
       "\n"
      ]
     },
     "metadata": {},
     "output_type": "display_data"
    }
   ],
   "source": [
    "double_lasso_po <- rlassoEffect(x = X, y = Y, d = D, method = \"partialling out\")\n",
    "summary(double_lasso_po)"
   ]
  },
  {
   "cell_type": "code",
   "execution_count": 35,
   "metadata": {
    "colab": {
     "base_uri": "https://localhost:8080/",
     "height": 223
    },
    "id": "xL3U1B9BVGRa",
    "outputId": "fe2ef9b9-5556-467b-d2ed-f2287b0419ef"
   },
   "outputs": [
    {
     "data": {
      "text/html": [
       "<table class=\"dataframe\">\n",
       "<caption>A data.frame: 4 × 5</caption>\n",
       "<thead>\n",
       "\t<tr><th></th><th scope=col>Method</th><th scope=col>Coefficient</th><th scope=col>Std_Error</th><th scope=col>Conf_Interval_Lower</th><th scope=col>Conf_Interval_Upper</th></tr>\n",
       "\t<tr><th></th><th scope=col>&lt;chr&gt;</th><th scope=col>&lt;dbl&gt;</th><th scope=col>&lt;dbl&gt;</th><th scope=col>&lt;dbl&gt;</th><th scope=col>&lt;dbl&gt;</th></tr>\n",
       "</thead>\n",
       "<tbody>\n",
       "\t<tr><th scope=row>treatment</th><td>OLS         </td><td>4.480004</td><td>0.2278275</td><td>4.033435</td><td>4.926573</td></tr>\n",
       "\t<tr><th scope=row>W_D_residuals</th><td>LASSO_CV    </td><td>4.480011</td><td>0.2278078</td><td>4.033481</td><td>4.926541</td></tr>\n",
       "\t<tr><th scope=row>W_D_residuals1</th><td>LASSO_lambda</td><td>4.474674</td><td>0.2276535</td><td>4.028446</td><td>4.920901</td></tr>\n",
       "\t<tr><th scope=row>1</th><td>LASSO_direct</td><td>4.474674</td><td>0.2276535</td><td>4.028473</td><td>4.920874</td></tr>\n",
       "</tbody>\n",
       "</table>\n"
      ],
      "text/latex": [
       "A data.frame: 4 × 5\n",
       "\\begin{tabular}{r|lllll}\n",
       "  & Method & Coefficient & Std\\_Error & Conf\\_Interval\\_Lower & Conf\\_Interval\\_Upper\\\\\n",
       "  & <chr> & <dbl> & <dbl> & <dbl> & <dbl>\\\\\n",
       "\\hline\n",
       "\ttreatment & OLS          & 4.480004 & 0.2278275 & 4.033435 & 4.926573\\\\\n",
       "\tW\\_D\\_residuals & LASSO\\_CV     & 4.480011 & 0.2278078 & 4.033481 & 4.926541\\\\\n",
       "\tW\\_D\\_residuals1 & LASSO\\_lambda & 4.474674 & 0.2276535 & 4.028446 & 4.920901\\\\\n",
       "\t1 & LASSO\\_direct & 4.474674 & 0.2276535 & 4.028473 & 4.920874\\\\\n",
       "\\end{tabular}\n"
      ],
      "text/markdown": [
       "\n",
       "A data.frame: 4 × 5\n",
       "\n",
       "| <!--/--> | Method &lt;chr&gt; | Coefficient &lt;dbl&gt; | Std_Error &lt;dbl&gt; | Conf_Interval_Lower &lt;dbl&gt; | Conf_Interval_Upper &lt;dbl&gt; |\n",
       "|---|---|---|---|---|---|\n",
       "| treatment | OLS          | 4.480004 | 0.2278275 | 4.033435 | 4.926573 |\n",
       "| W_D_residuals | LASSO_CV     | 4.480011 | 0.2278078 | 4.033481 | 4.926541 |\n",
       "| W_D_residuals1 | LASSO_lambda | 4.474674 | 0.2276535 | 4.028446 | 4.920901 |\n",
       "| 1 | LASSO_direct | 4.474674 | 0.2276535 | 4.028473 | 4.920874 |\n",
       "\n"
      ],
      "text/plain": [
       "               Method       Coefficient Std_Error Conf_Interval_Lower\n",
       "treatment      OLS          4.480004    0.2278275 4.033435           \n",
       "W_D_residuals  LASSO_CV     4.480011    0.2278078 4.033481           \n",
       "W_D_residuals1 LASSO_lambda 4.474674    0.2276535 4.028446           \n",
       "1              LASSO_direct 4.474674    0.2276535 4.028473           \n",
       "               Conf_Interval_Upper\n",
       "treatment      4.926573           \n",
       "W_D_residuals  4.926541           \n",
       "W_D_residuals1 4.920901           \n",
       "1              4.920874           "
      ]
     },
     "metadata": {},
     "output_type": "display_data"
    }
   ],
   "source": [
    "# Create DataFrame with results\n",
    "table_1c <- data.frame(\n",
    "  Method = \"OLS\",\n",
    "  Coefficient = coef(modelo1c)[2],\n",
    "  Std_Error = summary(modelo1c)$coefficients[2, 2],\n",
    "  Conf_Interval_Lower = confint(modelo1c)[2, 1],\n",
    "  Conf_Interval_Upper = confint(modelo1c)[2, 2]\n",
    ")\n",
    "table_2 <- data.frame(\n",
    "  Method = \"LASSO_CV\",\n",
    "  Coefficient = coef(ols_model_cv)[2],\n",
    "  Std_Error = summary(ols_model_cv)$coefficients[2, 2],\n",
    "  Conf_Interval_Lower = confint(ols_model_cv)[2, 1],\n",
    "  Conf_Interval_Upper = confint(ols_model_cv)[2, 2]\n",
    ")\n",
    "\n",
    "table_3 <- data.frame(\n",
    "  Method = \"LASSO_lambda\",\n",
    "  Coefficient = coef(ols_model_lambda)[2],\n",
    "  Std_Error = summary(ols_model_lambda)$coefficients[2, 2],\n",
    "  Conf_Interval_Lower = confint(ols_model_lambda)[2, 1],\n",
    "  Conf_Interval_Upper = confint(ols_model_lambda)[2, 2]\n",
    ")\n",
    "\n",
    "table_4 <- data.frame(\n",
    "  Method = \"LASSO_direct\",\n",
    "  Coefficient = double_lasso_po$alpha,\n",
    "  Std_Error = double_lasso_po$se[1],\n",
    "  Conf_Interval_Lower = double_lasso_po$alpha - 1.96 * double_lasso_po$se[1],\n",
    "  Conf_Interval_Upper = double_lasso_po$alpha + 1.96 * double_lasso_po$se[1]\n",
    ")\n",
    "\n",
    "combined <- rbind(table_1c,table_2, table_3, table_4)\n",
    "combined"
   ]
  },
  {
   "cell_type": "code",
   "execution_count": 37,
   "metadata": {
    "colab": {
     "base_uri": "https://localhost:8080/",
     "height": 437
    },
    "id": "pnkuvASXVLA5",
    "outputId": "0f377add-cfac-44f9-a647-294384008f8d"
   },
   "outputs": [
    {
     "data": {
      "image/png": "[encoded data removed]",
      "text/plain": [
       "plot without title"
      ]
     },
     "metadata": {
      "image/png": {
       "height": 420,
       "width": 420
      }
     },
     "output_type": "display_data"
    }
   ],
   "source": [
    "# Visualize the results\n",
    "ggplot(combined, aes(x = Method, y = Coefficient, color = Method)) +\n",
    "  geom_errorbar(aes(ymin = Conf_Interval_Lower, ymax = Conf_Interval_Upper), width = 0.2) +\n",
    "  geom_point(size = 3) +\n",
    "  geom_text(aes(label = sprintf(\"%.3f\", Coefficient)), vjust = -1, size = 3) +\n",
    "  theme_minimal() +\n",
    "  labs(title = \"Coefficient Estimates and Confidence Intervals\",\n",
    "       x = \"Method\",\n",
    "       y = \"Coefficient Estimate\") +\n",
    "  geom_hline(yintercept = 0, linetype = \"dashed\") +\n",
    "  scale_color_manual(values = c(\"blue\", \"green\", \"red\", \"purple\")) +\n",
    "  theme(legend.position = \"none\") +\n",
    "  coord_cartesian(ylim = c(3.5, 5.5))"
   ]
  }
 ],
 "metadata": {
  "colab": {
   "provenance": []
  },
  "kernelspec": {
   "display_name": "R",
   "language": "R",
   "name": "ir"
  },
  "language_info": {
   "codemirror_mode": "r",
   "file_extension": ".r",
   "mimetype": "text/x-r-source",
   "name": "R",
   "pygments_lexer": "r",
   "version": "3.6.1"
  }
 },
 "nbformat": 4,
 "nbformat_minor": 4
}
