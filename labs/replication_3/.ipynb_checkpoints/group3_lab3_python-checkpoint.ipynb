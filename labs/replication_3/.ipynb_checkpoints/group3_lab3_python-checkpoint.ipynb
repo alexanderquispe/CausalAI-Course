{
 "cells": [
  {
   "cell_type": "markdown",
   "metadata": {},
   "source": [
    "# Workgroup 3\n",
    "\n",
    "**Group 3**: Valerie Dube, Erzo Garay, Juan Marcos Guerrero y Matías Villalba,"
   ]
  },
  {
   "cell_type": "markdown",
   "metadata": {},
   "source": [
    "## 1. Neyman Orthogonality Proof"
   ]
  },
  {
   "cell_type": "code",
   "execution_count": null,
   "metadata": {},
   "outputs": [],
   "source": []
  },
  {
   "cell_type": "markdown",
   "metadata": {},
   "source": [
    "## 2. Code Section"
   ]
  },
  {
   "cell_type": "markdown",
   "metadata": {},
   "source": [
    "### 2.1. Orthogonal Learning"
   ]
  },
  {
   "cell_type": "code",
   "execution_count": null,
   "metadata": {},
   "outputs": [],
   "source": []
  },
  {
   "cell_type": "markdown",
   "metadata": {},
   "source": [
    "### 2.2. Double Lasso - Using School data"
   ]
  },
  {
   "cell_type": "code",
   "execution_count": 151,
   "metadata": {},
   "outputs": [],
   "source": [
    "# Libraries\n",
    "import numpy as np\n",
    "import pandas as pd\n",
    "import matplotlib.pyplot as plt\n",
    "import statsmodels.api as sm\n",
    "from stargazer.stargazer import Stargazer\n",
    "from sklearn.model_selection import train_test_split\n",
    "from sklearn.preprocessing import StandardScaler\n",
    "from sklearn.linear_model import LassoCV"
   ]
  },
  {
   "cell_type": "markdown",
   "metadata": {},
   "source": [
    "#### 2.2.1. Preprocessing data"
   ]
  },
  {
   "cell_type": "code",
   "execution_count": 152,
   "metadata": {},
   "outputs": [],
   "source": [
    "# Read csv file\n",
    "df = pd.read_csv('./data/bruhn2016.csv', delimiter=',')"
   ]
  },
  {
   "cell_type": "code",
   "execution_count": 153,
   "metadata": {},
   "outputs": [
    {
     "data": {
      "text/html": [
       "<div>\n",
       "<style scoped>\n",
       "    .dataframe tbody tr th:only-of-type {\n",
       "        vertical-align: middle;\n",
       "    }\n",
       "\n",
       "    .dataframe tbody tr th {\n",
       "        vertical-align: top;\n",
       "    }\n",
       "\n",
       "    .dataframe thead th {\n",
       "        text-align: right;\n",
       "    }\n",
       "</style>\n",
       "<table border=\"1\" class=\"dataframe\">\n",
       "  <thead>\n",
       "    <tr style=\"text-align: right;\">\n",
       "      <th></th>\n",
       "      <th>outcome.test.score</th>\n",
       "      <th>treatment</th>\n",
       "      <th>school</th>\n",
       "      <th>is.female</th>\n",
       "      <th>mother.attended.secondary.school</th>\n",
       "      <th>father.attened.secondary.school</th>\n",
       "      <th>failed.at.least.one.school.year</th>\n",
       "      <th>family.receives.cash.transfer</th>\n",
       "      <th>has.computer.with.internet.at.home</th>\n",
       "      <th>is.unemployed</th>\n",
       "      <th>has.some.form.of.income</th>\n",
       "      <th>saves.money.for.future.purchases</th>\n",
       "      <th>intention.to.save.index</th>\n",
       "      <th>makes.list.of.expenses.every.month</th>\n",
       "      <th>negotiates.prices.or.payment.methods</th>\n",
       "      <th>financial.autonomy.index</th>\n",
       "    </tr>\n",
       "  </thead>\n",
       "  <tbody>\n",
       "    <tr>\n",
       "      <th>0</th>\n",
       "      <td>47.367374</td>\n",
       "      <td>0</td>\n",
       "      <td>17018390</td>\n",
       "      <td>NaN</td>\n",
       "      <td>NaN</td>\n",
       "      <td>NaN</td>\n",
       "      <td>NaN</td>\n",
       "      <td>NaN</td>\n",
       "      <td>NaN</td>\n",
       "      <td>1.0</td>\n",
       "      <td>1.0</td>\n",
       "      <td>0.0</td>\n",
       "      <td>29.0</td>\n",
       "      <td>0.0</td>\n",
       "      <td>1.0</td>\n",
       "      <td>52.0</td>\n",
       "    </tr>\n",
       "    <tr>\n",
       "      <th>1</th>\n",
       "      <td>58.176758</td>\n",
       "      <td>1</td>\n",
       "      <td>33002614</td>\n",
       "      <td>NaN</td>\n",
       "      <td>NaN</td>\n",
       "      <td>NaN</td>\n",
       "      <td>NaN</td>\n",
       "      <td>NaN</td>\n",
       "      <td>NaN</td>\n",
       "      <td>0.0</td>\n",
       "      <td>0.0</td>\n",
       "      <td>0.0</td>\n",
       "      <td>41.0</td>\n",
       "      <td>0.0</td>\n",
       "      <td>0.0</td>\n",
       "      <td>27.0</td>\n",
       "    </tr>\n",
       "    <tr>\n",
       "      <th>2</th>\n",
       "      <td>56.671661</td>\n",
       "      <td>1</td>\n",
       "      <td>35002914</td>\n",
       "      <td>1.0</td>\n",
       "      <td>1.0</td>\n",
       "      <td>1.0</td>\n",
       "      <td>0.0</td>\n",
       "      <td>0.0</td>\n",
       "      <td>0.0</td>\n",
       "      <td>1.0</td>\n",
       "      <td>0.0</td>\n",
       "      <td>0.0</td>\n",
       "      <td>48.0</td>\n",
       "      <td>0.0</td>\n",
       "      <td>1.0</td>\n",
       "      <td>56.0</td>\n",
       "    </tr>\n",
       "    <tr>\n",
       "      <th>3</th>\n",
       "      <td>29.079376</td>\n",
       "      <td>0</td>\n",
       "      <td>35908915</td>\n",
       "      <td>1.0</td>\n",
       "      <td>0.0</td>\n",
       "      <td>0.0</td>\n",
       "      <td>0.0</td>\n",
       "      <td>0.0</td>\n",
       "      <td>0.0</td>\n",
       "      <td>0.0</td>\n",
       "      <td>0.0</td>\n",
       "      <td>0.0</td>\n",
       "      <td>42.0</td>\n",
       "      <td>0.0</td>\n",
       "      <td>0.0</td>\n",
       "      <td>27.0</td>\n",
       "    </tr>\n",
       "    <tr>\n",
       "      <th>4</th>\n",
       "      <td>49.563534</td>\n",
       "      <td>1</td>\n",
       "      <td>33047324</td>\n",
       "      <td>1.0</td>\n",
       "      <td>0.0</td>\n",
       "      <td>0.0</td>\n",
       "      <td>0.0</td>\n",
       "      <td>0.0</td>\n",
       "      <td>1.0</td>\n",
       "      <td>0.0</td>\n",
       "      <td>1.0</td>\n",
       "      <td>0.0</td>\n",
       "      <td>50.0</td>\n",
       "      <td>0.0</td>\n",
       "      <td>1.0</td>\n",
       "      <td>31.0</td>\n",
       "    </tr>\n",
       "  </tbody>\n",
       "</table>\n",
       "</div>"
      ],
      "text/plain": [
       "   outcome.test.score  treatment    school  is.female  \\\n",
       "0           47.367374          0  17018390        NaN   \n",
       "1           58.176758          1  33002614        NaN   \n",
       "2           56.671661          1  35002914        1.0   \n",
       "3           29.079376          0  35908915        1.0   \n",
       "4           49.563534          1  33047324        1.0   \n",
       "\n",
       "   mother.attended.secondary.school  father.attened.secondary.school  \\\n",
       "0                               NaN                              NaN   \n",
       "1                               NaN                              NaN   \n",
       "2                               1.0                              1.0   \n",
       "3                               0.0                              0.0   \n",
       "4                               0.0                              0.0   \n",
       "\n",
       "   failed.at.least.one.school.year  family.receives.cash.transfer  \\\n",
       "0                              NaN                            NaN   \n",
       "1                              NaN                            NaN   \n",
       "2                              0.0                            0.0   \n",
       "3                              0.0                            0.0   \n",
       "4                              0.0                            0.0   \n",
       "\n",
       "   has.computer.with.internet.at.home  is.unemployed  has.some.form.of.income  \\\n",
       "0                                 NaN            1.0                      1.0   \n",
       "1                                 NaN            0.0                      0.0   \n",
       "2                                 0.0            1.0                      0.0   \n",
       "3                                 0.0            0.0                      0.0   \n",
       "4                                 1.0            0.0                      1.0   \n",
       "\n",
       "   saves.money.for.future.purchases  intention.to.save.index  \\\n",
       "0                               0.0                     29.0   \n",
       "1                               0.0                     41.0   \n",
       "2                               0.0                     48.0   \n",
       "3                               0.0                     42.0   \n",
       "4                               0.0                     50.0   \n",
       "\n",
       "   makes.list.of.expenses.every.month  negotiates.prices.or.payment.methods  \\\n",
       "0                                 0.0                                   1.0   \n",
       "1                                 0.0                                   0.0   \n",
       "2                                 0.0                                   1.0   \n",
       "3                                 0.0                                   0.0   \n",
       "4                                 0.0                                   1.0   \n",
       "\n",
       "   financial.autonomy.index  \n",
       "0                      52.0  \n",
       "1                      27.0  \n",
       "2                      56.0  \n",
       "3                      27.0  \n",
       "4                      31.0  "
      ]
     },
     "execution_count": 153,
     "metadata": {},
     "output_type": "execute_result"
    }
   ],
   "source": [
    "df.head()"
   ]
  },
  {
   "cell_type": "code",
   "execution_count": 154,
   "metadata": {},
   "outputs": [],
   "source": [
    "# Drop missing values, we lose 5077 values (from 17299 to 12222 rows)\n",
    "df.dropna(axis=0, inplace=True)\n",
    "df.reset_index(inplace=True ,drop=True)"
   ]
  },
  {
   "cell_type": "code",
   "execution_count": 155,
   "metadata": {},
   "outputs": [
    {
     "data": {
      "text/plain": [
       "Index(['outcome.test.score', 'treatment', 'school', 'is.female',\n",
       "       'mother.attended.secondary.school', 'father.attened.secondary.school',\n",
       "       'failed.at.least.one.school.year', 'family.receives.cash.transfer',\n",
       "       'has.computer.with.internet.at.home', 'is.unemployed',\n",
       "       'has.some.form.of.income', 'saves.money.for.future.purchases',\n",
       "       'intention.to.save.index', 'makes.list.of.expenses.every.month',\n",
       "       'negotiates.prices.or.payment.methods', 'financial.autonomy.index'],\n",
       "      dtype='object')"
      ]
     },
     "execution_count": 155,
     "metadata": {},
     "output_type": "execute_result"
    }
   ],
   "source": [
    "df.columns"
   ]
  },
  {
   "cell_type": "code",
   "execution_count": 156,
   "metadata": {},
   "outputs": [],
   "source": [
    "dependent_vars = ['outcome.test.score', 'intention.to.save.index', 'negotiates.prices.or.payment.methods', 'has.some.form.of.income', 'makes.list.of.expenses.every.month', 'financial.autonomy.index', 'saves.money.for.future.purchases', 'is.unemployed']"
   ]
  },
  {
   "cell_type": "markdown",
   "metadata": {},
   "source": [
    "For Lasso regressions, we split the data into train and test data, and standarize the covariates matrix"
   ]
  },
  {
   "cell_type": "code",
   "execution_count": 157,
   "metadata": {},
   "outputs": [],
   "source": [
    "# Train test split\n",
    "X = df.drop(dependent_vars, axis = 1)\n",
    "y = df[dependent_vars]\n",
    "\n",
    "X_train, X_test, y_train, y_test = train_test_split(X, y, test_size = 0.2, random_state = 42)"
   ]
  },
  {
   "cell_type": "code",
   "execution_count": 158,
   "metadata": {},
   "outputs": [],
   "source": [
    "T_train = X_train['treatment']\n",
    "T_test = X_test['treatment']\n",
    "\n",
    "X_train = X_train.drop(['treatment'], axis = 1)\n",
    "X_test = X_test.drop(['treatment'], axis = 1)\n"
   ]
  },
  {
   "cell_type": "code",
   "execution_count": 159,
   "metadata": {},
   "outputs": [],
   "source": [
    "# Standarize X data\n",
    "scale = StandardScaler()\n",
    "\n",
    "X_train_scaled = pd.DataFrame(scale.fit_transform(X_train), index=X_train.index)\n",
    "X_test_scaled = pd.DataFrame(scale.transform(X_test), index=X_test.index)"
   ]
  },
  {
   "cell_type": "code",
   "execution_count": 160,
   "metadata": {},
   "outputs": [],
   "source": [
    "X_scaled = pd.concat([X_train_scaled, X_test_scaled]).sort_index()\n",
    "T = pd.concat([T_train, T_test]).sort_index()"
   ]
  },
  {
   "cell_type": "markdown",
   "metadata": {},
   "source": [
    "#### 2.2.2. Regressions"
   ]
  },
  {
   "cell_type": "markdown",
   "metadata": {},
   "source": [
    "##### a. OLS"
   ]
  },
  {
   "cell_type": "markdown",
   "metadata": {},
   "source": [
    "From 1 - 3 regression: measures treatment impact on **student financial proficiency**\n",
    "\n",
    "From 4 - 6 regression: measures treatment impact on **student savings behavior and attitudes**\n",
    "\n",
    "From 7 - 9 regression: measures treatment impact on **student money management behavior and attitudes**\n",
    "\n",
    "From 10 - 12 regression: measures treatment impact on **student entrepreneurship and work outcomes**"
   ]
  },
  {
   "cell_type": "code",
   "execution_count": 161,
   "metadata": {},
   "outputs": [
    {
     "name": "stdout",
     "output_type": "stream",
     "text": [
      "Intel MKL WARNING: Support of Intel(R) Streaming SIMD Extensions 4.2 (Intel(R) SSE4.2) enabled only processors has been deprecated. Intel oneAPI Math Kernel Library 2025.0 will require Intel(R) Advanced Vector Extensions (Intel(R) AVX) instructions.\n",
      "Intel MKL WARNING: Support of Intel(R) Streaming SIMD Extensions 4.2 (Intel(R) SSE4.2) enabled only processors has been deprecated. Intel oneAPI Math Kernel Library 2025.0 will require Intel(R) Advanced Vector Extensions (Intel(R) AVX) instructions.\n",
      "Intel MKL WARNING: Support of Intel(R) Streaming SIMD Extensions 4.2 (Intel(R) SSE4.2) enabled only processors has been deprecated. Intel oneAPI Math Kernel Library 2025.0 will require Intel(R) Advanced Vector Extensions (Intel(R) AVX) instructions.\n",
      "Intel MKL WARNING: Support of Intel(R) Streaming SIMD Extensions 4.2 (Intel(R) SSE4.2) enabled only processors has been deprecated. Intel oneAPI Math Kernel Library 2025.0 will require Intel(R) Advanced Vector Extensions (Intel(R) AVX) instructions.\n",
      "Intel MKL WARNING: Support of Intel(R) Streaming SIMD Extensions 4.2 (Intel(R) SSE4.2) enabled only processors has been deprecated. Intel oneAPI Math Kernel Library 2025.0 will require Intel(R) Advanced Vector Extensions (Intel(R) AVX) instructions.\n",
      "Intel MKL WARNING: Support of Intel(R) Streaming SIMD Extensions 4.2 (Intel(R) SSE4.2) enabled only processors has been deprecated. Intel oneAPI Math Kernel Library 2025.0 will require Intel(R) Advanced Vector Extensions (Intel(R) AVX) instructions.\n",
      "Intel MKL WARNING: Support of Intel(R) Streaming SIMD Extensions 4.2 (Intel(R) SSE4.2) enabled only processors has been deprecated. Intel oneAPI Math Kernel Library 2025.0 will require Intel(R) Advanced Vector Extensions (Intel(R) AVX) instructions.\n",
      "Intel MKL WARNING: Support of Intel(R) Streaming SIMD Extensions 4.2 (Intel(R) SSE4.2) enabled only processors has been deprecated. Intel oneAPI Math Kernel Library 2025.0 will require Intel(R) Advanced Vector Extensions (Intel(R) AVX) instructions.\n",
      "Intel MKL WARNING: Support of Intel(R) Streaming SIMD Extensions 4.2 (Intel(R) SSE4.2) enabled only processors has been deprecated. Intel oneAPI Math Kernel Library 2025.0 will require Intel(R) Advanced Vector Extensions (Intel(R) AVX) instructions.\n",
      "Intel MKL WARNING: Support of Intel(R) Streaming SIMD Extensions 4.2 (Intel(R) SSE4.2) enabled only processors has been deprecated. Intel oneAPI Math Kernel Library 2025.0 will require Intel(R) Advanced Vector Extensions (Intel(R) AVX) instructions.\n",
      "Intel MKL WARNING: Support of Intel(R) Streaming SIMD Extensions 4.2 (Intel(R) SSE4.2) enabled only processors has been deprecated. Intel oneAPI Math Kernel Library 2025.0 will require Intel(R) Advanced Vector Extensions (Intel(R) AVX) instructions.\n",
      "Intel MKL WARNING: Support of Intel(R) Streaming SIMD Extensions 4.2 (Intel(R) SSE4.2) enabled only processors has been deprecated. Intel oneAPI Math Kernel Library 2025.0 will require Intel(R) Advanced Vector Extensions (Intel(R) AVX) instructions.\n"
     ]
    },
    {
     "data": {
      "text/html": [
       "<table style=\"text-align:center\"><tr><td colspan=\"13\" style=\"border-bottom: 1px solid black\"></td></tr>\n",
       "<tr><td style=\"text-align:left\"></td><tr><td></td><td colspan=\"3\">Dependent var 1: Student Financial Proficiency</td><td colspan=\"3\">Dependent var 2: Intention to save index</td><td colspan=\"3\">Dependent var 3: Negotiates prices or payment methods</td><td colspan=\"3\">Dependent var 4: Has some form of income</td></tr><tr><td style=\"text-align:left\"></td><td>(1)</td><td>(2)</td><td>(3)</td><td>(4)</td><td>(5)</td><td>(6)</td><td>(7)</td><td>(8)</td><td>(9)</td><td>(10)</td><td>(11)</td><td>(12)</td></tr>\n",
       "<tr><td colspan=\"13\" style=\"border-bottom: 1px solid black\"></td></tr>\n",
       "\n",
       "<tr><td style=\"text-align:left\">Intercept</td><td>57.591<sup>***</sup></td><td>59.377<sup>***</sup></td><td>57.013<sup>***</sup></td><td>49.016<sup>***</sup></td><td>46.725<sup>***</sup></td><td>45.407<sup>***</sup></td><td>0.763<sup>***</sup></td><td>0.856<sup>***</sup></td><td>0.901<sup>***</sup></td><td>0.639<sup>***</sup></td><td>0.534<sup>***</sup></td><td>0.553<sup>***</sup></td></tr>\n",
       "<tr><td style=\"text-align:left\"></td><td>(0.187)</td><td>(0.556)</td><td>(0.583)</td><td>(0.240)</td><td>(0.728)</td><td>(0.767)</td><td>(0.006)</td><td>(0.017)</td><td>(0.018)</td><td>(0.006)</td><td>(0.019)</td><td>(0.020)</td></tr>\n",
       "<tr><td style=\"text-align:left\">Failed at least one school year</td><td></td><td>-7.218<sup>***</sup></td><td>-6.759<sup>***</sup></td><td></td><td>-3.614<sup>***</sup></td><td>-3.354<sup>***</sup></td><td></td><td>0.024<sup>***</sup></td><td>0.016<sup>*</sup></td><td></td><td>0.005<sup></sup></td><td>0.002<sup></sup></td></tr>\n",
       "<tr><td style=\"text-align:left\"></td><td></td><td>(0.288)</td><td>(0.289)</td><td></td><td>(0.377)</td><td>(0.380)</td><td></td><td>(0.009)</td><td>(0.009)</td><td></td><td>(0.010)</td><td>(0.010)</td></tr>\n",
       "<tr><td style=\"text-align:left\">Female</td><td></td><td></td><td>2.836<sup>***</sup></td><td></td><td></td><td>1.357<sup>***</sup></td><td></td><td></td><td>-0.066<sup>***</sup></td><td></td><td></td><td>-0.054<sup>***</sup></td></tr>\n",
       "<tr><td style=\"text-align:left\"></td><td></td><td></td><td>(0.257)</td><td></td><td></td><td>(0.339)</td><td></td><td></td><td>(0.008)</td><td></td><td></td><td>(0.009)</td></tr>\n",
       "<tr><td style=\"text-align:left\">Q(\"mother.attended.secondary.school\")</td><td></td><td></td><td>1.826<sup>***</sup></td><td></td><td></td><td>1.380<sup>***</sup></td><td></td><td></td><td>-0.016<sup>**</sup></td><td></td><td></td><td>0.036<sup>***</sup></td></tr>\n",
       "<tr><td style=\"text-align:left\"></td><td></td><td></td><td>(0.257)</td><td></td><td></td><td>(0.338)</td><td></td><td></td><td>(0.008)</td><td></td><td></td><td>(0.009)</td></tr>\n",
       "<tr><td style=\"text-align:left\">school</td><td></td><td>0.000<sup></sup></td><td>-0.000<sup></sup></td><td></td><td>0.000<sup>***</sup></td><td>0.000<sup>***</sup></td><td></td><td>-0.000<sup>***</sup></td><td>-0.000<sup>***</sup></td><td></td><td>0.000<sup>***</sup></td><td>0.000<sup>***</sup></td></tr>\n",
       "<tr><td style=\"text-align:left\"></td><td></td><td>(0.000)</td><td>(0.000)</td><td></td><td>(0.000)</td><td>(0.000)</td><td></td><td>(0.000)</td><td>(0.000)</td><td></td><td>(0.000)</td><td>(0.000)</td></tr>\n",
       "<tr><td style=\"text-align:left\">treatment</td><td>4.216<sup>***</sup></td><td>4.392<sup>***</sup></td><td>4.307<sup>***</sup></td><td>-0.070<sup></sup></td><td>-0.005<sup></sup></td><td>-0.047<sup></sup></td><td>0.001<sup></sup></td><td>0.001<sup></sup></td><td>0.003<sup></sup></td><td>0.017<sup>**</sup></td><td>0.016<sup>*</sup></td><td>0.018<sup>**</sup></td></tr>\n",
       "<tr><td style=\"text-align:left\"></td><td>(0.261)</td><td>(0.255)</td><td>(0.253)</td><td>(0.335)</td><td>(0.334)</td><td>(0.333)</td><td>(0.008)</td><td>(0.008)</td><td>(0.008)</td><td>(0.009)</td><td>(0.009)</td><td>(0.009)</td></tr>\n",
       "\n",
       "<td colspan=\"13\" style=\"border-bottom: 1px solid black\"></td></tr>\n",
       "<tr><td style=\"text-align: left\">Observations</td><td>12222</td><td>12222</td><td>12222</td><td>12222</td><td>12222</td><td>12222</td><td>12222</td><td>12222</td><td>12222</td><td>12222</td><td>12222</td><td>12222</td></tr><tr><td style=\"text-align: left\">R<sup>2</sup></td><td>0.021</td><td>0.069</td><td>0.081</td><td>0.000</td><td>0.009</td><td>0.012</td><td>0.000</td><td>0.004</td><td>0.010</td><td>0.000</td><td>0.003</td><td>0.008</td></tr><tr><td style=\"text-align: left\">Adjusted R<sup>2</sup></td><td>0.021</td><td>0.068</td><td>0.080</td><td>-0.000</td><td>0.009</td><td>0.011</td><td>-0.000</td><td>0.004</td><td>0.010</td><td>0.000</td><td>0.003</td><td>0.008</td></tr><tr><td style=\"text-align: left\">Residual Std. Error</td><td>14.432 (df=12220)</td><td>14.076 (df=12218)</td><td>13.986 (df=12216)</td><td>18.506 (df=12220)</td><td>18.421 (df=12218)</td><td>18.400 (df=12216)</td><td>0.425 (df=12220)</td><td>0.424 (df=12218)</td><td>0.423 (df=12216)</td><td>0.478 (df=12220)</td><td>0.477 (df=12218)</td><td>0.476 (df=12216)</td></tr><tr><td style=\"text-align: left\">F Statistic</td><td>260.547<sup>***</sup> (df=1; 12220)</td><td>300.463<sup>***</sup> (df=3; 12218)</td><td>214.786<sup>***</sup> (df=5; 12216)</td><td>0.043<sup></sup> (df=1; 12220)</td><td>38.533<sup>***</sup> (df=3; 12218)</td><td>29.248<sup>***</sup> (df=5; 12216)</td><td>0.018<sup></sup> (df=1; 12220)</td><td>16.352<sup>***</sup> (df=3; 12218)</td><td>24.653<sup>***</sup> (df=5; 12216)</td><td>3.843<sup>**</sup> (df=1; 12220)</td><td>12.839<sup>***</sup> (df=3; 12218)</td><td>19.652<sup>***</sup> (df=5; 12216)</td></tr>\n",
       "<tr><td colspan=\"13\" style=\"border-bottom: 1px solid black\"></td></tr><tr><td style=\"text-align: left\">Note:</td><td colspan=\"12\" style=\"text-align: right\"><sup>*</sup>p&lt;0.1; <sup>**</sup>p&lt;0.05; <sup>***</sup>p&lt;0.01</td></tr></table>"
      ],
      "text/plain": [
       "<stargazer.stargazer.Stargazer at 0x7fef97da8f70>"
      ]
     },
     "execution_count": 161,
     "metadata": {},
     "output_type": "execute_result"
    }
   ],
   "source": [
    "# Rgeressions with \"Student Financial Proficiency\" as dependet variable\n",
    "ols_score_1      = sm.OLS.from_formula('Q(\"outcome.test.score\") ~ treatment', data=df).fit()\n",
    "ols_score_2      = sm.OLS.from_formula('Q(\"outcome.test.score\") ~ treatment + school + Q(\"failed.at.least.one.school.year\")', data=df).fit()\n",
    "ols_score_3      = sm.OLS.from_formula('Q(\"outcome.test.score\") ~ treatment + school + Q(\"failed.at.least.one.school.year\") + Q(\"is.female\") + Q(\"mother.attended.secondary.school\")', data=df).fit()\n",
    "\n",
    "# Rgeressions with \"Intention to save index\" as dependet variable\n",
    "ols_saving_1     = sm.OLS.from_formula('Q(\"intention.to.save.index\") ~ treatment', data=df).fit()\n",
    "ols_saving_2     = sm.OLS.from_formula('Q(\"intention.to.save.index\") ~ treatment + school + Q(\"failed.at.least.one.school.year\")', data=df).fit()\n",
    "ols_saving_3     = sm.OLS.from_formula('Q(\"intention.to.save.index\") ~ treatment + school + Q(\"failed.at.least.one.school.year\") + Q(\"is.female\") + Q(\"mother.attended.secondary.school\")', data=df).fit()\n",
    "\n",
    "# Rgeressions with \"Negotiates prices or payment methods\" as dependet variable\n",
    "ols_negotiates_1 = sm.OLS.from_formula('Q(\"negotiates.prices.or.payment.methods\") ~ treatment', data=df).fit()\n",
    "ols_negotiates_2 = sm.OLS.from_formula('Q(\"negotiates.prices.or.payment.methods\") ~ treatment + school + Q(\"failed.at.least.one.school.year\")', data=df).fit()\n",
    "ols_negotiates_3 = sm.OLS.from_formula('Q(\"negotiates.prices.or.payment.methods\") ~ treatment + school + Q(\"failed.at.least.one.school.year\") + Q(\"is.female\") + Q(\"mother.attended.secondary.school\")', data=df).fit()\n",
    "\n",
    "# Rgeressions with \"Has some form of income\" as dependet variable\n",
    "ols_manage_1     = sm.OLS.from_formula('Q(\"has.some.form.of.income\") ~ treatment', data=df).fit()\n",
    "ols_manage_2     = sm.OLS.from_formula('Q(\"has.some.form.of.income\") ~ treatment + school + Q(\"failed.at.least.one.school.year\")', data=df).fit()\n",
    "ols_manage_3     = sm.OLS.from_formula('Q(\"has.some.form.of.income\") ~ treatment + school + Q(\"failed.at.least.one.school.year\") + Q(\"is.female\") + Q(\"mother.attended.secondary.school\")', data=df).fit()\n",
    "\n",
    "# Show parameters in table\n",
    "st = Stargazer([ols_score_1, ols_score_2, ols_score_3, ols_saving_1, ols_saving_2, ols_saving_3, ols_negotiates_1, ols_negotiates_2, ols_negotiates_3, ols_manage_1, ols_manage_2, ols_manage_3])\n",
    "st.custom_columns([\"Dependent var 1: Student Financial Proficiency\", \"Dependent var 2: Intention to save index\", \"Dependent var 3: Negotiates prices or payment methods\", \"Dependent var 4: Has some form of income\"], [3, 3, 3, 3])\n",
    "st.rename_covariates({'Q(\"failed.at.least.one.school.year\")': 'Failed at least one school year', 'Q(\"is.female\")': 'Female'})\n",
    "st"
   ]
  },
  {
   "cell_type": "markdown",
   "metadata": {},
   "source": [
    "##### b. Double Lasso using cross validation"
   ]
  },
  {
   "cell_type": "markdown",
   "metadata": {},
   "source": [
    "Dependent var 1: Student Financial Proficiency"
   ]
  },
  {
   "cell_type": "markdown",
   "metadata": {},
   "source": [
    "Step 1: We ran Lasso regression of Y (student financial proficiency) on X, and T on X"
   ]
  },
  {
   "cell_type": "code",
   "execution_count": 162,
   "metadata": {},
   "outputs": [
    {
     "name": "stdout",
     "output_type": "stream",
     "text": [
      "Intel MKL WARNING: Support of Intel(R) Streaming SIMD Extensions 4.2 (Intel(R) SSE4.2) enabled only processors has been deprecated. Intel oneAPI Math Kernel Library 2025.0 will require Intel(R) Advanced Vector Extensions (Intel(R) AVX) instructions.\n",
      "Intel MKL WARNING: Support of Intel(R) Streaming SIMD Extensions 4.2 (Intel(R) SSE4.2) enabled only processors has been deprecated. Intel oneAPI Math Kernel Library 2025.0 will require Intel(R) Advanced Vector Extensions (Intel(R) AVX) instructions.\n",
      "Intel MKL WARNING: Support of Intel(R) Streaming SIMD Extensions 4.2 (Intel(R) SSE4.2) enabled only processors has been deprecated. Intel oneAPI Math Kernel Library 2025.0 will require Intel(R) Advanced Vector Extensions (Intel(R) AVX) instructions.\n",
      "Intel MKL WARNING: Support of Intel(R) Streaming SIMD Extensions 4.2 (Intel(R) SSE4.2) enabled only processors has been deprecated. Intel oneAPI Math Kernel Library 2025.0 will require Intel(R) Advanced Vector Extensions (Intel(R) AVX) instructions.\n",
      "Intel MKL WARNING: Support of Intel(R) Streaming SIMD Extensions 4.2 (Intel(R) SSE4.2) enabled only processors has been deprecated. Intel oneAPI Math Kernel Library 2025.0 will require Intel(R) Advanced Vector Extensions (Intel(R) AVX) instructions.\n",
      "Intel MKL WARNING: Support of Intel(R) Streaming SIMD Extensions 4.2 (Intel(R) SSE4.2) enabled only processors has been deprecated. Intel oneAPI Math Kernel Library 2025.0 will require Intel(R) Advanced Vector Extensions (Intel(R) AVX) instructions.\n",
      "Intel MKL WARNING: Support of Intel(R) Streaming SIMD Extensions 4.2 (Intel(R) SSE4.2) enabled only processors has been deprecated. Intel oneAPI Math Kernel Library 2025.0 will require Intel(R) Advanced Vector Extensions (Intel(R) AVX) instructions.\n",
      "Intel MKL WARNING: Support of Intel(R) Streaming SIMD Extensions 4.2 (Intel(R) SSE4.2) enabled only processors has been deprecated. Intel oneAPI Math Kernel Library 2025.0 will require Intel(R) Advanced Vector Extensions (Intel(R) AVX) instructions.\n",
      "Intel MKL WARNING: Support of Intel(R) Streaming SIMD Extensions 4.2 (Intel(R) SSE4.2) enabled only processors has been deprecated. Intel oneAPI Math Kernel Library 2025.0 will require Intel(R) Advanced Vector Extensions (Intel(R) AVX) instructions.\n",
      "Intel MKL WARNING: Support of Intel(R) Streaming SIMD Extensions 4.2 (Intel(R) SSE4.2) enabled only processors has been deprecated. Intel oneAPI Math Kernel Library 2025.0 will require Intel(R) Advanced Vector Extensions (Intel(R) AVX) instructions.\n",
      "Mejor lambda: 0.0001\n"
     ]
    }
   ],
   "source": [
    "lasso_CV_yX = LassoCV(alphas = np.arange(0.0001, 0.5, 0.001), cv = 10, max_iter = 5000)\n",
    "lasso_CV_yX.fit(X_train_scaled, y_train['outcome.test.score'])\n",
    "\n",
    "lasso_CV_lambda = lasso_CV_yX.alpha_\n",
    "print(f\"Mejor lambda: {lasso_CV_lambda:.4f}\")"
   ]
  },
  {
   "cell_type": "code",
   "execution_count": 163,
   "metadata": {},
   "outputs": [],
   "source": [
    "# Estimate y predictions with all X\n",
    "y_pred_yX = lasso_CV_yX.predict(X_scaled)"
   ]
  },
  {
   "cell_type": "code",
   "execution_count": 164,
   "metadata": {},
   "outputs": [
    {
     "name": "stdout",
     "output_type": "stream",
     "text": [
      "Intel MKL WARNING: Support of Intel(R) Streaming SIMD Extensions 4.2 (Intel(R) SSE4.2) enabled only processors has been deprecated. Intel oneAPI Math Kernel Library 2025.0 will require Intel(R) Advanced Vector Extensions (Intel(R) AVX) instructions.\n",
      "Intel MKL WARNING: Support of Intel(R) Streaming SIMD Extensions 4.2 (Intel(R) SSE4.2) enabled only processors has been deprecated. Intel oneAPI Math Kernel Library 2025.0 will require Intel(R) Advanced Vector Extensions (Intel(R) AVX) instructions.\n",
      "Intel MKL WARNING: Support of Intel(R) Streaming SIMD Extensions 4.2 (Intel(R) SSE4.2) enabled only processors has been deprecated. Intel oneAPI Math Kernel Library 2025.0 will require Intel(R) Advanced Vector Extensions (Intel(R) AVX) instructions.\n",
      "Intel MKL WARNING: Support of Intel(R) Streaming SIMD Extensions 4.2 (Intel(R) SSE4.2) enabled only processors has been deprecated. Intel oneAPI Math Kernel Library 2025.0 will require Intel(R) Advanced Vector Extensions (Intel(R) AVX) instructions.\n",
      "Intel MKL WARNING: Support of Intel(R) Streaming SIMD Extensions 4.2 (Intel(R) SSE4.2) enabled only processors has been deprecated. Intel oneAPI Math Kernel Library 2025.0 will require Intel(R) Advanced Vector Extensions (Intel(R) AVX) instructions.\n",
      "Intel MKL WARNING: Support of Intel(R) Streaming SIMD Extensions 4.2 (Intel(R) SSE4.2) enabled only processors has been deprecated. Intel oneAPI Math Kernel Library 2025.0 will require Intel(R) Advanced Vector Extensions (Intel(R) AVX) instructions.\n",
      "Intel MKL WARNING: Support of Intel(R) Streaming SIMD Extensions 4.2 (Intel(R) SSE4.2) enabled only processors has been deprecated. Intel oneAPI Math Kernel Library 2025.0 will require Intel(R) Advanced Vector Extensions (Intel(R) AVX) instructions.\n",
      "Intel MKL WARNING: Support of Intel(R) Streaming SIMD Extensions 4.2 (Intel(R) SSE4.2) enabled only processors has been deprecated. Intel oneAPI Math Kernel Library 2025.0 will require Intel(R) Advanced Vector Extensions (Intel(R) AVX) instructions.\n",
      "Intel MKL WARNING: Support of Intel(R) Streaming SIMD Extensions 4.2 (Intel(R) SSE4.2) enabled only processors has been deprecated. Intel oneAPI Math Kernel Library 2025.0 will require Intel(R) Advanced Vector Extensions (Intel(R) AVX) instructions.\n",
      "Intel MKL WARNING: Support of Intel(R) Streaming SIMD Extensions 4.2 (Intel(R) SSE4.2) enabled only processors has been deprecated. Intel oneAPI Math Kernel Library 2025.0 will require Intel(R) Advanced Vector Extensions (Intel(R) AVX) instructions.\n",
      "Mejor lambda: 0.0011\n"
     ]
    }
   ],
   "source": [
    "lasso_CV_TX = LassoCV(alphas = np.arange(0.0001, 0.5, 0.001), cv = 10, max_iter = 5000)\n",
    "lasso_CV_TX.fit(X_train_scaled, T_train)\n",
    "y_pred = lasso_CV_TX.predict(X_test_scaled)\n",
    "\n",
    "lasso_CV_lambda = lasso_CV_TX.alpha_\n",
    "print(f\"Mejor lambda: {lasso_CV_lambda:.4f}\")"
   ]
  },
  {
   "cell_type": "code",
   "execution_count": 165,
   "metadata": {},
   "outputs": [],
   "source": [
    "# Estimate T predictions with all X\n",
    "y_pred_TX = lasso_CV_TX.predict(X_scaled)"
   ]
  },
  {
   "cell_type": "markdown",
   "metadata": {},
   "source": [
    "Step 2: Obtain the resulting residuals"
   ]
  },
  {
   "cell_type": "code",
   "execution_count": 170,
   "metadata": {},
   "outputs": [],
   "source": [
    "res_yX = y['outcome.test.score'] - y_pred_yX\n",
    "res_TX = T - y_pred_TX"
   ]
  },
  {
   "cell_type": "markdown",
   "metadata": {},
   "source": [
    "Step 3: We run the least squares of res_yX on res_TX"
   ]
  },
  {
   "cell_type": "code",
   "execution_count": 172,
   "metadata": {},
   "outputs": [
    {
     "name": "stdout",
     "output_type": "stream",
     "text": [
      "Intel MKL WARNING: Support of Intel(R) Streaming SIMD Extensions 4.2 (Intel(R) SSE4.2) enabled only processors has been deprecated. Intel oneAPI Math Kernel Library 2025.0 will require Intel(R) Advanced Vector Extensions (Intel(R) AVX) instructions.\n"
     ]
    },
    {
     "data": {
      "text/html": [
       "<table style=\"text-align:center\"><tr><td colspan=\"2\" style=\"border-bottom: 1px solid black\"></td></tr>\n",
       "<tr><td style=\"text-align:left\"></td><td colspan=\"1\"><em>Dependent variable: res_yX</em></td></tr><tr><td style=\"text-align:left\"></td><tr><td style=\"text-align:left\"></td><td>(1)</td></tr>\n",
       "<tr><td colspan=\"2\" style=\"border-bottom: 1px solid black\"></td></tr>\n",
       "\n",
       "<tr><td style=\"text-align:left\">Intercept</td><td>0.033<sup></sup></td></tr>\n",
       "<tr><td style=\"text-align:left\"></td><td>(0.126)</td></tr>\n",
       "<tr><td style=\"text-align:left\">res_TX</td><td>4.324<sup>***</sup></td></tr>\n",
       "<tr><td style=\"text-align:left\"></td><td>(0.253)</td></tr>\n",
       "\n",
       "<td colspan=\"2\" style=\"border-bottom: 1px solid black\"></td></tr>\n",
       "<tr><td style=\"text-align: left\">Observations</td><td>12222</td></tr><tr><td style=\"text-align: left\">R<sup>2</sup></td><td>0.023</td></tr><tr><td style=\"text-align: left\">Adjusted R<sup>2</sup></td><td>0.023</td></tr><tr><td style=\"text-align: left\">Residual Std. Error</td><td>13.945 (df=12220)</td></tr><tr><td style=\"text-align: left\">F Statistic</td><td>292.956<sup>***</sup> (df=1; 12220)</td></tr>\n",
       "<tr><td colspan=\"2\" style=\"border-bottom: 1px solid black\"></td></tr><tr><td style=\"text-align: left\">Note:</td><td colspan=\"1\" style=\"text-align: right\"><sup>*</sup>p&lt;0.1; <sup>**</sup>p&lt;0.05; <sup>***</sup>p&lt;0.01</td></tr></table>"
      ],
      "text/plain": [
       "<stargazer.stargazer.Stargazer at 0x7fefa65f59a0>"
      ]
     },
     "execution_count": 172,
     "metadata": {},
     "output_type": "execute_result"
    }
   ],
   "source": [
    "ols_score = sm.OLS.from_formula('res_yX ~ res_TX', data=df).fit()\n",
    "\n",
    "# Show parameters in table\n",
    "st = Stargazer([ols_score])\n",
    "st"
   ]
  },
  {
   "cell_type": "markdown",
   "metadata": {},
   "source": [
    "##### c. Double Lasso using theoretical lambda"
   ]
  },
  {
   "cell_type": "code",
   "execution_count": null,
   "metadata": {},
   "outputs": [],
   "source": []
  },
  {
   "cell_type": "markdown",
   "metadata": {},
   "source": [
    "##### d. Double Lasso using partialling out method"
   ]
  },
  {
   "cell_type": "code",
   "execution_count": null,
   "metadata": {},
   "outputs": [],
   "source": []
  },
  {
   "cell_type": "markdown",
   "metadata": {},
   "source": [
    "#### Results"
   ]
  },
  {
   "cell_type": "markdown",
   "metadata": {},
   "source": [
    "We know that p/n is small (8/12222 = 0.00065455735)"
   ]
  }
 ],
 "metadata": {
  "kernelspec": {
   "display_name": "base",
   "language": "python",
   "name": "python3"
  },
  "language_info": {
   "codemirror_mode": {
    "name": "ipython",
    "version": 3
   },
   "file_extension": ".py",
   "mimetype": "text/x-python",
   "name": "python",
   "nbconvert_exporter": "python",
   "pygments_lexer": "ipython3",
   "version": "3.9.19"
  }
 },
 "nbformat": 4,
 "nbformat_minor": 2
}
