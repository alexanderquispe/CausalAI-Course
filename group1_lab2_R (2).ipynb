{
  "nbformat": 4,
  "nbformat_minor": 0,
  "metadata": {
    "colab": {
      "provenance": []
    },
    "kernelspec": {
      "name": "ir",
      "display_name": "R"
    },
    "language_info": {
      "name": "R"
    }
  },
  "cells": [
    {
      "cell_type": "code",
      "execution_count": null,
      "metadata": {
        "colab": {
          "base_uri": "https://localhost:8080/"
        },
        "id": "qSjJ0qyE4gKz",
        "outputId": "2c601595-6f83-4fab-f821-e67b991406a5"
      },
      "outputs": [
        {
          "output_type": "stream",
          "name": "stderr",
          "text": [
            "Installing package into ‘/usr/local/lib/R/site-library’\n",
            "(as ‘lib’ is unspecified)\n",
            "\n",
            "Warning message:\n",
            "“unable to access index for repository https://cran-archive.r-project.org/bin/windows/contrib/3.6/src/contrib:\n",
            "  cannot open URL 'https://cran-archive.r-project.org/bin/windows/contrib/3.6/src/contrib/PACKAGES'”\n",
            "Warning message:\n",
            "“package ‘dagitty’ is not available for this version of R\n",
            "\n",
            "A version of this package for your version of R might be available elsewhere,\n",
            "see the ideas at\n",
            "https://cran.r-project.org/doc/manuals/r-patched/R-admin.html#Installing-packages”\n",
            "Installing package into ‘/usr/local/lib/R/site-library’\n",
            "(as ‘lib’ is unspecified)\n",
            "\n",
            "Warning message:\n",
            "“unable to access index for repository https://cran-archive.r-project.org/bin/windows/contrib/3.6/src/contrib:\n",
            "  cannot open URL 'https://cran-archive.r-project.org/bin/windows/contrib/3.6/src/contrib/PACKAGES'”\n",
            "Warning message:\n",
            "“package ‘ggdag’ is not available for this version of R\n",
            "\n",
            "A version of this package for your version of R might be available elsewhere,\n",
            "see the ideas at\n",
            "https://cran.r-project.org/doc/manuals/r-patched/R-admin.html#Installing-packages”\n",
            "Installing package into ‘/usr/local/lib/R/site-library’\n",
            "(as ‘lib’ is unspecified)\n",
            "\n",
            "Warning message:\n",
            "“unable to access index for repository https://cran-archive.r-project.org/bin/windows/contrib/3.6/src/contrib:\n",
            "  cannot open URL 'https://cran-archive.r-project.org/bin/windows/contrib/3.6/src/contrib/PACKAGES'”\n",
            "Warning message:\n",
            "“package ‘dplyr’ is not available for this version of R\n",
            "\n",
            "A version of this package for your version of R might be available elsewhere,\n",
            "see the ideas at\n",
            "https://cran.r-project.org/doc/manuals/r-patched/R-admin.html#Installing-packages”\n",
            "Installing package into ‘/usr/local/lib/R/site-library’\n",
            "(as ‘lib’ is unspecified)\n",
            "\n",
            "Warning message:\n",
            "“unable to access index for repository https://cran-archive.r-project.org/bin/windows/contrib/3.6/src/contrib:\n",
            "  cannot open URL 'https://cran-archive.r-project.org/bin/windows/contrib/3.6/src/contrib/PACKAGES'”\n",
            "Warning message:\n",
            "“package ‘stats’ is a base package, and should not be updated”\n",
            "Installing package into ‘/usr/local/lib/R/site-library’\n",
            "(as ‘lib’ is unspecified)\n",
            "\n",
            "Warning message:\n",
            "“unable to access index for repository https://cran-archive.r-project.org/bin/windows/contrib/3.6/src/contrib:\n",
            "  cannot open URL 'https://cran-archive.r-project.org/bin/windows/contrib/3.6/src/contrib/PACKAGES'”\n",
            "Warning message:\n",
            "“package ‘broom’ is not available for this version of R\n",
            "\n",
            "A version of this package for your version of R might be available elsewhere,\n",
            "see the ideas at\n",
            "https://cran.r-project.org/doc/manuals/r-patched/R-admin.html#Installing-packages”\n"
          ]
        }
      ],
      "source": [
        "options(repos=\"https://cran-archive.r-project.org/bin/windows/contrib/3.6/\")\n",
        "install.packages(\"igraph\")\n",
        "install.packages(\"ggdag\")\n",
        "install.packages(\"dplyr\")\n",
        "install.packages(\"stats\")\n",
        "install.packages(\"broom\")"
      ]
    },
    {
      "cell_type": "code",
      "source": [
        "library(igraph)\n",
        "library(dplyr)\n",
        "library(stats)\n",
        "library(broom)"
      ],
      "metadata": {
        "id": "qdDYqVsF52nd",
        "colab": {
          "base_uri": "https://localhost:8080/"
        },
        "outputId": "3fada33f-9414-4a55-df1a-c13850e4931f"
      },
      "execution_count": null,
      "outputs": [
        {
          "output_type": "stream",
          "name": "stderr",
          "text": [
            "\n",
            "Attaching package: ‘ggdag’\n",
            "\n",
            "\n",
            "The following object is masked from ‘package:stats’:\n",
            "\n",
            "    filter\n",
            "\n",
            "\n",
            "\n",
            "Attaching package: ‘dplyr’\n",
            "\n",
            "\n",
            "The following objects are masked from ‘package:stats’:\n",
            "\n",
            "    filter, lag\n",
            "\n",
            "\n",
            "The following objects are masked from ‘package:base’:\n",
            "\n",
            "    intersect, setdiff, setequal, union\n",
            "\n",
            "\n"
          ]
        }
      ]
    },
    {
      "cell_type": "markdown",
      "source": [
        "# Multicollinearity\n",
        "\n",
        "## Introduction\n",
        "**Multicollinearity** occurs when one or more predictor variables in a multiple regression model are highly correlated. This can significantly affect the accuracy of the coefficient estimates within the model.\n",
        "\n",
        "## Mathematical Explanation\n",
        "\n",
        "Consider the linear regression model:\n",
        "$ Y = \\beta_0 + \\beta_1X_1 + \\beta_2X_2 + \\ldots + \\beta_kX_k + \\epsilon $\n",
        "\n",
        "\n",
        "where:\n",
        "- $Y$ is the dependent variable\n",
        "- $X_1, X_2, \\ldots, X_k$ are the independent variables\n",
        "- $\\epsilon$ is the error term.\n",
        "\n",
        "### Normal Equation\n",
        "The coefficients $\\beta$ are estimated using the equation:\n",
        "$ \\beta = (\\mathbf{X}´\\mathbf{X})^{-1}\\mathbf{X}´\\mathbf{Y} $\n",
        "\n",
        "To find $\\beta$, the matrix $\\mathbf{X}´\\mathbf{X}$ must be invertible. However, multicollinearity can make this matrix nearly singular or singular.\n",
        "\n",
        "\n",
        "### Why $\\mathbf{X}´\\mathbf{X}$ Becomes Non-invertible\n",
        "- **Singular Matrix**: If $\\mathbf{X}´\\mathbf{X}$ is singular, it implies that its determinant is zero due to perfect or high multicollinearity.\n",
        "- **Linear Dependence**: This happens when one or more independent variables are linear combinations of others.\n",
        "\n",
        "\n",
        "Matrix Representation\n",
        "\n",
        "Assume $X_2 = cX_1$, then:\n",
        "$ \\mathbf{X} = \\begin{bmatrix} 1 & X_1 & X_2 \\\\ 1 & X_1 & cX_1 \\\\ \\vdots & \\vdots & \\vdots \\\\ 1 & X_1 & cX_1 \\end{bmatrix} $\n",
        "\n",
        "\n",
        "### Covariance Matrix ($\\mathbf{X}´\\mathbf{X}$)\n",
        "$ \\mathbf{X}´\\mathbf{X} = \\begin{bmatrix} n & \\sum X_1 & c\\sum X_1 \\\\ \\sum X_1 & \\sum X_1^2 & c\\sum X_1^2 \\\\ c\\sum X_1 & c\\sum X_1^2 & c^2\\sum X_1^2 \\end{bmatrix} $\n",
        "\n",
        "\n",
        "Here, the columns of $\\mathbf{X}´\\mathbf{X}$ are linear combinations of each other, which results in:\n",
        "$ \\text{det}(\\mathbf{X}´\\mathbf{X}) = 0 $\n",
        "indicating that the matrix is not invertible due to multicollinearity.\n",
        "\n",
        "###Example\n",
        "\n",
        "**-Economic indicators** Predicting country's economic growth using both consumer spending and consumer income as predictors might lead to multicollinearity because these two are highly correlated; higher income generally leads to higher spending. Including both in the same regression model can cause issues in accurately estimating the impact of each predictor on economic growth.\n",
        "\n",
        "**-Real Estate Pricing** In real estate, the size of a house and the number of rooms often exhibit multicollinearity. Both these variables tend to increase together; a larger house typically has more rooms. If both variables are used as predictors in a regression model to predict house prices, their high correlation can distort the individual effect of each variable on the pricing, making it difficult to assess which feature (size or number of rooms) truly impacts the house price.\n",
        "\n",
        "\n",
        "\n"
      ],
      "metadata": {
        "id": "Cp-s7nqPHXNt"
      }
    },
    {
      "cell_type": "markdown",
      "source": [
        "### Testing for invertibility\n"
      ],
      "metadata": {
        "id": "Li2wxQyfUHNw"
      }
    },
    {
      "cell_type": "code",
      "source": [
        "# seed for reproducibility\n",
        "set.seed(3)\n",
        "\n",
        "A <- matrix(rnorm(100),ncol = 10)\n",
        "\n",
        "#set last column is as a linear combination of last 3 columns\n",
        "A[,10] = A[,1] * 2 + A[,8] * 3 + A[,9]\n",
        "\n",
        "\n",
        "\n",
        "B<-solve(A)\n",
        "B"
      ],
      "metadata": {
        "colab": {
          "base_uri": "https://localhost:8080/",
          "height": 127
        },
        "id": "pnKuz-wNTrXi",
        "outputId": "eea57f0d-d63f-4479-acb8-c257cf677441"
      },
      "execution_count": null,
      "outputs": [
        {
          "output_type": "error",
          "ename": "ERROR",
          "evalue": "Error in solve.default(A): system is computationally singular: reciprocal condition number = 1.77069e-18\n",
          "traceback": [
            "Error in solve.default(A): system is computationally singular: reciprocal condition number = 1.77069e-18\nTraceback:\n",
            "1. solve(A)",
            "2. solve.default(A)"
          ]
        }
      ]
    },
    {
      "cell_type": "markdown",
      "source": [
        "Since we create a vector as the linear combination of 3 other vectors, the multicolinearity problem occurs, which prevents us from inverting the matrix."
      ],
      "metadata": {
        "id": "8ZkbGAenVKQZ"
      }
    },
    {
      "cell_type": "markdown",
      "source": [
        "# A Crash Course in Good and Bad Controls\n",
        "\n",
        "In this section, we will cover various models that illustrate \"good\" and \"bad\" controls within statistical analyses. These terms refer to the effects of adding a variable to a regression model—whether such inclusion results in discrepancies or aids interpretation of the model. For a more detailed exploration of these concepts, you are encouraged to review the full text available in the technical report [here](https://ftp.cs.ucla.edu/pub/stat_ser/r493.pdf).\n"
      ],
      "metadata": {
        "id": "YAs4pKhH6BAK"
      }
    },
    {
      "cell_type": "markdown",
      "source": [
        "#Good Controls 1 (blocking back-door paths)\n",
        "###MODEL 1\n",
        "In this case, we want to measure the effect of hours of study ($X$) on students' academic performance as measured by final grades ($Y$). If we run the regression without taking into account nutrition ($Z$), which affects both $X$ and $Y$, the coefficients will be biased. By including $Z$ in the model, a cleaner effect of hours of study on final grades can be obtained, approaching 1, which is the true parameter ( $\\approx1$)."
      ],
      "metadata": {
        "id": "h088joLn6EXN"
      }
    },
    {
      "cell_type": "code",
      "source": [
        "# Create a directed graph with specified edges and number of vertices\n",
        "sprinkle <- graph(edges = c(1, 2, 1, 3, 2, 3), n = 3, directed = TRUE)\n",
        "\n",
        "# Assign names to the vertices\n",
        "V(sprinkle)$name <- c(\"x\", \"z\", \"y\")\n",
        "\n",
        "# Plot the graph in a circular layout\n",
        "plot(sprinkle, layout = layout.circle,vertex.size = 25, # Increases the size of the vertices\n",
        "     edge.arrow.size = 0.1,#Change the size of the arrowheads\n",
        "     vertex.colour = \"skyblue\", # Vertex label colour\n",
        "     vertex.label.colour = \"red\", # Colour of the vertex label\n",
        "     vertex.label.cex = 2, # Increases the size of the vertex label\n",
        "     vertex.label.label.family = \"Helvetica\", # Label font type\n",
        "     edge.width = 0.3, # Edge thickness\n",
        "     edge.colour = \"blue\", # Border colour\n",
        "     vertex.shape = \"sphere\",\n",
        "     main = \"MODEL 1\") # GRAPH TITLE\n"
      ],
      "metadata": {
        "id": "o2hFullAssSc"
      },
      "execution_count": null,
      "outputs": []
    },
    {
      "cell_type": "code",
      "source": [
        "# Set Seed\n",
        "# To make the results replicable (generating random numbers)\n",
        "set.seed(1234567)\n",
        "\n",
        "# Generate data\n",
        "n <- 1000\n",
        "Z <- matrix(rnorm(n, mean = 0, sd = 1), ncol = 1)\n",
        "X <- 2 * Z + matrix(rnorm(n, mean = 0, sd = 1), ncol = 1)\n",
        "Y <- X + Z + matrix(rnorm(n, mean = 0, sd = 1), ncol = 1)\n",
        "\n",
        "# Create dataframe\n",
        "data <- data.frame(Z = Z, X = X, Y = Y)"
      ],
      "metadata": {
        "id": "xOks9YSvs2Tw"
      },
      "execution_count": null,
      "outputs": []
    },
    {
      "cell_type": "code",
      "source": [
        "# Regressions\n",
        "no_control <- lm(Y ~ X, data = data)\n",
        "using_control <- lm(Y ~ X + Z, data = data)\n",
        "\n",
        "# Summary results\n",
        "summary(no_control)\n",
        "summary(using_control)"
      ],
      "metadata": {
        "id": "Nj1wo5YJs4uW"
      },
      "execution_count": null,
      "outputs": []
    },
    {
      "cell_type": "markdown",
      "source": [
        "###Model 2\n",
        "In this case we want to see how much anti-corruption laws($X$) affect the number of corruption cases($Y$). But there is an unobservable variable that affects both, which is the feeling of injustice, which drives criminality and increases the number of laws. Then, we control for the number of active judges($Z$) to clean up the effect of the unobservable on my X. Finally controlling, my coefficient is close to my variable ($0.4321\\approx 0.5$).\n",
        "\n"
      ],
      "metadata": {
        "id": "RQj7HrXolXuW"
      }
    },
    {
      "cell_type": "code",
      "source": [
        "# Define nodes and edges including latent edges as different style.\n",
        "edges <- c(\"Z\", \"X\", \"X\", \"Y\", \"Latent\", \"Z\", \"Latent\", \"Y\")\n",
        "edge_types <- c(\"observed\", \"observed\", \"latent\", \"latent\")\n",
        "\n",
        "# Create the graph\n",
        "sprinkler <- graph(edges, directed = TRUE)\n",
        "\n",
        "# Set vertex names\n",
        "V(sprinkler)$name <- c(\"Z\", \"X\", \"Y\", \"Unobservable\")\n",
        "\n",
        "# Assign edge types (latent or observed)\n",
        "E(sprinkler)$type <- edge_types\n",
        "\n",
        "# Define edge style based on type\n",
        "E(sprinkler)$color <- ifelse(E(sprinkler)$type == \"observed\", \"black\", \"red\")\n",
        "E(sprinkler)$arrow.size <- 0.1\n",
        "E(sprinkler)$arrow.width <- 2\n",
        "E(sprinkler)$lty <- ifelse(E(sprinkler)$type == \"observed\", 1, 2) # Solid for observed, dashed for latent\n",
        "\n",
        "# Plot graph with curves and customisations\n",
        "plot(sprinkler, layout = layout_nicely(sprinkler),\n",
        "     vertex.size = 30, # Adjust size of vertices\n",
        "     vertex.colour = \"skyblue\", # Set vertex colour\n",
        "     vertex.label.colour = \"black\", # Set the vertex label colour\n",
        "     vertex.label.cex = 1.5, # Sets the font size of the vertex label\n",
        "     vertex.label.family = \"Helvetica\", # Sets the label's font family\n",
        "     edge.curved = 0.2, # Adjust the curvature of the edges\n",
        "     main = \"Model 2\") #GRAPH TITLE"
      ],
      "metadata": {
        "id": "c050wwucuKNv"
      },
      "execution_count": null,
      "outputs": []
    },
    {
      "cell_type": "code",
      "source": [
        "# Set Seed\n",
        "# To make the results replicable (generating random numbers)\n",
        "set.seed(1234567)\n",
        "\n",
        "# Generate data\n",
        "n <- 1000\n",
        "U <- matrix(rnorm(n, mean = 0, sd = 1), ncol = 1)\n",
        "Z <- 3 * U + matrix(rnorm(n, mean = 0, sd = 1), ncol = 1)\n",
        "X <- Z + matrix(rnorm(n, mean = 0, sd = 1), ncol = 1)\n",
        "Y <- 0.5 * X + 2 * U + matrix(rnorm(n, mean = 0, sd = 1), ncol = 1)\n",
        "\n",
        "# Create dataframe\n",
        "data <- data.frame(U = U, Z = Z, X = X, Y = Y)\n",
        "\n",
        "\n"
      ],
      "metadata": {
        "id": "vbJmMb-VuRGx"
      },
      "execution_count": null,
      "outputs": []
    },
    {
      "cell_type": "code",
      "source": [
        "# Regressions\n",
        "no_control <- lm(Y ~ X, data = data)\n",
        "using_control <- lm(Y ~ X + Z, data = data)\n",
        "\n",
        "# Summary results\n",
        "summary(no_control)\n",
        "summary(using_control)"
      ],
      "metadata": {
        "id": "BQwBWGD2uTC-"
      },
      "execution_count": null,
      "outputs": []
    },
    {
      "cell_type": "markdown",
      "source": [
        "#Bad Control (M-bias)\n",
        "##MODEL 7\n",
        "Now, if we want to study how education($X$) affects diabetes($Y$) we could adjust for the mother's diabetes status($Z$) and consider it a confounder. However, this association is not direct, and adjusting for the mother will open up an association with income during childhood (U_1) and overall risk of diabetes (U_2)."
      ],
      "metadata": {
        "id": "tCCGpEDLS7iu"
      }
    },
    {
      "cell_type": "code",
      "source": [
        "# Define nodes and edges\n",
        "edges <- c(\"U1\", \"Z\", \"U2\", \"Z\", \"U2\", \"X\", \"U1\", \"Y\", \"X\", \"Y\")\n",
        "\n",
        "# Create the directed graph with nodes and edges defined\n",
        "sprinkle <- graph(edges, directed = TRUE)\n",
        "\n",
        "# Set names for the vertices if needed (optional since they are defined in edges)\n",
        "V(sprinkle)$name <- c(\"U1\", \"Z\", \"U2\", \"X\", \"Y\")\n",
        "\n",
        "# Plot the graph with customizations\n",
        "plot(sprinkle, layout = layout_nicely(sprinkle),\n",
        "     vertex.size = 20,            # Adjusts the size of the vertices\n",
        "     vertex.color = \"skyblue\",    # Sets the vertex color\n",
        "     vertex.label.color = \"black\", # Sets the vertex label color\n",
        "     vertex.label.cex = 1.2,      # Adjusts the font size of vertex labels\n",
        "     edge.arrow.size = 0.2,       # Adjusts the size of the arrows to be smaller\n",
        "     edge.width = 2,              # Adjusts the thickness of the edges\n",
        "     main = \"MODEL 7\") # Graph title\n"
      ],
      "metadata": {
        "id": "uiQFvFqktDAA"
      },
      "execution_count": null,
      "outputs": []
    },
    {
      "cell_type": "code",
      "source": [
        "# Set Seed\n",
        "# To make the results replicable (generating random numbers)\n",
        "set.seed(12345676)\n",
        "\n",
        "# Generate data\n",
        "n <- 1000\n",
        "U_1 <- matrix(rnorm(n, mean = 0, sd = 1), ncol = 1)\n",
        "U_2 <- matrix(rnorm(n, mean = 0, sd = 1), ncol = 1)\n",
        "\n",
        "Z <- U_1 + U_2 + matrix(rnorm(n, mean = 0, sd = 1), ncol = 1)\n",
        "X <- 1.5 * U_1 + matrix(rnorm(n, mean = 0, sd = 1), ncol = 1)\n",
        "Y <- X + 2.5 * U_2 + matrix(rnorm(n, mean = 0, sd = 1), ncol = 1)\n",
        "\n",
        "# Create dataframe\n",
        "data <- data.frame(U_1 = U_1, U_2 = U_2, Z = Z, X = X, Y = Y)\n",
        "\n"
      ],
      "metadata": {
        "id": "HdKCgi8CtHg3"
      },
      "execution_count": null,
      "outputs": []
    },
    {
      "cell_type": "code",
      "source": [
        "# Regressions\n",
        "no_control <- lm(Y ~ X, data = data)\n",
        "using_control <- lm(Y ~ X + Z, data = data)\n",
        "\n",
        "# Summary results\n",
        "summary(no_control)\n",
        "summary(using_control)"
      ],
      "metadata": {
        "id": "8MkKrbqy_XKF"
      },
      "execution_count": null,
      "outputs": []
    },
    {
      "cell_type": "markdown",
      "source": [
        "#Neutral Control (possibly good for precision)\n",
        "###Model 8\n",
        "In this case, we want to estimate how the introduction of a new smart learning programme ($X$) affects the academic performance of students ($Y$). When we run this regression, our estimator is unbiased. However, if we include the attendance rate ($Z$), which also affects performance, we can increase the precision of the estimator and still remain unbiased and increase the precision."
      ],
      "metadata": {
        "id": "8LJNgxO0M6xC"
      }
    },
    {
      "cell_type": "code",
      "source": [
        "# Define nodes and edges\n",
        "edges <- c(\"X\", \"Y\", \"Z\", \"Y\")\n",
        "\n",
        "# Create the directed graph with nodes and edges defined\n",
        "sprinkle <- graph(edges, directed = TRUE)\n",
        "\n",
        "# Set names for the vertices if needed (optional since they are defined in edges)\n",
        "V(sprinkle)$name <- c(\"X\", \"Y\", \"Z\")\n",
        "\n",
        "# Plot the graph with customizations\n",
        "plot(sprinkle, layout = layout_nicely(sprinkle),\n",
        "     vertex.size = 20,            # Adjusts the size of the vertices\n",
        "     vertex.color = \"skyblue\",    # Sets the vertex color\n",
        "     vertex.label.color = \"black\", # Sets the vertex label color\n",
        "     vertex.label.cex = 1.2,      # Adjusts the font size of vertex labels\n",
        "     edge.arrow.size = 0.2,       # Adjusts the size of the arrows to be smaller\n",
        "     edge.width = 2,              # Adjusts the thickness of the edges\n",
        "     main = \"MODEL 8\") # Graph title\n"
      ],
      "metadata": {
        "id": "ifYrX2BR8JHq"
      },
      "execution_count": null,
      "outputs": []
    },
    {
      "cell_type": "code",
      "source": [
        "# Set Seed\n",
        "# To make the results replicable (generating random numbers)\n",
        "set.seed(12345676)\n",
        "\n",
        "# Generate data\n",
        "n <- 1000\n",
        "Z <- matrix(rnorm(n, mean = 0, sd = 1), ncol = 1)\n",
        "X <- matrix(rnorm(n, mean = 0, sd = 1), ncol = 1)\n",
        "Y <- X + 1.5 * Z + matrix(rnorm(n, mean = 0, sd = 1), ncol = 1)\n",
        "\n",
        "# Create dataframe\n",
        "data <- data.frame(Z = Z, X = X, Y = Y)\n",
        "\n"
      ],
      "metadata": {
        "id": "sJFujF1w_ZN2"
      },
      "execution_count": null,
      "outputs": []
    },
    {
      "cell_type": "code",
      "source": [
        "# Regressions\n",
        "no_control <- lm(Y ~ X, data = data)\n",
        "using_control <- lm(Y ~ X + Z, data = data)\n",
        "\n",
        "# Summary results\n",
        "summary(no_control)\n",
        "summary(using_control)\n"
      ],
      "metadata": {
        "id": "FY4iQq2G_w2T"
      },
      "execution_count": null,
      "outputs": []
    },
    {
      "cell_type": "markdown",
      "source": [
        "#Bad Controls (Overcontrol Bias)\n",
        "##Model 11\n",
        "In this case we want to analyse how the growth of the city in terms of urban infrastructure (residential areas, shopping centres, etc.) impacts on the level of vehicle congestion ($Y$). Now, if we add a variable such as the number of cars ($Z$) that is affected by the infrastructure, but not vice versa and that causes a higher level of congestion, we would be removing the explanatory power of $X$. Now by controlling for both variables, the estimator of X loses significance and moves away from its true estimator ($-0.022\\neq1$).\n"
      ],
      "metadata": {
        "id": "EomMv6RDTpGj"
      }
    },
    {
      "cell_type": "code",
      "source": [
        "# Define nodes and edges\n",
        "edges <- c(\"X\", \"Z\", \"Z\", \"Y\")\n",
        "\n",
        "# Create the directed graph with nodes and edges defined\n",
        "sprinkle <- graph(edges, directed = TRUE)\n",
        "\n",
        "# Set names for the vertices\n",
        "V()$name <- c(\"X\", \"Z\", \"Y\")\n",
        "\n",
        "# Plot the graph with customizations\n",
        "plot(sprinkle, layout = layout_nicely(sprinkle),\n",
        "     vertex.size = 20,            # Adjusts the size of the vertices\n",
        "     vertex.color = \"skyblue\",    # Sets the vertex color\n",
        "     vertex.label.color = \"black\", # Sets the vertex label\n",
        "     vertex.label.cex = 1.2,      # Adjusts the font size of vertex labels\n",
        "     edge.arrow.size = 0.2,       # Adjusts the size of the arrows to be smaller\n",
        "     edge.width = 2,              # Adjusts the thickness of the edges\n",
        "     main = \"MODEL 11\") # Graph title"
      ],
      "metadata": {
        "id": "78szCp73tLpy"
      },
      "execution_count": null,
      "outputs": []
    },
    {
      "cell_type": "code",
      "source": [
        "# Set Seed\n",
        "# To make the results replicable (generating random numbers)\n",
        "set.seed(1234567)\n",
        "\n",
        "# Generate data\n",
        "n <- 1000\n",
        "X <- matrix(rnorm(n, mean = 0, sd = 1), ncol = 1) # Generate X\n",
        "Z <- 1.3 * X + matrix(rnorm(n, mean = 0, sd = 1), ncol = 1) # Generate Z\n",
        "Y <- Z + matrix(rnorm(n, mean = 0, sd = 1), ncol = 1) # Generate Y\n",
        "\n",
        "# Create dataframe\n",
        "data <- data.frame(Z = Z, X = X, Y = Y)"
      ],
      "metadata": {
        "id": "_aMf7gTwtMiL"
      },
      "execution_count": null,
      "outputs": []
    },
    {
      "cell_type": "code",
      "source": [
        "# Regressions\n",
        "no_control <- lm(Y ~ X, data = data)\n",
        "using_control <- lm(Y ~ X + Z, data = data)\n",
        "\n",
        "# Summary results\n",
        "summary(no_control)\n",
        "summary(using_control)"
      ],
      "metadata": {
        "id": "75DFQdaVABrN"
      },
      "execution_count": null,
      "outputs": []
    }
  ]
}